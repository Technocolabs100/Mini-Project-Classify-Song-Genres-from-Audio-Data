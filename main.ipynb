{
 "cells": [
  {
   "cell_type": "markdown",
   "metadata": {},
   "source": [
    "# Importing Required libraries"
   ]
  },
  {
   "cell_type": "code",
   "execution_count": 16,
   "metadata": {},
   "outputs": [],
   "source": [
    "import pandas as pd\n",
    "import seaborn as sns\n",
    "from sklearn.preprocessing import StandardScaler\n",
    "from sklearn.decomposition import PCA\n",
    "from sklearn.tree import DecisionTreeClassifier\n",
    "from sklearn.linear_model import LogisticRegression\n",
    "from sklearn.model_selection import train_test_split\n",
    "from sklearn.model_selection import KFold,cross_val_score\n",
    "from sklearn.metrics import classification_report\n",
    "import matplotlib.pyplot as plt\n",
    "import numpy as np\n"
   ]
  },
  {
   "cell_type": "markdown",
   "metadata": {},
   "source": [
    "# Loading Data into Data Frames"
   ]
  },
  {
   "cell_type": "code",
   "execution_count": 17,
   "metadata": {},
   "outputs": [
    {
     "data": {
      "text/plain": [
       "track_id            0\n",
       "acousticness        0\n",
       "danceability        0\n",
       "energy              0\n",
       "instrumentalness    0\n",
       "liveness            0\n",
       "speechiness         0\n",
       "tempo               0\n",
       "valence             0\n",
       "genre_top           0\n",
       "dtype: int64"
      ]
     },
     "execution_count": 17,
     "metadata": {},
     "output_type": "execute_result"
    }
   ],
   "source": [
    "rockVhiphop = pd.read_csv('fma-rock-vs-hiphop.csv')\n",
    "EchonestMetrices = pd.read_json('echonest-metrics.json')\n",
    "#rockVhiphop.head()\n",
    "Tracks = pd.merge(EchonestMetrices,rockVhiphop[['track_id','genre_top']])\n",
    "Tracks.head()\n",
    "Tracks.shape\n",
    "Tracks.isna().sum()"
   ]
  },
  {
   "cell_type": "markdown",
   "metadata": {},
   "source": [
    "# Checking Co-Relation"
   ]
  },
  {
   "cell_type": "code",
   "execution_count": 18,
   "metadata": {},
   "outputs": [
    {
     "data": {
      "text/html": [
       "<style type=\"text/css\">\n",
       "#T_a7df3_row0_col0, #T_a7df3_row1_col1, #T_a7df3_row2_col2, #T_a7df3_row3_col3, #T_a7df3_row4_col4, #T_a7df3_row5_col5, #T_a7df3_row6_col6, #T_a7df3_row7_col7, #T_a7df3_row8_col8 {\n",
       "  background-color: #023858;\n",
       "  color: #f1f1f1;\n",
       "}\n",
       "#T_a7df3_row0_col1, #T_a7df3_row1_col0, #T_a7df3_row1_col3, #T_a7df3_row2_col5, #T_a7df3_row2_col7, #T_a7df3_row4_col2, #T_a7df3_row4_col6, #T_a7df3_row4_col8, #T_a7df3_row6_col4 {\n",
       "  background-color: #fff7fb;\n",
       "  color: #000000;\n",
       "}\n",
       "#T_a7df3_row0_col2 {\n",
       "  background-color: #d2d2e7;\n",
       "  color: #000000;\n",
       "}\n",
       "#T_a7df3_row0_col3 {\n",
       "  background-color: #b5c4df;\n",
       "  color: #000000;\n",
       "}\n",
       "#T_a7df3_row0_col4 {\n",
       "  background-color: #f5eef6;\n",
       "  color: #000000;\n",
       "}\n",
       "#T_a7df3_row0_col5 {\n",
       "  background-color: #e9e5f1;\n",
       "  color: #000000;\n",
       "}\n",
       "#T_a7df3_row0_col6, #T_a7df3_row8_col3 {\n",
       "  background-color: #d1d2e6;\n",
       "  color: #000000;\n",
       "}\n",
       "#T_a7df3_row0_col7, #T_a7df3_row1_col7 {\n",
       "  background-color: #e1dfed;\n",
       "  color: #000000;\n",
       "}\n",
       "#T_a7df3_row0_col8, #T_a7df3_row3_col6 {\n",
       "  background-color: #dedcec;\n",
       "  color: #000000;\n",
       "}\n",
       "#T_a7df3_row1_col2 {\n",
       "  background-color: #e0dded;\n",
       "  color: #000000;\n",
       "}\n",
       "#T_a7df3_row1_col4, #T_a7df3_row4_col1 {\n",
       "  background-color: #97b7d7;\n",
       "  color: #000000;\n",
       "}\n",
       "#T_a7df3_row1_col5, #T_a7df3_row2_col4 {\n",
       "  background-color: #f3edf5;\n",
       "  color: #000000;\n",
       "}\n",
       "#T_a7df3_row1_col6, #T_a7df3_row6_col1 {\n",
       "  background-color: #b8c6e0;\n",
       "  color: #000000;\n",
       "}\n",
       "#T_a7df3_row1_col8 {\n",
       "  background-color: #e2dfee;\n",
       "  color: #000000;\n",
       "}\n",
       "#T_a7df3_row2_col0, #T_a7df3_row5_col0, #T_a7df3_row5_col3 {\n",
       "  background-color: #bdc8e1;\n",
       "  color: #000000;\n",
       "}\n",
       "#T_a7df3_row2_col1, #T_a7df3_row6_col0, #T_a7df3_row7_col0, #T_a7df3_row7_col1 {\n",
       "  background-color: #d0d1e6;\n",
       "  color: #000000;\n",
       "}\n",
       "#T_a7df3_row2_col3 {\n",
       "  background-color: #fbf3f9;\n",
       "  color: #000000;\n",
       "}\n",
       "#T_a7df3_row2_col6 {\n",
       "  background-color: #80aed2;\n",
       "  color: #f1f1f1;\n",
       "}\n",
       "#T_a7df3_row2_col8 {\n",
       "  background-color: #529bc7;\n",
       "  color: #f1f1f1;\n",
       "}\n",
       "#T_a7df3_row3_col0, #T_a7df3_row7_col3 {\n",
       "  background-color: #a7bddb;\n",
       "  color: #000000;\n",
       "}\n",
       "#T_a7df3_row3_col1 {\n",
       "  background-color: #f5eff6;\n",
       "  color: #000000;\n",
       "}\n",
       "#T_a7df3_row3_col2, #T_a7df3_row7_col2 {\n",
       "  background-color: #fef6fa;\n",
       "  color: #000000;\n",
       "}\n",
       "#T_a7df3_row3_col4 {\n",
       "  background-color: #c4cbe3;\n",
       "  color: #000000;\n",
       "}\n",
       "#T_a7df3_row3_col5, #T_a7df3_row5_col7 {\n",
       "  background-color: #dcdaeb;\n",
       "  color: #000000;\n",
       "}\n",
       "#T_a7df3_row3_col7 {\n",
       "  background-color: #adc1dd;\n",
       "  color: #000000;\n",
       "}\n",
       "#T_a7df3_row3_col8, #T_a7df3_row4_col7 {\n",
       "  background-color: #d9d8ea;\n",
       "  color: #000000;\n",
       "}\n",
       "#T_a7df3_row4_col0 {\n",
       "  background-color: #f4eef6;\n",
       "  color: #000000;\n",
       "}\n",
       "#T_a7df3_row4_col3 {\n",
       "  background-color: #d2d3e7;\n",
       "  color: #000000;\n",
       "}\n",
       "#T_a7df3_row4_col5 {\n",
       "  background-color: #fdf5fa;\n",
       "  color: #000000;\n",
       "}\n",
       "#T_a7df3_row5_col1 {\n",
       "  background-color: #ced0e6;\n",
       "  color: #000000;\n",
       "}\n",
       "#T_a7df3_row5_col2 {\n",
       "  background-color: #ede8f3;\n",
       "  color: #000000;\n",
       "}\n",
       "#T_a7df3_row5_col4, #T_a7df3_row6_col7 {\n",
       "  background-color: #dbdaeb;\n",
       "  color: #000000;\n",
       "}\n",
       "#T_a7df3_row5_col6 {\n",
       "  background-color: #c0c9e2;\n",
       "  color: #000000;\n",
       "}\n",
       "#T_a7df3_row5_col8 {\n",
       "  background-color: #e8e4f0;\n",
       "  color: #000000;\n",
       "}\n",
       "#T_a7df3_row6_col2 {\n",
       "  background-color: #93b5d6;\n",
       "  color: #000000;\n",
       "}\n",
       "#T_a7df3_row6_col3, #T_a7df3_row6_col5 {\n",
       "  background-color: #eae6f1;\n",
       "  color: #000000;\n",
       "}\n",
       "#T_a7df3_row6_col8 {\n",
       "  background-color: #bfc9e1;\n",
       "  color: #000000;\n",
       "}\n",
       "#T_a7df3_row7_col4 {\n",
       "  background-color: #c5cce3;\n",
       "  color: #000000;\n",
       "}\n",
       "#T_a7df3_row7_col5 {\n",
       "  background-color: #f0eaf4;\n",
       "  color: #000000;\n",
       "}\n",
       "#T_a7df3_row7_col6 {\n",
       "  background-color: #c8cde4;\n",
       "  color: #000000;\n",
       "}\n",
       "#T_a7df3_row7_col8 {\n",
       "  background-color: #d6d6e9;\n",
       "  color: #000000;\n",
       "}\n",
       "#T_a7df3_row8_col0 {\n",
       "  background-color: #c6cce3;\n",
       "  color: #000000;\n",
       "}\n",
       "#T_a7df3_row8_col1 {\n",
       "  background-color: #cdd0e5;\n",
       "  color: #000000;\n",
       "}\n",
       "#T_a7df3_row8_col2 {\n",
       "  background-color: #4c99c5;\n",
       "  color: #f1f1f1;\n",
       "}\n",
       "#T_a7df3_row8_col4 {\n",
       "  background-color: #efe9f3;\n",
       "  color: #000000;\n",
       "}\n",
       "#T_a7df3_row8_col5 {\n",
       "  background-color: #f7f0f7;\n",
       "  color: #000000;\n",
       "}\n",
       "#T_a7df3_row8_col6 {\n",
       "  background-color: #a5bddb;\n",
       "  color: #000000;\n",
       "}\n",
       "#T_a7df3_row8_col7 {\n",
       "  background-color: #d3d4e7;\n",
       "  color: #000000;\n",
       "}\n",
       "</style>\n",
       "<table id=\"T_a7df3\">\n",
       "  <thead>\n",
       "    <tr>\n",
       "      <th class=\"blank level0\" >&nbsp;</th>\n",
       "      <th id=\"T_a7df3_level0_col0\" class=\"col_heading level0 col0\" >track_id</th>\n",
       "      <th id=\"T_a7df3_level0_col1\" class=\"col_heading level0 col1\" >acousticness</th>\n",
       "      <th id=\"T_a7df3_level0_col2\" class=\"col_heading level0 col2\" >danceability</th>\n",
       "      <th id=\"T_a7df3_level0_col3\" class=\"col_heading level0 col3\" >energy</th>\n",
       "      <th id=\"T_a7df3_level0_col4\" class=\"col_heading level0 col4\" >instrumentalness</th>\n",
       "      <th id=\"T_a7df3_level0_col5\" class=\"col_heading level0 col5\" >liveness</th>\n",
       "      <th id=\"T_a7df3_level0_col6\" class=\"col_heading level0 col6\" >speechiness</th>\n",
       "      <th id=\"T_a7df3_level0_col7\" class=\"col_heading level0 col7\" >tempo</th>\n",
       "      <th id=\"T_a7df3_level0_col8\" class=\"col_heading level0 col8\" >valence</th>\n",
       "    </tr>\n",
       "  </thead>\n",
       "  <tbody>\n",
       "    <tr>\n",
       "      <th id=\"T_a7df3_level0_row0\" class=\"row_heading level0 row0\" >track_id</th>\n",
       "      <td id=\"T_a7df3_row0_col0\" class=\"data row0 col0\" >1.000000</td>\n",
       "      <td id=\"T_a7df3_row0_col1\" class=\"data row0 col1\" >-0.372282</td>\n",
       "      <td id=\"T_a7df3_row0_col2\" class=\"data row0 col2\" >0.049454</td>\n",
       "      <td id=\"T_a7df3_row0_col3\" class=\"data row0 col3\" >0.140703</td>\n",
       "      <td id=\"T_a7df3_row0_col4\" class=\"data row0 col4\" >-0.275623</td>\n",
       "      <td id=\"T_a7df3_row0_col5\" class=\"data row0 col5\" >0.048231</td>\n",
       "      <td id=\"T_a7df3_row0_col6\" class=\"data row0 col6\" >-0.026995</td>\n",
       "      <td id=\"T_a7df3_row0_col7\" class=\"data row0 col7\" >-0.025392</td>\n",
       "      <td id=\"T_a7df3_row0_col8\" class=\"data row0 col8\" >0.010070</td>\n",
       "    </tr>\n",
       "    <tr>\n",
       "      <th id=\"T_a7df3_level0_row1\" class=\"row_heading level0 row1\" >acousticness</th>\n",
       "      <td id=\"T_a7df3_row1_col0\" class=\"data row1 col0\" >-0.372282</td>\n",
       "      <td id=\"T_a7df3_row1_col1\" class=\"data row1 col1\" >1.000000</td>\n",
       "      <td id=\"T_a7df3_row1_col2\" class=\"data row1 col2\" >-0.028954</td>\n",
       "      <td id=\"T_a7df3_row1_col3\" class=\"data row1 col3\" >-0.281619</td>\n",
       "      <td id=\"T_a7df3_row1_col4\" class=\"data row1 col4\" >0.194780</td>\n",
       "      <td id=\"T_a7df3_row1_col5\" class=\"data row1 col5\" >-0.019991</td>\n",
       "      <td id=\"T_a7df3_row1_col6\" class=\"data row1 col6\" >0.072204</td>\n",
       "      <td id=\"T_a7df3_row1_col7\" class=\"data row1 col7\" >-0.026310</td>\n",
       "      <td id=\"T_a7df3_row1_col8\" class=\"data row1 col8\" >-0.013841</td>\n",
       "    </tr>\n",
       "    <tr>\n",
       "      <th id=\"T_a7df3_level0_row2\" class=\"row_heading level0 row2\" >danceability</th>\n",
       "      <td id=\"T_a7df3_row2_col0\" class=\"data row2 col0\" >0.049454</td>\n",
       "      <td id=\"T_a7df3_row2_col1\" class=\"data row2 col1\" >-0.028954</td>\n",
       "      <td id=\"T_a7df3_row2_col2\" class=\"data row2 col2\" >1.000000</td>\n",
       "      <td id=\"T_a7df3_row2_col3\" class=\"data row2 col3\" >-0.242032</td>\n",
       "      <td id=\"T_a7df3_row2_col4\" class=\"data row2 col4\" >-0.255217</td>\n",
       "      <td id=\"T_a7df3_row2_col5\" class=\"data row2 col5\" >-0.106584</td>\n",
       "      <td id=\"T_a7df3_row2_col6\" class=\"data row2 col6\" >0.276206</td>\n",
       "      <td id=\"T_a7df3_row2_col7\" class=\"data row2 col7\" >-0.242089</td>\n",
       "      <td id=\"T_a7df3_row2_col8\" class=\"data row2 col8\" >0.473165</td>\n",
       "    </tr>\n",
       "    <tr>\n",
       "      <th id=\"T_a7df3_level0_row3\" class=\"row_heading level0 row3\" >energy</th>\n",
       "      <td id=\"T_a7df3_row3_col0\" class=\"data row3 col0\" >0.140703</td>\n",
       "      <td id=\"T_a7df3_row3_col1\" class=\"data row3 col1\" >-0.281619</td>\n",
       "      <td id=\"T_a7df3_row3_col2\" class=\"data row3 col2\" >-0.242032</td>\n",
       "      <td id=\"T_a7df3_row3_col3\" class=\"data row3 col3\" >1.000000</td>\n",
       "      <td id=\"T_a7df3_row3_col4\" class=\"data row3 col4\" >0.028238</td>\n",
       "      <td id=\"T_a7df3_row3_col5\" class=\"data row3 col5\" >0.113331</td>\n",
       "      <td id=\"T_a7df3_row3_col6\" class=\"data row3 col6\" >-0.109983</td>\n",
       "      <td id=\"T_a7df3_row3_col7\" class=\"data row3 col7\" >0.195227</td>\n",
       "      <td id=\"T_a7df3_row3_col8\" class=\"data row3 col8\" >0.038603</td>\n",
       "    </tr>\n",
       "    <tr>\n",
       "      <th id=\"T_a7df3_level0_row4\" class=\"row_heading level0 row4\" >instrumentalness</th>\n",
       "      <td id=\"T_a7df3_row4_col0\" class=\"data row4 col0\" >-0.275623</td>\n",
       "      <td id=\"T_a7df3_row4_col1\" class=\"data row4 col1\" >0.194780</td>\n",
       "      <td id=\"T_a7df3_row4_col2\" class=\"data row4 col2\" >-0.255217</td>\n",
       "      <td id=\"T_a7df3_row4_col3\" class=\"data row4 col3\" >0.028238</td>\n",
       "      <td id=\"T_a7df3_row4_col4\" class=\"data row4 col4\" >1.000000</td>\n",
       "      <td id=\"T_a7df3_row4_col5\" class=\"data row4 col5\" >-0.091022</td>\n",
       "      <td id=\"T_a7df3_row4_col6\" class=\"data row4 col6\" >-0.366762</td>\n",
       "      <td id=\"T_a7df3_row4_col7\" class=\"data row4 col7\" >0.022215</td>\n",
       "      <td id=\"T_a7df3_row4_col8\" class=\"data row4 col8\" >-0.219967</td>\n",
       "    </tr>\n",
       "    <tr>\n",
       "      <th id=\"T_a7df3_level0_row5\" class=\"row_heading level0 row5\" >liveness</th>\n",
       "      <td id=\"T_a7df3_row5_col0\" class=\"data row5 col0\" >0.048231</td>\n",
       "      <td id=\"T_a7df3_row5_col1\" class=\"data row5 col1\" >-0.019991</td>\n",
       "      <td id=\"T_a7df3_row5_col2\" class=\"data row5 col2\" >-0.106584</td>\n",
       "      <td id=\"T_a7df3_row5_col3\" class=\"data row5 col3\" >0.113331</td>\n",
       "      <td id=\"T_a7df3_row5_col4\" class=\"data row5 col4\" >-0.091022</td>\n",
       "      <td id=\"T_a7df3_row5_col5\" class=\"data row5 col5\" >1.000000</td>\n",
       "      <td id=\"T_a7df3_row5_col6\" class=\"data row5 col6\" >0.041173</td>\n",
       "      <td id=\"T_a7df3_row5_col7\" class=\"data row5 col7\" >0.002732</td>\n",
       "      <td id=\"T_a7df3_row5_col8\" class=\"data row5 col8\" >-0.045093</td>\n",
       "    </tr>\n",
       "    <tr>\n",
       "      <th id=\"T_a7df3_level0_row6\" class=\"row_heading level0 row6\" >speechiness</th>\n",
       "      <td id=\"T_a7df3_row6_col0\" class=\"data row6 col0\" >-0.026995</td>\n",
       "      <td id=\"T_a7df3_row6_col1\" class=\"data row6 col1\" >0.072204</td>\n",
       "      <td id=\"T_a7df3_row6_col2\" class=\"data row6 col2\" >0.276206</td>\n",
       "      <td id=\"T_a7df3_row6_col3\" class=\"data row6 col3\" >-0.109983</td>\n",
       "      <td id=\"T_a7df3_row6_col4\" class=\"data row6 col4\" >-0.366762</td>\n",
       "      <td id=\"T_a7df3_row6_col5\" class=\"data row6 col5\" >0.041173</td>\n",
       "      <td id=\"T_a7df3_row6_col6\" class=\"data row6 col6\" >1.000000</td>\n",
       "      <td id=\"T_a7df3_row6_col7\" class=\"data row6 col7\" >0.008241</td>\n",
       "      <td id=\"T_a7df3_row6_col8\" class=\"data row6 col8\" >0.149894</td>\n",
       "    </tr>\n",
       "    <tr>\n",
       "      <th id=\"T_a7df3_level0_row7\" class=\"row_heading level0 row7\" >tempo</th>\n",
       "      <td id=\"T_a7df3_row7_col0\" class=\"data row7 col0\" >-0.025392</td>\n",
       "      <td id=\"T_a7df3_row7_col1\" class=\"data row7 col1\" >-0.026310</td>\n",
       "      <td id=\"T_a7df3_row7_col2\" class=\"data row7 col2\" >-0.242089</td>\n",
       "      <td id=\"T_a7df3_row7_col3\" class=\"data row7 col3\" >0.195227</td>\n",
       "      <td id=\"T_a7df3_row7_col4\" class=\"data row7 col4\" >0.022215</td>\n",
       "      <td id=\"T_a7df3_row7_col5\" class=\"data row7 col5\" >0.002732</td>\n",
       "      <td id=\"T_a7df3_row7_col6\" class=\"data row7 col6\" >0.008241</td>\n",
       "      <td id=\"T_a7df3_row7_col7\" class=\"data row7 col7\" >1.000000</td>\n",
       "      <td id=\"T_a7df3_row7_col8\" class=\"data row7 col8\" >0.052221</td>\n",
       "    </tr>\n",
       "    <tr>\n",
       "      <th id=\"T_a7df3_level0_row8\" class=\"row_heading level0 row8\" >valence</th>\n",
       "      <td id=\"T_a7df3_row8_col0\" class=\"data row8 col0\" >0.010070</td>\n",
       "      <td id=\"T_a7df3_row8_col1\" class=\"data row8 col1\" >-0.013841</td>\n",
       "      <td id=\"T_a7df3_row8_col2\" class=\"data row8 col2\" >0.473165</td>\n",
       "      <td id=\"T_a7df3_row8_col3\" class=\"data row8 col3\" >0.038603</td>\n",
       "      <td id=\"T_a7df3_row8_col4\" class=\"data row8 col4\" >-0.219967</td>\n",
       "      <td id=\"T_a7df3_row8_col5\" class=\"data row8 col5\" >-0.045093</td>\n",
       "      <td id=\"T_a7df3_row8_col6\" class=\"data row8 col6\" >0.149894</td>\n",
       "      <td id=\"T_a7df3_row8_col7\" class=\"data row8 col7\" >0.052221</td>\n",
       "      <td id=\"T_a7df3_row8_col8\" class=\"data row8 col8\" >1.000000</td>\n",
       "    </tr>\n",
       "  </tbody>\n",
       "</table>\n"
      ],
      "text/plain": [
       "<pandas.io.formats.style.Styler at 0x1f5ba0e3fa0>"
      ]
     },
     "execution_count": 18,
     "metadata": {},
     "output_type": "execute_result"
    }
   ],
   "source": [
    "Tracks.corr().style.background_gradient()"
   ]
  },
  {
   "cell_type": "markdown",
   "metadata": {},
   "source": [
    "# Pre Processing"
   ]
  },
  {
   "cell_type": "markdown",
   "metadata": {},
   "source": [
    "Normalizing the feature data"
   ]
  },
  {
   "cell_type": "code",
   "execution_count": 19,
   "metadata": {},
   "outputs": [
    {
     "data": {
      "text/html": [
       "<div>\n",
       "<style scoped>\n",
       "    .dataframe tbody tr th:only-of-type {\n",
       "        vertical-align: middle;\n",
       "    }\n",
       "\n",
       "    .dataframe tbody tr th {\n",
       "        vertical-align: top;\n",
       "    }\n",
       "\n",
       "    .dataframe thead th {\n",
       "        text-align: right;\n",
       "    }\n",
       "</style>\n",
       "<table border=\"1\" class=\"dataframe\">\n",
       "  <thead>\n",
       "    <tr style=\"text-align: right;\">\n",
       "      <th></th>\n",
       "      <th>acousticness</th>\n",
       "      <th>danceability</th>\n",
       "      <th>energy</th>\n",
       "      <th>instrumentalness</th>\n",
       "      <th>liveness</th>\n",
       "      <th>speechiness</th>\n",
       "      <th>tempo</th>\n",
       "      <th>valence</th>\n",
       "    </tr>\n",
       "  </thead>\n",
       "  <tbody>\n",
       "    <tr>\n",
       "      <th>0</th>\n",
       "      <td>-0.191210</td>\n",
       "      <td>1.304420</td>\n",
       "      <td>0.038316</td>\n",
       "      <td>-1.576494</td>\n",
       "      <td>-0.068755</td>\n",
       "      <td>0.373034</td>\n",
       "      <td>1.153979</td>\n",
       "      <td>0.462287</td>\n",
       "    </tr>\n",
       "    <tr>\n",
       "      <th>1</th>\n",
       "      <td>-0.306036</td>\n",
       "      <td>0.501886</td>\n",
       "      <td>0.788176</td>\n",
       "      <td>-1.599809</td>\n",
       "      <td>-0.545463</td>\n",
       "      <td>2.446155</td>\n",
       "      <td>0.007914</td>\n",
       "      <td>-0.690811</td>\n",
       "    </tr>\n",
       "    <tr>\n",
       "      <th>2</th>\n",
       "      <td>-1.204813</td>\n",
       "      <td>1.684139</td>\n",
       "      <td>0.312852</td>\n",
       "      <td>-1.602876</td>\n",
       "      <td>1.229828</td>\n",
       "      <td>0.135130</td>\n",
       "      <td>-0.777317</td>\n",
       "      <td>0.631077</td>\n",
       "    </tr>\n",
       "    <tr>\n",
       "      <th>3</th>\n",
       "      <td>-0.094655</td>\n",
       "      <td>0.417927</td>\n",
       "      <td>-0.265203</td>\n",
       "      <td>-1.553079</td>\n",
       "      <td>-0.607326</td>\n",
       "      <td>2.882707</td>\n",
       "      <td>-0.364657</td>\n",
       "      <td>1.652859</td>\n",
       "    </tr>\n",
       "    <tr>\n",
       "      <th>4</th>\n",
       "      <td>1.361706</td>\n",
       "      <td>-0.985896</td>\n",
       "      <td>1.453323</td>\n",
       "      <td>0.979975</td>\n",
       "      <td>-0.442757</td>\n",
       "      <td>-0.364157</td>\n",
       "      <td>-1.072003</td>\n",
       "      <td>-1.573102</td>\n",
       "    </tr>\n",
       "    <tr>\n",
       "      <th>...</th>\n",
       "      <td>...</td>\n",
       "      <td>...</td>\n",
       "      <td>...</td>\n",
       "      <td>...</td>\n",
       "      <td>...</td>\n",
       "      <td>...</td>\n",
       "      <td>...</td>\n",
       "      <td>...</td>\n",
       "    </tr>\n",
       "    <tr>\n",
       "      <th>4797</th>\n",
       "      <td>-0.203384</td>\n",
       "      <td>1.363997</td>\n",
       "      <td>0.918688</td>\n",
       "      <td>-1.604727</td>\n",
       "      <td>4.513867</td>\n",
       "      <td>1.798515</td>\n",
       "      <td>-0.899556</td>\n",
       "      <td>0.896463</td>\n",
       "    </tr>\n",
       "    <tr>\n",
       "      <th>4798</th>\n",
       "      <td>-1.173825</td>\n",
       "      <td>0.986358</td>\n",
       "      <td>0.423896</td>\n",
       "      <td>-1.604708</td>\n",
       "      <td>-0.375693</td>\n",
       "      <td>0.947464</td>\n",
       "      <td>-0.894909</td>\n",
       "      <td>-0.201397</td>\n",
       "    </tr>\n",
       "    <tr>\n",
       "      <th>4799</th>\n",
       "      <td>-1.294704</td>\n",
       "      <td>1.176828</td>\n",
       "      <td>0.132656</td>\n",
       "      <td>-1.604725</td>\n",
       "      <td>3.411080</td>\n",
       "      <td>0.851822</td>\n",
       "      <td>-0.935410</td>\n",
       "      <td>-0.079418</td>\n",
       "    </tr>\n",
       "    <tr>\n",
       "      <th>4800</th>\n",
       "      <td>-1.138691</td>\n",
       "      <td>-0.022534</td>\n",
       "      <td>0.571179</td>\n",
       "      <td>-1.604722</td>\n",
       "      <td>-0.555215</td>\n",
       "      <td>1.409515</td>\n",
       "      <td>1.313013</td>\n",
       "      <td>0.475138</td>\n",
       "    </tr>\n",
       "    <tr>\n",
       "      <th>4801</th>\n",
       "      <td>-0.906114</td>\n",
       "      <td>1.101490</td>\n",
       "      <td>0.563225</td>\n",
       "      <td>-1.604727</td>\n",
       "      <td>0.510474</td>\n",
       "      <td>1.360309</td>\n",
       "      <td>-1.436691</td>\n",
       "      <td>0.762175</td>\n",
       "    </tr>\n",
       "  </tbody>\n",
       "</table>\n",
       "<p>4802 rows × 8 columns</p>\n",
       "</div>"
      ],
      "text/plain": [
       "      acousticness  danceability    energy  instrumentalness  liveness  \\\n",
       "0        -0.191210      1.304420  0.038316         -1.576494 -0.068755   \n",
       "1        -0.306036      0.501886  0.788176         -1.599809 -0.545463   \n",
       "2        -1.204813      1.684139  0.312852         -1.602876  1.229828   \n",
       "3        -0.094655      0.417927 -0.265203         -1.553079 -0.607326   \n",
       "4         1.361706     -0.985896  1.453323          0.979975 -0.442757   \n",
       "...            ...           ...       ...               ...       ...   \n",
       "4797     -0.203384      1.363997  0.918688         -1.604727  4.513867   \n",
       "4798     -1.173825      0.986358  0.423896         -1.604708 -0.375693   \n",
       "4799     -1.294704      1.176828  0.132656         -1.604725  3.411080   \n",
       "4800     -1.138691     -0.022534  0.571179         -1.604722 -0.555215   \n",
       "4801     -0.906114      1.101490  0.563225         -1.604727  0.510474   \n",
       "\n",
       "      speechiness     tempo   valence  \n",
       "0        0.373034  1.153979  0.462287  \n",
       "1        2.446155  0.007914 -0.690811  \n",
       "2        0.135130 -0.777317  0.631077  \n",
       "3        2.882707 -0.364657  1.652859  \n",
       "4       -0.364157 -1.072003 -1.573102  \n",
       "...           ...       ...       ...  \n",
       "4797     1.798515 -0.899556  0.896463  \n",
       "4798     0.947464 -0.894909 -0.201397  \n",
       "4799     0.851822 -0.935410 -0.079418  \n",
       "4800     1.409515  1.313013  0.475138  \n",
       "4801     1.360309 -1.436691  0.762175  \n",
       "\n",
       "[4802 rows x 8 columns]"
      ]
     },
     "execution_count": 19,
     "metadata": {},
     "output_type": "execute_result"
    }
   ],
   "source": [
    "features = Tracks.drop(['track_id','genre_top'],axis =1).copy()\n",
    "scaler = StandardScaler()\n",
    "scaled_features= scaler.fit_transform(features)\n",
    "pd.DataFrame(scaled_features,columns = features.columns)"
   ]
  },
  {
   "cell_type": "markdown",
   "metadata": {},
   "source": [
    "# PCA"
   ]
  },
  {
   "cell_type": "code",
   "execution_count": 20,
   "metadata": {},
   "outputs": [
    {
     "name": "stdout",
     "output_type": "stream",
     "text": [
      "Explained Variance According to each Feature: \n",
      "[0.24297674 0.18044316 0.13650309 0.12994089 0.11056248 0.08302245\n",
      " 0.06923783 0.04731336]\n"
     ]
    },
    {
     "data": {
      "image/png": "[encoded data removed]",
      "text/plain": [
       "<Figure size 432x288 with 1 Axes>"
      ]
     },
     "metadata": {
      "needs_background": "light"
     },
     "output_type": "display_data"
    }
   ],
   "source": [
    "pca = PCA()\n",
    "pca.fit_transform(scaled_features)\n",
    "pca_explain = pca.explained_variance_ratio_\n",
    "print('Explained Variance According to each Feature: ')\n",
    "print(pca_explain)\n",
    "#Scree_Plot\n",
    "PC_values = np.arange(pca.n_components_) + 1\n",
    "plt.plot(PC_values, pca.explained_variance_ratio_, 'o-', linewidth=2, color='blue')\n",
    "plt.title('Scree Plot')\n",
    "plt.xlabel('Principal Component')\n",
    "plt.ylabel('Variance Explained')\n",
    "plt.show()"
   ]
  },
  {
   "cell_type": "markdown",
   "metadata": {},
   "source": [
    "As there is no sudden drop in the graph means that we need to analyze more"
   ]
  },
  {
   "cell_type": "markdown",
   "metadata": {},
   "source": [
    "Cummlative Explained Variance"
   ]
  },
  {
   "cell_type": "code",
   "execution_count": 21,
   "metadata": {},
   "outputs": [
    {
     "data": {
      "text/plain": [
       "array([0.24297674, 0.4234199 , 0.55992299, 0.68986388, 0.80042636,\n",
       "       0.88344881, 0.95268664, 1.        ])"
      ]
     },
     "execution_count": 21,
     "metadata": {},
     "output_type": "execute_result"
    }
   ],
   "source": [
    "cum_exp_variance = np.cumsum(pca_explain)\n",
    "cum_exp_variance"
   ]
  },
  {
   "cell_type": "markdown",
   "metadata": {},
   "source": [
    "Cummlative Explained Variance Visualization"
   ]
  },
  {
   "cell_type": "code",
   "execution_count": 22,
   "metadata": {},
   "outputs": [
    {
     "data": {
      "image/png": "[encoded data removed]",
      "text/plain": [
       "<Figure size 432x288 with 1 Axes>"
      ]
     },
     "metadata": {
      "needs_background": "light"
     },
     "output_type": "display_data"
    }
   ],
   "source": [
    "PC_values = np.arange(pca.n_components_) + 1\n",
    "plt.plot(PC_values, cum_exp_variance, 'o-', linewidth=2, color='blue')\n",
    "plt.xlabel('Principal Component')\n",
    "plt.ylabel('Variance Explained')\n",
    "plt.axhline(y=0.9, linestyle='--')\n",
    "plt.show()"
   ]
  },
  {
   "cell_type": "markdown",
   "metadata": {},
   "source": [
    "As We can see 90% of Variance is covered under first 6 components. So, we will only use first six components for our model"
   ]
  },
  {
   "cell_type": "code",
   "execution_count": 23,
   "metadata": {},
   "outputs": [],
   "source": [
    "pca = PCA(6, random_state=10)\n",
    "pca.fit(scaled_features)\n",
    "pca_projection = pca.transform(scaled_features)\n",
    "#pd.DataFrame(pca_projection)\n"
   ]
  },
  {
   "cell_type": "markdown",
   "metadata": {},
   "source": [
    "# Decision Tree Classifier"
   ]
  },
  {
   "cell_type": "code",
   "execution_count": 24,
   "metadata": {},
   "outputs": [
    {
     "name": "stdout",
     "output_type": "stream",
     "text": [
      "              precision    recall  f1-score   support\n",
      "\n",
      "     Hip-Hop       0.63      0.66      0.64       195\n",
      "        Rock       0.91      0.90      0.91       766\n",
      "\n",
      "    accuracy                           0.85       961\n",
      "   macro avg       0.77      0.78      0.78       961\n",
      "weighted avg       0.86      0.85      0.85       961\n",
      "\n"
     ]
    }
   ],
   "source": [
    "\n",
    "train_x,test_x,train_y,test_y = train_test_split(pca_projection,Tracks['genre_top'],test_size=0.2,random_state=40 )\n",
    "model = DecisionTreeClassifier()\n",
    "model.fit(train_x,train_y)\n",
    "prediction = model.predict(test_x)\n",
    "classificationReport = classification_report(test_y,prediction)\n",
    "print(classificationReport)"
   ]
  },
  {
   "cell_type": "markdown",
   "metadata": {},
   "source": [
    "# Logistic Regression"
   ]
  },
  {
   "cell_type": "code",
   "execution_count": 25,
   "metadata": {},
   "outputs": [
    {
     "name": "stdout",
     "output_type": "stream",
     "text": [
      "              precision    recall  f1-score   support\n",
      "\n",
      "     Hip-Hop       0.76      0.56      0.64       195\n",
      "        Rock       0.89      0.95      0.92       766\n",
      "\n",
      "    accuracy                           0.87       961\n",
      "   macro avg       0.83      0.76      0.78       961\n",
      "weighted avg       0.87      0.87      0.87       961\n",
      "\n"
     ]
    }
   ],
   "source": [
    "LogisticModel = LogisticRegression()\n",
    "LogisticModel.fit(train_x,train_y)\n",
    "LogisticPrediction = LogisticModel.predict(test_x)\n",
    "LogicticClassificationReport = classification_report(test_y,LogisticPrediction)\n",
    "print(LogicticClassificationReport)\n"
   ]
  },
  {
   "cell_type": "markdown",
   "metadata": {},
   "source": [
    "As we can see that both of the models are performing pretty well but the onlything that is not right is that our model is more biared towards Rock Genre which is not ideal."
   ]
  },
  {
   "cell_type": "markdown",
   "metadata": {},
   "source": [
    "The reason behind this may be that we have far more Data Points for Rock Songs."
   ]
  },
  {
   "cell_type": "code",
   "execution_count": 26,
   "metadata": {},
   "outputs": [
    {
     "name": "stdout",
     "output_type": "stream",
     "text": [
      "Rock Enteries: \n",
      "3892\n",
      "Hip-Hop Enteries: \n",
      "910\n"
     ]
    }
   ],
   "source": [
    "print('Rock Enteries: ')\n",
    "print(len(Tracks[Tracks['genre_top'] == 'Rock']))\n",
    "print('Hip-Hop Enteries: ')\n",
    "print((len(Tracks[Tracks['genre_top'] == 'Hip-Hop'])))"
   ]
  },
  {
   "cell_type": "markdown",
   "metadata": {},
   "source": [
    "# Balancing our Data Set"
   ]
  },
  {
   "cell_type": "code",
   "execution_count": 27,
   "metadata": {},
   "outputs": [],
   "source": [
    "df_HipHop = Tracks.loc[Tracks[\"genre_top\"] == \"Hip-Hop\"]\n",
    "df_Rock = Tracks.loc[Tracks[\"genre_top\"] == \"Rock\"].sample(len(df_HipHop), random_state=40)\n",
    "Balanced_df = pd.concat([df_Rock ,df_HipHop])"
   ]
  },
  {
   "cell_type": "markdown",
   "metadata": {},
   "source": [
    "Repeating Process for Balanced Data"
   ]
  },
  {
   "cell_type": "code",
   "execution_count": 28,
   "metadata": {},
   "outputs": [],
   "source": [
    "features =Balanced_df.drop(['track_id','genre_top'],axis =1).copy()\n",
    "scaler = StandardScaler()\n",
    "scaled_features= scaler.fit_transform(features)\n",
    "\n",
    "pca = PCA(6, random_state=10)\n",
    "pca.fit(scaled_features)\n",
    "pca_projection = pca.transform(scaled_features)\n",
    "\n",
    "train_x,test_x,train_y,test_y = train_test_split(pca_projection,Balanced_df['genre_top'],test_size=0.2,random_state=40 )"
   ]
  },
  {
   "cell_type": "code",
   "execution_count": 29,
   "metadata": {},
   "outputs": [],
   "source": [
    "#Decision Tree on Balanced Data\n",
    "model = DecisionTreeClassifier()\n",
    "model.fit(train_x,train_y)\n",
    "prediction = model.predict(test_x)\n",
    "classificationReport = classification_report(test_y,prediction)\n",
    "\n",
    "#Logisctic Regression on Balanaced Data\n",
    "\n",
    "LogisticModel = LogisticRegression()\n",
    "LogisticModel.fit(train_x,train_y)\n",
    "LogisticPrediction = LogisticModel.predict(test_x)\n",
    "LogicticClassificationReport = classification_report(test_y,LogisticPrediction)"
   ]
  },
  {
   "cell_type": "markdown",
   "metadata": {},
   "source": [
    "# Does balancing our dataset improve model bias?"
   ]
  },
  {
   "cell_type": "code",
   "execution_count": 30,
   "metadata": {},
   "outputs": [
    {
     "name": "stdout",
     "output_type": "stream",
     "text": [
      "Decision Tree on Balanced Data:\n",
      "              precision    recall  f1-score   support\n",
      "\n",
      "     Hip-Hop       0.82      0.72      0.77       191\n",
      "        Rock       0.73      0.82      0.77       173\n",
      "\n",
      "    accuracy                           0.77       364\n",
      "   macro avg       0.77      0.77      0.77       364\n",
      "weighted avg       0.77      0.77      0.77       364\n",
      "\n",
      "Logistic Regression on Balanced Data:\n",
      "              precision    recall  f1-score   support\n",
      "\n",
      "     Hip-Hop       0.84      0.80      0.82       191\n",
      "        Rock       0.79      0.84      0.81       173\n",
      "\n",
      "    accuracy                           0.82       364\n",
      "   macro avg       0.82      0.82      0.82       364\n",
      "weighted avg       0.82      0.82      0.82       364\n",
      "\n"
     ]
    }
   ],
   "source": [
    "print('Decision Tree on Balanced Data:')\n",
    "print(classificationReport)\n",
    "print('Logistic Regression on Balanced Data:')\n",
    "print(LogicticClassificationReport)"
   ]
  },
  {
   "cell_type": "markdown",
   "metadata": {},
   "source": [
    "Yes! Balancing did remove the bias from for model. But, we can see that there is decrease in our avg accuracy that is because we have removed datapoint from our dataset. We are okay with this because Biasness is way more dangerous than less accuracy"
   ]
  },
  {
   "cell_type": "markdown",
   "metadata": {},
   "source": [
    "# KFOLD Cross Validation"
   ]
  },
  {
   "cell_type": "code",
   "execution_count": 33,
   "metadata": {},
   "outputs": [
    {
     "name": "stdout",
     "output_type": "stream",
     "text": [
      "Decision Tree: 0.7478021978021978 Logistic Regression: 0.7818681318681319\n"
     ]
    }
   ],
   "source": [
    "kf = KFold(n_splits=10)\n",
    "tree_score = cross_val_score(model, pca_projection, Balanced_df['genre_top'], cv=kf)\n",
    "logit_score = cross_val_score(LogisticModel, pca_projection,Balanced_df['genre_top'], cv=kf)\n",
    "print(\"Decision Tree:\", np.mean(tree_score), \"Logistic Regression:\", np.mean(logit_score))"
   ]
  },
  {
   "cell_type": "markdown",
   "metadata": {},
   "source": [
    "So these are our final accuracy for any unseen data"
   ]
  }
 ],
 "metadata": {
  "kernelspec": {
   "display_name": "Python 3.9.13 64-bit (windows store)",
   "language": "python",
   "name": "python3"
  },
  "language_info": {
   "codemirror_mode": {
    "name": "ipython",
    "version": 3
   },
   "file_extension": ".py",
   "mimetype": "text/x-python",
   "name": "python",
   "nbconvert_exporter": "python",
   "pygments_lexer": "ipython3",
   "version": "3.9.13"
  },
  "orig_nbformat": 4,
  "vscode": {
   "interpreter": {
    "hash": "683aee01aa7d925ec241cd6f35a4feff5ce7ea5a414a879b15de6fb5ac1e597c"
   }
  }
 },
 "nbformat": 4,
 "nbformat_minor": 2
}
