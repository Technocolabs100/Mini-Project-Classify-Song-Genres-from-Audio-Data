{
 "cells": [
  {
   "cell_type": "code",
   "execution_count": 66,
   "id": "31661783",
   "metadata": {
    "ExecuteTime": {
     "end_time": "2022-08-17T09:01:40.406911Z",
     "start_time": "2022-08-17T09:01:38.695185Z"
    }
   },
   "outputs": [],
   "source": [
    "import pandas as pd\n",
    "import numpy as np\n",
    "from sklearn.preprocessing import StandardScaler\n",
    "%matplotlib inline\n",
    "import matplotlib.pyplot as plt\n",
    "from sklearn.decomposition import PCA\n",
    "import seaborn as sns"
   ]
  },
  {
   "cell_type": "code",
   "execution_count": 5,
   "id": "ff9185c9",
   "metadata": {
    "ExecuteTime": {
     "end_time": "2022-08-16T13:40:22.675541Z",
     "start_time": "2022-08-16T13:40:22.236678Z"
    }
   },
   "outputs": [],
   "source": [
    "#Read the track metadata with Genres label\n",
    "tracks = pd.read_csv(r\"C:\\Users\\yy\\Downloads\\fma-rock-vs-hiphop.csv\")\n",
    "\n",
    "#Read the track metrices data with features\n",
    "echonest = pd.read_json(r\"C:\\Users\\yy\\Downloads\\echonest-metrics.json\")"
   ]
  },
  {
   "cell_type": "code",
   "execution_count": 11,
   "id": "dbd1d4f5",
   "metadata": {
    "ExecuteTime": {
     "end_time": "2022-08-16T13:45:43.750947Z",
     "start_time": "2022-08-16T13:45:43.709070Z"
    }
   },
   "outputs": [
    {
     "data": {
      "text/html": [
       "<div>\n",
       "<style scoped>\n",
       "    .dataframe tbody tr th:only-of-type {\n",
       "        vertical-align: middle;\n",
       "    }\n",
       "\n",
       "    .dataframe tbody tr th {\n",
       "        vertical-align: top;\n",
       "    }\n",
       "\n",
       "    .dataframe thead th {\n",
       "        text-align: right;\n",
       "    }\n",
       "</style>\n",
       "<table border=\"1\" class=\"dataframe\">\n",
       "  <thead>\n",
       "    <tr style=\"text-align: right;\">\n",
       "      <th></th>\n",
       "      <th>track_id</th>\n",
       "      <th>bit_rate</th>\n",
       "      <th>comments</th>\n",
       "      <th>composer</th>\n",
       "      <th>date_created</th>\n",
       "      <th>date_recorded</th>\n",
       "      <th>duration</th>\n",
       "      <th>favorites</th>\n",
       "      <th>genre_top</th>\n",
       "      <th>genres</th>\n",
       "      <th>...</th>\n",
       "      <th>information</th>\n",
       "      <th>interest</th>\n",
       "      <th>language_code</th>\n",
       "      <th>license</th>\n",
       "      <th>listens</th>\n",
       "      <th>lyricist</th>\n",
       "      <th>number</th>\n",
       "      <th>publisher</th>\n",
       "      <th>tags</th>\n",
       "      <th>title</th>\n",
       "    </tr>\n",
       "  </thead>\n",
       "  <tbody>\n",
       "    <tr>\n",
       "      <th>0</th>\n",
       "      <td>135</td>\n",
       "      <td>256000</td>\n",
       "      <td>1</td>\n",
       "      <td>NaN</td>\n",
       "      <td>2008-11-26 01:43:26</td>\n",
       "      <td>2008-11-26 00:00:00</td>\n",
       "      <td>837</td>\n",
       "      <td>0</td>\n",
       "      <td>Rock</td>\n",
       "      <td>[45, 58]</td>\n",
       "      <td>...</td>\n",
       "      <td>NaN</td>\n",
       "      <td>2484</td>\n",
       "      <td>en</td>\n",
       "      <td>Attribution-NonCommercial-ShareAlike 3.0 Inter...</td>\n",
       "      <td>1832</td>\n",
       "      <td>NaN</td>\n",
       "      <td>0</td>\n",
       "      <td>NaN</td>\n",
       "      <td>[]</td>\n",
       "      <td>Father's Day</td>\n",
       "    </tr>\n",
       "    <tr>\n",
       "      <th>1</th>\n",
       "      <td>136</td>\n",
       "      <td>256000</td>\n",
       "      <td>1</td>\n",
       "      <td>NaN</td>\n",
       "      <td>2008-11-26 01:43:35</td>\n",
       "      <td>2008-11-26 00:00:00</td>\n",
       "      <td>509</td>\n",
       "      <td>0</td>\n",
       "      <td>Rock</td>\n",
       "      <td>[45, 58]</td>\n",
       "      <td>...</td>\n",
       "      <td>NaN</td>\n",
       "      <td>1948</td>\n",
       "      <td>en</td>\n",
       "      <td>Attribution-NonCommercial-ShareAlike 3.0 Inter...</td>\n",
       "      <td>1498</td>\n",
       "      <td>NaN</td>\n",
       "      <td>0</td>\n",
       "      <td>NaN</td>\n",
       "      <td>[]</td>\n",
       "      <td>Peel Back The Mountain Sky</td>\n",
       "    </tr>\n",
       "    <tr>\n",
       "      <th>2</th>\n",
       "      <td>151</td>\n",
       "      <td>192000</td>\n",
       "      <td>0</td>\n",
       "      <td>NaN</td>\n",
       "      <td>2008-11-26 01:44:55</td>\n",
       "      <td>NaN</td>\n",
       "      <td>192</td>\n",
       "      <td>0</td>\n",
       "      <td>Rock</td>\n",
       "      <td>[25]</td>\n",
       "      <td>...</td>\n",
       "      <td>NaN</td>\n",
       "      <td>701</td>\n",
       "      <td>en</td>\n",
       "      <td>Attribution-NonCommercial-ShareAlike 3.0 Inter...</td>\n",
       "      <td>148</td>\n",
       "      <td>NaN</td>\n",
       "      <td>4</td>\n",
       "      <td>NaN</td>\n",
       "      <td>[]</td>\n",
       "      <td>Untitled 04</td>\n",
       "    </tr>\n",
       "    <tr>\n",
       "      <th>3</th>\n",
       "      <td>152</td>\n",
       "      <td>192000</td>\n",
       "      <td>0</td>\n",
       "      <td>NaN</td>\n",
       "      <td>2008-11-26 01:44:58</td>\n",
       "      <td>NaN</td>\n",
       "      <td>193</td>\n",
       "      <td>0</td>\n",
       "      <td>Rock</td>\n",
       "      <td>[25]</td>\n",
       "      <td>...</td>\n",
       "      <td>NaN</td>\n",
       "      <td>637</td>\n",
       "      <td>en</td>\n",
       "      <td>Attribution-NonCommercial-ShareAlike 3.0 Inter...</td>\n",
       "      <td>98</td>\n",
       "      <td>NaN</td>\n",
       "      <td>11</td>\n",
       "      <td>NaN</td>\n",
       "      <td>[]</td>\n",
       "      <td>Untitled 11</td>\n",
       "    </tr>\n",
       "    <tr>\n",
       "      <th>4</th>\n",
       "      <td>153</td>\n",
       "      <td>256000</td>\n",
       "      <td>0</td>\n",
       "      <td>Arc and Sender</td>\n",
       "      <td>2008-11-26 01:45:00</td>\n",
       "      <td>2008-11-26 00:00:00</td>\n",
       "      <td>405</td>\n",
       "      <td>5</td>\n",
       "      <td>Rock</td>\n",
       "      <td>[26]</td>\n",
       "      <td>...</td>\n",
       "      <td>NaN</td>\n",
       "      <td>354</td>\n",
       "      <td>en</td>\n",
       "      <td>Attribution-NonCommercial-NoDerivatives (aka M...</td>\n",
       "      <td>424</td>\n",
       "      <td>NaN</td>\n",
       "      <td>2</td>\n",
       "      <td>NaN</td>\n",
       "      <td>[]</td>\n",
       "      <td>Hundred-Year Flood</td>\n",
       "    </tr>\n",
       "  </tbody>\n",
       "</table>\n",
       "<p>5 rows × 21 columns</p>\n",
       "</div>"
      ],
      "text/plain": [
       "   track_id  bit_rate  comments        composer         date_created  \\\n",
       "0       135    256000         1             NaN  2008-11-26 01:43:26   \n",
       "1       136    256000         1             NaN  2008-11-26 01:43:35   \n",
       "2       151    192000         0             NaN  2008-11-26 01:44:55   \n",
       "3       152    192000         0             NaN  2008-11-26 01:44:58   \n",
       "4       153    256000         0  Arc and Sender  2008-11-26 01:45:00   \n",
       "\n",
       "         date_recorded  duration  favorites genre_top    genres  ...  \\\n",
       "0  2008-11-26 00:00:00       837          0      Rock  [45, 58]  ...   \n",
       "1  2008-11-26 00:00:00       509          0      Rock  [45, 58]  ...   \n",
       "2                  NaN       192          0      Rock      [25]  ...   \n",
       "3                  NaN       193          0      Rock      [25]  ...   \n",
       "4  2008-11-26 00:00:00       405          5      Rock      [26]  ...   \n",
       "\n",
       "  information interest  language_code  \\\n",
       "0         NaN     2484             en   \n",
       "1         NaN     1948             en   \n",
       "2         NaN      701             en   \n",
       "3         NaN      637             en   \n",
       "4         NaN      354             en   \n",
       "\n",
       "                                             license listens  lyricist number  \\\n",
       "0  Attribution-NonCommercial-ShareAlike 3.0 Inter...    1832       NaN      0   \n",
       "1  Attribution-NonCommercial-ShareAlike 3.0 Inter...    1498       NaN      0   \n",
       "2  Attribution-NonCommercial-ShareAlike 3.0 Inter...     148       NaN      4   \n",
       "3  Attribution-NonCommercial-ShareAlike 3.0 Inter...      98       NaN     11   \n",
       "4  Attribution-NonCommercial-NoDerivatives (aka M...     424       NaN      2   \n",
       "\n",
       "   publisher tags                       title  \n",
       "0        NaN   []                Father's Day  \n",
       "1        NaN   []  Peel Back The Mountain Sky  \n",
       "2        NaN   []                 Untitled 04  \n",
       "3        NaN   []                 Untitled 11  \n",
       "4        NaN   []          Hundred-Year Flood  \n",
       "\n",
       "[5 rows x 21 columns]"
      ]
     },
     "execution_count": 11,
     "metadata": {},
     "output_type": "execute_result"
    }
   ],
   "source": [
    "tracks.head()"
   ]
  },
  {
   "cell_type": "code",
   "execution_count": 10,
   "id": "7f720e4a",
   "metadata": {
    "ExecuteTime": {
     "end_time": "2022-08-16T13:44:55.516028Z",
     "start_time": "2022-08-16T13:44:55.481097Z"
    }
   },
   "outputs": [
    {
     "data": {
      "text/html": [
       "<div>\n",
       "<style scoped>\n",
       "    .dataframe tbody tr th:only-of-type {\n",
       "        vertical-align: middle;\n",
       "    }\n",
       "\n",
       "    .dataframe tbody tr th {\n",
       "        vertical-align: top;\n",
       "    }\n",
       "\n",
       "    .dataframe thead th {\n",
       "        text-align: right;\n",
       "    }\n",
       "</style>\n",
       "<table border=\"1\" class=\"dataframe\">\n",
       "  <thead>\n",
       "    <tr style=\"text-align: right;\">\n",
       "      <th></th>\n",
       "      <th>track_id</th>\n",
       "      <th>acousticness</th>\n",
       "      <th>danceability</th>\n",
       "      <th>energy</th>\n",
       "      <th>instrumentalness</th>\n",
       "      <th>liveness</th>\n",
       "      <th>speechiness</th>\n",
       "      <th>tempo</th>\n",
       "      <th>valence</th>\n",
       "    </tr>\n",
       "  </thead>\n",
       "  <tbody>\n",
       "    <tr>\n",
       "      <th>0</th>\n",
       "      <td>2</td>\n",
       "      <td>0.416675</td>\n",
       "      <td>0.675894</td>\n",
       "      <td>0.634476</td>\n",
       "      <td>0.010628</td>\n",
       "      <td>0.177647</td>\n",
       "      <td>0.159310</td>\n",
       "      <td>165.922</td>\n",
       "      <td>0.576661</td>\n",
       "    </tr>\n",
       "    <tr>\n",
       "      <th>1</th>\n",
       "      <td>3</td>\n",
       "      <td>0.374408</td>\n",
       "      <td>0.528643</td>\n",
       "      <td>0.817461</td>\n",
       "      <td>0.001851</td>\n",
       "      <td>0.105880</td>\n",
       "      <td>0.461818</td>\n",
       "      <td>126.957</td>\n",
       "      <td>0.269240</td>\n",
       "    </tr>\n",
       "    <tr>\n",
       "      <th>2</th>\n",
       "      <td>5</td>\n",
       "      <td>0.043567</td>\n",
       "      <td>0.745566</td>\n",
       "      <td>0.701470</td>\n",
       "      <td>0.000697</td>\n",
       "      <td>0.373143</td>\n",
       "      <td>0.124595</td>\n",
       "      <td>100.260</td>\n",
       "      <td>0.621661</td>\n",
       "    </tr>\n",
       "    <tr>\n",
       "      <th>3</th>\n",
       "      <td>10</td>\n",
       "      <td>0.951670</td>\n",
       "      <td>0.658179</td>\n",
       "      <td>0.924525</td>\n",
       "      <td>0.965427</td>\n",
       "      <td>0.115474</td>\n",
       "      <td>0.032985</td>\n",
       "      <td>111.562</td>\n",
       "      <td>0.963590</td>\n",
       "    </tr>\n",
       "    <tr>\n",
       "      <th>4</th>\n",
       "      <td>134</td>\n",
       "      <td>0.452217</td>\n",
       "      <td>0.513238</td>\n",
       "      <td>0.560410</td>\n",
       "      <td>0.019443</td>\n",
       "      <td>0.096567</td>\n",
       "      <td>0.525519</td>\n",
       "      <td>114.290</td>\n",
       "      <td>0.894072</td>\n",
       "    </tr>\n",
       "  </tbody>\n",
       "</table>\n",
       "</div>"
      ],
      "text/plain": [
       "   track_id  acousticness  danceability    energy  instrumentalness  liveness  \\\n",
       "0         2      0.416675      0.675894  0.634476          0.010628  0.177647   \n",
       "1         3      0.374408      0.528643  0.817461          0.001851  0.105880   \n",
       "2         5      0.043567      0.745566  0.701470          0.000697  0.373143   \n",
       "3        10      0.951670      0.658179  0.924525          0.965427  0.115474   \n",
       "4       134      0.452217      0.513238  0.560410          0.019443  0.096567   \n",
       "\n",
       "   speechiness    tempo   valence  \n",
       "0     0.159310  165.922  0.576661  \n",
       "1     0.461818  126.957  0.269240  \n",
       "2     0.124595  100.260  0.621661  \n",
       "3     0.032985  111.562  0.963590  \n",
       "4     0.525519  114.290  0.894072  "
      ]
     },
     "execution_count": 10,
     "metadata": {},
     "output_type": "execute_result"
    }
   ],
   "source": [
    "echonest.head()"
   ]
  },
  {
   "cell_type": "code",
   "execution_count": 19,
   "id": "dfefdaa0",
   "metadata": {
    "ExecuteTime": {
     "end_time": "2022-08-16T14:10:21.354188Z",
     "start_time": "2022-08-16T14:10:21.307286Z"
    }
   },
   "outputs": [
    {
     "data": {
      "text/html": [
       "<div>\n",
       "<style scoped>\n",
       "    .dataframe tbody tr th:only-of-type {\n",
       "        vertical-align: middle;\n",
       "    }\n",
       "\n",
       "    .dataframe tbody tr th {\n",
       "        vertical-align: top;\n",
       "    }\n",
       "\n",
       "    .dataframe thead th {\n",
       "        text-align: right;\n",
       "    }\n",
       "</style>\n",
       "<table border=\"1\" class=\"dataframe\">\n",
       "  <thead>\n",
       "    <tr style=\"text-align: right;\">\n",
       "      <th></th>\n",
       "      <th>track_id</th>\n",
       "      <th>acousticness</th>\n",
       "      <th>danceability</th>\n",
       "      <th>energy</th>\n",
       "      <th>instrumentalness</th>\n",
       "      <th>liveness</th>\n",
       "      <th>speechiness</th>\n",
       "      <th>tempo</th>\n",
       "      <th>valence</th>\n",
       "      <th>genre_top</th>\n",
       "    </tr>\n",
       "  </thead>\n",
       "  <tbody>\n",
       "    <tr>\n",
       "      <th>0</th>\n",
       "      <td>2</td>\n",
       "      <td>0.416675</td>\n",
       "      <td>0.675894</td>\n",
       "      <td>0.634476</td>\n",
       "      <td>0.010628</td>\n",
       "      <td>0.177647</td>\n",
       "      <td>0.159310</td>\n",
       "      <td>165.922</td>\n",
       "      <td>0.576661</td>\n",
       "      <td>Hip-Hop</td>\n",
       "    </tr>\n",
       "    <tr>\n",
       "      <th>1</th>\n",
       "      <td>3</td>\n",
       "      <td>0.374408</td>\n",
       "      <td>0.528643</td>\n",
       "      <td>0.817461</td>\n",
       "      <td>0.001851</td>\n",
       "      <td>0.105880</td>\n",
       "      <td>0.461818</td>\n",
       "      <td>126.957</td>\n",
       "      <td>0.269240</td>\n",
       "      <td>Hip-Hop</td>\n",
       "    </tr>\n",
       "    <tr>\n",
       "      <th>2</th>\n",
       "      <td>5</td>\n",
       "      <td>0.043567</td>\n",
       "      <td>0.745566</td>\n",
       "      <td>0.701470</td>\n",
       "      <td>0.000697</td>\n",
       "      <td>0.373143</td>\n",
       "      <td>0.124595</td>\n",
       "      <td>100.260</td>\n",
       "      <td>0.621661</td>\n",
       "      <td>Hip-Hop</td>\n",
       "    </tr>\n",
       "    <tr>\n",
       "      <th>3</th>\n",
       "      <td>134</td>\n",
       "      <td>0.452217</td>\n",
       "      <td>0.513238</td>\n",
       "      <td>0.560410</td>\n",
       "      <td>0.019443</td>\n",
       "      <td>0.096567</td>\n",
       "      <td>0.525519</td>\n",
       "      <td>114.290</td>\n",
       "      <td>0.894072</td>\n",
       "      <td>Hip-Hop</td>\n",
       "    </tr>\n",
       "    <tr>\n",
       "      <th>4</th>\n",
       "      <td>153</td>\n",
       "      <td>0.988306</td>\n",
       "      <td>0.255661</td>\n",
       "      <td>0.979774</td>\n",
       "      <td>0.973006</td>\n",
       "      <td>0.121342</td>\n",
       "      <td>0.051740</td>\n",
       "      <td>90.241</td>\n",
       "      <td>0.034018</td>\n",
       "      <td>Rock</td>\n",
       "    </tr>\n",
       "  </tbody>\n",
       "</table>\n",
       "</div>"
      ],
      "text/plain": [
       "   track_id  acousticness  danceability    energy  instrumentalness  liveness  \\\n",
       "0         2      0.416675      0.675894  0.634476          0.010628  0.177647   \n",
       "1         3      0.374408      0.528643  0.817461          0.001851  0.105880   \n",
       "2         5      0.043567      0.745566  0.701470          0.000697  0.373143   \n",
       "3       134      0.452217      0.513238  0.560410          0.019443  0.096567   \n",
       "4       153      0.988306      0.255661  0.979774          0.973006  0.121342   \n",
       "\n",
       "   speechiness    tempo   valence genre_top  \n",
       "0     0.159310  165.922  0.576661   Hip-Hop  \n",
       "1     0.461818  126.957  0.269240   Hip-Hop  \n",
       "2     0.124595  100.260  0.621661   Hip-Hop  \n",
       "3     0.525519  114.290  0.894072   Hip-Hop  \n",
       "4     0.051740   90.241  0.034018      Rock  "
      ]
     },
     "execution_count": 19,
     "metadata": {},
     "output_type": "execute_result"
    }
   ],
   "source": [
    "#Merge the track_id and genre_top columns of tracks and echonest_metrics on track_id values\n",
    "echo_tracks = pd.merge(echonest, tracks[[\"track_id\", \"genre_top\"]],  on=\"track_id\")\n",
    "echo_tracks.head()"
   ]
  },
  {
   "cell_type": "code",
   "execution_count": 22,
   "id": "efc848cb",
   "metadata": {
    "ExecuteTime": {
     "end_time": "2022-08-16T14:21:18.453978Z",
     "start_time": "2022-08-16T14:21:18.432037Z"
    }
   },
   "outputs": [
    {
     "name": "stdout",
     "output_type": "stream",
     "text": [
      "<class 'pandas.core.frame.DataFrame'>\n",
      "Int64Index: 4802 entries, 0 to 4801\n",
      "Data columns (total 10 columns):\n",
      " #   Column            Non-Null Count  Dtype  \n",
      "---  ------            --------------  -----  \n",
      " 0   track_id          4802 non-null   int64  \n",
      " 1   acousticness      4802 non-null   float64\n",
      " 2   danceability      4802 non-null   float64\n",
      " 3   energy            4802 non-null   float64\n",
      " 4   instrumentalness  4802 non-null   float64\n",
      " 5   liveness          4802 non-null   float64\n",
      " 6   speechiness       4802 non-null   float64\n",
      " 7   tempo             4802 non-null   float64\n",
      " 8   valence           4802 non-null   float64\n",
      " 9   genre_top         4802 non-null   object \n",
      "dtypes: float64(8), int64(1), object(1)\n",
      "memory usage: 412.7+ KB\n"
     ]
    }
   ],
   "source": [
    "echo_tracks.info()"
   ]
  },
  {
   "cell_type": "code",
   "execution_count": 25,
   "id": "091fed79",
   "metadata": {
    "ExecuteTime": {
     "end_time": "2022-08-16T14:55:11.521236Z",
     "start_time": "2022-08-16T14:55:09.707795Z"
    }
   },
   "outputs": [
    {
     "data": {
      "text/html": [
       "<style type=\"text/css\">\n",
       "#T_22356_row0_col0, #T_22356_row1_col1, #T_22356_row2_col2, #T_22356_row3_col3, #T_22356_row4_col4, #T_22356_row5_col5, #T_22356_row6_col6, #T_22356_row7_col7, #T_22356_row8_col8 {\n",
       "  background-color: #023858;\n",
       "  color: #f1f1f1;\n",
       "}\n",
       "#T_22356_row0_col1, #T_22356_row1_col0, #T_22356_row1_col3, #T_22356_row2_col5, #T_22356_row2_col7, #T_22356_row4_col2, #T_22356_row4_col6, #T_22356_row4_col8, #T_22356_row6_col4 {\n",
       "  background-color: #fff7fb;\n",
       "  color: #000000;\n",
       "}\n",
       "#T_22356_row0_col2 {\n",
       "  background-color: #d2d2e7;\n",
       "  color: #000000;\n",
       "}\n",
       "#T_22356_row0_col3 {\n",
       "  background-color: #b5c4df;\n",
       "  color: #000000;\n",
       "}\n",
       "#T_22356_row0_col4 {\n",
       "  background-color: #f5eef6;\n",
       "  color: #000000;\n",
       "}\n",
       "#T_22356_row0_col5 {\n",
       "  background-color: #e9e5f1;\n",
       "  color: #000000;\n",
       "}\n",
       "#T_22356_row0_col6, #T_22356_row8_col3 {\n",
       "  background-color: #d1d2e6;\n",
       "  color: #000000;\n",
       "}\n",
       "#T_22356_row0_col7, #T_22356_row1_col7 {\n",
       "  background-color: #e1dfed;\n",
       "  color: #000000;\n",
       "}\n",
       "#T_22356_row0_col8, #T_22356_row3_col6 {\n",
       "  background-color: #dedcec;\n",
       "  color: #000000;\n",
       "}\n",
       "#T_22356_row1_col2 {\n",
       "  background-color: #e0dded;\n",
       "  color: #000000;\n",
       "}\n",
       "#T_22356_row1_col4, #T_22356_row4_col1 {\n",
       "  background-color: #97b7d7;\n",
       "  color: #000000;\n",
       "}\n",
       "#T_22356_row1_col5, #T_22356_row2_col4 {\n",
       "  background-color: #f3edf5;\n",
       "  color: #000000;\n",
       "}\n",
       "#T_22356_row1_col6, #T_22356_row6_col1 {\n",
       "  background-color: #b8c6e0;\n",
       "  color: #000000;\n",
       "}\n",
       "#T_22356_row1_col8 {\n",
       "  background-color: #e2dfee;\n",
       "  color: #000000;\n",
       "}\n",
       "#T_22356_row2_col0, #T_22356_row5_col0, #T_22356_row5_col3 {\n",
       "  background-color: #bdc8e1;\n",
       "  color: #000000;\n",
       "}\n",
       "#T_22356_row2_col1, #T_22356_row6_col0, #T_22356_row7_col0, #T_22356_row7_col1 {\n",
       "  background-color: #d0d1e6;\n",
       "  color: #000000;\n",
       "}\n",
       "#T_22356_row2_col3 {\n",
       "  background-color: #fbf3f9;\n",
       "  color: #000000;\n",
       "}\n",
       "#T_22356_row2_col6 {\n",
       "  background-color: #80aed2;\n",
       "  color: #f1f1f1;\n",
       "}\n",
       "#T_22356_row2_col8 {\n",
       "  background-color: #529bc7;\n",
       "  color: #f1f1f1;\n",
       "}\n",
       "#T_22356_row3_col0, #T_22356_row7_col3 {\n",
       "  background-color: #a7bddb;\n",
       "  color: #000000;\n",
       "}\n",
       "#T_22356_row3_col1 {\n",
       "  background-color: #f5eff6;\n",
       "  color: #000000;\n",
       "}\n",
       "#T_22356_row3_col2, #T_22356_row7_col2 {\n",
       "  background-color: #fef6fa;\n",
       "  color: #000000;\n",
       "}\n",
       "#T_22356_row3_col4 {\n",
       "  background-color: #c4cbe3;\n",
       "  color: #000000;\n",
       "}\n",
       "#T_22356_row3_col5, #T_22356_row5_col7 {\n",
       "  background-color: #dcdaeb;\n",
       "  color: #000000;\n",
       "}\n",
       "#T_22356_row3_col7 {\n",
       "  background-color: #adc1dd;\n",
       "  color: #000000;\n",
       "}\n",
       "#T_22356_row3_col8, #T_22356_row4_col7 {\n",
       "  background-color: #d9d8ea;\n",
       "  color: #000000;\n",
       "}\n",
       "#T_22356_row4_col0 {\n",
       "  background-color: #f4eef6;\n",
       "  color: #000000;\n",
       "}\n",
       "#T_22356_row4_col3 {\n",
       "  background-color: #d2d3e7;\n",
       "  color: #000000;\n",
       "}\n",
       "#T_22356_row4_col5 {\n",
       "  background-color: #fdf5fa;\n",
       "  color: #000000;\n",
       "}\n",
       "#T_22356_row5_col1 {\n",
       "  background-color: #ced0e6;\n",
       "  color: #000000;\n",
       "}\n",
       "#T_22356_row5_col2 {\n",
       "  background-color: #ede8f3;\n",
       "  color: #000000;\n",
       "}\n",
       "#T_22356_row5_col4, #T_22356_row6_col7 {\n",
       "  background-color: #dbdaeb;\n",
       "  color: #000000;\n",
       "}\n",
       "#T_22356_row5_col6 {\n",
       "  background-color: #c0c9e2;\n",
       "  color: #000000;\n",
       "}\n",
       "#T_22356_row5_col8 {\n",
       "  background-color: #e8e4f0;\n",
       "  color: #000000;\n",
       "}\n",
       "#T_22356_row6_col2 {\n",
       "  background-color: #93b5d6;\n",
       "  color: #000000;\n",
       "}\n",
       "#T_22356_row6_col3, #T_22356_row6_col5 {\n",
       "  background-color: #eae6f1;\n",
       "  color: #000000;\n",
       "}\n",
       "#T_22356_row6_col8 {\n",
       "  background-color: #bfc9e1;\n",
       "  color: #000000;\n",
       "}\n",
       "#T_22356_row7_col4 {\n",
       "  background-color: #c5cce3;\n",
       "  color: #000000;\n",
       "}\n",
       "#T_22356_row7_col5 {\n",
       "  background-color: #f0eaf4;\n",
       "  color: #000000;\n",
       "}\n",
       "#T_22356_row7_col6 {\n",
       "  background-color: #c8cde4;\n",
       "  color: #000000;\n",
       "}\n",
       "#T_22356_row7_col8 {\n",
       "  background-color: #d6d6e9;\n",
       "  color: #000000;\n",
       "}\n",
       "#T_22356_row8_col0 {\n",
       "  background-color: #c6cce3;\n",
       "  color: #000000;\n",
       "}\n",
       "#T_22356_row8_col1 {\n",
       "  background-color: #cdd0e5;\n",
       "  color: #000000;\n",
       "}\n",
       "#T_22356_row8_col2 {\n",
       "  background-color: #4c99c5;\n",
       "  color: #f1f1f1;\n",
       "}\n",
       "#T_22356_row8_col4 {\n",
       "  background-color: #efe9f3;\n",
       "  color: #000000;\n",
       "}\n",
       "#T_22356_row8_col5 {\n",
       "  background-color: #f7f0f7;\n",
       "  color: #000000;\n",
       "}\n",
       "#T_22356_row8_col6 {\n",
       "  background-color: #a5bddb;\n",
       "  color: #000000;\n",
       "}\n",
       "#T_22356_row8_col7 {\n",
       "  background-color: #d3d4e7;\n",
       "  color: #000000;\n",
       "}\n",
       "</style>\n",
       "<table id=\"T_22356\">\n",
       "  <thead>\n",
       "    <tr>\n",
       "      <th class=\"blank level0\" >&nbsp;</th>\n",
       "      <th id=\"T_22356_level0_col0\" class=\"col_heading level0 col0\" >track_id</th>\n",
       "      <th id=\"T_22356_level0_col1\" class=\"col_heading level0 col1\" >acousticness</th>\n",
       "      <th id=\"T_22356_level0_col2\" class=\"col_heading level0 col2\" >danceability</th>\n",
       "      <th id=\"T_22356_level0_col3\" class=\"col_heading level0 col3\" >energy</th>\n",
       "      <th id=\"T_22356_level0_col4\" class=\"col_heading level0 col4\" >instrumentalness</th>\n",
       "      <th id=\"T_22356_level0_col5\" class=\"col_heading level0 col5\" >liveness</th>\n",
       "      <th id=\"T_22356_level0_col6\" class=\"col_heading level0 col6\" >speechiness</th>\n",
       "      <th id=\"T_22356_level0_col7\" class=\"col_heading level0 col7\" >tempo</th>\n",
       "      <th id=\"T_22356_level0_col8\" class=\"col_heading level0 col8\" >valence</th>\n",
       "    </tr>\n",
       "  </thead>\n",
       "  <tbody>\n",
       "    <tr>\n",
       "      <th id=\"T_22356_level0_row0\" class=\"row_heading level0 row0\" >track_id</th>\n",
       "      <td id=\"T_22356_row0_col0\" class=\"data row0 col0\" >1.000000</td>\n",
       "      <td id=\"T_22356_row0_col1\" class=\"data row0 col1\" >-0.372282</td>\n",
       "      <td id=\"T_22356_row0_col2\" class=\"data row0 col2\" >0.049454</td>\n",
       "      <td id=\"T_22356_row0_col3\" class=\"data row0 col3\" >0.140703</td>\n",
       "      <td id=\"T_22356_row0_col4\" class=\"data row0 col4\" >-0.275623</td>\n",
       "      <td id=\"T_22356_row0_col5\" class=\"data row0 col5\" >0.048231</td>\n",
       "      <td id=\"T_22356_row0_col6\" class=\"data row0 col6\" >-0.026995</td>\n",
       "      <td id=\"T_22356_row0_col7\" class=\"data row0 col7\" >-0.025392</td>\n",
       "      <td id=\"T_22356_row0_col8\" class=\"data row0 col8\" >0.010070</td>\n",
       "    </tr>\n",
       "    <tr>\n",
       "      <th id=\"T_22356_level0_row1\" class=\"row_heading level0 row1\" >acousticness</th>\n",
       "      <td id=\"T_22356_row1_col0\" class=\"data row1 col0\" >-0.372282</td>\n",
       "      <td id=\"T_22356_row1_col1\" class=\"data row1 col1\" >1.000000</td>\n",
       "      <td id=\"T_22356_row1_col2\" class=\"data row1 col2\" >-0.028954</td>\n",
       "      <td id=\"T_22356_row1_col3\" class=\"data row1 col3\" >-0.281619</td>\n",
       "      <td id=\"T_22356_row1_col4\" class=\"data row1 col4\" >0.194780</td>\n",
       "      <td id=\"T_22356_row1_col5\" class=\"data row1 col5\" >-0.019991</td>\n",
       "      <td id=\"T_22356_row1_col6\" class=\"data row1 col6\" >0.072204</td>\n",
       "      <td id=\"T_22356_row1_col7\" class=\"data row1 col7\" >-0.026310</td>\n",
       "      <td id=\"T_22356_row1_col8\" class=\"data row1 col8\" >-0.013841</td>\n",
       "    </tr>\n",
       "    <tr>\n",
       "      <th id=\"T_22356_level0_row2\" class=\"row_heading level0 row2\" >danceability</th>\n",
       "      <td id=\"T_22356_row2_col0\" class=\"data row2 col0\" >0.049454</td>\n",
       "      <td id=\"T_22356_row2_col1\" class=\"data row2 col1\" >-0.028954</td>\n",
       "      <td id=\"T_22356_row2_col2\" class=\"data row2 col2\" >1.000000</td>\n",
       "      <td id=\"T_22356_row2_col3\" class=\"data row2 col3\" >-0.242032</td>\n",
       "      <td id=\"T_22356_row2_col4\" class=\"data row2 col4\" >-0.255217</td>\n",
       "      <td id=\"T_22356_row2_col5\" class=\"data row2 col5\" >-0.106584</td>\n",
       "      <td id=\"T_22356_row2_col6\" class=\"data row2 col6\" >0.276206</td>\n",
       "      <td id=\"T_22356_row2_col7\" class=\"data row2 col7\" >-0.242089</td>\n",
       "      <td id=\"T_22356_row2_col8\" class=\"data row2 col8\" >0.473165</td>\n",
       "    </tr>\n",
       "    <tr>\n",
       "      <th id=\"T_22356_level0_row3\" class=\"row_heading level0 row3\" >energy</th>\n",
       "      <td id=\"T_22356_row3_col0\" class=\"data row3 col0\" >0.140703</td>\n",
       "      <td id=\"T_22356_row3_col1\" class=\"data row3 col1\" >-0.281619</td>\n",
       "      <td id=\"T_22356_row3_col2\" class=\"data row3 col2\" >-0.242032</td>\n",
       "      <td id=\"T_22356_row3_col3\" class=\"data row3 col3\" >1.000000</td>\n",
       "      <td id=\"T_22356_row3_col4\" class=\"data row3 col4\" >0.028238</td>\n",
       "      <td id=\"T_22356_row3_col5\" class=\"data row3 col5\" >0.113331</td>\n",
       "      <td id=\"T_22356_row3_col6\" class=\"data row3 col6\" >-0.109983</td>\n",
       "      <td id=\"T_22356_row3_col7\" class=\"data row3 col7\" >0.195227</td>\n",
       "      <td id=\"T_22356_row3_col8\" class=\"data row3 col8\" >0.038603</td>\n",
       "    </tr>\n",
       "    <tr>\n",
       "      <th id=\"T_22356_level0_row4\" class=\"row_heading level0 row4\" >instrumentalness</th>\n",
       "      <td id=\"T_22356_row4_col0\" class=\"data row4 col0\" >-0.275623</td>\n",
       "      <td id=\"T_22356_row4_col1\" class=\"data row4 col1\" >0.194780</td>\n",
       "      <td id=\"T_22356_row4_col2\" class=\"data row4 col2\" >-0.255217</td>\n",
       "      <td id=\"T_22356_row4_col3\" class=\"data row4 col3\" >0.028238</td>\n",
       "      <td id=\"T_22356_row4_col4\" class=\"data row4 col4\" >1.000000</td>\n",
       "      <td id=\"T_22356_row4_col5\" class=\"data row4 col5\" >-0.091022</td>\n",
       "      <td id=\"T_22356_row4_col6\" class=\"data row4 col6\" >-0.366762</td>\n",
       "      <td id=\"T_22356_row4_col7\" class=\"data row4 col7\" >0.022215</td>\n",
       "      <td id=\"T_22356_row4_col8\" class=\"data row4 col8\" >-0.219967</td>\n",
       "    </tr>\n",
       "    <tr>\n",
       "      <th id=\"T_22356_level0_row5\" class=\"row_heading level0 row5\" >liveness</th>\n",
       "      <td id=\"T_22356_row5_col0\" class=\"data row5 col0\" >0.048231</td>\n",
       "      <td id=\"T_22356_row5_col1\" class=\"data row5 col1\" >-0.019991</td>\n",
       "      <td id=\"T_22356_row5_col2\" class=\"data row5 col2\" >-0.106584</td>\n",
       "      <td id=\"T_22356_row5_col3\" class=\"data row5 col3\" >0.113331</td>\n",
       "      <td id=\"T_22356_row5_col4\" class=\"data row5 col4\" >-0.091022</td>\n",
       "      <td id=\"T_22356_row5_col5\" class=\"data row5 col5\" >1.000000</td>\n",
       "      <td id=\"T_22356_row5_col6\" class=\"data row5 col6\" >0.041173</td>\n",
       "      <td id=\"T_22356_row5_col7\" class=\"data row5 col7\" >0.002732</td>\n",
       "      <td id=\"T_22356_row5_col8\" class=\"data row5 col8\" >-0.045093</td>\n",
       "    </tr>\n",
       "    <tr>\n",
       "      <th id=\"T_22356_level0_row6\" class=\"row_heading level0 row6\" >speechiness</th>\n",
       "      <td id=\"T_22356_row6_col0\" class=\"data row6 col0\" >-0.026995</td>\n",
       "      <td id=\"T_22356_row6_col1\" class=\"data row6 col1\" >0.072204</td>\n",
       "      <td id=\"T_22356_row6_col2\" class=\"data row6 col2\" >0.276206</td>\n",
       "      <td id=\"T_22356_row6_col3\" class=\"data row6 col3\" >-0.109983</td>\n",
       "      <td id=\"T_22356_row6_col4\" class=\"data row6 col4\" >-0.366762</td>\n",
       "      <td id=\"T_22356_row6_col5\" class=\"data row6 col5\" >0.041173</td>\n",
       "      <td id=\"T_22356_row6_col6\" class=\"data row6 col6\" >1.000000</td>\n",
       "      <td id=\"T_22356_row6_col7\" class=\"data row6 col7\" >0.008241</td>\n",
       "      <td id=\"T_22356_row6_col8\" class=\"data row6 col8\" >0.149894</td>\n",
       "    </tr>\n",
       "    <tr>\n",
       "      <th id=\"T_22356_level0_row7\" class=\"row_heading level0 row7\" >tempo</th>\n",
       "      <td id=\"T_22356_row7_col0\" class=\"data row7 col0\" >-0.025392</td>\n",
       "      <td id=\"T_22356_row7_col1\" class=\"data row7 col1\" >-0.026310</td>\n",
       "      <td id=\"T_22356_row7_col2\" class=\"data row7 col2\" >-0.242089</td>\n",
       "      <td id=\"T_22356_row7_col3\" class=\"data row7 col3\" >0.195227</td>\n",
       "      <td id=\"T_22356_row7_col4\" class=\"data row7 col4\" >0.022215</td>\n",
       "      <td id=\"T_22356_row7_col5\" class=\"data row7 col5\" >0.002732</td>\n",
       "      <td id=\"T_22356_row7_col6\" class=\"data row7 col6\" >0.008241</td>\n",
       "      <td id=\"T_22356_row7_col7\" class=\"data row7 col7\" >1.000000</td>\n",
       "      <td id=\"T_22356_row7_col8\" class=\"data row7 col8\" >0.052221</td>\n",
       "    </tr>\n",
       "    <tr>\n",
       "      <th id=\"T_22356_level0_row8\" class=\"row_heading level0 row8\" >valence</th>\n",
       "      <td id=\"T_22356_row8_col0\" class=\"data row8 col0\" >0.010070</td>\n",
       "      <td id=\"T_22356_row8_col1\" class=\"data row8 col1\" >-0.013841</td>\n",
       "      <td id=\"T_22356_row8_col2\" class=\"data row8 col2\" >0.473165</td>\n",
       "      <td id=\"T_22356_row8_col3\" class=\"data row8 col3\" >0.038603</td>\n",
       "      <td id=\"T_22356_row8_col4\" class=\"data row8 col4\" >-0.219967</td>\n",
       "      <td id=\"T_22356_row8_col5\" class=\"data row8 col5\" >-0.045093</td>\n",
       "      <td id=\"T_22356_row8_col6\" class=\"data row8 col6\" >0.149894</td>\n",
       "      <td id=\"T_22356_row8_col7\" class=\"data row8 col7\" >0.052221</td>\n",
       "      <td id=\"T_22356_row8_col8\" class=\"data row8 col8\" >1.000000</td>\n",
       "    </tr>\n",
       "  </tbody>\n",
       "</table>\n"
      ],
      "text/plain": [
       "<pandas.io.formats.style.Styler at 0x2c9e523b430>"
      ]
     },
     "execution_count": 25,
     "metadata": {},
     "output_type": "execute_result"
    }
   ],
   "source": [
    "#Create corelation matrix\n",
    "corr_metrics = echo_tracks.corr()\n",
    "corr_metrics.style.background_gradient()"
   ]
  },
  {
   "cell_type": "markdown",
   "id": "7de2a067",
   "metadata": {},
   "source": [
    "NORMALIZING THE FEATURES DATA"
   ]
  },
  {
   "cell_type": "code",
   "execution_count": 41,
   "id": "400464d0",
   "metadata": {
    "ExecuteTime": {
     "end_time": "2022-08-16T15:33:58.146806Z",
     "start_time": "2022-08-16T15:33:58.111898Z"
    },
    "scrolled": true
   },
   "outputs": [
    {
     "data": {
      "text/html": [
       "<div>\n",
       "<style scoped>\n",
       "    .dataframe tbody tr th:only-of-type {\n",
       "        vertical-align: middle;\n",
       "    }\n",
       "\n",
       "    .dataframe tbody tr th {\n",
       "        vertical-align: top;\n",
       "    }\n",
       "\n",
       "    .dataframe thead th {\n",
       "        text-align: right;\n",
       "    }\n",
       "</style>\n",
       "<table border=\"1\" class=\"dataframe\">\n",
       "  <thead>\n",
       "    <tr style=\"text-align: right;\">\n",
       "      <th></th>\n",
       "      <th>0</th>\n",
       "      <th>1</th>\n",
       "      <th>2</th>\n",
       "      <th>3</th>\n",
       "      <th>4</th>\n",
       "      <th>5</th>\n",
       "      <th>6</th>\n",
       "      <th>7</th>\n",
       "    </tr>\n",
       "  </thead>\n",
       "  <tbody>\n",
       "    <tr>\n",
       "      <th>0</th>\n",
       "      <td>-0.191210</td>\n",
       "      <td>1.304420</td>\n",
       "      <td>0.038316</td>\n",
       "      <td>-1.576494</td>\n",
       "      <td>-0.068755</td>\n",
       "      <td>0.373034</td>\n",
       "      <td>1.153979</td>\n",
       "      <td>0.462287</td>\n",
       "    </tr>\n",
       "    <tr>\n",
       "      <th>1</th>\n",
       "      <td>-0.306036</td>\n",
       "      <td>0.501886</td>\n",
       "      <td>0.788176</td>\n",
       "      <td>-1.599809</td>\n",
       "      <td>-0.545463</td>\n",
       "      <td>2.446155</td>\n",
       "      <td>0.007914</td>\n",
       "      <td>-0.690811</td>\n",
       "    </tr>\n",
       "    <tr>\n",
       "      <th>2</th>\n",
       "      <td>-1.204813</td>\n",
       "      <td>1.684139</td>\n",
       "      <td>0.312852</td>\n",
       "      <td>-1.602876</td>\n",
       "      <td>1.229828</td>\n",
       "      <td>0.135130</td>\n",
       "      <td>-0.777317</td>\n",
       "      <td>0.631077</td>\n",
       "    </tr>\n",
       "    <tr>\n",
       "      <th>3</th>\n",
       "      <td>-0.094655</td>\n",
       "      <td>0.417927</td>\n",
       "      <td>-0.265203</td>\n",
       "      <td>-1.553079</td>\n",
       "      <td>-0.607326</td>\n",
       "      <td>2.882707</td>\n",
       "      <td>-0.364657</td>\n",
       "      <td>1.652859</td>\n",
       "    </tr>\n",
       "    <tr>\n",
       "      <th>4</th>\n",
       "      <td>1.361706</td>\n",
       "      <td>-0.985896</td>\n",
       "      <td>1.453323</td>\n",
       "      <td>0.979975</td>\n",
       "      <td>-0.442757</td>\n",
       "      <td>-0.364157</td>\n",
       "      <td>-1.072003</td>\n",
       "      <td>-1.573102</td>\n",
       "    </tr>\n",
       "  </tbody>\n",
       "</table>\n",
       "</div>"
      ],
      "text/plain": [
       "          0         1         2         3         4         5         6  \\\n",
       "0 -0.191210  1.304420  0.038316 -1.576494 -0.068755  0.373034  1.153979   \n",
       "1 -0.306036  0.501886  0.788176 -1.599809 -0.545463  2.446155  0.007914   \n",
       "2 -1.204813  1.684139  0.312852 -1.602876  1.229828  0.135130 -0.777317   \n",
       "3 -0.094655  0.417927 -0.265203 -1.553079 -0.607326  2.882707 -0.364657   \n",
       "4  1.361706 -0.985896  1.453323  0.979975 -0.442757 -0.364157 -1.072003   \n",
       "\n",
       "          7  \n",
       "0  0.462287  \n",
       "1 -0.690811  \n",
       "2  0.631077  \n",
       "3  1.652859  \n",
       "4 -1.573102  "
      ]
     },
     "execution_count": 41,
     "metadata": {},
     "output_type": "execute_result"
    }
   ],
   "source": [
    "features = echo_tracks.drop(['genre_top', 'track_id'], axis=1)\n",
    "labels = echo_tracks['genre_top']\n",
    "scaler = StandardScaler()\n",
    "scaler_features =scaler.fit_transform(features)\n",
    "pd.DataFrame(scaler_features).head()"
   ]
  },
  {
   "cell_type": "markdown",
   "id": "084ccba9",
   "metadata": {
    "ExecuteTime": {
     "end_time": "2022-08-16T15:31:53.254771Z",
     "start_time": "2022-08-16T15:31:53.219200Z"
    }
   },
   "source": [
    "PRINCIPAL COMPONENT ANALYSIS ON SCALED DATA"
   ]
  },
  {
   "cell_type": "code",
   "execution_count": 48,
   "id": "1c330347",
   "metadata": {
    "ExecuteTime": {
     "end_time": "2022-08-16T15:48:08.003170Z",
     "start_time": "2022-08-16T15:48:07.989210Z"
    }
   },
   "outputs": [],
   "source": [
    "pca = PCA()\n",
    "pca.fit(scaler_features)\n",
    "exp_variance = pca.explained_variance_ratio_"
   ]
  },
  {
   "cell_type": "code",
   "execution_count": 49,
   "id": "7610aba1",
   "metadata": {
    "ExecuteTime": {
     "end_time": "2022-08-16T15:49:30.931486Z",
     "start_time": "2022-08-16T15:49:30.922509Z"
    }
   },
   "outputs": [
    {
     "name": "stdout",
     "output_type": "stream",
     "text": [
      "Explained variance ratio : \n",
      "[0.24297674 0.18044316 0.13650309 0.12994089 0.11056248 0.08302245\n",
      " 0.06923783 0.04731336]\n",
      "\n",
      "\n",
      "Number of components = 8\n"
     ]
    }
   ],
   "source": [
    "print(\"Explained variance ratio : \\n{}\".format(pca.explained_variance_ratio_))\n",
    "print(\"\\n\")\n",
    "print(\"Number of components = {}\".format(pca.n_components_))"
   ]
  },
  {
   "cell_type": "code",
   "execution_count": 57,
   "id": "ae93e9e6",
   "metadata": {
    "ExecuteTime": {
     "end_time": "2022-08-17T08:55:35.839123Z",
     "start_time": "2022-08-17T08:55:35.398476Z"
    },
    "scrolled": true
   },
   "outputs": [
    {
     "data": {
      "text/plain": [
       "Text(0.5, 0, 'Principal Component #')"
      ]
     },
     "execution_count": 57,
     "metadata": {},
     "output_type": "execute_result"
    },
    {
     "data": {
      "image/png": "[encoded data removed]",
      "text/plain": [
       "<Figure size 432x288 with 1 Axes>"
      ]
     },
     "metadata": {
      "needs_background": "light"
     },
     "output_type": "display_data"
    }
   ],
   "source": [
    "# plot the explained variance using a barplot\n",
    "fig, ax = plt.subplots()\n",
    "ax.bar(range(8), exp_variance)\n",
    "ax.set_xlabel('Principal Component #')"
   ]
  },
  {
   "cell_type": "code",
   "execution_count": 72,
   "id": "6810d318",
   "metadata": {
    "ExecuteTime": {
     "end_time": "2022-08-17T16:04:08.943108Z",
     "start_time": "2022-08-17T16:04:08.669075Z"
    }
   },
   "outputs": [
    {
     "data": {
      "text/plain": [
       "<matplotlib.lines.Line2D at 0x2c9fcc91060>"
      ]
     },
     "execution_count": 72,
     "metadata": {},
     "output_type": "execute_result"
    },
    {
     "data": {
      "image/png": "[encoded data removed]",
      "text/plain": [
       "<Figure size 432x288 with 1 Axes>"
      ]
     },
     "metadata": {
      "needs_background": "light"
     },
     "output_type": "display_data"
    }
   ],
   "source": [
    "cum_exp_variance = np.cumsum(exp_variance) #calculate the cumulative explained variance\n",
    "\n",
    "fig, ax = plt.subplots()\n",
    "ax.plot(cum_exp_variance)\n",
    "ax.axhline(y=0.90, linestyle='--') #for considering features needed to explain 90% of the variance"
   ]
  },
  {
   "cell_type": "code",
   "execution_count": 74,
   "id": "f03db0e3",
   "metadata": {
    "ExecuteTime": {
     "end_time": "2022-08-17T16:07:24.969242Z",
     "start_time": "2022-08-17T16:07:24.963256Z"
    }
   },
   "outputs": [],
   "source": [
    "n_components = 6"
   ]
  },
  {
   "cell_type": "code",
   "execution_count": 90,
   "id": "5bd6f79d",
   "metadata": {
    "ExecuteTime": {
     "end_time": "2022-08-20T11:44:10.141881Z",
     "start_time": "2022-08-20T11:44:07.167887Z"
    }
   },
   "outputs": [
    {
     "data": {
      "text/plain": [
       "(4802, 6)"
      ]
     },
     "execution_count": 90,
     "metadata": {},
     "output_type": "execute_result"
    }
   ],
   "source": [
    "# Perform PCA with the chosen number of components and project data onto components\n",
    "pca = PCA(n_components, random_state=10)\n",
    "pca.fit(scaler_features)\n",
    "pca_projection = pca.transform(scaler_features)\n",
    "pca_projection.shape"
   ]
  },
  {
   "cell_type": "code",
   "execution_count": 97,
   "id": "8309f4b8",
   "metadata": {
    "ExecuteTime": {
     "end_time": "2022-08-20T12:00:45.993872Z",
     "start_time": "2022-08-20T12:00:45.309365Z"
    }
   },
   "outputs": [],
   "source": [
    "#Import train_test_split function \n",
    "from sklearn.model_selection import train_test_split\n",
    "X_train, X_test, y_train, y_test = train_test_split(pca_projection, labels, random_state=10)"
   ]
  },
  {
   "cell_type": "code",
   "execution_count": 98,
   "id": "d3dc83c9",
   "metadata": {
    "ExecuteTime": {
     "end_time": "2022-08-20T12:00:48.899879Z",
     "start_time": "2022-08-20T12:00:48.193946Z"
    }
   },
   "outputs": [
    {
     "data": {
      "text/html": [
       "<style>#sk-container-id-1 {color: black;background-color: white;}#sk-container-id-1 pre{padding: 0;}#sk-container-id-1 div.sk-toggleable {background-color: white;}#sk-container-id-1 label.sk-toggleable__label {cursor: pointer;display: block;width: 100%;margin-bottom: 0;padding: 0.3em;box-sizing: border-box;text-align: center;}#sk-container-id-1 label.sk-toggleable__label-arrow:before {content: \"▸\";float: left;margin-right: 0.25em;color: #696969;}#sk-container-id-1 label.sk-toggleable__label-arrow:hover:before {color: black;}#sk-container-id-1 div.sk-estimator:hover label.sk-toggleable__label-arrow:before {color: black;}#sk-container-id-1 div.sk-toggleable__content {max-height: 0;max-width: 0;overflow: hidden;text-align: left;background-color: #f0f8ff;}#sk-container-id-1 div.sk-toggleable__content pre {margin: 0.2em;color: black;border-radius: 0.25em;background-color: #f0f8ff;}#sk-container-id-1 input.sk-toggleable__control:checked~div.sk-toggleable__content {max-height: 200px;max-width: 100%;overflow: auto;}#sk-container-id-1 input.sk-toggleable__control:checked~label.sk-toggleable__label-arrow:before {content: \"▾\";}#sk-container-id-1 div.sk-estimator input.sk-toggleable__control:checked~label.sk-toggleable__label {background-color: #d4ebff;}#sk-container-id-1 div.sk-label input.sk-toggleable__control:checked~label.sk-toggleable__label {background-color: #d4ebff;}#sk-container-id-1 input.sk-hidden--visually {border: 0;clip: rect(1px 1px 1px 1px);clip: rect(1px, 1px, 1px, 1px);height: 1px;margin: -1px;overflow: hidden;padding: 0;position: absolute;width: 1px;}#sk-container-id-1 div.sk-estimator {font-family: monospace;background-color: #f0f8ff;border: 1px dotted black;border-radius: 0.25em;box-sizing: border-box;margin-bottom: 0.5em;}#sk-container-id-1 div.sk-estimator:hover {background-color: #d4ebff;}#sk-container-id-1 div.sk-parallel-item::after {content: \"\";width: 100%;border-bottom: 1px solid gray;flex-grow: 1;}#sk-container-id-1 div.sk-label:hover label.sk-toggleable__label {background-color: #d4ebff;}#sk-container-id-1 div.sk-serial::before {content: \"\";position: absolute;border-left: 1px solid gray;box-sizing: border-box;top: 0;bottom: 0;left: 50%;z-index: 0;}#sk-container-id-1 div.sk-serial {display: flex;flex-direction: column;align-items: center;background-color: white;padding-right: 0.2em;padding-left: 0.2em;position: relative;}#sk-container-id-1 div.sk-item {position: relative;z-index: 1;}#sk-container-id-1 div.sk-parallel {display: flex;align-items: stretch;justify-content: center;background-color: white;position: relative;}#sk-container-id-1 div.sk-item::before, #sk-container-id-1 div.sk-parallel-item::before {content: \"\";position: absolute;border-left: 1px solid gray;box-sizing: border-box;top: 0;bottom: 0;left: 50%;z-index: -1;}#sk-container-id-1 div.sk-parallel-item {display: flex;flex-direction: column;z-index: 1;position: relative;background-color: white;}#sk-container-id-1 div.sk-parallel-item:first-child::after {align-self: flex-end;width: 50%;}#sk-container-id-1 div.sk-parallel-item:last-child::after {align-self: flex-start;width: 50%;}#sk-container-id-1 div.sk-parallel-item:only-child::after {width: 0;}#sk-container-id-1 div.sk-dashed-wrapped {border: 1px dashed gray;margin: 0 0.4em 0.5em 0.4em;box-sizing: border-box;padding-bottom: 0.4em;background-color: white;}#sk-container-id-1 div.sk-label label {font-family: monospace;font-weight: bold;display: inline-block;line-height: 1.2em;}#sk-container-id-1 div.sk-label-container {text-align: center;}#sk-container-id-1 div.sk-container {/* jupyter's `normalize.less` sets `[hidden] { display: none; }` but bootstrap.min.css set `[hidden] { display: none !important; }` so we also need the `!important` here to be able to override the default hidden behavior on the sphinx rendered scikit-learn.org. See: https://github.com/scikit-learn/scikit-learn/issues/21755 */display: inline-block !important;position: relative;}#sk-container-id-1 div.sk-text-repr-fallback {display: none;}</style><div id=\"sk-container-id-1\" class=\"sk-top-container\"><div class=\"sk-text-repr-fallback\"><pre>DecisionTreeClassifier(random_state=10)</pre><b>In a Jupyter environment, please rerun this cell to show the HTML representation or trust the notebook. <br />On GitHub, the HTML representation is unable to render, please try loading this page with nbviewer.org.</b></div><div class=\"sk-container\" hidden><div class=\"sk-item\"><div class=\"sk-estimator sk-toggleable\"><input class=\"sk-toggleable__control sk-hidden--visually\" id=\"sk-estimator-id-1\" type=\"checkbox\" checked><label for=\"sk-estimator-id-1\" class=\"sk-toggleable__label sk-toggleable__label-arrow\">DecisionTreeClassifier</label><div class=\"sk-toggleable__content\"><pre>DecisionTreeClassifier(random_state=10)</pre></div></div></div></div></div>"
      ],
      "text/plain": [
       "DecisionTreeClassifier(random_state=10)"
      ]
     },
     "execution_count": 98,
     "metadata": {},
     "output_type": "execute_result"
    }
   ],
   "source": [
    "#Import Decision tree classifier and train our decision tree\n",
    "from sklearn.tree import DecisionTreeClassifier\n",
    "tree = DecisionTreeClassifier(random_state=10)\n",
    "tree.fit(X_train, y_train)"
   ]
  },
  {
   "cell_type": "code",
   "execution_count": 104,
   "id": "07b9cfb6",
   "metadata": {
    "ExecuteTime": {
     "end_time": "2022-08-20T12:05:52.950000Z",
     "start_time": "2022-08-20T12:05:52.774687Z"
    }
   },
   "outputs": [
    {
     "name": "stdout",
     "output_type": "stream",
     "text": [
      "Decision Tree Classifier: 0.8434637801831807\n"
     ]
    }
   ],
   "source": [
    "#Predict the labels for the test data\n",
    "pred_tree = tree.predict(X_test)\n",
    "print(\"Decision Tree Classifier:\", tree.score(X_test, y_test))"
   ]
  },
  {
   "cell_type": "code",
   "execution_count": 111,
   "id": "d2edb304",
   "metadata": {
    "ExecuteTime": {
     "end_time": "2022-08-20T12:10:49.966415Z",
     "start_time": "2022-08-20T12:10:49.335243Z"
    }
   },
   "outputs": [
    {
     "data": {
      "text/html": [
       "<style>#sk-container-id-2 {color: black;background-color: white;}#sk-container-id-2 pre{padding: 0;}#sk-container-id-2 div.sk-toggleable {background-color: white;}#sk-container-id-2 label.sk-toggleable__label {cursor: pointer;display: block;width: 100%;margin-bottom: 0;padding: 0.3em;box-sizing: border-box;text-align: center;}#sk-container-id-2 label.sk-toggleable__label-arrow:before {content: \"▸\";float: left;margin-right: 0.25em;color: #696969;}#sk-container-id-2 label.sk-toggleable__label-arrow:hover:before {color: black;}#sk-container-id-2 div.sk-estimator:hover label.sk-toggleable__label-arrow:before {color: black;}#sk-container-id-2 div.sk-toggleable__content {max-height: 0;max-width: 0;overflow: hidden;text-align: left;background-color: #f0f8ff;}#sk-container-id-2 div.sk-toggleable__content pre {margin: 0.2em;color: black;border-radius: 0.25em;background-color: #f0f8ff;}#sk-container-id-2 input.sk-toggleable__control:checked~div.sk-toggleable__content {max-height: 200px;max-width: 100%;overflow: auto;}#sk-container-id-2 input.sk-toggleable__control:checked~label.sk-toggleable__label-arrow:before {content: \"▾\";}#sk-container-id-2 div.sk-estimator input.sk-toggleable__control:checked~label.sk-toggleable__label {background-color: #d4ebff;}#sk-container-id-2 div.sk-label input.sk-toggleable__control:checked~label.sk-toggleable__label {background-color: #d4ebff;}#sk-container-id-2 input.sk-hidden--visually {border: 0;clip: rect(1px 1px 1px 1px);clip: rect(1px, 1px, 1px, 1px);height: 1px;margin: -1px;overflow: hidden;padding: 0;position: absolute;width: 1px;}#sk-container-id-2 div.sk-estimator {font-family: monospace;background-color: #f0f8ff;border: 1px dotted black;border-radius: 0.25em;box-sizing: border-box;margin-bottom: 0.5em;}#sk-container-id-2 div.sk-estimator:hover {background-color: #d4ebff;}#sk-container-id-2 div.sk-parallel-item::after {content: \"\";width: 100%;border-bottom: 1px solid gray;flex-grow: 1;}#sk-container-id-2 div.sk-label:hover label.sk-toggleable__label {background-color: #d4ebff;}#sk-container-id-2 div.sk-serial::before {content: \"\";position: absolute;border-left: 1px solid gray;box-sizing: border-box;top: 0;bottom: 0;left: 50%;z-index: 0;}#sk-container-id-2 div.sk-serial {display: flex;flex-direction: column;align-items: center;background-color: white;padding-right: 0.2em;padding-left: 0.2em;position: relative;}#sk-container-id-2 div.sk-item {position: relative;z-index: 1;}#sk-container-id-2 div.sk-parallel {display: flex;align-items: stretch;justify-content: center;background-color: white;position: relative;}#sk-container-id-2 div.sk-item::before, #sk-container-id-2 div.sk-parallel-item::before {content: \"\";position: absolute;border-left: 1px solid gray;box-sizing: border-box;top: 0;bottom: 0;left: 50%;z-index: -1;}#sk-container-id-2 div.sk-parallel-item {display: flex;flex-direction: column;z-index: 1;position: relative;background-color: white;}#sk-container-id-2 div.sk-parallel-item:first-child::after {align-self: flex-end;width: 50%;}#sk-container-id-2 div.sk-parallel-item:last-child::after {align-self: flex-start;width: 50%;}#sk-container-id-2 div.sk-parallel-item:only-child::after {width: 0;}#sk-container-id-2 div.sk-dashed-wrapped {border: 1px dashed gray;margin: 0 0.4em 0.5em 0.4em;box-sizing: border-box;padding-bottom: 0.4em;background-color: white;}#sk-container-id-2 div.sk-label label {font-family: monospace;font-weight: bold;display: inline-block;line-height: 1.2em;}#sk-container-id-2 div.sk-label-container {text-align: center;}#sk-container-id-2 div.sk-container {/* jupyter's `normalize.less` sets `[hidden] { display: none; }` but bootstrap.min.css set `[hidden] { display: none !important; }` so we also need the `!important` here to be able to override the default hidden behavior on the sphinx rendered scikit-learn.org. See: https://github.com/scikit-learn/scikit-learn/issues/21755 */display: inline-block !important;position: relative;}#sk-container-id-2 div.sk-text-repr-fallback {display: none;}</style><div id=\"sk-container-id-2\" class=\"sk-top-container\"><div class=\"sk-text-repr-fallback\"><pre>LogisticRegression(random_state=10)</pre><b>In a Jupyter environment, please rerun this cell to show the HTML representation or trust the notebook. <br />On GitHub, the HTML representation is unable to render, please try loading this page with nbviewer.org.</b></div><div class=\"sk-container\" hidden><div class=\"sk-item\"><div class=\"sk-estimator sk-toggleable\"><input class=\"sk-toggleable__control sk-hidden--visually\" id=\"sk-estimator-id-2\" type=\"checkbox\" checked><label for=\"sk-estimator-id-2\" class=\"sk-toggleable__label sk-toggleable__label-arrow\">LogisticRegression</label><div class=\"sk-toggleable__content\"><pre>LogisticRegression(random_state=10)</pre></div></div></div></div></div>"
      ],
      "text/plain": [
       "LogisticRegression(random_state=10)"
      ]
     },
     "execution_count": 111,
     "metadata": {},
     "output_type": "execute_result"
    }
   ],
   "source": [
    "#Import Logistic Regression N train our Logistic regressio model\n",
    "from sklearn.linear_model import LogisticRegression\n",
    "log_reg =LogisticRegression(random_state=10)\n",
    "log_reg.fit(X_train, y_train)"
   ]
  },
  {
   "cell_type": "code",
   "execution_count": 113,
   "id": "d97a0137",
   "metadata": {
    "ExecuteTime": {
     "end_time": "2022-08-20T12:12:32.628560Z",
     "start_time": "2022-08-20T12:12:32.616218Z"
    }
   },
   "outputs": [
    {
     "name": "stdout",
     "output_type": "stream",
     "text": [
      "Logistic Regression: 0.8784346378018318\n"
     ]
    }
   ],
   "source": [
    "#Predict the labels for the test data\n",
    "pred_log =log_reg.predict(X_test)\n",
    "print(\"Logistic Regression:\", log_reg.score(X_test, y_test))"
   ]
  },
  {
   "cell_type": "code",
   "execution_count": 132,
   "id": "e7bccb83",
   "metadata": {
    "ExecuteTime": {
     "end_time": "2022-08-20T12:24:05.670153Z",
     "start_time": "2022-08-20T12:24:05.568872Z"
    }
   },
   "outputs": [
    {
     "name": "stdout",
     "output_type": "stream",
     "text": [
      "Decision Tree Classifier:\n",
      "               precision    recall  f1-score   support\n",
      "\n",
      "     Hip-Hop       0.60      0.60      0.60       235\n",
      "        Rock       0.90      0.90      0.90       966\n",
      "\n",
      "    accuracy                           0.84      1201\n",
      "   macro avg       0.75      0.75      0.75      1201\n",
      "weighted avg       0.84      0.84      0.84      1201\n",
      "\n",
      "Logistic Regression:\n",
      "               precision    recall  f1-score   support\n",
      "\n",
      "     Hip-Hop       0.77      0.54      0.64       235\n",
      "        Rock       0.90      0.96      0.93       966\n",
      "\n",
      "    accuracy                           0.88      1201\n",
      "   macro avg       0.83      0.75      0.78      1201\n",
      "weighted avg       0.87      0.88      0.87      1201\n",
      "\n"
     ]
    }
   ],
   "source": [
    "#Create the classification report for both models\n",
    "from sklearn.metrics import classification_report\n",
    "tree_rep = classification_report(y_test, pred_tree)\n",
    "print(\"Decision Tree Classifier:\\n\", tree_rep)\n",
    "log_rep = classification_report(y_test, pred_log)\n",
    "print(\"Logistic Regression:\\n\", log_rep)"
   ]
  },
  {
   "cell_type": "code",
   "execution_count": 135,
   "id": "3f444d0b",
   "metadata": {
    "ExecuteTime": {
     "end_time": "2022-08-20T12:33:30.424692Z",
     "start_time": "2022-08-20T12:33:26.620157Z"
    }
   },
   "outputs": [
    {
     "name": "stderr",
     "output_type": "stream",
     "text": [
      "C:\\Users\\yy\\AppData\\Roaming\\Python\\Python310\\site-packages\\seaborn\\_decorators.py:36: FutureWarning: Pass the following variable as a keyword arg: x. From version 0.12, the only valid positional argument will be `data`, and passing other arguments without an explicit keyword will result in an error or misinterpretation.\n",
      "  warnings.warn(\n"
     ]
    },
    {
     "data": {
      "text/plain": [
       "<AxesSubplot:xlabel='genre_top', ylabel='count'>"
      ]
     },
     "execution_count": 135,
     "metadata": {},
     "output_type": "execute_result"
    },
    {
     "data": {
      "image/png": "[encoded data removed]",
      "text/plain": [
       "<Figure size 432x288 with 1 Axes>"
      ]
     },
     "metadata": {
      "needs_background": "light"
     },
     "output_type": "display_data"
    }
   ],
   "source": [
    "sns.countplot(echo_tracks[\"genre_top\"], label=\"Count\")"
   ]
  },
  {
   "cell_type": "code",
   "execution_count": 137,
   "id": "0856c95c",
   "metadata": {
    "ExecuteTime": {
     "end_time": "2022-08-20T12:47:58.948159Z",
     "start_time": "2022-08-20T12:47:58.906536Z"
    }
   },
   "outputs": [],
   "source": [
    "# Subset only the hip-hop tracks, and then only the rock tracks\n",
    "hip_hop = echo_tracks.loc[echo_tracks['genre_top'] == 'Hip-Hop']\n",
    "rock = echo_tracks.loc[echo_tracks['genre_top'] == 'Rock']"
   ]
  },
  {
   "cell_type": "code",
   "execution_count": 141,
   "id": "13e384e0",
   "metadata": {
    "ExecuteTime": {
     "end_time": "2022-08-20T12:50:57.192802Z",
     "start_time": "2022-08-20T12:50:57.183825Z"
    }
   },
   "outputs": [
    {
     "data": {
      "text/plain": [
       "(910, 10)"
      ]
     },
     "execution_count": 141,
     "metadata": {},
     "output_type": "execute_result"
    }
   ],
   "source": [
    "hip_hop.shape"
   ]
  },
  {
   "cell_type": "code",
   "execution_count": 142,
   "id": "372eb0ad",
   "metadata": {
    "ExecuteTime": {
     "end_time": "2022-08-20T12:51:05.301251Z",
     "start_time": "2022-08-20T12:51:05.292712Z"
    }
   },
   "outputs": [
    {
     "data": {
      "text/plain": [
       "(3892, 10)"
      ]
     },
     "execution_count": 142,
     "metadata": {},
     "output_type": "execute_result"
    }
   ],
   "source": [
    "rock.shape"
   ]
  },
  {
   "cell_type": "code",
   "execution_count": 144,
   "id": "e8633ccc",
   "metadata": {
    "ExecuteTime": {
     "end_time": "2022-08-20T12:53:26.989346Z",
     "start_time": "2022-08-20T12:53:26.980683Z"
    }
   },
   "outputs": [],
   "source": [
    "rock = rock.sample(hip_hop.shape[0], random_state=10)"
   ]
  },
  {
   "cell_type": "code",
   "execution_count": 153,
   "id": "8ea27c87",
   "metadata": {
    "ExecuteTime": {
     "end_time": "2022-08-20T12:59:26.486374Z",
     "start_time": "2022-08-20T12:59:26.385988Z"
    }
   },
   "outputs": [
    {
     "data": {
      "text/html": [
       "<div>\n",
       "<style scoped>\n",
       "    .dataframe tbody tr th:only-of-type {\n",
       "        vertical-align: middle;\n",
       "    }\n",
       "\n",
       "    .dataframe tbody tr th {\n",
       "        vertical-align: top;\n",
       "    }\n",
       "\n",
       "    .dataframe thead th {\n",
       "        text-align: right;\n",
       "    }\n",
       "</style>\n",
       "<table border=\"1\" class=\"dataframe\">\n",
       "  <thead>\n",
       "    <tr style=\"text-align: right;\">\n",
       "      <th></th>\n",
       "      <th>track_id</th>\n",
       "      <th>acousticness</th>\n",
       "      <th>danceability</th>\n",
       "      <th>energy</th>\n",
       "      <th>instrumentalness</th>\n",
       "      <th>liveness</th>\n",
       "      <th>speechiness</th>\n",
       "      <th>tempo</th>\n",
       "      <th>valence</th>\n",
       "      <th>genre_top</th>\n",
       "    </tr>\n",
       "  </thead>\n",
       "  <tbody>\n",
       "    <tr>\n",
       "      <th>773</th>\n",
       "      <td>4038</td>\n",
       "      <td>0.825838</td>\n",
       "      <td>0.263645</td>\n",
       "      <td>0.797948</td>\n",
       "      <td>8.423181e-01</td>\n",
       "      <td>0.177089</td>\n",
       "      <td>0.045277</td>\n",
       "      <td>166.580</td>\n",
       "      <td>0.713586</td>\n",
       "      <td>Rock</td>\n",
       "    </tr>\n",
       "    <tr>\n",
       "      <th>2273</th>\n",
       "      <td>19501</td>\n",
       "      <td>0.966635</td>\n",
       "      <td>0.386114</td>\n",
       "      <td>0.651980</td>\n",
       "      <td>8.694723e-01</td>\n",
       "      <td>0.353138</td>\n",
       "      <td>0.032208</td>\n",
       "      <td>130.767</td>\n",
       "      <td>0.712374</td>\n",
       "      <td>Rock</td>\n",
       "    </tr>\n",
       "    <tr>\n",
       "      <th>2846</th>\n",
       "      <td>31252</td>\n",
       "      <td>0.721510</td>\n",
       "      <td>0.358035</td>\n",
       "      <td>0.948187</td>\n",
       "      <td>8.011837e-01</td>\n",
       "      <td>0.105706</td>\n",
       "      <td>0.095522</td>\n",
       "      <td>125.884</td>\n",
       "      <td>0.208728</td>\n",
       "      <td>Rock</td>\n",
       "    </tr>\n",
       "    <tr>\n",
       "      <th>2147</th>\n",
       "      <td>17947</td>\n",
       "      <td>0.617370</td>\n",
       "      <td>0.487321</td>\n",
       "      <td>0.918848</td>\n",
       "      <td>8.170503e-01</td>\n",
       "      <td>0.089908</td>\n",
       "      <td>0.040337</td>\n",
       "      <td>129.565</td>\n",
       "      <td>0.268893</td>\n",
       "      <td>Rock</td>\n",
       "    </tr>\n",
       "    <tr>\n",
       "      <th>2654</th>\n",
       "      <td>27421</td>\n",
       "      <td>0.025464</td>\n",
       "      <td>0.245523</td>\n",
       "      <td>0.422381</td>\n",
       "      <td>9.380106e-01</td>\n",
       "      <td>0.441009</td>\n",
       "      <td>0.038795</td>\n",
       "      <td>149.960</td>\n",
       "      <td>0.439876</td>\n",
       "      <td>Rock</td>\n",
       "    </tr>\n",
       "    <tr>\n",
       "      <th>...</th>\n",
       "      <td>...</td>\n",
       "      <td>...</td>\n",
       "      <td>...</td>\n",
       "      <td>...</td>\n",
       "      <td>...</td>\n",
       "      <td>...</td>\n",
       "      <td>...</td>\n",
       "      <td>...</td>\n",
       "      <td>...</td>\n",
       "      <td>...</td>\n",
       "    </tr>\n",
       "    <tr>\n",
       "      <th>4797</th>\n",
       "      <td>124718</td>\n",
       "      <td>0.412194</td>\n",
       "      <td>0.686825</td>\n",
       "      <td>0.849309</td>\n",
       "      <td>6.000000e-10</td>\n",
       "      <td>0.867543</td>\n",
       "      <td>0.367315</td>\n",
       "      <td>96.104</td>\n",
       "      <td>0.692414</td>\n",
       "      <td>Hip-Hop</td>\n",
       "    </tr>\n",
       "    <tr>\n",
       "      <th>4798</th>\n",
       "      <td>124719</td>\n",
       "      <td>0.054973</td>\n",
       "      <td>0.617535</td>\n",
       "      <td>0.728567</td>\n",
       "      <td>7.215700e-06</td>\n",
       "      <td>0.131438</td>\n",
       "      <td>0.243130</td>\n",
       "      <td>96.262</td>\n",
       "      <td>0.399720</td>\n",
       "      <td>Hip-Hop</td>\n",
       "    </tr>\n",
       "    <tr>\n",
       "      <th>4799</th>\n",
       "      <td>124720</td>\n",
       "      <td>0.010478</td>\n",
       "      <td>0.652483</td>\n",
       "      <td>0.657498</td>\n",
       "      <td>7.098000e-07</td>\n",
       "      <td>0.701523</td>\n",
       "      <td>0.229174</td>\n",
       "      <td>94.885</td>\n",
       "      <td>0.432240</td>\n",
       "      <td>Hip-Hop</td>\n",
       "    </tr>\n",
       "    <tr>\n",
       "      <th>4800</th>\n",
       "      <td>124721</td>\n",
       "      <td>0.067906</td>\n",
       "      <td>0.432421</td>\n",
       "      <td>0.764508</td>\n",
       "      <td>1.625500e-06</td>\n",
       "      <td>0.104412</td>\n",
       "      <td>0.310553</td>\n",
       "      <td>171.329</td>\n",
       "      <td>0.580087</td>\n",
       "      <td>Hip-Hop</td>\n",
       "    </tr>\n",
       "    <tr>\n",
       "      <th>4801</th>\n",
       "      <td>124722</td>\n",
       "      <td>0.153518</td>\n",
       "      <td>0.638660</td>\n",
       "      <td>0.762567</td>\n",
       "      <td>5.000000e-10</td>\n",
       "      <td>0.264847</td>\n",
       "      <td>0.303372</td>\n",
       "      <td>77.842</td>\n",
       "      <td>0.656612</td>\n",
       "      <td>Hip-Hop</td>\n",
       "    </tr>\n",
       "  </tbody>\n",
       "</table>\n",
       "<p>1820 rows × 10 columns</p>\n",
       "</div>"
      ],
      "text/plain": [
       "      track_id  acousticness  danceability    energy  instrumentalness  \\\n",
       "773       4038      0.825838      0.263645  0.797948      8.423181e-01   \n",
       "2273     19501      0.966635      0.386114  0.651980      8.694723e-01   \n",
       "2846     31252      0.721510      0.358035  0.948187      8.011837e-01   \n",
       "2147     17947      0.617370      0.487321  0.918848      8.170503e-01   \n",
       "2654     27421      0.025464      0.245523  0.422381      9.380106e-01   \n",
       "...        ...           ...           ...       ...               ...   \n",
       "4797    124718      0.412194      0.686825  0.849309      6.000000e-10   \n",
       "4798    124719      0.054973      0.617535  0.728567      7.215700e-06   \n",
       "4799    124720      0.010478      0.652483  0.657498      7.098000e-07   \n",
       "4800    124721      0.067906      0.432421  0.764508      1.625500e-06   \n",
       "4801    124722      0.153518      0.638660  0.762567      5.000000e-10   \n",
       "\n",
       "      liveness  speechiness    tempo   valence genre_top  \n",
       "773   0.177089     0.045277  166.580  0.713586      Rock  \n",
       "2273  0.353138     0.032208  130.767  0.712374      Rock  \n",
       "2846  0.105706     0.095522  125.884  0.208728      Rock  \n",
       "2147  0.089908     0.040337  129.565  0.268893      Rock  \n",
       "2654  0.441009     0.038795  149.960  0.439876      Rock  \n",
       "...        ...          ...      ...       ...       ...  \n",
       "4797  0.867543     0.367315   96.104  0.692414   Hip-Hop  \n",
       "4798  0.131438     0.243130   96.262  0.399720   Hip-Hop  \n",
       "4799  0.701523     0.229174   94.885  0.432240   Hip-Hop  \n",
       "4800  0.104412     0.310553  171.329  0.580087   Hip-Hop  \n",
       "4801  0.264847     0.303372   77.842  0.656612   Hip-Hop  \n",
       "\n",
       "[1820 rows x 10 columns]"
      ]
     },
     "execution_count": 153,
     "metadata": {},
     "output_type": "execute_result"
    }
   ],
   "source": [
    "#concatenate to create the balanced dataset\n",
    "balanced_data = pd.concat([rock, hip_hop])\n",
    "balanced_data"
   ]
  },
  {
   "cell_type": "code",
   "execution_count": 155,
   "id": "b2b0ffc4",
   "metadata": {
    "ExecuteTime": {
     "end_time": "2022-08-20T13:06:25.707297Z",
     "start_time": "2022-08-20T13:06:25.698322Z"
    }
   },
   "outputs": [],
   "source": [
    "#features and labels for the new balanced data\n",
    "features = balanced_data.drop(['genre_top', 'track_id'], axis=1) \n",
    "labels = balanced_data['genre_top']"
   ]
  },
  {
   "cell_type": "code",
   "execution_count": 159,
   "id": "de807d26",
   "metadata": {
    "ExecuteTime": {
     "end_time": "2022-08-20T13:08:58.915126Z",
     "start_time": "2022-08-20T13:08:58.892931Z"
    }
   },
   "outputs": [
    {
     "data": {
      "text/plain": [
       "(1820, 6)"
      ]
     },
     "execution_count": 159,
     "metadata": {},
     "output_type": "execute_result"
    }
   ],
   "source": [
    "pca.projection = pca.fit_transform(scaler.fit_transform(features))\n",
    "pca.projection.shape"
   ]
  },
  {
   "cell_type": "code",
   "execution_count": 164,
   "id": "1d28418c",
   "metadata": {
    "ExecuteTime": {
     "end_time": "2022-08-20T13:12:15.282171Z",
     "start_time": "2022-08-20T13:12:15.273388Z"
    }
   },
   "outputs": [],
   "source": [
    "#split this balanced data into test and train\n",
    "X_train, X_test, y_train, y_test =train_test_split(pca.projection, labels, random_state=10)"
   ]
  },
  {
   "cell_type": "code",
   "execution_count": 170,
   "id": "e449d61e",
   "metadata": {
    "ExecuteTime": {
     "end_time": "2022-08-20T13:16:40.360062Z",
     "start_time": "2022-08-20T13:16:40.337121Z"
    }
   },
   "outputs": [],
   "source": [
    "#Train and predict decision tree on balanced data\n",
    "tree1= DecisionTreeClassifier(random_state=10)\n",
    "tree1.fit(X_train, y_train)\n",
    "pred_tree1=tree1.predict(X_test)"
   ]
  },
  {
   "cell_type": "code",
   "execution_count": 177,
   "id": "e5d89a93",
   "metadata": {
    "ExecuteTime": {
     "end_time": "2022-08-20T13:19:41.330471Z",
     "start_time": "2022-08-20T13:19:41.312596Z"
    }
   },
   "outputs": [],
   "source": [
    "#train and predict logistic regression on balanced data\n",
    "log_reg1 = LogisticRegression(random_state=10)\n",
    "log_reg1.fit(X_train, y_train)\n",
    "pred_log1= log_reg1.predict(X_test)"
   ]
  },
  {
   "cell_type": "markdown",
   "id": "dc28a09b",
   "metadata": {},
   "source": [
    "# COMPARE THE MODELS"
   ]
  },
  {
   "cell_type": "code",
   "execution_count": 181,
   "id": "a4cec23f",
   "metadata": {
    "ExecuteTime": {
     "end_time": "2022-08-20T13:30:53.176578Z",
     "start_time": "2022-08-20T13:30:53.145633Z"
    }
   },
   "outputs": [
    {
     "name": "stdout",
     "output_type": "stream",
     "text": [
      "Decision Tree:\n",
      "               precision    recall  f1-score   support\n",
      "\n",
      "     Hip-Hop       0.74      0.73      0.74       230\n",
      "        Rock       0.73      0.74      0.73       225\n",
      "\n",
      "    accuracy                           0.74       455\n",
      "   macro avg       0.74      0.74      0.74       455\n",
      "weighted avg       0.74      0.74      0.74       455\n",
      "\n"
     ]
    }
   ],
   "source": [
    "print(\"Decision Tree:\\n\", classification_report(y_test, pred_tree1))"
   ]
  },
  {
   "cell_type": "code",
   "execution_count": 180,
   "id": "8c389b92",
   "metadata": {
    "ExecuteTime": {
     "end_time": "2022-08-20T13:24:24.827754Z",
     "start_time": "2022-08-20T13:24:24.797300Z"
    }
   },
   "outputs": [
    {
     "name": "stdout",
     "output_type": "stream",
     "text": [
      "Logistic Regression:\n",
      "               precision    recall  f1-score   support\n",
      "\n",
      "     Hip-Hop       0.84      0.80      0.82       230\n",
      "        Rock       0.80      0.85      0.83       225\n",
      "\n",
      "    accuracy                           0.82       455\n",
      "   macro avg       0.82      0.82      0.82       455\n",
      "weighted avg       0.82      0.82      0.82       455\n",
      "\n"
     ]
    }
   ],
   "source": [
    "print(\"Logistic Regression:\\n\", classification_report(y_test,pred_log1))"
   ]
  },
  {
   "cell_type": "code",
   "execution_count": 229,
   "id": "723a6abf",
   "metadata": {
    "ExecuteTime": {
     "end_time": "2022-08-20T14:10:18.453768Z",
     "start_time": "2022-08-20T14:10:18.284213Z"
    }
   },
   "outputs": [],
   "source": [
    "from sklearn.model_selection import KFold, cross_val_score\n",
    "\n",
    "# Set up our K-fold cross-validation\n",
    "cv = KFold(n_splits=10, random_state=1, shuffle=True)\n",
    "\n",
    "tree1 = DecisionTreeClassifier(random_state=10)\n",
    "log_reg1= LogisticRegression(random_state=10)\n",
    "\n",
    "# Train our models using KFold cv\n",
    "tree_score = cross_val_score(tree1, pca.projection,labels,  cv=cv, scoring = 'accuracy', n_jobs=-1)\n",
    "logit_score = cross_val_score(log_reg1, pca.projection,labels, cv=cv,scoring = 'accuracy', n_jobs=-1 )\n"
   ]
  },
  {
   "cell_type": "code",
   "execution_count": 231,
   "id": "df228d2f",
   "metadata": {
    "ExecuteTime": {
     "end_time": "2022-08-20T14:10:27.580839Z",
     "start_time": "2022-08-20T14:10:27.573198Z"
    }
   },
   "outputs": [
    {
     "name": "stdout",
     "output_type": "stream",
     "text": [
      "Decision Tree Accuracy: 0.7780219780219779\n"
     ]
    }
   ],
   "source": [
    "print(\"Decision Tree Accuracy:\", np.mean(tree_score))"
   ]
  },
  {
   "cell_type": "code",
   "execution_count": 230,
   "id": "b090cfbd",
   "metadata": {
    "ExecuteTime": {
     "end_time": "2022-08-20T14:10:25.063206Z",
     "start_time": "2022-08-20T14:10:25.056226Z"
    }
   },
   "outputs": [
    {
     "name": "stdout",
     "output_type": "stream",
     "text": [
      "Logistic Regression Accuracy: 0.8219780219780219\n"
     ]
    }
   ],
   "source": [
    "print(\"Logistic Regression Accuracy:\", np.mean(logit_score))"
   ]
  },
  {
   "cell_type": "code",
   "execution_count": 239,
   "id": "97c959db",
   "metadata": {
    "ExecuteTime": {
     "end_time": "2022-08-20T15:12:04.883786Z",
     "start_time": "2022-08-20T15:12:04.878616Z"
    }
   },
   "outputs": [],
   "source": [
    "from sklearn import metrics"
   ]
  },
  {
   "cell_type": "code",
   "execution_count": null,
   "id": "7746fad1",
   "metadata": {},
   "outputs": [],
   "source": []
  }
 ],
 "metadata": {
  "kernelspec": {
   "display_name": "Python 3 (ipykernel)",
   "language": "python",
   "name": "python3"
  },
  "language_info": {
   "codemirror_mode": {
    "name": "ipython",
    "version": 3
   },
   "file_extension": ".py",
   "mimetype": "text/x-python",
   "name": "python",
   "nbconvert_exporter": "python",
   "pygments_lexer": "ipython3",
   "version": "3.10.6"
  }
 },
 "nbformat": 4,
 "nbformat_minor": 5
}
