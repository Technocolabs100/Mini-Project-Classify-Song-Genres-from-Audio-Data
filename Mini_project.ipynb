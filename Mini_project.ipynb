{
 "cells": [
  {
   "cell_type": "markdown",
   "id": "f452938d",
   "metadata": {},
   "source": [
    "# Imports"
   ]
  },
  {
   "cell_type": "code",
   "execution_count": 1,
   "id": "1abaaf92",
   "metadata": {},
   "outputs": [],
   "source": [
    "import pandas as pd\n",
    "import seaborn as sns\n",
    "import matplotlib.pyplot as plt\n",
    "import numpy as np\n",
    "from sklearn.model_selection import train_test_split, cross_val_score, KFold\n",
    "from sklearn.preprocessing import StandardScaler , LabelEncoder\n",
    "from sklearn.decomposition import PCA\n",
    "from sklearn.tree import DecisionTreeClassifier\n",
    "from sklearn.linear_model import LogisticRegression\n",
    "from sklearn.metrics import accuracy_score, confusion_matrix\n",
    "from sklearn.pipeline import Pipeline"
   ]
  },
  {
   "cell_type": "markdown",
   "id": "09b63fde",
   "metadata": {},
   "source": [
    "# Data"
   ]
  },
  {
   "cell_type": "code",
   "execution_count": 2,
   "id": "0f4ae32a",
   "metadata": {},
   "outputs": [],
   "source": [
    "tracks = pd.read_csv('fma-rock-vs-hiphop.csv')\n",
    "metrics = pd.read_json('echonest-metrics.json')"
   ]
  },
  {
   "cell_type": "code",
   "execution_count": 3,
   "id": "07fc2f11",
   "metadata": {},
   "outputs": [
    {
     "name": "stdout",
     "output_type": "stream",
     "text": [
      "(17734, 21)\n"
     ]
    },
    {
     "data": {
      "text/html": [
       "<div>\n",
       "<style scoped>\n",
       "    .dataframe tbody tr th:only-of-type {\n",
       "        vertical-align: middle;\n",
       "    }\n",
       "\n",
       "    .dataframe tbody tr th {\n",
       "        vertical-align: top;\n",
       "    }\n",
       "\n",
       "    .dataframe thead th {\n",
       "        text-align: right;\n",
       "    }\n",
       "</style>\n",
       "<table border=\"1\" class=\"dataframe\">\n",
       "  <thead>\n",
       "    <tr style=\"text-align: right;\">\n",
       "      <th></th>\n",
       "      <th>track_id</th>\n",
       "      <th>bit_rate</th>\n",
       "      <th>comments</th>\n",
       "      <th>composer</th>\n",
       "      <th>date_created</th>\n",
       "      <th>date_recorded</th>\n",
       "      <th>duration</th>\n",
       "      <th>favorites</th>\n",
       "      <th>genre_top</th>\n",
       "      <th>genres</th>\n",
       "      <th>...</th>\n",
       "      <th>information</th>\n",
       "      <th>interest</th>\n",
       "      <th>language_code</th>\n",
       "      <th>license</th>\n",
       "      <th>listens</th>\n",
       "      <th>lyricist</th>\n",
       "      <th>number</th>\n",
       "      <th>publisher</th>\n",
       "      <th>tags</th>\n",
       "      <th>title</th>\n",
       "    </tr>\n",
       "  </thead>\n",
       "  <tbody>\n",
       "    <tr>\n",
       "      <th>0</th>\n",
       "      <td>135</td>\n",
       "      <td>256000</td>\n",
       "      <td>1</td>\n",
       "      <td>NaN</td>\n",
       "      <td>2008-11-26 01:43:26</td>\n",
       "      <td>2008-11-26 00:00:00</td>\n",
       "      <td>837</td>\n",
       "      <td>0</td>\n",
       "      <td>Rock</td>\n",
       "      <td>[45, 58]</td>\n",
       "      <td>...</td>\n",
       "      <td>NaN</td>\n",
       "      <td>2484</td>\n",
       "      <td>en</td>\n",
       "      <td>Attribution-NonCommercial-ShareAlike 3.0 Inter...</td>\n",
       "      <td>1832</td>\n",
       "      <td>NaN</td>\n",
       "      <td>0</td>\n",
       "      <td>NaN</td>\n",
       "      <td>[]</td>\n",
       "      <td>Father's Day</td>\n",
       "    </tr>\n",
       "    <tr>\n",
       "      <th>1</th>\n",
       "      <td>136</td>\n",
       "      <td>256000</td>\n",
       "      <td>1</td>\n",
       "      <td>NaN</td>\n",
       "      <td>2008-11-26 01:43:35</td>\n",
       "      <td>2008-11-26 00:00:00</td>\n",
       "      <td>509</td>\n",
       "      <td>0</td>\n",
       "      <td>Rock</td>\n",
       "      <td>[45, 58]</td>\n",
       "      <td>...</td>\n",
       "      <td>NaN</td>\n",
       "      <td>1948</td>\n",
       "      <td>en</td>\n",
       "      <td>Attribution-NonCommercial-ShareAlike 3.0 Inter...</td>\n",
       "      <td>1498</td>\n",
       "      <td>NaN</td>\n",
       "      <td>0</td>\n",
       "      <td>NaN</td>\n",
       "      <td>[]</td>\n",
       "      <td>Peel Back The Mountain Sky</td>\n",
       "    </tr>\n",
       "    <tr>\n",
       "      <th>2</th>\n",
       "      <td>151</td>\n",
       "      <td>192000</td>\n",
       "      <td>0</td>\n",
       "      <td>NaN</td>\n",
       "      <td>2008-11-26 01:44:55</td>\n",
       "      <td>NaN</td>\n",
       "      <td>192</td>\n",
       "      <td>0</td>\n",
       "      <td>Rock</td>\n",
       "      <td>[25]</td>\n",
       "      <td>...</td>\n",
       "      <td>NaN</td>\n",
       "      <td>701</td>\n",
       "      <td>en</td>\n",
       "      <td>Attribution-NonCommercial-ShareAlike 3.0 Inter...</td>\n",
       "      <td>148</td>\n",
       "      <td>NaN</td>\n",
       "      <td>4</td>\n",
       "      <td>NaN</td>\n",
       "      <td>[]</td>\n",
       "      <td>Untitled 04</td>\n",
       "    </tr>\n",
       "    <tr>\n",
       "      <th>3</th>\n",
       "      <td>152</td>\n",
       "      <td>192000</td>\n",
       "      <td>0</td>\n",
       "      <td>NaN</td>\n",
       "      <td>2008-11-26 01:44:58</td>\n",
       "      <td>NaN</td>\n",
       "      <td>193</td>\n",
       "      <td>0</td>\n",
       "      <td>Rock</td>\n",
       "      <td>[25]</td>\n",
       "      <td>...</td>\n",
       "      <td>NaN</td>\n",
       "      <td>637</td>\n",
       "      <td>en</td>\n",
       "      <td>Attribution-NonCommercial-ShareAlike 3.0 Inter...</td>\n",
       "      <td>98</td>\n",
       "      <td>NaN</td>\n",
       "      <td>11</td>\n",
       "      <td>NaN</td>\n",
       "      <td>[]</td>\n",
       "      <td>Untitled 11</td>\n",
       "    </tr>\n",
       "    <tr>\n",
       "      <th>4</th>\n",
       "      <td>153</td>\n",
       "      <td>256000</td>\n",
       "      <td>0</td>\n",
       "      <td>Arc and Sender</td>\n",
       "      <td>2008-11-26 01:45:00</td>\n",
       "      <td>2008-11-26 00:00:00</td>\n",
       "      <td>405</td>\n",
       "      <td>5</td>\n",
       "      <td>Rock</td>\n",
       "      <td>[26]</td>\n",
       "      <td>...</td>\n",
       "      <td>NaN</td>\n",
       "      <td>354</td>\n",
       "      <td>en</td>\n",
       "      <td>Attribution-NonCommercial-NoDerivatives (aka M...</td>\n",
       "      <td>424</td>\n",
       "      <td>NaN</td>\n",
       "      <td>2</td>\n",
       "      <td>NaN</td>\n",
       "      <td>[]</td>\n",
       "      <td>Hundred-Year Flood</td>\n",
       "    </tr>\n",
       "  </tbody>\n",
       "</table>\n",
       "<p>5 rows × 21 columns</p>\n",
       "</div>"
      ],
      "text/plain": [
       "   track_id  bit_rate  comments        composer         date_created  \\\n",
       "0       135    256000         1             NaN  2008-11-26 01:43:26   \n",
       "1       136    256000         1             NaN  2008-11-26 01:43:35   \n",
       "2       151    192000         0             NaN  2008-11-26 01:44:55   \n",
       "3       152    192000         0             NaN  2008-11-26 01:44:58   \n",
       "4       153    256000         0  Arc and Sender  2008-11-26 01:45:00   \n",
       "\n",
       "         date_recorded  duration  favorites genre_top    genres  ...  \\\n",
       "0  2008-11-26 00:00:00       837          0      Rock  [45, 58]  ...   \n",
       "1  2008-11-26 00:00:00       509          0      Rock  [45, 58]  ...   \n",
       "2                  NaN       192          0      Rock      [25]  ...   \n",
       "3                  NaN       193          0      Rock      [25]  ...   \n",
       "4  2008-11-26 00:00:00       405          5      Rock      [26]  ...   \n",
       "\n",
       "  information interest  language_code  \\\n",
       "0         NaN     2484             en   \n",
       "1         NaN     1948             en   \n",
       "2         NaN      701             en   \n",
       "3         NaN      637             en   \n",
       "4         NaN      354             en   \n",
       "\n",
       "                                             license listens  lyricist number  \\\n",
       "0  Attribution-NonCommercial-ShareAlike 3.0 Inter...    1832       NaN      0   \n",
       "1  Attribution-NonCommercial-ShareAlike 3.0 Inter...    1498       NaN      0   \n",
       "2  Attribution-NonCommercial-ShareAlike 3.0 Inter...     148       NaN      4   \n",
       "3  Attribution-NonCommercial-ShareAlike 3.0 Inter...      98       NaN     11   \n",
       "4  Attribution-NonCommercial-NoDerivatives (aka M...     424       NaN      2   \n",
       "\n",
       "   publisher tags                       title  \n",
       "0        NaN   []                Father's Day  \n",
       "1        NaN   []  Peel Back The Mountain Sky  \n",
       "2        NaN   []                 Untitled 04  \n",
       "3        NaN   []                 Untitled 11  \n",
       "4        NaN   []          Hundred-Year Flood  \n",
       "\n",
       "[5 rows x 21 columns]"
      ]
     },
     "execution_count": 3,
     "metadata": {},
     "output_type": "execute_result"
    }
   ],
   "source": [
    "print(tracks.shape)\n",
    "tracks.head()"
   ]
  },
  {
   "cell_type": "code",
   "execution_count": 4,
   "id": "d6d0f69e",
   "metadata": {},
   "outputs": [
    {
     "name": "stdout",
     "output_type": "stream",
     "text": [
      "(13129, 9)\n"
     ]
    },
    {
     "data": {
      "text/html": [
       "<div>\n",
       "<style scoped>\n",
       "    .dataframe tbody tr th:only-of-type {\n",
       "        vertical-align: middle;\n",
       "    }\n",
       "\n",
       "    .dataframe tbody tr th {\n",
       "        vertical-align: top;\n",
       "    }\n",
       "\n",
       "    .dataframe thead th {\n",
       "        text-align: right;\n",
       "    }\n",
       "</style>\n",
       "<table border=\"1\" class=\"dataframe\">\n",
       "  <thead>\n",
       "    <tr style=\"text-align: right;\">\n",
       "      <th></th>\n",
       "      <th>track_id</th>\n",
       "      <th>acousticness</th>\n",
       "      <th>danceability</th>\n",
       "      <th>energy</th>\n",
       "      <th>instrumentalness</th>\n",
       "      <th>liveness</th>\n",
       "      <th>speechiness</th>\n",
       "      <th>tempo</th>\n",
       "      <th>valence</th>\n",
       "    </tr>\n",
       "  </thead>\n",
       "  <tbody>\n",
       "    <tr>\n",
       "      <th>0</th>\n",
       "      <td>2</td>\n",
       "      <td>0.416675</td>\n",
       "      <td>0.675894</td>\n",
       "      <td>0.634476</td>\n",
       "      <td>0.010628</td>\n",
       "      <td>0.177647</td>\n",
       "      <td>0.159310</td>\n",
       "      <td>165.922</td>\n",
       "      <td>0.576661</td>\n",
       "    </tr>\n",
       "    <tr>\n",
       "      <th>1</th>\n",
       "      <td>3</td>\n",
       "      <td>0.374408</td>\n",
       "      <td>0.528643</td>\n",
       "      <td>0.817461</td>\n",
       "      <td>0.001851</td>\n",
       "      <td>0.105880</td>\n",
       "      <td>0.461818</td>\n",
       "      <td>126.957</td>\n",
       "      <td>0.269240</td>\n",
       "    </tr>\n",
       "    <tr>\n",
       "      <th>2</th>\n",
       "      <td>5</td>\n",
       "      <td>0.043567</td>\n",
       "      <td>0.745566</td>\n",
       "      <td>0.701470</td>\n",
       "      <td>0.000697</td>\n",
       "      <td>0.373143</td>\n",
       "      <td>0.124595</td>\n",
       "      <td>100.260</td>\n",
       "      <td>0.621661</td>\n",
       "    </tr>\n",
       "    <tr>\n",
       "      <th>3</th>\n",
       "      <td>10</td>\n",
       "      <td>0.951670</td>\n",
       "      <td>0.658179</td>\n",
       "      <td>0.924525</td>\n",
       "      <td>0.965427</td>\n",
       "      <td>0.115474</td>\n",
       "      <td>0.032985</td>\n",
       "      <td>111.562</td>\n",
       "      <td>0.963590</td>\n",
       "    </tr>\n",
       "    <tr>\n",
       "      <th>4</th>\n",
       "      <td>134</td>\n",
       "      <td>0.452217</td>\n",
       "      <td>0.513238</td>\n",
       "      <td>0.560410</td>\n",
       "      <td>0.019443</td>\n",
       "      <td>0.096567</td>\n",
       "      <td>0.525519</td>\n",
       "      <td>114.290</td>\n",
       "      <td>0.894072</td>\n",
       "    </tr>\n",
       "  </tbody>\n",
       "</table>\n",
       "</div>"
      ],
      "text/plain": [
       "   track_id  acousticness  danceability    energy  instrumentalness  liveness  \\\n",
       "0         2      0.416675      0.675894  0.634476          0.010628  0.177647   \n",
       "1         3      0.374408      0.528643  0.817461          0.001851  0.105880   \n",
       "2         5      0.043567      0.745566  0.701470          0.000697  0.373143   \n",
       "3        10      0.951670      0.658179  0.924525          0.965427  0.115474   \n",
       "4       134      0.452217      0.513238  0.560410          0.019443  0.096567   \n",
       "\n",
       "   speechiness    tempo   valence  \n",
       "0     0.159310  165.922  0.576661  \n",
       "1     0.461818  126.957  0.269240  \n",
       "2     0.124595  100.260  0.621661  \n",
       "3     0.032985  111.562  0.963590  \n",
       "4     0.525519  114.290  0.894072  "
      ]
     },
     "execution_count": 4,
     "metadata": {},
     "output_type": "execute_result"
    }
   ],
   "source": [
    "print(metrics.shape)\n",
    "metrics.head()"
   ]
  },
  {
   "cell_type": "code",
   "execution_count": 5,
   "id": "16d34b30",
   "metadata": {},
   "outputs": [
    {
     "name": "stdout",
     "output_type": "stream",
     "text": [
      "(4802, 10)\n"
     ]
    },
    {
     "data": {
      "text/html": [
       "<div>\n",
       "<style scoped>\n",
       "    .dataframe tbody tr th:only-of-type {\n",
       "        vertical-align: middle;\n",
       "    }\n",
       "\n",
       "    .dataframe tbody tr th {\n",
       "        vertical-align: top;\n",
       "    }\n",
       "\n",
       "    .dataframe thead th {\n",
       "        text-align: right;\n",
       "    }\n",
       "</style>\n",
       "<table border=\"1\" class=\"dataframe\">\n",
       "  <thead>\n",
       "    <tr style=\"text-align: right;\">\n",
       "      <th></th>\n",
       "      <th>track_id</th>\n",
       "      <th>acousticness</th>\n",
       "      <th>danceability</th>\n",
       "      <th>energy</th>\n",
       "      <th>instrumentalness</th>\n",
       "      <th>liveness</th>\n",
       "      <th>speechiness</th>\n",
       "      <th>tempo</th>\n",
       "      <th>valence</th>\n",
       "      <th>genre_top</th>\n",
       "    </tr>\n",
       "  </thead>\n",
       "  <tbody>\n",
       "    <tr>\n",
       "      <th>0</th>\n",
       "      <td>2</td>\n",
       "      <td>0.416675</td>\n",
       "      <td>0.675894</td>\n",
       "      <td>0.634476</td>\n",
       "      <td>0.010628</td>\n",
       "      <td>0.177647</td>\n",
       "      <td>0.159310</td>\n",
       "      <td>165.922</td>\n",
       "      <td>0.576661</td>\n",
       "      <td>Hip-Hop</td>\n",
       "    </tr>\n",
       "    <tr>\n",
       "      <th>1</th>\n",
       "      <td>3</td>\n",
       "      <td>0.374408</td>\n",
       "      <td>0.528643</td>\n",
       "      <td>0.817461</td>\n",
       "      <td>0.001851</td>\n",
       "      <td>0.105880</td>\n",
       "      <td>0.461818</td>\n",
       "      <td>126.957</td>\n",
       "      <td>0.269240</td>\n",
       "      <td>Hip-Hop</td>\n",
       "    </tr>\n",
       "    <tr>\n",
       "      <th>2</th>\n",
       "      <td>5</td>\n",
       "      <td>0.043567</td>\n",
       "      <td>0.745566</td>\n",
       "      <td>0.701470</td>\n",
       "      <td>0.000697</td>\n",
       "      <td>0.373143</td>\n",
       "      <td>0.124595</td>\n",
       "      <td>100.260</td>\n",
       "      <td>0.621661</td>\n",
       "      <td>Hip-Hop</td>\n",
       "    </tr>\n",
       "    <tr>\n",
       "      <th>3</th>\n",
       "      <td>134</td>\n",
       "      <td>0.452217</td>\n",
       "      <td>0.513238</td>\n",
       "      <td>0.560410</td>\n",
       "      <td>0.019443</td>\n",
       "      <td>0.096567</td>\n",
       "      <td>0.525519</td>\n",
       "      <td>114.290</td>\n",
       "      <td>0.894072</td>\n",
       "      <td>Hip-Hop</td>\n",
       "    </tr>\n",
       "    <tr>\n",
       "      <th>4</th>\n",
       "      <td>153</td>\n",
       "      <td>0.988306</td>\n",
       "      <td>0.255661</td>\n",
       "      <td>0.979774</td>\n",
       "      <td>0.973006</td>\n",
       "      <td>0.121342</td>\n",
       "      <td>0.051740</td>\n",
       "      <td>90.241</td>\n",
       "      <td>0.034018</td>\n",
       "      <td>Rock</td>\n",
       "    </tr>\n",
       "  </tbody>\n",
       "</table>\n",
       "</div>"
      ],
      "text/plain": [
       "   track_id  acousticness  danceability    energy  instrumentalness  liveness  \\\n",
       "0         2      0.416675      0.675894  0.634476          0.010628  0.177647   \n",
       "1         3      0.374408      0.528643  0.817461          0.001851  0.105880   \n",
       "2         5      0.043567      0.745566  0.701470          0.000697  0.373143   \n",
       "3       134      0.452217      0.513238  0.560410          0.019443  0.096567   \n",
       "4       153      0.988306      0.255661  0.979774          0.973006  0.121342   \n",
       "\n",
       "   speechiness    tempo   valence genre_top  \n",
       "0     0.159310  165.922  0.576661   Hip-Hop  \n",
       "1     0.461818  126.957  0.269240   Hip-Hop  \n",
       "2     0.124595  100.260  0.621661   Hip-Hop  \n",
       "3     0.525519  114.290  0.894072   Hip-Hop  \n",
       "4     0.051740   90.241  0.034018      Rock  "
      ]
     },
     "execution_count": 5,
     "metadata": {},
     "output_type": "execute_result"
    }
   ],
   "source": [
    "data = metrics.merge(tracks[['track_id', 'genre_top']] , on= \"track_id\")\n",
    "print(data.shape)\n",
    "data.head()"
   ]
  },
  {
   "cell_type": "code",
   "execution_count": 6,
   "id": "b738305c",
   "metadata": {},
   "outputs": [
    {
     "name": "stdout",
     "output_type": "stream",
     "text": [
      "<class 'pandas.core.frame.DataFrame'>\n",
      "Int64Index: 4802 entries, 0 to 4801\n",
      "Data columns (total 10 columns):\n",
      " #   Column            Non-Null Count  Dtype  \n",
      "---  ------            --------------  -----  \n",
      " 0   track_id          4802 non-null   int64  \n",
      " 1   acousticness      4802 non-null   float64\n",
      " 2   danceability      4802 non-null   float64\n",
      " 3   energy            4802 non-null   float64\n",
      " 4   instrumentalness  4802 non-null   float64\n",
      " 5   liveness          4802 non-null   float64\n",
      " 6   speechiness       4802 non-null   float64\n",
      " 7   tempo             4802 non-null   float64\n",
      " 8   valence           4802 non-null   float64\n",
      " 9   genre_top         4802 non-null   object \n",
      "dtypes: float64(8), int64(1), object(1)\n",
      "memory usage: 412.7+ KB\n"
     ]
    }
   ],
   "source": [
    "data.info()"
   ]
  },
  {
   "cell_type": "markdown",
   "id": "49a06278",
   "metadata": {},
   "source": [
    "##### the data has no missing values"
   ]
  },
  {
   "cell_type": "markdown",
   "id": "b40ab50c",
   "metadata": {},
   "source": [
    "# Pairwise relationships between continuous variables"
   ]
  },
  {
   "cell_type": "code",
   "execution_count": 7,
   "id": "a7201430",
   "metadata": {},
   "outputs": [
    {
     "data": {
      "text/html": [
       "<style type=\"text/css\">\n",
       "#T_5e6cd_row0_col0, #T_5e6cd_row1_col1, #T_5e6cd_row2_col2, #T_5e6cd_row3_col3, #T_5e6cd_row4_col4, #T_5e6cd_row5_col5, #T_5e6cd_row6_col6, #T_5e6cd_row7_col7, #T_5e6cd_row8_col8 {\n",
       "  background-color: #023858;\n",
       "  color: #f1f1f1;\n",
       "}\n",
       "#T_5e6cd_row0_col1, #T_5e6cd_row1_col0, #T_5e6cd_row1_col3, #T_5e6cd_row2_col5, #T_5e6cd_row2_col7, #T_5e6cd_row4_col2, #T_5e6cd_row4_col6, #T_5e6cd_row4_col8, #T_5e6cd_row6_col4 {\n",
       "  background-color: #fff7fb;\n",
       "  color: #000000;\n",
       "}\n",
       "#T_5e6cd_row0_col2 {\n",
       "  background-color: #d2d2e7;\n",
       "  color: #000000;\n",
       "}\n",
       "#T_5e6cd_row0_col3 {\n",
       "  background-color: #b5c4df;\n",
       "  color: #000000;\n",
       "}\n",
       "#T_5e6cd_row0_col4 {\n",
       "  background-color: #f5eef6;\n",
       "  color: #000000;\n",
       "}\n",
       "#T_5e6cd_row0_col5 {\n",
       "  background-color: #e9e5f1;\n",
       "  color: #000000;\n",
       "}\n",
       "#T_5e6cd_row0_col6, #T_5e6cd_row8_col3 {\n",
       "  background-color: #d1d2e6;\n",
       "  color: #000000;\n",
       "}\n",
       "#T_5e6cd_row0_col7, #T_5e6cd_row1_col7 {\n",
       "  background-color: #e1dfed;\n",
       "  color: #000000;\n",
       "}\n",
       "#T_5e6cd_row0_col8, #T_5e6cd_row3_col6 {\n",
       "  background-color: #dedcec;\n",
       "  color: #000000;\n",
       "}\n",
       "#T_5e6cd_row1_col2 {\n",
       "  background-color: #e0dded;\n",
       "  color: #000000;\n",
       "}\n",
       "#T_5e6cd_row1_col4, #T_5e6cd_row4_col1 {\n",
       "  background-color: #97b7d7;\n",
       "  color: #000000;\n",
       "}\n",
       "#T_5e6cd_row1_col5, #T_5e6cd_row2_col4 {\n",
       "  background-color: #f3edf5;\n",
       "  color: #000000;\n",
       "}\n",
       "#T_5e6cd_row1_col6, #T_5e6cd_row6_col1 {\n",
       "  background-color: #b8c6e0;\n",
       "  color: #000000;\n",
       "}\n",
       "#T_5e6cd_row1_col8 {\n",
       "  background-color: #e2dfee;\n",
       "  color: #000000;\n",
       "}\n",
       "#T_5e6cd_row2_col0, #T_5e6cd_row5_col0, #T_5e6cd_row5_col3 {\n",
       "  background-color: #bdc8e1;\n",
       "  color: #000000;\n",
       "}\n",
       "#T_5e6cd_row2_col1, #T_5e6cd_row6_col0, #T_5e6cd_row7_col0, #T_5e6cd_row7_col1 {\n",
       "  background-color: #d0d1e6;\n",
       "  color: #000000;\n",
       "}\n",
       "#T_5e6cd_row2_col3 {\n",
       "  background-color: #fbf3f9;\n",
       "  color: #000000;\n",
       "}\n",
       "#T_5e6cd_row2_col6 {\n",
       "  background-color: #80aed2;\n",
       "  color: #f1f1f1;\n",
       "}\n",
       "#T_5e6cd_row2_col8 {\n",
       "  background-color: #529bc7;\n",
       "  color: #f1f1f1;\n",
       "}\n",
       "#T_5e6cd_row3_col0, #T_5e6cd_row7_col3 {\n",
       "  background-color: #a7bddb;\n",
       "  color: #000000;\n",
       "}\n",
       "#T_5e6cd_row3_col1 {\n",
       "  background-color: #f5eff6;\n",
       "  color: #000000;\n",
       "}\n",
       "#T_5e6cd_row3_col2, #T_5e6cd_row7_col2 {\n",
       "  background-color: #fef6fa;\n",
       "  color: #000000;\n",
       "}\n",
       "#T_5e6cd_row3_col4 {\n",
       "  background-color: #c4cbe3;\n",
       "  color: #000000;\n",
       "}\n",
       "#T_5e6cd_row3_col5, #T_5e6cd_row5_col7 {\n",
       "  background-color: #dcdaeb;\n",
       "  color: #000000;\n",
       "}\n",
       "#T_5e6cd_row3_col7 {\n",
       "  background-color: #adc1dd;\n",
       "  color: #000000;\n",
       "}\n",
       "#T_5e6cd_row3_col8, #T_5e6cd_row4_col7 {\n",
       "  background-color: #d9d8ea;\n",
       "  color: #000000;\n",
       "}\n",
       "#T_5e6cd_row4_col0 {\n",
       "  background-color: #f4eef6;\n",
       "  color: #000000;\n",
       "}\n",
       "#T_5e6cd_row4_col3 {\n",
       "  background-color: #d2d3e7;\n",
       "  color: #000000;\n",
       "}\n",
       "#T_5e6cd_row4_col5 {\n",
       "  background-color: #fdf5fa;\n",
       "  color: #000000;\n",
       "}\n",
       "#T_5e6cd_row5_col1 {\n",
       "  background-color: #ced0e6;\n",
       "  color: #000000;\n",
       "}\n",
       "#T_5e6cd_row5_col2 {\n",
       "  background-color: #ede8f3;\n",
       "  color: #000000;\n",
       "}\n",
       "#T_5e6cd_row5_col4, #T_5e6cd_row6_col7 {\n",
       "  background-color: #dbdaeb;\n",
       "  color: #000000;\n",
       "}\n",
       "#T_5e6cd_row5_col6 {\n",
       "  background-color: #c0c9e2;\n",
       "  color: #000000;\n",
       "}\n",
       "#T_5e6cd_row5_col8 {\n",
       "  background-color: #e8e4f0;\n",
       "  color: #000000;\n",
       "}\n",
       "#T_5e6cd_row6_col2 {\n",
       "  background-color: #93b5d6;\n",
       "  color: #000000;\n",
       "}\n",
       "#T_5e6cd_row6_col3, #T_5e6cd_row6_col5 {\n",
       "  background-color: #eae6f1;\n",
       "  color: #000000;\n",
       "}\n",
       "#T_5e6cd_row6_col8 {\n",
       "  background-color: #bfc9e1;\n",
       "  color: #000000;\n",
       "}\n",
       "#T_5e6cd_row7_col4 {\n",
       "  background-color: #c5cce3;\n",
       "  color: #000000;\n",
       "}\n",
       "#T_5e6cd_row7_col5 {\n",
       "  background-color: #f0eaf4;\n",
       "  color: #000000;\n",
       "}\n",
       "#T_5e6cd_row7_col6 {\n",
       "  background-color: #c8cde4;\n",
       "  color: #000000;\n",
       "}\n",
       "#T_5e6cd_row7_col8 {\n",
       "  background-color: #d6d6e9;\n",
       "  color: #000000;\n",
       "}\n",
       "#T_5e6cd_row8_col0 {\n",
       "  background-color: #c6cce3;\n",
       "  color: #000000;\n",
       "}\n",
       "#T_5e6cd_row8_col1 {\n",
       "  background-color: #cdd0e5;\n",
       "  color: #000000;\n",
       "}\n",
       "#T_5e6cd_row8_col2 {\n",
       "  background-color: #4c99c5;\n",
       "  color: #f1f1f1;\n",
       "}\n",
       "#T_5e6cd_row8_col4 {\n",
       "  background-color: #efe9f3;\n",
       "  color: #000000;\n",
       "}\n",
       "#T_5e6cd_row8_col5 {\n",
       "  background-color: #f7f0f7;\n",
       "  color: #000000;\n",
       "}\n",
       "#T_5e6cd_row8_col6 {\n",
       "  background-color: #a5bddb;\n",
       "  color: #000000;\n",
       "}\n",
       "#T_5e6cd_row8_col7 {\n",
       "  background-color: #d3d4e7;\n",
       "  color: #000000;\n",
       "}\n",
       "</style>\n",
       "<table id=\"T_5e6cd\">\n",
       "  <thead>\n",
       "    <tr>\n",
       "      <th class=\"blank level0\" >&nbsp;</th>\n",
       "      <th id=\"T_5e6cd_level0_col0\" class=\"col_heading level0 col0\" >track_id</th>\n",
       "      <th id=\"T_5e6cd_level0_col1\" class=\"col_heading level0 col1\" >acousticness</th>\n",
       "      <th id=\"T_5e6cd_level0_col2\" class=\"col_heading level0 col2\" >danceability</th>\n",
       "      <th id=\"T_5e6cd_level0_col3\" class=\"col_heading level0 col3\" >energy</th>\n",
       "      <th id=\"T_5e6cd_level0_col4\" class=\"col_heading level0 col4\" >instrumentalness</th>\n",
       "      <th id=\"T_5e6cd_level0_col5\" class=\"col_heading level0 col5\" >liveness</th>\n",
       "      <th id=\"T_5e6cd_level0_col6\" class=\"col_heading level0 col6\" >speechiness</th>\n",
       "      <th id=\"T_5e6cd_level0_col7\" class=\"col_heading level0 col7\" >tempo</th>\n",
       "      <th id=\"T_5e6cd_level0_col8\" class=\"col_heading level0 col8\" >valence</th>\n",
       "    </tr>\n",
       "  </thead>\n",
       "  <tbody>\n",
       "    <tr>\n",
       "      <th id=\"T_5e6cd_level0_row0\" class=\"row_heading level0 row0\" >track_id</th>\n",
       "      <td id=\"T_5e6cd_row0_col0\" class=\"data row0 col0\" >1.000000</td>\n",
       "      <td id=\"T_5e6cd_row0_col1\" class=\"data row0 col1\" >-0.372282</td>\n",
       "      <td id=\"T_5e6cd_row0_col2\" class=\"data row0 col2\" >0.049454</td>\n",
       "      <td id=\"T_5e6cd_row0_col3\" class=\"data row0 col3\" >0.140703</td>\n",
       "      <td id=\"T_5e6cd_row0_col4\" class=\"data row0 col4\" >-0.275623</td>\n",
       "      <td id=\"T_5e6cd_row0_col5\" class=\"data row0 col5\" >0.048231</td>\n",
       "      <td id=\"T_5e6cd_row0_col6\" class=\"data row0 col6\" >-0.026995</td>\n",
       "      <td id=\"T_5e6cd_row0_col7\" class=\"data row0 col7\" >-0.025392</td>\n",
       "      <td id=\"T_5e6cd_row0_col8\" class=\"data row0 col8\" >0.010070</td>\n",
       "    </tr>\n",
       "    <tr>\n",
       "      <th id=\"T_5e6cd_level0_row1\" class=\"row_heading level0 row1\" >acousticness</th>\n",
       "      <td id=\"T_5e6cd_row1_col0\" class=\"data row1 col0\" >-0.372282</td>\n",
       "      <td id=\"T_5e6cd_row1_col1\" class=\"data row1 col1\" >1.000000</td>\n",
       "      <td id=\"T_5e6cd_row1_col2\" class=\"data row1 col2\" >-0.028954</td>\n",
       "      <td id=\"T_5e6cd_row1_col3\" class=\"data row1 col3\" >-0.281619</td>\n",
       "      <td id=\"T_5e6cd_row1_col4\" class=\"data row1 col4\" >0.194780</td>\n",
       "      <td id=\"T_5e6cd_row1_col5\" class=\"data row1 col5\" >-0.019991</td>\n",
       "      <td id=\"T_5e6cd_row1_col6\" class=\"data row1 col6\" >0.072204</td>\n",
       "      <td id=\"T_5e6cd_row1_col7\" class=\"data row1 col7\" >-0.026310</td>\n",
       "      <td id=\"T_5e6cd_row1_col8\" class=\"data row1 col8\" >-0.013841</td>\n",
       "    </tr>\n",
       "    <tr>\n",
       "      <th id=\"T_5e6cd_level0_row2\" class=\"row_heading level0 row2\" >danceability</th>\n",
       "      <td id=\"T_5e6cd_row2_col0\" class=\"data row2 col0\" >0.049454</td>\n",
       "      <td id=\"T_5e6cd_row2_col1\" class=\"data row2 col1\" >-0.028954</td>\n",
       "      <td id=\"T_5e6cd_row2_col2\" class=\"data row2 col2\" >1.000000</td>\n",
       "      <td id=\"T_5e6cd_row2_col3\" class=\"data row2 col3\" >-0.242032</td>\n",
       "      <td id=\"T_5e6cd_row2_col4\" class=\"data row2 col4\" >-0.255217</td>\n",
       "      <td id=\"T_5e6cd_row2_col5\" class=\"data row2 col5\" >-0.106584</td>\n",
       "      <td id=\"T_5e6cd_row2_col6\" class=\"data row2 col6\" >0.276206</td>\n",
       "      <td id=\"T_5e6cd_row2_col7\" class=\"data row2 col7\" >-0.242089</td>\n",
       "      <td id=\"T_5e6cd_row2_col8\" class=\"data row2 col8\" >0.473165</td>\n",
       "    </tr>\n",
       "    <tr>\n",
       "      <th id=\"T_5e6cd_level0_row3\" class=\"row_heading level0 row3\" >energy</th>\n",
       "      <td id=\"T_5e6cd_row3_col0\" class=\"data row3 col0\" >0.140703</td>\n",
       "      <td id=\"T_5e6cd_row3_col1\" class=\"data row3 col1\" >-0.281619</td>\n",
       "      <td id=\"T_5e6cd_row3_col2\" class=\"data row3 col2\" >-0.242032</td>\n",
       "      <td id=\"T_5e6cd_row3_col3\" class=\"data row3 col3\" >1.000000</td>\n",
       "      <td id=\"T_5e6cd_row3_col4\" class=\"data row3 col4\" >0.028238</td>\n",
       "      <td id=\"T_5e6cd_row3_col5\" class=\"data row3 col5\" >0.113331</td>\n",
       "      <td id=\"T_5e6cd_row3_col6\" class=\"data row3 col6\" >-0.109983</td>\n",
       "      <td id=\"T_5e6cd_row3_col7\" class=\"data row3 col7\" >0.195227</td>\n",
       "      <td id=\"T_5e6cd_row3_col8\" class=\"data row3 col8\" >0.038603</td>\n",
       "    </tr>\n",
       "    <tr>\n",
       "      <th id=\"T_5e6cd_level0_row4\" class=\"row_heading level0 row4\" >instrumentalness</th>\n",
       "      <td id=\"T_5e6cd_row4_col0\" class=\"data row4 col0\" >-0.275623</td>\n",
       "      <td id=\"T_5e6cd_row4_col1\" class=\"data row4 col1\" >0.194780</td>\n",
       "      <td id=\"T_5e6cd_row4_col2\" class=\"data row4 col2\" >-0.255217</td>\n",
       "      <td id=\"T_5e6cd_row4_col3\" class=\"data row4 col3\" >0.028238</td>\n",
       "      <td id=\"T_5e6cd_row4_col4\" class=\"data row4 col4\" >1.000000</td>\n",
       "      <td id=\"T_5e6cd_row4_col5\" class=\"data row4 col5\" >-0.091022</td>\n",
       "      <td id=\"T_5e6cd_row4_col6\" class=\"data row4 col6\" >-0.366762</td>\n",
       "      <td id=\"T_5e6cd_row4_col7\" class=\"data row4 col7\" >0.022215</td>\n",
       "      <td id=\"T_5e6cd_row4_col8\" class=\"data row4 col8\" >-0.219967</td>\n",
       "    </tr>\n",
       "    <tr>\n",
       "      <th id=\"T_5e6cd_level0_row5\" class=\"row_heading level0 row5\" >liveness</th>\n",
       "      <td id=\"T_5e6cd_row5_col0\" class=\"data row5 col0\" >0.048231</td>\n",
       "      <td id=\"T_5e6cd_row5_col1\" class=\"data row5 col1\" >-0.019991</td>\n",
       "      <td id=\"T_5e6cd_row5_col2\" class=\"data row5 col2\" >-0.106584</td>\n",
       "      <td id=\"T_5e6cd_row5_col3\" class=\"data row5 col3\" >0.113331</td>\n",
       "      <td id=\"T_5e6cd_row5_col4\" class=\"data row5 col4\" >-0.091022</td>\n",
       "      <td id=\"T_5e6cd_row5_col5\" class=\"data row5 col5\" >1.000000</td>\n",
       "      <td id=\"T_5e6cd_row5_col6\" class=\"data row5 col6\" >0.041173</td>\n",
       "      <td id=\"T_5e6cd_row5_col7\" class=\"data row5 col7\" >0.002732</td>\n",
       "      <td id=\"T_5e6cd_row5_col8\" class=\"data row5 col8\" >-0.045093</td>\n",
       "    </tr>\n",
       "    <tr>\n",
       "      <th id=\"T_5e6cd_level0_row6\" class=\"row_heading level0 row6\" >speechiness</th>\n",
       "      <td id=\"T_5e6cd_row6_col0\" class=\"data row6 col0\" >-0.026995</td>\n",
       "      <td id=\"T_5e6cd_row6_col1\" class=\"data row6 col1\" >0.072204</td>\n",
       "      <td id=\"T_5e6cd_row6_col2\" class=\"data row6 col2\" >0.276206</td>\n",
       "      <td id=\"T_5e6cd_row6_col3\" class=\"data row6 col3\" >-0.109983</td>\n",
       "      <td id=\"T_5e6cd_row6_col4\" class=\"data row6 col4\" >-0.366762</td>\n",
       "      <td id=\"T_5e6cd_row6_col5\" class=\"data row6 col5\" >0.041173</td>\n",
       "      <td id=\"T_5e6cd_row6_col6\" class=\"data row6 col6\" >1.000000</td>\n",
       "      <td id=\"T_5e6cd_row6_col7\" class=\"data row6 col7\" >0.008241</td>\n",
       "      <td id=\"T_5e6cd_row6_col8\" class=\"data row6 col8\" >0.149894</td>\n",
       "    </tr>\n",
       "    <tr>\n",
       "      <th id=\"T_5e6cd_level0_row7\" class=\"row_heading level0 row7\" >tempo</th>\n",
       "      <td id=\"T_5e6cd_row7_col0\" class=\"data row7 col0\" >-0.025392</td>\n",
       "      <td id=\"T_5e6cd_row7_col1\" class=\"data row7 col1\" >-0.026310</td>\n",
       "      <td id=\"T_5e6cd_row7_col2\" class=\"data row7 col2\" >-0.242089</td>\n",
       "      <td id=\"T_5e6cd_row7_col3\" class=\"data row7 col3\" >0.195227</td>\n",
       "      <td id=\"T_5e6cd_row7_col4\" class=\"data row7 col4\" >0.022215</td>\n",
       "      <td id=\"T_5e6cd_row7_col5\" class=\"data row7 col5\" >0.002732</td>\n",
       "      <td id=\"T_5e6cd_row7_col6\" class=\"data row7 col6\" >0.008241</td>\n",
       "      <td id=\"T_5e6cd_row7_col7\" class=\"data row7 col7\" >1.000000</td>\n",
       "      <td id=\"T_5e6cd_row7_col8\" class=\"data row7 col8\" >0.052221</td>\n",
       "    </tr>\n",
       "    <tr>\n",
       "      <th id=\"T_5e6cd_level0_row8\" class=\"row_heading level0 row8\" >valence</th>\n",
       "      <td id=\"T_5e6cd_row8_col0\" class=\"data row8 col0\" >0.010070</td>\n",
       "      <td id=\"T_5e6cd_row8_col1\" class=\"data row8 col1\" >-0.013841</td>\n",
       "      <td id=\"T_5e6cd_row8_col2\" class=\"data row8 col2\" >0.473165</td>\n",
       "      <td id=\"T_5e6cd_row8_col3\" class=\"data row8 col3\" >0.038603</td>\n",
       "      <td id=\"T_5e6cd_row8_col4\" class=\"data row8 col4\" >-0.219967</td>\n",
       "      <td id=\"T_5e6cd_row8_col5\" class=\"data row8 col5\" >-0.045093</td>\n",
       "      <td id=\"T_5e6cd_row8_col6\" class=\"data row8 col6\" >0.149894</td>\n",
       "      <td id=\"T_5e6cd_row8_col7\" class=\"data row8 col7\" >0.052221</td>\n",
       "      <td id=\"T_5e6cd_row8_col8\" class=\"data row8 col8\" >1.000000</td>\n",
       "    </tr>\n",
       "  </tbody>\n",
       "</table>\n"
      ],
      "text/plain": [
       "<pandas.io.formats.style.Styler at 0x20fdc68eca0>"
      ]
     },
     "execution_count": 7,
     "metadata": {},
     "output_type": "execute_result"
    }
   ],
   "source": [
    "#correlation between each pair of the features\n",
    "corr = data.corr()\n",
    "corr.style.background_gradient()"
   ]
  },
  {
   "cell_type": "code",
   "execution_count": 8,
   "id": "a95b9357",
   "metadata": {},
   "outputs": [],
   "source": [
    "#identify features and target\n",
    "x = data.iloc[: , 1:9]\n",
    "y = data.loc[: , \"genre_top\"]\n"
   ]
  },
  {
   "cell_type": "markdown",
   "id": "5687ac91",
   "metadata": {},
   "source": [
    "### splitting the dataset "
   ]
  },
  {
   "cell_type": "code",
   "execution_count": 9,
   "id": "1568790f",
   "metadata": {},
   "outputs": [],
   "source": [
    "x_train,x_test,y_train,y_test = train_test_split( x , y , test_size=0.2 , random_state=0 )"
   ]
  },
  {
   "cell_type": "markdown",
   "id": "40f6f147",
   "metadata": {},
   "source": [
    "# Normalizing the feature data"
   ]
  },
  {
   "cell_type": "code",
   "execution_count": 10,
   "id": "4762e85e",
   "metadata": {},
   "outputs": [],
   "source": [
    "scaler = StandardScaler()\n",
    "scaled_train_data = scaler.fit_transform(x_train)\n",
    "scaled_test_data = scaler.transform(x_test)"
   ]
  },
  {
   "cell_type": "markdown",
   "id": "7d2ddbda",
   "metadata": {},
   "source": [
    "# PCA on scaled data"
   ]
  },
  {
   "cell_type": "code",
   "execution_count": 11,
   "id": "be7a419c",
   "metadata": {},
   "outputs": [],
   "source": [
    "pca = PCA()\n",
    "pca.fit(scaled_train_data)\n",
    "explained_var = pca.explained_variance_ratio_"
   ]
  },
  {
   "cell_type": "code",
   "execution_count": 12,
   "id": "e75ca7ac",
   "metadata": {},
   "outputs": [
    {
     "data": {
      "text/plain": [
       "Text(0.5, 1.0, '% Explained Variance')"
      ]
     },
     "execution_count": 12,
     "metadata": {},
     "output_type": "execute_result"
    },
    {
     "data": {
      "image/png": "[encoded data removed]",
      "text/plain": [
       "<Figure size 1080x432 with 1 Axes>"
      ]
     },
     "metadata": {
      "needs_background": "light"
     },
     "output_type": "display_data"
    }
   ],
   "source": [
    "# plot the explained variance\n",
    "fig = plt.figure(figsize=(15,6))\n",
    "plt.bar(range(pca.n_components_),explained_var)\n",
    "plt.title(\"% Explained Variance\")"
   ]
  },
  {
   "cell_type": "code",
   "execution_count": 13,
   "id": "397200b6",
   "metadata": {},
   "outputs": [
    {
     "data": {
      "text/plain": [
       "Text(0.5, 1.0, '% cumulative Variance')"
      ]
     },
     "execution_count": 13,
     "metadata": {},
     "output_type": "execute_result"
    },
    {
     "data": {
      "image/png": "[encoded data removed]",
      "text/plain": [
       "<Figure size 1080x432 with 1 Axes>"
      ]
     },
     "metadata": {
      "needs_background": "light"
     },
     "output_type": "display_data"
    }
   ],
   "source": [
    "# cumulative variance\n",
    "cum_var = np.cumsum(explained_var)\n",
    "fig = plt.figure(figsize=(15,6))\n",
    "plt.bar(range(pca.n_components_),cum_var)\n",
    "plt.axhline(y = 0.9 , linestyle = \"--\")\n",
    "plt.title(\"% cumulative Variance\")"
   ]
  },
  {
   "cell_type": "code",
   "execution_count": 14,
   "metadata": {},
   "outputs": [],
   "source": [
    "# we can explain 90% of the data with 7 components\n",
    "pca = PCA(n_components=7 , random_state=0)\n",
    "train_pca = pca.fit_transform(scaled_train_data)\n",
    "test_pca = pca.transform(scaled_test_data)"
   ]
  },
  {
   "cell_type": "markdown",
   "id": "97d09176",
   "metadata": {},
   "source": [
    "# Train decision tree model"
   ]
  },
  {
   "cell_type": "code",
   "execution_count": 15,
   "id": "aa8536fd",
   "metadata": {},
   "outputs": [
    {
     "name": "stdout",
     "output_type": "stream",
     "text": [
      "0.8616024973985432\n"
     ]
    }
   ],
   "source": [
    "d_tree = DecisionTreeClassifier()\n",
    "d_tree.fit(train_pca,y_train)\n",
    "predictions = d_tree.predict(test_pca)\n",
    "ac = accuracy_score(y_test,predictions)\n",
    "print(ac)"
   ]
  },
  {
   "cell_type": "markdown",
   "id": "98e3a7f3",
   "metadata": {},
   "source": [
    "# comparison to logistic regression"
   ]
  },
  {
   "cell_type": "code",
   "execution_count": 16,
   "id": "b9696833",
   "metadata": {},
   "outputs": [],
   "source": [
    "log_model = LogisticRegression()\n",
    "log_model.fit(train_pca,y_train)\n",
    "log_predictions = log_model.predict(test_pca)"
   ]
  },
  {
   "cell_type": "code",
   "execution_count": 17,
   "id": "7be4f789",
   "metadata": {},
   "outputs": [
    {
     "name": "stdout",
     "output_type": "stream",
     "text": [
      "decision tree model score =  0.8616024973985432\n",
      "logistic regression model score =  0.8782518210197711\n"
     ]
    }
   ],
   "source": [
    "# now i will compare which model has higher accuracy score\n",
    "\n",
    "print(\"decision tree model score = \" , accuracy_score(y_test,predictions))\n",
    "print(\"logistic regression model score = \", accuracy_score(y_test,log_predictions))"
   ]
  },
  {
   "cell_type": "code",
   "execution_count": 18,
   "id": "89d7e981",
   "metadata": {},
   "outputs": [
    {
     "name": "stdout",
     "output_type": "stream",
     "text": [
      "decision tree:\n",
      "      0    1\n",
      "0  118   65\n",
      "1   68  710\n",
      "logistic regression:\n",
      "       0    1\n",
      "0  104   79\n",
      "1   38  740\n"
     ]
    }
   ],
   "source": [
    "print(\"decision tree:\\n\" , pd.DataFrame(confusion_matrix(y_test,predictions)))\n",
    "print(\"logistic regression:\\n \", pd.DataFrame(confusion_matrix(y_test,log_predictions)))"
   ]
  },
  {
   "cell_type": "markdown",
   "id": "4c4fe6a2",
   "metadata": {},
   "source": [
    "#### logistic regression has higher accuracy score!"
   ]
  },
  {
   "cell_type": "markdown",
   "id": "715b97f7",
   "metadata": {},
   "source": [
    "# Balancing the data"
   ]
  },
  {
   "cell_type": "code",
   "execution_count": 19,
   "id": "53eec3c8",
   "metadata": {},
   "outputs": [
    {
     "name": "stdout",
     "output_type": "stream",
     "text": [
      "Hip-Hop:  (910, 10)\n",
      "Rock:  (3892, 10)\n"
     ]
    }
   ],
   "source": [
    "hip_hop = data[data['genre_top'] == \"Hip-Hop\"]\n",
    "rock = data[data['genre_top'] == 'Rock']\n",
    "\n",
    "print('Hip-Hop: ' , hip_hop.shape)\n",
    "print('Rock: ', rock.shape)\n"
   ]
  },
  {
   "cell_type": "code",
   "execution_count": 20,
   "id": "8a1aa5fd",
   "metadata": {},
   "outputs": [
    {
     "data": {
      "text/plain": [
       "(910, 10)"
      ]
     },
     "execution_count": 20,
     "metadata": {},
     "output_type": "execute_result"
    }
   ],
   "source": [
    "# balancing the data with under-sampling\n",
    "rock = rock.sample(hip_hop.shape[0] , random_state=0)\n",
    "rock.shape"
   ]
  },
  {
   "cell_type": "code",
   "execution_count": 21,
   "id": "9572c58a",
   "metadata": {},
   "outputs": [
    {
     "data": {
      "text/plain": [
       "(1820, 10)"
      ]
     },
     "execution_count": 21,
     "metadata": {},
     "output_type": "execute_result"
    }
   ],
   "source": [
    "# merging the data\n",
    "data_2 = pd.concat([hip_hop,rock])\n",
    "data_2.shape"
   ]
  },
  {
   "cell_type": "code",
   "execution_count": 22,
   "id": "3779ebf2",
   "metadata": {},
   "outputs": [
    {
     "data": {
      "text/html": [
       "<div>\n",
       "<style scoped>\n",
       "    .dataframe tbody tr th:only-of-type {\n",
       "        vertical-align: middle;\n",
       "    }\n",
       "\n",
       "    .dataframe tbody tr th {\n",
       "        vertical-align: top;\n",
       "    }\n",
       "\n",
       "    .dataframe thead th {\n",
       "        text-align: right;\n",
       "    }\n",
       "</style>\n",
       "<table border=\"1\" class=\"dataframe\">\n",
       "  <thead>\n",
       "    <tr style=\"text-align: right;\">\n",
       "      <th></th>\n",
       "      <th>track_id</th>\n",
       "      <th>acousticness</th>\n",
       "      <th>danceability</th>\n",
       "      <th>energy</th>\n",
       "      <th>instrumentalness</th>\n",
       "      <th>liveness</th>\n",
       "      <th>speechiness</th>\n",
       "      <th>tempo</th>\n",
       "      <th>valence</th>\n",
       "      <th>genre_top</th>\n",
       "    </tr>\n",
       "  </thead>\n",
       "  <tbody>\n",
       "    <tr>\n",
       "      <th>0</th>\n",
       "      <td>2</td>\n",
       "      <td>0.416675</td>\n",
       "      <td>0.675894</td>\n",
       "      <td>0.634476</td>\n",
       "      <td>0.010628</td>\n",
       "      <td>0.177647</td>\n",
       "      <td>0.159310</td>\n",
       "      <td>165.922</td>\n",
       "      <td>0.576661</td>\n",
       "      <td>Hip-Hop</td>\n",
       "    </tr>\n",
       "    <tr>\n",
       "      <th>1</th>\n",
       "      <td>3</td>\n",
       "      <td>0.374408</td>\n",
       "      <td>0.528643</td>\n",
       "      <td>0.817461</td>\n",
       "      <td>0.001851</td>\n",
       "      <td>0.105880</td>\n",
       "      <td>0.461818</td>\n",
       "      <td>126.957</td>\n",
       "      <td>0.269240</td>\n",
       "      <td>Hip-Hop</td>\n",
       "    </tr>\n",
       "    <tr>\n",
       "      <th>2</th>\n",
       "      <td>5</td>\n",
       "      <td>0.043567</td>\n",
       "      <td>0.745566</td>\n",
       "      <td>0.701470</td>\n",
       "      <td>0.000697</td>\n",
       "      <td>0.373143</td>\n",
       "      <td>0.124595</td>\n",
       "      <td>100.260</td>\n",
       "      <td>0.621661</td>\n",
       "      <td>Hip-Hop</td>\n",
       "    </tr>\n",
       "    <tr>\n",
       "      <th>3</th>\n",
       "      <td>134</td>\n",
       "      <td>0.452217</td>\n",
       "      <td>0.513238</td>\n",
       "      <td>0.560410</td>\n",
       "      <td>0.019443</td>\n",
       "      <td>0.096567</td>\n",
       "      <td>0.525519</td>\n",
       "      <td>114.290</td>\n",
       "      <td>0.894072</td>\n",
       "      <td>Hip-Hop</td>\n",
       "    </tr>\n",
       "    <tr>\n",
       "      <th>118</th>\n",
       "      <td>583</td>\n",
       "      <td>0.748986</td>\n",
       "      <td>0.765886</td>\n",
       "      <td>0.513173</td>\n",
       "      <td>0.957209</td>\n",
       "      <td>0.614844</td>\n",
       "      <td>0.886914</td>\n",
       "      <td>180.025</td>\n",
       "      <td>0.401672</td>\n",
       "      <td>Hip-Hop</td>\n",
       "    </tr>\n",
       "    <tr>\n",
       "      <th>...</th>\n",
       "      <td>...</td>\n",
       "      <td>...</td>\n",
       "      <td>...</td>\n",
       "      <td>...</td>\n",
       "      <td>...</td>\n",
       "      <td>...</td>\n",
       "      <td>...</td>\n",
       "      <td>...</td>\n",
       "      <td>...</td>\n",
       "      <td>...</td>\n",
       "    </tr>\n",
       "    <tr>\n",
       "      <th>2300</th>\n",
       "      <td>19658</td>\n",
       "      <td>0.709762</td>\n",
       "      <td>0.162041</td>\n",
       "      <td>0.742216</td>\n",
       "      <td>0.931236</td>\n",
       "      <td>0.632463</td>\n",
       "      <td>0.037541</td>\n",
       "      <td>151.344</td>\n",
       "      <td>0.230853</td>\n",
       "      <td>Rock</td>\n",
       "    </tr>\n",
       "    <tr>\n",
       "      <th>27</th>\n",
       "      <td>303</td>\n",
       "      <td>0.922907</td>\n",
       "      <td>0.440868</td>\n",
       "      <td>0.243452</td>\n",
       "      <td>0.859714</td>\n",
       "      <td>0.114738</td>\n",
       "      <td>0.337816</td>\n",
       "      <td>129.598</td>\n",
       "      <td>0.577069</td>\n",
       "      <td>Rock</td>\n",
       "    </tr>\n",
       "    <tr>\n",
       "      <th>4753</th>\n",
       "      <td>121260</td>\n",
       "      <td>0.169377</td>\n",
       "      <td>0.347725</td>\n",
       "      <td>0.354402</td>\n",
       "      <td>0.885886</td>\n",
       "      <td>0.102999</td>\n",
       "      <td>0.049030</td>\n",
       "      <td>146.704</td>\n",
       "      <td>0.076857</td>\n",
       "      <td>Rock</td>\n",
       "    </tr>\n",
       "    <tr>\n",
       "      <th>705</th>\n",
       "      <td>3764</td>\n",
       "      <td>0.325395</td>\n",
       "      <td>0.281429</td>\n",
       "      <td>0.350532</td>\n",
       "      <td>0.962310</td>\n",
       "      <td>0.184741</td>\n",
       "      <td>0.046942</td>\n",
       "      <td>134.303</td>\n",
       "      <td>0.039635</td>\n",
       "      <td>Rock</td>\n",
       "    </tr>\n",
       "    <tr>\n",
       "      <th>1445</th>\n",
       "      <td>11030</td>\n",
       "      <td>0.014373</td>\n",
       "      <td>0.294869</td>\n",
       "      <td>0.948661</td>\n",
       "      <td>0.783957</td>\n",
       "      <td>0.126897</td>\n",
       "      <td>0.086453</td>\n",
       "      <td>84.291</td>\n",
       "      <td>0.350016</td>\n",
       "      <td>Rock</td>\n",
       "    </tr>\n",
       "  </tbody>\n",
       "</table>\n",
       "<p>1820 rows × 10 columns</p>\n",
       "</div>"
      ],
      "text/plain": [
       "      track_id  acousticness  danceability    energy  instrumentalness  \\\n",
       "0            2      0.416675      0.675894  0.634476          0.010628   \n",
       "1            3      0.374408      0.528643  0.817461          0.001851   \n",
       "2            5      0.043567      0.745566  0.701470          0.000697   \n",
       "3          134      0.452217      0.513238  0.560410          0.019443   \n",
       "118        583      0.748986      0.765886  0.513173          0.957209   \n",
       "...        ...           ...           ...       ...               ...   \n",
       "2300     19658      0.709762      0.162041  0.742216          0.931236   \n",
       "27         303      0.922907      0.440868  0.243452          0.859714   \n",
       "4753    121260      0.169377      0.347725  0.354402          0.885886   \n",
       "705       3764      0.325395      0.281429  0.350532          0.962310   \n",
       "1445     11030      0.014373      0.294869  0.948661          0.783957   \n",
       "\n",
       "      liveness  speechiness    tempo   valence genre_top  \n",
       "0     0.177647     0.159310  165.922  0.576661   Hip-Hop  \n",
       "1     0.105880     0.461818  126.957  0.269240   Hip-Hop  \n",
       "2     0.373143     0.124595  100.260  0.621661   Hip-Hop  \n",
       "3     0.096567     0.525519  114.290  0.894072   Hip-Hop  \n",
       "118   0.614844     0.886914  180.025  0.401672   Hip-Hop  \n",
       "...        ...          ...      ...       ...       ...  \n",
       "2300  0.632463     0.037541  151.344  0.230853      Rock  \n",
       "27    0.114738     0.337816  129.598  0.577069      Rock  \n",
       "4753  0.102999     0.049030  146.704  0.076857      Rock  \n",
       "705   0.184741     0.046942  134.303  0.039635      Rock  \n",
       "1445  0.126897     0.086453   84.291  0.350016      Rock  \n",
       "\n",
       "[1820 rows x 10 columns]"
      ]
     },
     "execution_count": 22,
     "metadata": {},
     "output_type": "execute_result"
    }
   ],
   "source": [
    "data_2"
   ]
  },
  {
   "cell_type": "code",
   "execution_count": 23,
   "id": "d5ac2fb5",
   "metadata": {},
   "outputs": [],
   "source": [
    "x_2 = data_2.iloc[: , 1:9]\n",
    "y_2 = data_2.loc[: , \"genre_top\"]"
   ]
  },
  {
   "cell_type": "code",
   "execution_count": 24,
   "id": "ddd75146",
   "metadata": {},
   "outputs": [],
   "source": [
    "x2_train,x2_test,y2_train,y2_test = train_test_split(x_2,y_2,test_size=0.2,random_state=0)"
   ]
  },
  {
   "cell_type": "code",
   "execution_count": 25,
   "id": "ca1b5477",
   "metadata": {},
   "outputs": [],
   "source": [
    "scaled_train2 = scaler.fit_transform(x2_train)\n",
    "scaled_test2 = scaler.transform(x2_test)"
   ]
  },
  {
   "cell_type": "code",
   "execution_count": 26,
   "id": "f3094c5b",
   "metadata": {},
   "outputs": [],
   "source": [
    "train2_pca = pca.fit_transform(scaled_train2)\n",
    "test2_pca = pca.transform(scaled_test2)"
   ]
  },
  {
   "cell_type": "markdown",
   "id": "c29c85f9",
   "metadata": {},
   "source": [
    "# checking if balanced data work better"
   ]
  },
  {
   "cell_type": "code",
   "execution_count": 27,
   "id": "726ec320",
   "metadata": {},
   "outputs": [
    {
     "name": "stdout",
     "output_type": "stream",
     "text": [
      "decision tree:\n",
      "\n",
      "accuracy =  0.8434065934065934 \n",
      "\n",
      "     0    1\n",
      "0  156   26\n",
      "1   31  151\n"
     ]
    }
   ],
   "source": [
    "d_tree2 = DecisionTreeClassifier()\n",
    "d_tree2.fit(x2_train,y2_train)\n",
    "predictions2 = d_tree2.predict(x2_test)\n",
    "print(\"decision tree:\\n\")\n",
    "print(\"accuracy = \", accuracy_score(y2_test,predictions2),'\\n')\n",
    "print(pd.DataFrame(confusion_matrix(y2_test,predictions2)))\n"
   ]
  },
  {
   "cell_type": "code",
   "execution_count": 28,
   "id": "5d759d7d",
   "metadata": {},
   "outputs": [
    {
     "name": "stdout",
     "output_type": "stream",
     "text": [
      "logistic regression:\n",
      "\n",
      "accuracy =  0.8214285714285714 \n",
      "\n",
      "     0    1\n",
      "0  150   32\n",
      "1   33  149\n"
     ]
    },
    {
     "name": "stderr",
     "output_type": "stream",
     "text": [
      "c:\\Users\\DELL\\anaconda3\\lib\\site-packages\\sklearn\\linear_model\\_logistic.py:444: ConvergenceWarning: lbfgs failed to converge (status=1):\n",
      "STOP: TOTAL NO. of ITERATIONS REACHED LIMIT.\n",
      "\n",
      "Increase the number of iterations (max_iter) or scale the data as shown in:\n",
      "    https://scikit-learn.org/stable/modules/preprocessing.html\n",
      "Please also refer to the documentation for alternative solver options:\n",
      "    https://scikit-learn.org/stable/modules/linear_model.html#logistic-regression\n",
      "  n_iter_i = _check_optimize_result(\n"
     ]
    }
   ],
   "source": [
    "log_model2 = LogisticRegression()\n",
    "log_model2.fit(x2_train,y2_train)\n",
    "log_predictions2 = log_model2.predict(x2_test)\n",
    "print(\"logistic regression:\\n\")\n",
    "print(\"accuracy = \", accuracy_score(y2_test,log_predictions2),'\\n')\n",
    "print(pd.DataFrame(confusion_matrix(y2_test,log_predictions2)))"
   ]
  },
  {
   "cell_type": "markdown",
   "id": "d0dab030",
   "metadata": {},
   "source": [
    "##### balancing the data caused lower accuracy scores!!"
   ]
  },
  {
   "cell_type": "markdown",
   "id": "693a6d73",
   "metadata": {},
   "source": [
    "# Cross Validation"
   ]
  },
  {
   "cell_type": "code",
   "execution_count": 29,
   "id": "3f17fcc8",
   "metadata": {},
   "outputs": [
    {
     "name": "stdout",
     "output_type": "stream",
     "text": [
      "Decision Tree: 0.8629573804573806\n",
      "Logistic Regression: 0.8787733887733887\n"
     ]
    }
   ],
   "source": [
    "tree_pipeline = Pipeline([(\"scaler\", StandardScaler()), (\"pca\", PCA(n_components=7)), \n",
    "                      (\"tree\", DecisionTreeClassifier())])\n",
    "logreg_pipe = Pipeline([(\"scaler\", StandardScaler()), (\"pca\", PCA(n_components=7)), \n",
    "                        (\"logreg\", LogisticRegression())])\n",
    "\n",
    "kf = KFold(10)\n",
    "\n",
    "tree_score = cross_val_score(tree_pipeline, x, y, cv= kf)\n",
    "logit_score = cross_val_score(logreg_pipe, x, y, cv= kf)\n",
    "\n",
    "print(\"Decision Tree:\", tree_score.mean())\n",
    "print(\"Logistic Regression:\", logit_score.mean())\n"
   ]
  }
 ],
 "metadata": {
  "kernelspec": {
   "display_name": "Python 3 (ipykernel)",
   "language": "python",
   "name": "python3"
  },
  "language_info": {
   "codemirror_mode": {
    "name": "ipython",
    "version": 3
   },
   "file_extension": ".py",
   "mimetype": "text/x-python",
   "name": "python",
   "nbconvert_exporter": "python",
   "pygments_lexer": "ipython3",
   "version": "3.9.12"
  },
  "vscode": {
   "interpreter": {
    "hash": "5ae58900cfbb8c43ab3495913814b7cf26024f51651a94ce8bf64d6111688e8d"
   }
  }
 },
 "nbformat": 4,
 "nbformat_minor": 5
}
