{
 "cells": [
  {
   "cell_type": "markdown",
   "id": "56c6957a",
   "metadata": {},
   "source": [
    "## Loading Necessary Liabraries"
   ]
  },
  {
   "cell_type": "code",
   "execution_count": 1,
   "id": "6fc30359",
   "metadata": {},
   "outputs": [],
   "source": [
    "import warnings\n",
    "warnings.filterwarnings('ignore')\n",
    "import pandas as pd\n",
    "import numpy as np\n",
    "import matplotlib.pyplot as plt\n",
    "from sklearn.model_selection import train_test_split\n",
    "from sklearn.tree import DecisionTreeClassifier\n",
    "from sklearn.decomposition import PCA\n",
    "from sklearn.linear_model import LogisticRegression\n",
    "from sklearn.preprocessing import StandardScaler\n",
    "from sklearn.metrics import accuracy_score\n",
    "from sklearn.metrics import confusion_matrix\n",
    "from sklearn.metrics import classification_report\n",
    "from sklearn.model_selection import KFold\n",
    "from sklearn.model_selection import cross_val_score"
   ]
  },
  {
   "cell_type": "code",
   "execution_count": 2,
   "id": "fadea527",
   "metadata": {
    "scrolled": true
   },
   "outputs": [
    {
     "data": {
      "text/html": [
       "<div>\n",
       "<style scoped>\n",
       "    .dataframe tbody tr th:only-of-type {\n",
       "        vertical-align: middle;\n",
       "    }\n",
       "\n",
       "    .dataframe tbody tr th {\n",
       "        vertical-align: top;\n",
       "    }\n",
       "\n",
       "    .dataframe thead th {\n",
       "        text-align: right;\n",
       "    }\n",
       "</style>\n",
       "<table border=\"1\" class=\"dataframe\">\n",
       "  <thead>\n",
       "    <tr style=\"text-align: right;\">\n",
       "      <th></th>\n",
       "      <th>track_id</th>\n",
       "      <th>bit_rate</th>\n",
       "      <th>comments</th>\n",
       "      <th>composer</th>\n",
       "      <th>date_created</th>\n",
       "      <th>date_recorded</th>\n",
       "      <th>duration</th>\n",
       "      <th>favorites</th>\n",
       "      <th>genre_top</th>\n",
       "      <th>genres</th>\n",
       "      <th>...</th>\n",
       "      <th>information</th>\n",
       "      <th>interest</th>\n",
       "      <th>language_code</th>\n",
       "      <th>license</th>\n",
       "      <th>listens</th>\n",
       "      <th>lyricist</th>\n",
       "      <th>number</th>\n",
       "      <th>publisher</th>\n",
       "      <th>tags</th>\n",
       "      <th>title</th>\n",
       "    </tr>\n",
       "  </thead>\n",
       "  <tbody>\n",
       "    <tr>\n",
       "      <th>0</th>\n",
       "      <td>135</td>\n",
       "      <td>256000</td>\n",
       "      <td>1</td>\n",
       "      <td>NaN</td>\n",
       "      <td>2008-11-26 01:43:26</td>\n",
       "      <td>2008-11-26 00:00:00</td>\n",
       "      <td>837</td>\n",
       "      <td>0</td>\n",
       "      <td>Rock</td>\n",
       "      <td>[45, 58]</td>\n",
       "      <td>...</td>\n",
       "      <td>NaN</td>\n",
       "      <td>2484</td>\n",
       "      <td>en</td>\n",
       "      <td>Attribution-NonCommercial-ShareAlike 3.0 Inter...</td>\n",
       "      <td>1832</td>\n",
       "      <td>NaN</td>\n",
       "      <td>0</td>\n",
       "      <td>NaN</td>\n",
       "      <td>[]</td>\n",
       "      <td>Father's Day</td>\n",
       "    </tr>\n",
       "    <tr>\n",
       "      <th>1</th>\n",
       "      <td>136</td>\n",
       "      <td>256000</td>\n",
       "      <td>1</td>\n",
       "      <td>NaN</td>\n",
       "      <td>2008-11-26 01:43:35</td>\n",
       "      <td>2008-11-26 00:00:00</td>\n",
       "      <td>509</td>\n",
       "      <td>0</td>\n",
       "      <td>Rock</td>\n",
       "      <td>[45, 58]</td>\n",
       "      <td>...</td>\n",
       "      <td>NaN</td>\n",
       "      <td>1948</td>\n",
       "      <td>en</td>\n",
       "      <td>Attribution-NonCommercial-ShareAlike 3.0 Inter...</td>\n",
       "      <td>1498</td>\n",
       "      <td>NaN</td>\n",
       "      <td>0</td>\n",
       "      <td>NaN</td>\n",
       "      <td>[]</td>\n",
       "      <td>Peel Back The Mountain Sky</td>\n",
       "    </tr>\n",
       "    <tr>\n",
       "      <th>2</th>\n",
       "      <td>151</td>\n",
       "      <td>192000</td>\n",
       "      <td>0</td>\n",
       "      <td>NaN</td>\n",
       "      <td>2008-11-26 01:44:55</td>\n",
       "      <td>NaN</td>\n",
       "      <td>192</td>\n",
       "      <td>0</td>\n",
       "      <td>Rock</td>\n",
       "      <td>[25]</td>\n",
       "      <td>...</td>\n",
       "      <td>NaN</td>\n",
       "      <td>701</td>\n",
       "      <td>en</td>\n",
       "      <td>Attribution-NonCommercial-ShareAlike 3.0 Inter...</td>\n",
       "      <td>148</td>\n",
       "      <td>NaN</td>\n",
       "      <td>4</td>\n",
       "      <td>NaN</td>\n",
       "      <td>[]</td>\n",
       "      <td>Untitled 04</td>\n",
       "    </tr>\n",
       "    <tr>\n",
       "      <th>3</th>\n",
       "      <td>152</td>\n",
       "      <td>192000</td>\n",
       "      <td>0</td>\n",
       "      <td>NaN</td>\n",
       "      <td>2008-11-26 01:44:58</td>\n",
       "      <td>NaN</td>\n",
       "      <td>193</td>\n",
       "      <td>0</td>\n",
       "      <td>Rock</td>\n",
       "      <td>[25]</td>\n",
       "      <td>...</td>\n",
       "      <td>NaN</td>\n",
       "      <td>637</td>\n",
       "      <td>en</td>\n",
       "      <td>Attribution-NonCommercial-ShareAlike 3.0 Inter...</td>\n",
       "      <td>98</td>\n",
       "      <td>NaN</td>\n",
       "      <td>11</td>\n",
       "      <td>NaN</td>\n",
       "      <td>[]</td>\n",
       "      <td>Untitled 11</td>\n",
       "    </tr>\n",
       "    <tr>\n",
       "      <th>4</th>\n",
       "      <td>153</td>\n",
       "      <td>256000</td>\n",
       "      <td>0</td>\n",
       "      <td>Arc and Sender</td>\n",
       "      <td>2008-11-26 01:45:00</td>\n",
       "      <td>2008-11-26 00:00:00</td>\n",
       "      <td>405</td>\n",
       "      <td>5</td>\n",
       "      <td>Rock</td>\n",
       "      <td>[26]</td>\n",
       "      <td>...</td>\n",
       "      <td>NaN</td>\n",
       "      <td>354</td>\n",
       "      <td>en</td>\n",
       "      <td>Attribution-NonCommercial-NoDerivatives (aka M...</td>\n",
       "      <td>424</td>\n",
       "      <td>NaN</td>\n",
       "      <td>2</td>\n",
       "      <td>NaN</td>\n",
       "      <td>[]</td>\n",
       "      <td>Hundred-Year Flood</td>\n",
       "    </tr>\n",
       "  </tbody>\n",
       "</table>\n",
       "<p>5 rows × 21 columns</p>\n",
       "</div>"
      ],
      "text/plain": [
       "   track_id  bit_rate  comments        composer         date_created  \\\n",
       "0       135    256000         1             NaN  2008-11-26 01:43:26   \n",
       "1       136    256000         1             NaN  2008-11-26 01:43:35   \n",
       "2       151    192000         0             NaN  2008-11-26 01:44:55   \n",
       "3       152    192000         0             NaN  2008-11-26 01:44:58   \n",
       "4       153    256000         0  Arc and Sender  2008-11-26 01:45:00   \n",
       "\n",
       "         date_recorded  duration  favorites genre_top    genres  ...  \\\n",
       "0  2008-11-26 00:00:00       837          0      Rock  [45, 58]  ...   \n",
       "1  2008-11-26 00:00:00       509          0      Rock  [45, 58]  ...   \n",
       "2                  NaN       192          0      Rock      [25]  ...   \n",
       "3                  NaN       193          0      Rock      [25]  ...   \n",
       "4  2008-11-26 00:00:00       405          5      Rock      [26]  ...   \n",
       "\n",
       "  information interest  language_code  \\\n",
       "0         NaN     2484             en   \n",
       "1         NaN     1948             en   \n",
       "2         NaN      701             en   \n",
       "3         NaN      637             en   \n",
       "4         NaN      354             en   \n",
       "\n",
       "                                             license listens  lyricist number  \\\n",
       "0  Attribution-NonCommercial-ShareAlike 3.0 Inter...    1832       NaN      0   \n",
       "1  Attribution-NonCommercial-ShareAlike 3.0 Inter...    1498       NaN      0   \n",
       "2  Attribution-NonCommercial-ShareAlike 3.0 Inter...     148       NaN      4   \n",
       "3  Attribution-NonCommercial-ShareAlike 3.0 Inter...      98       NaN     11   \n",
       "4  Attribution-NonCommercial-NoDerivatives (aka M...     424       NaN      2   \n",
       "\n",
       "   publisher tags                       title  \n",
       "0        NaN   []                Father's Day  \n",
       "1        NaN   []  Peel Back The Mountain Sky  \n",
       "2        NaN   []                 Untitled 04  \n",
       "3        NaN   []                 Untitled 11  \n",
       "4        NaN   []          Hundred-Year Flood  \n",
       "\n",
       "[5 rows x 21 columns]"
      ]
     },
     "execution_count": 2,
     "metadata": {},
     "output_type": "execute_result"
    }
   ],
   "source": [
    "df=pd.read_csv(\"C:\\\\Users\\\\adija\\\\Dropbox\\\\PC\\\\Desktop\\\\Downloads\\\\fma-rock-vs-hiphop.csv\")\n",
    "df.head()"
   ]
  },
  {
   "cell_type": "code",
   "execution_count": 3,
   "id": "4206e61c",
   "metadata": {},
   "outputs": [
    {
     "name": "stdout",
     "output_type": "stream",
     "text": [
      "<class 'pandas.core.frame.DataFrame'>\n",
      "RangeIndex: 17734 entries, 0 to 17733\n",
      "Data columns (total 21 columns):\n",
      " #   Column         Non-Null Count  Dtype \n",
      "---  ------         --------------  ----- \n",
      " 0   track_id       17734 non-null  int64 \n",
      " 1   bit_rate       17734 non-null  int64 \n",
      " 2   comments       17734 non-null  int64 \n",
      " 3   composer       166 non-null    object\n",
      " 4   date_created   17734 non-null  object\n",
      " 5   date_recorded  1898 non-null   object\n",
      " 6   duration       17734 non-null  int64 \n",
      " 7   favorites      17734 non-null  int64 \n",
      " 8   genre_top      17734 non-null  object\n",
      " 9   genres         17734 non-null  object\n",
      " 10  genres_all     17734 non-null  object\n",
      " 11  information    482 non-null    object\n",
      " 12  interest       17734 non-null  int64 \n",
      " 13  language_code  4089 non-null   object\n",
      " 14  license        17714 non-null  object\n",
      " 15  listens        17734 non-null  int64 \n",
      " 16  lyricist       53 non-null     object\n",
      " 17  number         17734 non-null  int64 \n",
      " 18  publisher      52 non-null     object\n",
      " 19  tags           17734 non-null  object\n",
      " 20  title          17734 non-null  object\n",
      "dtypes: int64(8), object(13)\n",
      "memory usage: 2.8+ MB\n"
     ]
    }
   ],
   "source": [
    "df.info()"
   ]
  },
  {
   "cell_type": "code",
   "execution_count": 4,
   "id": "0092f581",
   "metadata": {},
   "outputs": [
    {
     "data": {
      "text/plain": [
       "(17734, 21)"
      ]
     },
     "execution_count": 4,
     "metadata": {},
     "output_type": "execute_result"
    }
   ],
   "source": [
    "#Cheking shape of our dataframe\n",
    "df.shape"
   ]
  },
  {
   "cell_type": "code",
   "execution_count": 5,
   "id": "3346601a",
   "metadata": {},
   "outputs": [
    {
     "data": {
      "text/plain": [
       "publisher        99.71\n",
       "lyricist         99.70\n",
       "composer         99.06\n",
       "information      97.28\n",
       "date_recorded    89.30\n",
       "language_code    76.94\n",
       "license           0.11\n",
       "track_id          0.00\n",
       "interest          0.00\n",
       "tags              0.00\n",
       "number            0.00\n",
       "listens           0.00\n",
       "genres_all        0.00\n",
       "bit_rate          0.00\n",
       "genres            0.00\n",
       "genre_top         0.00\n",
       "favorites         0.00\n",
       "duration          0.00\n",
       "date_created      0.00\n",
       "comments          0.00\n",
       "title             0.00\n",
       "dtype: float64"
      ]
     },
     "execution_count": 5,
     "metadata": {},
     "output_type": "execute_result"
    }
   ],
   "source": [
    "#Cheking nulll percentage in our columns\n",
    "(round((df.isna().sum()*100)/df.shape[0],2)).sort_values(ascending=False)"
   ]
  },
  {
   "cell_type": "markdown",
   "id": "83debebd",
   "metadata": {},
   "source": [
    "- As we can see in the above first six columns are having null value which is more than 50% so it doesnt mean anything to fill those columns so we are dropping those columns"
   ]
  },
  {
   "cell_type": "code",
   "execution_count": 6,
   "id": "7c30643a",
   "metadata": {},
   "outputs": [
    {
     "data": {
      "text/html": [
       "<div>\n",
       "<style scoped>\n",
       "    .dataframe tbody tr th:only-of-type {\n",
       "        vertical-align: middle;\n",
       "    }\n",
       "\n",
       "    .dataframe tbody tr th {\n",
       "        vertical-align: top;\n",
       "    }\n",
       "\n",
       "    .dataframe thead th {\n",
       "        text-align: right;\n",
       "    }\n",
       "</style>\n",
       "<table border=\"1\" class=\"dataframe\">\n",
       "  <thead>\n",
       "    <tr style=\"text-align: right;\">\n",
       "      <th></th>\n",
       "      <th>track_id</th>\n",
       "      <th>acousticness</th>\n",
       "      <th>danceability</th>\n",
       "      <th>energy</th>\n",
       "      <th>instrumentalness</th>\n",
       "      <th>liveness</th>\n",
       "      <th>speechiness</th>\n",
       "      <th>tempo</th>\n",
       "      <th>valence</th>\n",
       "    </tr>\n",
       "  </thead>\n",
       "  <tbody>\n",
       "    <tr>\n",
       "      <th>0</th>\n",
       "      <td>2</td>\n",
       "      <td>0.416675</td>\n",
       "      <td>0.675894</td>\n",
       "      <td>0.634476</td>\n",
       "      <td>0.010628</td>\n",
       "      <td>0.177647</td>\n",
       "      <td>0.159310</td>\n",
       "      <td>165.922</td>\n",
       "      <td>0.576661</td>\n",
       "    </tr>\n",
       "    <tr>\n",
       "      <th>1</th>\n",
       "      <td>3</td>\n",
       "      <td>0.374408</td>\n",
       "      <td>0.528643</td>\n",
       "      <td>0.817461</td>\n",
       "      <td>0.001851</td>\n",
       "      <td>0.105880</td>\n",
       "      <td>0.461818</td>\n",
       "      <td>126.957</td>\n",
       "      <td>0.269240</td>\n",
       "    </tr>\n",
       "    <tr>\n",
       "      <th>2</th>\n",
       "      <td>5</td>\n",
       "      <td>0.043567</td>\n",
       "      <td>0.745566</td>\n",
       "      <td>0.701470</td>\n",
       "      <td>0.000697</td>\n",
       "      <td>0.373143</td>\n",
       "      <td>0.124595</td>\n",
       "      <td>100.260</td>\n",
       "      <td>0.621661</td>\n",
       "    </tr>\n",
       "    <tr>\n",
       "      <th>3</th>\n",
       "      <td>10</td>\n",
       "      <td>0.951670</td>\n",
       "      <td>0.658179</td>\n",
       "      <td>0.924525</td>\n",
       "      <td>0.965427</td>\n",
       "      <td>0.115474</td>\n",
       "      <td>0.032985</td>\n",
       "      <td>111.562</td>\n",
       "      <td>0.963590</td>\n",
       "    </tr>\n",
       "    <tr>\n",
       "      <th>4</th>\n",
       "      <td>134</td>\n",
       "      <td>0.452217</td>\n",
       "      <td>0.513238</td>\n",
       "      <td>0.560410</td>\n",
       "      <td>0.019443</td>\n",
       "      <td>0.096567</td>\n",
       "      <td>0.525519</td>\n",
       "      <td>114.290</td>\n",
       "      <td>0.894072</td>\n",
       "    </tr>\n",
       "    <tr>\n",
       "      <th>...</th>\n",
       "      <td>...</td>\n",
       "      <td>...</td>\n",
       "      <td>...</td>\n",
       "      <td>...</td>\n",
       "      <td>...</td>\n",
       "      <td>...</td>\n",
       "      <td>...</td>\n",
       "      <td>...</td>\n",
       "      <td>...</td>\n",
       "    </tr>\n",
       "    <tr>\n",
       "      <th>13124</th>\n",
       "      <td>124857</td>\n",
       "      <td>0.007592</td>\n",
       "      <td>0.790364</td>\n",
       "      <td>0.719288</td>\n",
       "      <td>0.853114</td>\n",
       "      <td>0.720715</td>\n",
       "      <td>0.082550</td>\n",
       "      <td>141.332</td>\n",
       "      <td>0.890461</td>\n",
       "    </tr>\n",
       "    <tr>\n",
       "      <th>13125</th>\n",
       "      <td>124862</td>\n",
       "      <td>0.041498</td>\n",
       "      <td>0.843077</td>\n",
       "      <td>0.536496</td>\n",
       "      <td>0.865151</td>\n",
       "      <td>0.547949</td>\n",
       "      <td>0.074001</td>\n",
       "      <td>101.975</td>\n",
       "      <td>0.476845</td>\n",
       "    </tr>\n",
       "    <tr>\n",
       "      <th>13126</th>\n",
       "      <td>124863</td>\n",
       "      <td>0.000124</td>\n",
       "      <td>0.609686</td>\n",
       "      <td>0.895136</td>\n",
       "      <td>0.846624</td>\n",
       "      <td>0.632903</td>\n",
       "      <td>0.051517</td>\n",
       "      <td>129.996</td>\n",
       "      <td>0.496667</td>\n",
       "    </tr>\n",
       "    <tr>\n",
       "      <th>13127</th>\n",
       "      <td>124864</td>\n",
       "      <td>0.327576</td>\n",
       "      <td>0.574426</td>\n",
       "      <td>0.548327</td>\n",
       "      <td>0.452867</td>\n",
       "      <td>0.075928</td>\n",
       "      <td>0.033388</td>\n",
       "      <td>142.009</td>\n",
       "      <td>0.569274</td>\n",
       "    </tr>\n",
       "    <tr>\n",
       "      <th>13128</th>\n",
       "      <td>124911</td>\n",
       "      <td>0.993606</td>\n",
       "      <td>0.499339</td>\n",
       "      <td>0.050622</td>\n",
       "      <td>0.945677</td>\n",
       "      <td>0.095965</td>\n",
       "      <td>0.065189</td>\n",
       "      <td>119.965</td>\n",
       "      <td>0.204652</td>\n",
       "    </tr>\n",
       "  </tbody>\n",
       "</table>\n",
       "<p>13129 rows × 9 columns</p>\n",
       "</div>"
      ],
      "text/plain": [
       "       track_id  acousticness  danceability    energy  instrumentalness  \\\n",
       "0             2      0.416675      0.675894  0.634476          0.010628   \n",
       "1             3      0.374408      0.528643  0.817461          0.001851   \n",
       "2             5      0.043567      0.745566  0.701470          0.000697   \n",
       "3            10      0.951670      0.658179  0.924525          0.965427   \n",
       "4           134      0.452217      0.513238  0.560410          0.019443   \n",
       "...         ...           ...           ...       ...               ...   \n",
       "13124    124857      0.007592      0.790364  0.719288          0.853114   \n",
       "13125    124862      0.041498      0.843077  0.536496          0.865151   \n",
       "13126    124863      0.000124      0.609686  0.895136          0.846624   \n",
       "13127    124864      0.327576      0.574426  0.548327          0.452867   \n",
       "13128    124911      0.993606      0.499339  0.050622          0.945677   \n",
       "\n",
       "       liveness  speechiness    tempo   valence  \n",
       "0      0.177647     0.159310  165.922  0.576661  \n",
       "1      0.105880     0.461818  126.957  0.269240  \n",
       "2      0.373143     0.124595  100.260  0.621661  \n",
       "3      0.115474     0.032985  111.562  0.963590  \n",
       "4      0.096567     0.525519  114.290  0.894072  \n",
       "...         ...          ...      ...       ...  \n",
       "13124  0.720715     0.082550  141.332  0.890461  \n",
       "13125  0.547949     0.074001  101.975  0.476845  \n",
       "13126  0.632903     0.051517  129.996  0.496667  \n",
       "13127  0.075928     0.033388  142.009  0.569274  \n",
       "13128  0.095965     0.065189  119.965  0.204652  \n",
       "\n",
       "[13129 rows x 9 columns]"
      ]
     },
     "execution_count": 6,
     "metadata": {},
     "output_type": "execute_result"
    }
   ],
   "source": [
    "# Importing JSON data file\n",
    "path= \"C:\\\\Users\\\\adija\\\\Dropbox\\\\PC\\\\Desktop\\\\Downloads\\\\\"\n",
    "file=\"echonest-metrics.json\"\n",
    "df_=pd.read_json(path+file,orient=\"columns\")\n",
    "df_"
   ]
  },
  {
   "cell_type": "code",
   "execution_count": 7,
   "id": "f5607c96",
   "metadata": {},
   "outputs": [
    {
     "data": {
      "text/html": [
       "<div>\n",
       "<style scoped>\n",
       "    .dataframe tbody tr th:only-of-type {\n",
       "        vertical-align: middle;\n",
       "    }\n",
       "\n",
       "    .dataframe tbody tr th {\n",
       "        vertical-align: top;\n",
       "    }\n",
       "\n",
       "    .dataframe thead th {\n",
       "        text-align: right;\n",
       "    }\n",
       "</style>\n",
       "<table border=\"1\" class=\"dataframe\">\n",
       "  <thead>\n",
       "    <tr style=\"text-align: right;\">\n",
       "      <th></th>\n",
       "      <th>track_id</th>\n",
       "      <th>genre_top</th>\n",
       "      <th>acousticness</th>\n",
       "      <th>danceability</th>\n",
       "      <th>energy</th>\n",
       "      <th>instrumentalness</th>\n",
       "      <th>liveness</th>\n",
       "      <th>speechiness</th>\n",
       "      <th>tempo</th>\n",
       "      <th>valence</th>\n",
       "    </tr>\n",
       "  </thead>\n",
       "  <tbody>\n",
       "    <tr>\n",
       "      <th>0</th>\n",
       "      <td>153</td>\n",
       "      <td>Rock</td>\n",
       "      <td>0.988306</td>\n",
       "      <td>0.255661</td>\n",
       "      <td>0.979774</td>\n",
       "      <td>9.730057e-01</td>\n",
       "      <td>0.121342</td>\n",
       "      <td>0.051740</td>\n",
       "      <td>90.241</td>\n",
       "      <td>0.034018</td>\n",
       "    </tr>\n",
       "    <tr>\n",
       "      <th>1</th>\n",
       "      <td>154</td>\n",
       "      <td>Rock</td>\n",
       "      <td>0.970135</td>\n",
       "      <td>0.352946</td>\n",
       "      <td>0.023852</td>\n",
       "      <td>9.571129e-01</td>\n",
       "      <td>0.113261</td>\n",
       "      <td>0.032177</td>\n",
       "      <td>53.758</td>\n",
       "      <td>0.035632</td>\n",
       "    </tr>\n",
       "    <tr>\n",
       "      <th>2</th>\n",
       "      <td>155</td>\n",
       "      <td>Rock</td>\n",
       "      <td>0.981657</td>\n",
       "      <td>0.142249</td>\n",
       "      <td>0.912122</td>\n",
       "      <td>9.672940e-01</td>\n",
       "      <td>0.363510</td>\n",
       "      <td>0.087527</td>\n",
       "      <td>91.912</td>\n",
       "      <td>0.034325</td>\n",
       "    </tr>\n",
       "    <tr>\n",
       "      <th>3</th>\n",
       "      <td>169</td>\n",
       "      <td>Rock</td>\n",
       "      <td>0.989141</td>\n",
       "      <td>0.225978</td>\n",
       "      <td>0.722835</td>\n",
       "      <td>2.630763e-01</td>\n",
       "      <td>0.092371</td>\n",
       "      <td>0.053406</td>\n",
       "      <td>94.322</td>\n",
       "      <td>0.028347</td>\n",
       "    </tr>\n",
       "    <tr>\n",
       "      <th>4</th>\n",
       "      <td>170</td>\n",
       "      <td>Rock</td>\n",
       "      <td>0.886660</td>\n",
       "      <td>0.298518</td>\n",
       "      <td>0.744333</td>\n",
       "      <td>9.209505e-01</td>\n",
       "      <td>0.139587</td>\n",
       "      <td>0.088781</td>\n",
       "      <td>97.880</td>\n",
       "      <td>0.073548</td>\n",
       "    </tr>\n",
       "    <tr>\n",
       "      <th>...</th>\n",
       "      <td>...</td>\n",
       "      <td>...</td>\n",
       "      <td>...</td>\n",
       "      <td>...</td>\n",
       "      <td>...</td>\n",
       "      <td>...</td>\n",
       "      <td>...</td>\n",
       "      <td>...</td>\n",
       "      <td>...</td>\n",
       "      <td>...</td>\n",
       "    </tr>\n",
       "    <tr>\n",
       "      <th>4797</th>\n",
       "      <td>124718</td>\n",
       "      <td>Hip-Hop</td>\n",
       "      <td>0.412194</td>\n",
       "      <td>0.686825</td>\n",
       "      <td>0.849309</td>\n",
       "      <td>6.000000e-10</td>\n",
       "      <td>0.867543</td>\n",
       "      <td>0.367315</td>\n",
       "      <td>96.104</td>\n",
       "      <td>0.692414</td>\n",
       "    </tr>\n",
       "    <tr>\n",
       "      <th>4798</th>\n",
       "      <td>124719</td>\n",
       "      <td>Hip-Hop</td>\n",
       "      <td>0.054973</td>\n",
       "      <td>0.617535</td>\n",
       "      <td>0.728567</td>\n",
       "      <td>7.215700e-06</td>\n",
       "      <td>0.131438</td>\n",
       "      <td>0.243130</td>\n",
       "      <td>96.262</td>\n",
       "      <td>0.399720</td>\n",
       "    </tr>\n",
       "    <tr>\n",
       "      <th>4799</th>\n",
       "      <td>124720</td>\n",
       "      <td>Hip-Hop</td>\n",
       "      <td>0.010478</td>\n",
       "      <td>0.652483</td>\n",
       "      <td>0.657498</td>\n",
       "      <td>7.098000e-07</td>\n",
       "      <td>0.701523</td>\n",
       "      <td>0.229174</td>\n",
       "      <td>94.885</td>\n",
       "      <td>0.432240</td>\n",
       "    </tr>\n",
       "    <tr>\n",
       "      <th>4800</th>\n",
       "      <td>124721</td>\n",
       "      <td>Hip-Hop</td>\n",
       "      <td>0.067906</td>\n",
       "      <td>0.432421</td>\n",
       "      <td>0.764508</td>\n",
       "      <td>1.625500e-06</td>\n",
       "      <td>0.104412</td>\n",
       "      <td>0.310553</td>\n",
       "      <td>171.329</td>\n",
       "      <td>0.580087</td>\n",
       "    </tr>\n",
       "    <tr>\n",
       "      <th>4801</th>\n",
       "      <td>124722</td>\n",
       "      <td>Hip-Hop</td>\n",
       "      <td>0.153518</td>\n",
       "      <td>0.638660</td>\n",
       "      <td>0.762567</td>\n",
       "      <td>5.000000e-10</td>\n",
       "      <td>0.264847</td>\n",
       "      <td>0.303372</td>\n",
       "      <td>77.842</td>\n",
       "      <td>0.656612</td>\n",
       "    </tr>\n",
       "  </tbody>\n",
       "</table>\n",
       "<p>4802 rows × 10 columns</p>\n",
       "</div>"
      ],
      "text/plain": [
       "      track_id genre_top  acousticness  danceability    energy  \\\n",
       "0          153      Rock      0.988306      0.255661  0.979774   \n",
       "1          154      Rock      0.970135      0.352946  0.023852   \n",
       "2          155      Rock      0.981657      0.142249  0.912122   \n",
       "3          169      Rock      0.989141      0.225978  0.722835   \n",
       "4          170      Rock      0.886660      0.298518  0.744333   \n",
       "...        ...       ...           ...           ...       ...   \n",
       "4797    124718   Hip-Hop      0.412194      0.686825  0.849309   \n",
       "4798    124719   Hip-Hop      0.054973      0.617535  0.728567   \n",
       "4799    124720   Hip-Hop      0.010478      0.652483  0.657498   \n",
       "4800    124721   Hip-Hop      0.067906      0.432421  0.764508   \n",
       "4801    124722   Hip-Hop      0.153518      0.638660  0.762567   \n",
       "\n",
       "      instrumentalness  liveness  speechiness    tempo   valence  \n",
       "0         9.730057e-01  0.121342     0.051740   90.241  0.034018  \n",
       "1         9.571129e-01  0.113261     0.032177   53.758  0.035632  \n",
       "2         9.672940e-01  0.363510     0.087527   91.912  0.034325  \n",
       "3         2.630763e-01  0.092371     0.053406   94.322  0.028347  \n",
       "4         9.209505e-01  0.139587     0.088781   97.880  0.073548  \n",
       "...                ...       ...          ...      ...       ...  \n",
       "4797      6.000000e-10  0.867543     0.367315   96.104  0.692414  \n",
       "4798      7.215700e-06  0.131438     0.243130   96.262  0.399720  \n",
       "4799      7.098000e-07  0.701523     0.229174   94.885  0.432240  \n",
       "4800      1.625500e-06  0.104412     0.310553  171.329  0.580087  \n",
       "4801      5.000000e-10  0.264847     0.303372   77.842  0.656612  \n",
       "\n",
       "[4802 rows x 10 columns]"
      ]
     },
     "execution_count": 7,
     "metadata": {},
     "output_type": "execute_result"
    }
   ],
   "source": [
    "#Merging both the files together\n",
    "Data_set =pd.merge(left=df[[\"track_id\",\"genre_top\"]],right=df_,on=\"track_id\")\n",
    "Data_set"
   ]
  },
  {
   "cell_type": "code",
   "execution_count": 8,
   "id": "8c6b68b1",
   "metadata": {},
   "outputs": [
    {
     "data": {
      "text/html": [
       "<div>\n",
       "<style scoped>\n",
       "    .dataframe tbody tr th:only-of-type {\n",
       "        vertical-align: middle;\n",
       "    }\n",
       "\n",
       "    .dataframe tbody tr th {\n",
       "        vertical-align: top;\n",
       "    }\n",
       "\n",
       "    .dataframe thead th {\n",
       "        text-align: right;\n",
       "    }\n",
       "</style>\n",
       "<table border=\"1\" class=\"dataframe\">\n",
       "  <thead>\n",
       "    <tr style=\"text-align: right;\">\n",
       "      <th></th>\n",
       "      <th>track_id</th>\n",
       "      <th>acousticness</th>\n",
       "      <th>danceability</th>\n",
       "      <th>energy</th>\n",
       "      <th>instrumentalness</th>\n",
       "      <th>liveness</th>\n",
       "      <th>speechiness</th>\n",
       "      <th>tempo</th>\n",
       "      <th>valence</th>\n",
       "    </tr>\n",
       "  </thead>\n",
       "  <tbody>\n",
       "    <tr>\n",
       "      <th>track_id</th>\n",
       "      <td>1.000000</td>\n",
       "      <td>-0.372282</td>\n",
       "      <td>0.049454</td>\n",
       "      <td>0.140703</td>\n",
       "      <td>-0.275623</td>\n",
       "      <td>0.048231</td>\n",
       "      <td>-0.026995</td>\n",
       "      <td>-0.025392</td>\n",
       "      <td>0.010070</td>\n",
       "    </tr>\n",
       "    <tr>\n",
       "      <th>acousticness</th>\n",
       "      <td>-0.372282</td>\n",
       "      <td>1.000000</td>\n",
       "      <td>-0.028954</td>\n",
       "      <td>-0.281619</td>\n",
       "      <td>0.194780</td>\n",
       "      <td>-0.019991</td>\n",
       "      <td>0.072204</td>\n",
       "      <td>-0.026310</td>\n",
       "      <td>-0.013841</td>\n",
       "    </tr>\n",
       "    <tr>\n",
       "      <th>danceability</th>\n",
       "      <td>0.049454</td>\n",
       "      <td>-0.028954</td>\n",
       "      <td>1.000000</td>\n",
       "      <td>-0.242032</td>\n",
       "      <td>-0.255217</td>\n",
       "      <td>-0.106584</td>\n",
       "      <td>0.276206</td>\n",
       "      <td>-0.242089</td>\n",
       "      <td>0.473165</td>\n",
       "    </tr>\n",
       "    <tr>\n",
       "      <th>energy</th>\n",
       "      <td>0.140703</td>\n",
       "      <td>-0.281619</td>\n",
       "      <td>-0.242032</td>\n",
       "      <td>1.000000</td>\n",
       "      <td>0.028238</td>\n",
       "      <td>0.113331</td>\n",
       "      <td>-0.109983</td>\n",
       "      <td>0.195227</td>\n",
       "      <td>0.038603</td>\n",
       "    </tr>\n",
       "    <tr>\n",
       "      <th>instrumentalness</th>\n",
       "      <td>-0.275623</td>\n",
       "      <td>0.194780</td>\n",
       "      <td>-0.255217</td>\n",
       "      <td>0.028238</td>\n",
       "      <td>1.000000</td>\n",
       "      <td>-0.091022</td>\n",
       "      <td>-0.366762</td>\n",
       "      <td>0.022215</td>\n",
       "      <td>-0.219967</td>\n",
       "    </tr>\n",
       "    <tr>\n",
       "      <th>liveness</th>\n",
       "      <td>0.048231</td>\n",
       "      <td>-0.019991</td>\n",
       "      <td>-0.106584</td>\n",
       "      <td>0.113331</td>\n",
       "      <td>-0.091022</td>\n",
       "      <td>1.000000</td>\n",
       "      <td>0.041173</td>\n",
       "      <td>0.002732</td>\n",
       "      <td>-0.045093</td>\n",
       "    </tr>\n",
       "    <tr>\n",
       "      <th>speechiness</th>\n",
       "      <td>-0.026995</td>\n",
       "      <td>0.072204</td>\n",
       "      <td>0.276206</td>\n",
       "      <td>-0.109983</td>\n",
       "      <td>-0.366762</td>\n",
       "      <td>0.041173</td>\n",
       "      <td>1.000000</td>\n",
       "      <td>0.008241</td>\n",
       "      <td>0.149894</td>\n",
       "    </tr>\n",
       "    <tr>\n",
       "      <th>tempo</th>\n",
       "      <td>-0.025392</td>\n",
       "      <td>-0.026310</td>\n",
       "      <td>-0.242089</td>\n",
       "      <td>0.195227</td>\n",
       "      <td>0.022215</td>\n",
       "      <td>0.002732</td>\n",
       "      <td>0.008241</td>\n",
       "      <td>1.000000</td>\n",
       "      <td>0.052221</td>\n",
       "    </tr>\n",
       "    <tr>\n",
       "      <th>valence</th>\n",
       "      <td>0.010070</td>\n",
       "      <td>-0.013841</td>\n",
       "      <td>0.473165</td>\n",
       "      <td>0.038603</td>\n",
       "      <td>-0.219967</td>\n",
       "      <td>-0.045093</td>\n",
       "      <td>0.149894</td>\n",
       "      <td>0.052221</td>\n",
       "      <td>1.000000</td>\n",
       "    </tr>\n",
       "  </tbody>\n",
       "</table>\n",
       "</div>"
      ],
      "text/plain": [
       "                  track_id  acousticness  danceability    energy  \\\n",
       "track_id          1.000000     -0.372282      0.049454  0.140703   \n",
       "acousticness     -0.372282      1.000000     -0.028954 -0.281619   \n",
       "danceability      0.049454     -0.028954      1.000000 -0.242032   \n",
       "energy            0.140703     -0.281619     -0.242032  1.000000   \n",
       "instrumentalness -0.275623      0.194780     -0.255217  0.028238   \n",
       "liveness          0.048231     -0.019991     -0.106584  0.113331   \n",
       "speechiness      -0.026995      0.072204      0.276206 -0.109983   \n",
       "tempo            -0.025392     -0.026310     -0.242089  0.195227   \n",
       "valence           0.010070     -0.013841      0.473165  0.038603   \n",
       "\n",
       "                  instrumentalness  liveness  speechiness     tempo   valence  \n",
       "track_id                 -0.275623  0.048231    -0.026995 -0.025392  0.010070  \n",
       "acousticness              0.194780 -0.019991     0.072204 -0.026310 -0.013841  \n",
       "danceability             -0.255217 -0.106584     0.276206 -0.242089  0.473165  \n",
       "energy                    0.028238  0.113331    -0.109983  0.195227  0.038603  \n",
       "instrumentalness          1.000000 -0.091022    -0.366762  0.022215 -0.219967  \n",
       "liveness                 -0.091022  1.000000     0.041173  0.002732 -0.045093  \n",
       "speechiness              -0.366762  0.041173     1.000000  0.008241  0.149894  \n",
       "tempo                     0.022215  0.002732     0.008241  1.000000  0.052221  \n",
       "valence                  -0.219967 -0.045093     0.149894  0.052221  1.000000  "
      ]
     },
     "execution_count": 8,
     "metadata": {},
     "output_type": "execute_result"
    }
   ],
   "source": [
    "#Checking correlation between independant variable\n",
    "Corr_met=Data_set.corr()\n",
    "Corr_met"
   ]
  },
  {
   "cell_type": "markdown",
   "id": "95d80ded",
   "metadata": {},
   "source": [
    "## Ploting Correlation"
   ]
  },
  {
   "cell_type": "code",
   "execution_count": 9,
   "id": "158eb3fd",
   "metadata": {},
   "outputs": [
    {
     "data": {
      "image/png": "[encoded data removed]",
      "text/plain": [
       "<Figure size 720x720 with 2 Axes>"
      ]
     },
     "metadata": {
      "needs_background": "light"
     },
     "output_type": "display_data"
    }
   ],
   "source": [
    "import seaborn as sns\n",
    "plt.figure(figsize=[10,10])\n",
    "sns.heatmap(Corr_met,annot=True)\n",
    "plt.show()"
   ]
  },
  {
   "cell_type": "markdown",
   "id": "cb585a32",
   "metadata": {},
   "source": [
    "# Normalizing the independant variables"
   ]
  },
  {
   "cell_type": "code",
   "execution_count": 10,
   "id": "635a13b9",
   "metadata": {},
   "outputs": [],
   "source": [
    "#Extracting fature variable from date_set because we dont need to normalise that \n",
    "feature= Data_set.drop([\"track_id\",\"genre_top\"],axis=1)\n"
   ]
  },
  {
   "cell_type": "code",
   "execution_count": 11,
   "id": "b03449ca",
   "metadata": {},
   "outputs": [],
   "source": [
    "#Define our labels\n",
    "labels=Data_set[\"genre_top\"]"
   ]
  },
  {
   "cell_type": "code",
   "execution_count": 12,
   "id": "40881735",
   "metadata": {},
   "outputs": [],
   "source": [
    "#Normalising\n",
    "scaler=StandardScaler()\n",
    "Scaled_train_features=scaler.fit_transform(feature)"
   ]
  },
  {
   "cell_type": "markdown",
   "id": "7534ac6f",
   "metadata": {},
   "source": [
    "# Applying PCA on scaled data"
   ]
  },
  {
   "cell_type": "code",
   "execution_count": 13,
   "id": "c71f98ec",
   "metadata": {},
   "outputs": [
    {
     "data": {
      "text/plain": [
       "array([0.24297674, 0.18044316, 0.13650309, 0.12994089, 0.11056248,\n",
       "       0.08302245, 0.06923783, 0.04731336])"
      ]
     },
     "execution_count": 13,
     "metadata": {},
     "output_type": "execute_result"
    }
   ],
   "source": [
    "pca=PCA()\n",
    "pca.fit(Scaled_train_features)\n",
    "Varience_exp=pca.explained_variance_ratio_\n",
    "Varience_exp"
   ]
  },
  {
   "cell_type": "code",
   "execution_count": 14,
   "id": "adc52999",
   "metadata": {},
   "outputs": [
    {
     "data": {
      "image/png": "[encoded data removed]",
      "text/plain": [
       "<Figure size 432x288 with 1 Axes>"
      ]
     },
     "metadata": {
      "needs_background": "light"
     },
     "output_type": "display_data"
    }
   ],
   "source": [
    "#Ploting varience explaned \n",
    "fig, ax=plt.subplots()\n",
    "ax.bar(range(pca.n_components_),Varience_exp)\n",
    "ax.set_xlabel(\"principlal component #\")\n",
    "plt.show()"
   ]
  },
  {
   "cell_type": "code",
   "execution_count": 15,
   "id": "1714a6c2",
   "metadata": {},
   "outputs": [
    {
     "data": {
      "image/png": "[encoded data removed]",
      "text/plain": [
       "<Figure size 432x288 with 1 Axes>"
      ]
     },
     "metadata": {
      "needs_background": "light"
     },
     "output_type": "display_data"
    }
   ],
   "source": [
    "#Making the screeplot - plotting the cumulative variance against the number of components\n",
    "fig, ax= plt.subplots()\n",
    "ax.plot(np.cumsum(pca.explained_variance_ratio_))\n",
    "ax.axhline(y=0.9,linestyle=\"--\")\n",
    "plt.show()"
   ]
  },
  {
   "cell_type": "code",
   "execution_count": 16,
   "id": "80275abb",
   "metadata": {},
   "outputs": [],
   "source": [
    "n_components=7\n",
    "pca=PCA(n_components,random_state=10)\n",
    "pca.fit(Scaled_train_features)\n",
    "pca_projection=pca.transform(Scaled_train_features)"
   ]
  },
  {
   "cell_type": "code",
   "execution_count": 17,
   "id": "45562807",
   "metadata": {},
   "outputs": [
    {
     "data": {
      "text/plain": [
       "(4802, 7)"
      ]
     },
     "execution_count": 17,
     "metadata": {},
     "output_type": "execute_result"
    }
   ],
   "source": [
    "pca_projection.shape"
   ]
  },
  {
   "cell_type": "markdown",
   "id": "9d983bbc",
   "metadata": {},
   "source": [
    "# Training Decision tree"
   ]
  },
  {
   "cell_type": "code",
   "execution_count": 18,
   "id": "2ffc0dfa",
   "metadata": {},
   "outputs": [],
   "source": [
    "#spliting our dataset\n",
    "train_features, test_features, train_labels, test_labels = train_test_split(pca_projection, labels, stratify = labels)"
   ]
  },
  {
   "cell_type": "code",
   "execution_count": 19,
   "id": "0d368c9d",
   "metadata": {},
   "outputs": [
    {
     "data": {
      "text/html": [
       "<style>#sk-container-id-1 {color: black;background-color: white;}#sk-container-id-1 pre{padding: 0;}#sk-container-id-1 div.sk-toggleable {background-color: white;}#sk-container-id-1 label.sk-toggleable__label {cursor: pointer;display: block;width: 100%;margin-bottom: 0;padding: 0.3em;box-sizing: border-box;text-align: center;}#sk-container-id-1 label.sk-toggleable__label-arrow:before {content: \"▸\";float: left;margin-right: 0.25em;color: #696969;}#sk-container-id-1 label.sk-toggleable__label-arrow:hover:before {color: black;}#sk-container-id-1 div.sk-estimator:hover label.sk-toggleable__label-arrow:before {color: black;}#sk-container-id-1 div.sk-toggleable__content {max-height: 0;max-width: 0;overflow: hidden;text-align: left;background-color: #f0f8ff;}#sk-container-id-1 div.sk-toggleable__content pre {margin: 0.2em;color: black;border-radius: 0.25em;background-color: #f0f8ff;}#sk-container-id-1 input.sk-toggleable__control:checked~div.sk-toggleable__content {max-height: 200px;max-width: 100%;overflow: auto;}#sk-container-id-1 input.sk-toggleable__control:checked~label.sk-toggleable__label-arrow:before {content: \"▾\";}#sk-container-id-1 div.sk-estimator input.sk-toggleable__control:checked~label.sk-toggleable__label {background-color: #d4ebff;}#sk-container-id-1 div.sk-label input.sk-toggleable__control:checked~label.sk-toggleable__label {background-color: #d4ebff;}#sk-container-id-1 input.sk-hidden--visually {border: 0;clip: rect(1px 1px 1px 1px);clip: rect(1px, 1px, 1px, 1px);height: 1px;margin: -1px;overflow: hidden;padding: 0;position: absolute;width: 1px;}#sk-container-id-1 div.sk-estimator {font-family: monospace;background-color: #f0f8ff;border: 1px dotted black;border-radius: 0.25em;box-sizing: border-box;margin-bottom: 0.5em;}#sk-container-id-1 div.sk-estimator:hover {background-color: #d4ebff;}#sk-container-id-1 div.sk-parallel-item::after {content: \"\";width: 100%;border-bottom: 1px solid gray;flex-grow: 1;}#sk-container-id-1 div.sk-label:hover label.sk-toggleable__label {background-color: #d4ebff;}#sk-container-id-1 div.sk-serial::before {content: \"\";position: absolute;border-left: 1px solid gray;box-sizing: border-box;top: 0;bottom: 0;left: 50%;z-index: 0;}#sk-container-id-1 div.sk-serial {display: flex;flex-direction: column;align-items: center;background-color: white;padding-right: 0.2em;padding-left: 0.2em;position: relative;}#sk-container-id-1 div.sk-item {position: relative;z-index: 1;}#sk-container-id-1 div.sk-parallel {display: flex;align-items: stretch;justify-content: center;background-color: white;position: relative;}#sk-container-id-1 div.sk-item::before, #sk-container-id-1 div.sk-parallel-item::before {content: \"\";position: absolute;border-left: 1px solid gray;box-sizing: border-box;top: 0;bottom: 0;left: 50%;z-index: -1;}#sk-container-id-1 div.sk-parallel-item {display: flex;flex-direction: column;z-index: 1;position: relative;background-color: white;}#sk-container-id-1 div.sk-parallel-item:first-child::after {align-self: flex-end;width: 50%;}#sk-container-id-1 div.sk-parallel-item:last-child::after {align-self: flex-start;width: 50%;}#sk-container-id-1 div.sk-parallel-item:only-child::after {width: 0;}#sk-container-id-1 div.sk-dashed-wrapped {border: 1px dashed gray;margin: 0 0.4em 0.5em 0.4em;box-sizing: border-box;padding-bottom: 0.4em;background-color: white;}#sk-container-id-1 div.sk-label label {font-family: monospace;font-weight: bold;display: inline-block;line-height: 1.2em;}#sk-container-id-1 div.sk-label-container {text-align: center;}#sk-container-id-1 div.sk-container {/* jupyter's `normalize.less` sets `[hidden] { display: none; }` but bootstrap.min.css set `[hidden] { display: none !important; }` so we also need the `!important` here to be able to override the default hidden behavior on the sphinx rendered scikit-learn.org. See: https://github.com/scikit-learn/scikit-learn/issues/21755 */display: inline-block !important;position: relative;}#sk-container-id-1 div.sk-text-repr-fallback {display: none;}</style><div id=\"sk-container-id-1\" class=\"sk-top-container\"><div class=\"sk-text-repr-fallback\"><pre>DecisionTreeClassifier(random_state=10)</pre><b>In a Jupyter environment, please rerun this cell to show the HTML representation or trust the notebook. <br />On GitHub, the HTML representation is unable to render, please try loading this page with nbviewer.org.</b></div><div class=\"sk-container\" hidden><div class=\"sk-item\"><div class=\"sk-estimator sk-toggleable\"><input class=\"sk-toggleable__control sk-hidden--visually\" id=\"sk-estimator-id-1\" type=\"checkbox\" checked><label for=\"sk-estimator-id-1\" class=\"sk-toggleable__label sk-toggleable__label-arrow\">DecisionTreeClassifier</label><div class=\"sk-toggleable__content\"><pre>DecisionTreeClassifier(random_state=10)</pre></div></div></div></div></div>"
      ],
      "text/plain": [
       "DecisionTreeClassifier(random_state=10)"
      ]
     },
     "execution_count": 19,
     "metadata": {},
     "output_type": "execute_result"
    }
   ],
   "source": [
    "#Training our decision tree\n",
    "tree=DecisionTreeClassifier(random_state=10)\n",
    "tree.fit(train_features,train_labels)\n",
    "\n"
   ]
  },
  {
   "cell_type": "code",
   "execution_count": 20,
   "id": "035b0eb3",
   "metadata": {
    "scrolled": true
   },
   "outputs": [
    {
     "data": {
      "text/plain": [
       "array(['Rock', 'Rock', 'Rock', ..., 'Rock', 'Hip-Hop', 'Rock'],\n",
       "      dtype=object)"
      ]
     },
     "execution_count": 20,
     "metadata": {},
     "output_type": "execute_result"
    }
   ],
   "source": [
    "#Predict the label of the test data\n",
    "pread_labels_tree=tree.predict(test_features)\n",
    "pread_labels_tree"
   ]
  },
  {
   "cell_type": "code",
   "execution_count": 21,
   "id": "6d4280b2",
   "metadata": {},
   "outputs": [
    {
     "data": {
      "text/plain": [
       "0.880932556203164"
      ]
     },
     "execution_count": 21,
     "metadata": {},
     "output_type": "execute_result"
    }
   ],
   "source": [
    "accuracy_score(test_labels,pread_labels_tree)"
   ]
  },
  {
   "cell_type": "code",
   "execution_count": 22,
   "id": "b34f1355",
   "metadata": {},
   "outputs": [
    {
     "data": {
      "text/plain": [
       "Rock       3892\n",
       "Hip-Hop     910\n",
       "Name: genre_top, dtype: int64"
      ]
     },
     "execution_count": 22,
     "metadata": {},
     "output_type": "execute_result"
    }
   ],
   "source": [
    "labels.value_counts()"
   ]
  },
  {
   "cell_type": "raw",
   "id": "67b52489",
   "metadata": {},
   "source": [
    "Our data is imbalanceda and due to that accuracy is not that much good so here we will use confusion matrx"
   ]
  },
  {
   "cell_type": "code",
   "execution_count": 23,
   "id": "3233a67f",
   "metadata": {},
   "outputs": [
    {
     "data": {
      "text/plain": [
       "array([[147,  81],\n",
       "       [ 62, 911]], dtype=int64)"
      ]
     },
     "execution_count": 23,
     "metadata": {},
     "output_type": "execute_result"
    }
   ],
   "source": [
    "confusion_matrix(test_labels,pread_labels_tree)"
   ]
  },
  {
   "cell_type": "markdown",
   "id": "051890ec",
   "metadata": {},
   "source": [
    "# Compare our decision tree to a logistic regression"
   ]
  },
  {
   "cell_type": "code",
   "execution_count": 24,
   "id": "02e2a331",
   "metadata": {},
   "outputs": [
    {
     "name": "stdout",
     "output_type": "stream",
     "text": [
      "Decision Tree: \n",
      "               precision    recall  f1-score   support\n",
      "\n",
      "     Hip-Hop       0.70      0.64      0.67       228\n",
      "        Rock       0.92      0.94      0.93       973\n",
      "\n",
      "    accuracy                           0.88      1201\n",
      "   macro avg       0.81      0.79      0.80      1201\n",
      "weighted avg       0.88      0.88      0.88      1201\n",
      "\n",
      "Logistic Regression: \n",
      "               precision    recall  f1-score   support\n",
      "\n",
      "     Hip-Hop       0.80      0.55      0.65       228\n",
      "        Rock       0.90      0.97      0.93       973\n",
      "\n",
      "    accuracy                           0.89      1201\n",
      "   macro avg       0.85      0.76      0.79      1201\n",
      "weighted avg       0.88      0.89      0.88      1201\n",
      "\n"
     ]
    }
   ],
   "source": [
    "# Train our logistic regression and predict labels for the test set\n",
    "logreg = LogisticRegression(random_state = 10)\n",
    "logreg.fit(train_features, train_labels)\n",
    "pred_labels_logit = logreg.predict(test_features)\n",
    "\n",
    "# Create the classification report for both models\n",
    "class_rep_tree = classification_report(test_labels, pread_labels_tree)\n",
    "class_rep_log = classification_report(test_labels, pred_labels_logit)\n",
    "\n",
    "print(\"Decision Tree: \\n\", class_rep_tree)\n",
    "print(\"Logistic Regression: \\n\", class_rep_log)"
   ]
  },
  {
   "cell_type": "markdown",
   "id": "366e9779",
   "metadata": {},
   "source": [
    "# Balancing our dataset"
   ]
  },
  {
   "cell_type": "code",
   "execution_count": 25,
   "id": "114b6870",
   "metadata": {},
   "outputs": [
    {
     "data": {
      "text/html": [
       "<div>\n",
       "<style scoped>\n",
       "    .dataframe tbody tr th:only-of-type {\n",
       "        vertical-align: middle;\n",
       "    }\n",
       "\n",
       "    .dataframe tbody tr th {\n",
       "        vertical-align: top;\n",
       "    }\n",
       "\n",
       "    .dataframe thead th {\n",
       "        text-align: right;\n",
       "    }\n",
       "</style>\n",
       "<table border=\"1\" class=\"dataframe\">\n",
       "  <thead>\n",
       "    <tr style=\"text-align: right;\">\n",
       "      <th></th>\n",
       "      <th>track_id</th>\n",
       "      <th>genre_top</th>\n",
       "      <th>acousticness</th>\n",
       "      <th>danceability</th>\n",
       "      <th>energy</th>\n",
       "      <th>instrumentalness</th>\n",
       "      <th>liveness</th>\n",
       "      <th>speechiness</th>\n",
       "      <th>tempo</th>\n",
       "      <th>valence</th>\n",
       "    </tr>\n",
       "  </thead>\n",
       "  <tbody>\n",
       "    <tr>\n",
       "      <th>0</th>\n",
       "      <td>153</td>\n",
       "      <td>Rock</td>\n",
       "      <td>0.988306</td>\n",
       "      <td>0.255661</td>\n",
       "      <td>0.979774</td>\n",
       "      <td>0.973006</td>\n",
       "      <td>0.121342</td>\n",
       "      <td>0.051740</td>\n",
       "      <td>90.241</td>\n",
       "      <td>0.034018</td>\n",
       "    </tr>\n",
       "    <tr>\n",
       "      <th>1</th>\n",
       "      <td>154</td>\n",
       "      <td>Rock</td>\n",
       "      <td>0.970135</td>\n",
       "      <td>0.352946</td>\n",
       "      <td>0.023852</td>\n",
       "      <td>0.957113</td>\n",
       "      <td>0.113261</td>\n",
       "      <td>0.032177</td>\n",
       "      <td>53.758</td>\n",
       "      <td>0.035632</td>\n",
       "    </tr>\n",
       "    <tr>\n",
       "      <th>2</th>\n",
       "      <td>155</td>\n",
       "      <td>Rock</td>\n",
       "      <td>0.981657</td>\n",
       "      <td>0.142249</td>\n",
       "      <td>0.912122</td>\n",
       "      <td>0.967294</td>\n",
       "      <td>0.363510</td>\n",
       "      <td>0.087527</td>\n",
       "      <td>91.912</td>\n",
       "      <td>0.034325</td>\n",
       "    </tr>\n",
       "    <tr>\n",
       "      <th>3</th>\n",
       "      <td>169</td>\n",
       "      <td>Rock</td>\n",
       "      <td>0.989141</td>\n",
       "      <td>0.225978</td>\n",
       "      <td>0.722835</td>\n",
       "      <td>0.263076</td>\n",
       "      <td>0.092371</td>\n",
       "      <td>0.053406</td>\n",
       "      <td>94.322</td>\n",
       "      <td>0.028347</td>\n",
       "    </tr>\n",
       "    <tr>\n",
       "      <th>4</th>\n",
       "      <td>170</td>\n",
       "      <td>Rock</td>\n",
       "      <td>0.886660</td>\n",
       "      <td>0.298518</td>\n",
       "      <td>0.744333</td>\n",
       "      <td>0.920950</td>\n",
       "      <td>0.139587</td>\n",
       "      <td>0.088781</td>\n",
       "      <td>97.880</td>\n",
       "      <td>0.073548</td>\n",
       "    </tr>\n",
       "  </tbody>\n",
       "</table>\n",
       "</div>"
      ],
      "text/plain": [
       "   track_id genre_top  acousticness  danceability    energy  instrumentalness  \\\n",
       "0       153      Rock      0.988306      0.255661  0.979774          0.973006   \n",
       "1       154      Rock      0.970135      0.352946  0.023852          0.957113   \n",
       "2       155      Rock      0.981657      0.142249  0.912122          0.967294   \n",
       "3       169      Rock      0.989141      0.225978  0.722835          0.263076   \n",
       "4       170      Rock      0.886660      0.298518  0.744333          0.920950   \n",
       "\n",
       "   liveness  speechiness   tempo   valence  \n",
       "0  0.121342     0.051740  90.241  0.034018  \n",
       "1  0.113261     0.032177  53.758  0.035632  \n",
       "2  0.363510     0.087527  91.912  0.034325  \n",
       "3  0.092371     0.053406  94.322  0.028347  \n",
       "4  0.139587     0.088781  97.880  0.073548  "
      ]
     },
     "execution_count": 25,
     "metadata": {},
     "output_type": "execute_result"
    }
   ],
   "source": [
    "# Subset only the hip-hop tracks, and then only the rock tracks\n",
    "hop_only = Data_set.loc[Data_set['genre_top'] == 'Hip-Hop']\n",
    "rock_only = Data_set.loc[Data_set['genre_top'] == 'Rock']\n",
    "rock_only.head()"
   ]
  },
  {
   "cell_type": "code",
   "execution_count": 26,
   "id": "b8de0274",
   "metadata": {},
   "outputs": [
    {
     "data": {
      "text/plain": [
       "((3892, 10), (910, 10))"
      ]
     },
     "execution_count": 26,
     "metadata": {},
     "output_type": "execute_result"
    }
   ],
   "source": [
    "# Checking shape\n",
    "rock_only.shape, hop_only.shape"
   ]
  },
  {
   "cell_type": "code",
   "execution_count": 27,
   "id": "329e9662",
   "metadata": {},
   "outputs": [
    {
     "data": {
      "text/plain": [
       "((910, 10), (910, 10))"
      ]
     },
     "execution_count": 27,
     "metadata": {},
     "output_type": "execute_result"
    }
   ],
   "source": [
    "# sample the rocks songs to be the same number as there are hip-hop songs\n",
    "rock_only = rock_only.sample(n= hop_only.shape[0])\n",
    "rock_only.shape, hop_only.shape"
   ]
  },
  {
   "cell_type": "code",
   "execution_count": 28,
   "id": "8db23c15",
   "metadata": {},
   "outputs": [
    {
     "data": {
      "text/plain": [
       "(1820, 10)"
      ]
     },
     "execution_count": 28,
     "metadata": {},
     "output_type": "execute_result"
    }
   ],
   "source": [
    "# concatenate the dataframes rock_only and hop_only\n",
    "rock_hop_bal = pd.concat([rock_only, hop_only])\n",
    "rock_hop_bal.shape"
   ]
  },
  {
   "cell_type": "code",
   "execution_count": 29,
   "id": "308898d0",
   "metadata": {},
   "outputs": [],
   "source": [
    "features = rock_hop_bal.drop(['genre_top', 'track_id'], axis=1) \n",
    "labels = rock_hop_bal['genre_top']\n",
    "pca_projection = pca.fit_transform(scaler.fit_transform(features))\n",
    "\n",
    "# Redefine the train and test set with the pca_projection from the balanced data\n",
    "train_features, test_features, train_labels, test_labels = train_test_split(pca_projection,\n",
    "                                                                            labels,\n",
    "                                                                            stratify = labels,\n",
    "                                                                            random_state=10)"
   ]
  },
  {
   "cell_type": "markdown",
   "id": "bed62a20",
   "metadata": {},
   "source": [
    "# Checking that balancing ourdataset impoved the model performance or not"
   ]
  },
  {
   "cell_type": "code",
   "execution_count": 30,
   "id": "d8fd8645",
   "metadata": {},
   "outputs": [
    {
     "name": "stdout",
     "output_type": "stream",
     "text": [
      "Decision Tree: \n",
      "               precision    recall  f1-score   support\n",
      "\n",
      "     Hip-Hop       0.79      0.79      0.79       227\n",
      "        Rock       0.79      0.79      0.79       228\n",
      "\n",
      "    accuracy                           0.79       455\n",
      "   macro avg       0.79      0.79      0.79       455\n",
      "weighted avg       0.79      0.79      0.79       455\n",
      "\n",
      "Logistic Regression: \n",
      "               precision    recall  f1-score   support\n",
      "\n",
      "     Hip-Hop       0.89      0.78      0.83       227\n",
      "        Rock       0.81      0.90      0.85       228\n",
      "\n",
      "    accuracy                           0.84       455\n",
      "   macro avg       0.85      0.84      0.84       455\n",
      "weighted avg       0.85      0.84      0.84       455\n",
      "\n"
     ]
    }
   ],
   "source": [
    "# Train our decision tree on the balanced data\n",
    "tree = DecisionTreeClassifier(random_state=10)\n",
    "tree.fit(train_features, train_labels)\n",
    "pred_labels_tree = tree.predict(test_features)\n",
    "\n",
    "# Train our logistic regression on the balanced data\n",
    "logreg = LogisticRegression(random_state = 10)\n",
    "logreg.fit(train_features, train_labels)\n",
    "pred_labels_logit = logreg.predict(test_features)\n",
    "\n",
    "# Compare the models\n",
    "print(\"Decision Tree: \\n\", classification_report(test_labels, pred_labels_tree))\n",
    "print(\"Logistic Regression: \\n\", classification_report(test_labels, pred_labels_logit))"
   ]
  },
  {
   "cell_type": "markdown",
   "id": "84eba2d0",
   "metadata": {},
   "source": [
    "# Cross-validation to evaluate our models"
   ]
  },
  {
   "cell_type": "code",
   "execution_count": 32,
   "id": "cd1a6e45",
   "metadata": {},
   "outputs": [
    {
     "name": "stdout",
     "output_type": "stream",
     "text": [
      "Decision Tree: 0.7835164835164835 Logistic Regression: 0.8384615384615384\n"
     ]
    }
   ],
   "source": [
    "# Set up our K-fold cross-validation\n",
    "kf = KFold(n_splits=10, random_state=10, shuffle=True)\n",
    "\n",
    "tree = DecisionTreeClassifier(random_state=10)\n",
    "logreg = LogisticRegression(random_state=10)\n",
    "\n",
    "# Train our models using KFold cv\n",
    "tree_score = cross_val_score(tree, pca_projection, labels, cv = kf)\n",
    "logit_score = cross_val_score(logreg, pca_projection, labels, cv = kf)\n",
    "\n",
    "# Print the mean of each array of scores\n",
    "print(\"Decision Tree:\", np.mean(tree_score),\n",
    "      \"Logistic Regression:\", np.mean(logit_score))"
   ]
  },
  {
   "cell_type": "raw",
   "id": "b3f3451d",
   "metadata": {},
   "source": [
    "Here we can see that logistic regression is working better that decision tree just by normalizing our dataset"
   ]
  },
  {
   "cell_type": "code",
   "execution_count": null,
   "id": "33d39737",
   "metadata": {},
   "outputs": [],
   "source": []
  },
  {
   "cell_type": "code",
   "execution_count": null,
   "id": "e70d4dbf",
   "metadata": {},
   "outputs": [],
   "source": []
  },
  {
   "cell_type": "code",
   "execution_count": null,
   "id": "8b1ee83d",
   "metadata": {},
   "outputs": [],
   "source": []
  }
 ],
 "metadata": {
  "kernelspec": {
   "display_name": "Python 3",
   "language": "python",
   "name": "python3"
  },
  "language_info": {
   "codemirror_mode": {
    "name": "ipython",
    "version": 3
   },
   "file_extension": ".py",
   "mimetype": "text/x-python",
   "name": "python",
   "nbconvert_exporter": "python",
   "pygments_lexer": "ipython3",
   "version": "3.8.8"
  }
 },
 "nbformat": 4,
 "nbformat_minor": 5
}
