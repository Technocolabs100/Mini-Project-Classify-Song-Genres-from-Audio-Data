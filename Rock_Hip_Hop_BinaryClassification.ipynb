{
  "nbformat": 4,
  "nbformat_minor": 0,
  "metadata": {
    "colab": {
      "name": "Rock_Hip-Hop_BinaryClassification",
      "provenance": [],
      "collapsed_sections": []
    },
    "kernelspec": {
      "name": "python3",
      "display_name": "Python 3"
    },
    "language_info": {
      "name": "python"
    },
    "accelerator": "GPU",
    "gpuClass": "standard"
  },
  "cells": [
    {
      "cell_type": "code",
      "execution_count": 323,
      "metadata": {
        "colab": {
          "base_uri": "https://localhost:8080/"
        },
        "id": "KiEtgn7_AR7w",
        "outputId": "e6c09124-b7e3-497a-fa7d-cc7b78c0122d"
      },
      "outputs": [
        {
          "output_type": "stream",
          "name": "stdout",
          "text": [
            "Looking in indexes: https://pypi.org/simple, https://us-python.pkg.dev/colab-wheels/public/simple/\n",
            "Requirement already satisfied: imbalanced-learn in /usr/local/lib/python3.7/dist-packages (0.8.1)\n",
            "Requirement already satisfied: scipy>=0.19.1 in /usr/local/lib/python3.7/dist-packages (from imbalanced-learn) (1.7.3)\n",
            "Requirement already satisfied: numpy>=1.13.3 in /usr/local/lib/python3.7/dist-packages (from imbalanced-learn) (1.21.6)\n",
            "Requirement already satisfied: joblib>=0.11 in /usr/local/lib/python3.7/dist-packages (from imbalanced-learn) (1.1.0)\n",
            "Requirement already satisfied: scikit-learn>=0.24 in /usr/local/lib/python3.7/dist-packages (from imbalanced-learn) (1.0.2)\n",
            "Requirement already satisfied: threadpoolctl>=2.0.0 in /usr/local/lib/python3.7/dist-packages (from scikit-learn>=0.24->imbalanced-learn) (3.1.0)\n",
            "Looking in indexes: https://pypi.org/simple, https://us-python.pkg.dev/colab-wheels/public/simple/\n",
            "Requirement already satisfied: imblearn in /usr/local/lib/python3.7/dist-packages (0.0)\n",
            "Requirement already satisfied: imbalanced-learn in /usr/local/lib/python3.7/dist-packages (from imblearn) (0.8.1)\n",
            "Requirement already satisfied: joblib>=0.11 in /usr/local/lib/python3.7/dist-packages (from imbalanced-learn->imblearn) (1.1.0)\n",
            "Requirement already satisfied: numpy>=1.13.3 in /usr/local/lib/python3.7/dist-packages (from imbalanced-learn->imblearn) (1.21.6)\n",
            "Requirement already satisfied: scipy>=0.19.1 in /usr/local/lib/python3.7/dist-packages (from imbalanced-learn->imblearn) (1.7.3)\n",
            "Requirement already satisfied: scikit-learn>=0.24 in /usr/local/lib/python3.7/dist-packages (from imbalanced-learn->imblearn) (1.0.2)\n",
            "Requirement already satisfied: threadpoolctl>=2.0.0 in /usr/local/lib/python3.7/dist-packages (from scikit-learn>=0.24->imbalanced-learn->imblearn) (3.1.0)\n"
          ]
        }
      ],
      "source": [
        "import numpy as np\n",
        "import pandas as pd\n",
        "import matplotlib.pyplot as plt\n",
        "%matplotlib inline\n",
        "import seaborn as sns\n",
        "from sklearn.preprocessing import LabelEncoder\n",
        "from sklearn.model_selection import train_test_split\n",
        "from sklearn.preprocessing import StandardScaler\n",
        "from sklearn.metrics import confusion_matrix,classification_report,accuracy_score\n",
        "from sklearn.linear_model import LogisticRegression\n",
        "from sklearn.neighbors import KNeighborsClassifier\n",
        "from sklearn import tree\n",
        "from sklearn import metrics\n",
        "!pip install imbalanced-learn\n",
        "from imblearn.over_sampling import SMOTE\n",
        "!pip install imblearn\n",
        "from imblearn import under_sampling\n",
        "from imblearn.under_sampling import RandomUnderSampler\n",
        "from sklearn import linear_model\n",
        "from sklearn.neighbors import KNeighborsClassifier"
      ]
    },
    {
      "cell_type": "code",
      "source": [
        "df_csv=pd.read_csv(\"/content/fma-rock-vs-hiphop.csv\")\n",
        "df_csv"
      ],
      "metadata": {
        "colab": {
          "base_uri": "https://localhost:8080/",
          "height": 641
        },
        "id": "4A9IkyukAoeq",
        "outputId": "b309d534-56fb-4b5c-9afe-8268ac392639"
      },
      "execution_count": 276,
      "outputs": [
        {
          "output_type": "execute_result",
          "data": {
            "text/plain": [
              "       track_id  bit_rate  comments        composer         date_created  \\\n",
              "0           135    256000         1             NaN  2008-11-26 01:43:26   \n",
              "1           136    256000         1             NaN  2008-11-26 01:43:35   \n",
              "2           151    192000         0             NaN  2008-11-26 01:44:55   \n",
              "3           152    192000         0             NaN  2008-11-26 01:44:58   \n",
              "4           153    256000         0  Arc and Sender  2008-11-26 01:45:00   \n",
              "...         ...       ...       ...             ...                  ...   \n",
              "17729    155063    320000         0             NaN  2017-03-24 19:40:43   \n",
              "17730    155064    320000         0             NaN  2017-03-24 19:40:44   \n",
              "17731    155065    320000         0             NaN  2017-03-24 19:40:45   \n",
              "17732    155066    320000         0             NaN  2017-03-24 19:40:47   \n",
              "17733    155247    320000         0         Fleslit  2017-03-29 01:40:28   \n",
              "\n",
              "             date_recorded  duration  favorites genre_top          genres  \\\n",
              "0      2008-11-26 00:00:00       837          0      Rock        [45, 58]   \n",
              "1      2008-11-26 00:00:00       509          0      Rock        [45, 58]   \n",
              "2                      NaN       192          0      Rock            [25]   \n",
              "3                      NaN       193          0      Rock            [25]   \n",
              "4      2008-11-26 00:00:00       405          5      Rock            [26]   \n",
              "...                    ...       ...        ...       ...             ...   \n",
              "17729                  NaN       283          3   Hip-Hop       [21, 811]   \n",
              "17730                  NaN       250          2   Hip-Hop       [21, 811]   \n",
              "17731                  NaN       219          3   Hip-Hop       [21, 811]   \n",
              "17732                  NaN       252          6   Hip-Hop       [21, 811]   \n",
              "17733                  NaN       211          3   Hip-Hop  [21, 539, 811]   \n",
              "\n",
              "       ... information interest  language_code  \\\n",
              "0      ...         NaN     2484             en   \n",
              "1      ...         NaN     1948             en   \n",
              "2      ...         NaN      701             en   \n",
              "3      ...         NaN      637             en   \n",
              "4      ...         NaN      354             en   \n",
              "...    ...         ...      ...            ...   \n",
              "17729  ...         NaN     1283            NaN   \n",
              "17730  ...         NaN     1077            NaN   \n",
              "17731  ...         NaN     1340            NaN   \n",
              "17732  ...         NaN     2065            NaN   \n",
              "17733  ...         NaN     1379            NaN   \n",
              "\n",
              "                                                 license listens  lyricist  \\\n",
              "0      Attribution-NonCommercial-ShareAlike 3.0 Inter...    1832       NaN   \n",
              "1      Attribution-NonCommercial-ShareAlike 3.0 Inter...    1498       NaN   \n",
              "2      Attribution-NonCommercial-ShareAlike 3.0 Inter...     148       NaN   \n",
              "3      Attribution-NonCommercial-ShareAlike 3.0 Inter...      98       NaN   \n",
              "4      Attribution-NonCommercial-NoDerivatives (aka M...     424       NaN   \n",
              "...                                                  ...     ...       ...   \n",
              "17729                                        Attribution    1050       NaN   \n",
              "17730                                        Attribution     858       NaN   \n",
              "17731                                        Attribution    1142       NaN   \n",
              "17732                                        Attribution    1474       NaN   \n",
              "17733                                        Attribution    1025       NaN   \n",
              "\n",
              "      number  publisher                                               tags  \\\n",
              "0          0        NaN                                                 []   \n",
              "1          0        NaN                                                 []   \n",
              "2          4        NaN                                                 []   \n",
              "3         11        NaN                                                 []   \n",
              "4          2        NaN                                                 []   \n",
              "...      ...        ...                                                ...   \n",
              "17729      4        NaN  ['old school beats', '2017 free instrumentals'...   \n",
              "17730      2        NaN  ['old school beats', '2017 free instrumentals'...   \n",
              "17731      1        NaN  ['old school beats', '2017 free instrumentals'...   \n",
              "17732      3        NaN  ['old school beats', '2017 free instrumentals'...   \n",
              "17733      0    Fleslit  ['instrumental trap beat', 'love', 'instrument...   \n",
              "\n",
              "                            title  \n",
              "0                    Father's Day  \n",
              "1      Peel Back The Mountain Sky  \n",
              "2                     Untitled 04  \n",
              "3                     Untitled 11  \n",
              "4              Hundred-Year Flood  \n",
              "...                           ...  \n",
              "17729                     Been On  \n",
              "17730                     Send Me  \n",
              "17731                The Question  \n",
              "17732                         Roy  \n",
              "17733             Love In The Sky  \n",
              "\n",
              "[17734 rows x 21 columns]"
            ],
            "text/html": [
              "\n",
              "  <div id=\"df-ecb0e57a-1650-4d22-9351-c16ebb06d21d\">\n",
              "    <div class=\"colab-df-container\">\n",
              "      <div>\n",
              "<style scoped>\n",
              "    .dataframe tbody tr th:only-of-type {\n",
              "        vertical-align: middle;\n",
              "    }\n",
              "\n",
              "    .dataframe tbody tr th {\n",
              "        vertical-align: top;\n",
              "    }\n",
              "\n",
              "    .dataframe thead th {\n",
              "        text-align: right;\n",
              "    }\n",
              "</style>\n",
              "<table border=\"1\" class=\"dataframe\">\n",
              "  <thead>\n",
              "    <tr style=\"text-align: right;\">\n",
              "      <th></th>\n",
              "      <th>track_id</th>\n",
              "      <th>bit_rate</th>\n",
              "      <th>comments</th>\n",
              "      <th>composer</th>\n",
              "      <th>date_created</th>\n",
              "      <th>date_recorded</th>\n",
              "      <th>duration</th>\n",
              "      <th>favorites</th>\n",
              "      <th>genre_top</th>\n",
              "      <th>genres</th>\n",
              "      <th>...</th>\n",
              "      <th>information</th>\n",
              "      <th>interest</th>\n",
              "      <th>language_code</th>\n",
              "      <th>license</th>\n",
              "      <th>listens</th>\n",
              "      <th>lyricist</th>\n",
              "      <th>number</th>\n",
              "      <th>publisher</th>\n",
              "      <th>tags</th>\n",
              "      <th>title</th>\n",
              "    </tr>\n",
              "  </thead>\n",
              "  <tbody>\n",
              "    <tr>\n",
              "      <th>0</th>\n",
              "      <td>135</td>\n",
              "      <td>256000</td>\n",
              "      <td>1</td>\n",
              "      <td>NaN</td>\n",
              "      <td>2008-11-26 01:43:26</td>\n",
              "      <td>2008-11-26 00:00:00</td>\n",
              "      <td>837</td>\n",
              "      <td>0</td>\n",
              "      <td>Rock</td>\n",
              "      <td>[45, 58]</td>\n",
              "      <td>...</td>\n",
              "      <td>NaN</td>\n",
              "      <td>2484</td>\n",
              "      <td>en</td>\n",
              "      <td>Attribution-NonCommercial-ShareAlike 3.0 Inter...</td>\n",
              "      <td>1832</td>\n",
              "      <td>NaN</td>\n",
              "      <td>0</td>\n",
              "      <td>NaN</td>\n",
              "      <td>[]</td>\n",
              "      <td>Father's Day</td>\n",
              "    </tr>\n",
              "    <tr>\n",
              "      <th>1</th>\n",
              "      <td>136</td>\n",
              "      <td>256000</td>\n",
              "      <td>1</td>\n",
              "      <td>NaN</td>\n",
              "      <td>2008-11-26 01:43:35</td>\n",
              "      <td>2008-11-26 00:00:00</td>\n",
              "      <td>509</td>\n",
              "      <td>0</td>\n",
              "      <td>Rock</td>\n",
              "      <td>[45, 58]</td>\n",
              "      <td>...</td>\n",
              "      <td>NaN</td>\n",
              "      <td>1948</td>\n",
              "      <td>en</td>\n",
              "      <td>Attribution-NonCommercial-ShareAlike 3.0 Inter...</td>\n",
              "      <td>1498</td>\n",
              "      <td>NaN</td>\n",
              "      <td>0</td>\n",
              "      <td>NaN</td>\n",
              "      <td>[]</td>\n",
              "      <td>Peel Back The Mountain Sky</td>\n",
              "    </tr>\n",
              "    <tr>\n",
              "      <th>2</th>\n",
              "      <td>151</td>\n",
              "      <td>192000</td>\n",
              "      <td>0</td>\n",
              "      <td>NaN</td>\n",
              "      <td>2008-11-26 01:44:55</td>\n",
              "      <td>NaN</td>\n",
              "      <td>192</td>\n",
              "      <td>0</td>\n",
              "      <td>Rock</td>\n",
              "      <td>[25]</td>\n",
              "      <td>...</td>\n",
              "      <td>NaN</td>\n",
              "      <td>701</td>\n",
              "      <td>en</td>\n",
              "      <td>Attribution-NonCommercial-ShareAlike 3.0 Inter...</td>\n",
              "      <td>148</td>\n",
              "      <td>NaN</td>\n",
              "      <td>4</td>\n",
              "      <td>NaN</td>\n",
              "      <td>[]</td>\n",
              "      <td>Untitled 04</td>\n",
              "    </tr>\n",
              "    <tr>\n",
              "      <th>3</th>\n",
              "      <td>152</td>\n",
              "      <td>192000</td>\n",
              "      <td>0</td>\n",
              "      <td>NaN</td>\n",
              "      <td>2008-11-26 01:44:58</td>\n",
              "      <td>NaN</td>\n",
              "      <td>193</td>\n",
              "      <td>0</td>\n",
              "      <td>Rock</td>\n",
              "      <td>[25]</td>\n",
              "      <td>...</td>\n",
              "      <td>NaN</td>\n",
              "      <td>637</td>\n",
              "      <td>en</td>\n",
              "      <td>Attribution-NonCommercial-ShareAlike 3.0 Inter...</td>\n",
              "      <td>98</td>\n",
              "      <td>NaN</td>\n",
              "      <td>11</td>\n",
              "      <td>NaN</td>\n",
              "      <td>[]</td>\n",
              "      <td>Untitled 11</td>\n",
              "    </tr>\n",
              "    <tr>\n",
              "      <th>4</th>\n",
              "      <td>153</td>\n",
              "      <td>256000</td>\n",
              "      <td>0</td>\n",
              "      <td>Arc and Sender</td>\n",
              "      <td>2008-11-26 01:45:00</td>\n",
              "      <td>2008-11-26 00:00:00</td>\n",
              "      <td>405</td>\n",
              "      <td>5</td>\n",
              "      <td>Rock</td>\n",
              "      <td>[26]</td>\n",
              "      <td>...</td>\n",
              "      <td>NaN</td>\n",
              "      <td>354</td>\n",
              "      <td>en</td>\n",
              "      <td>Attribution-NonCommercial-NoDerivatives (aka M...</td>\n",
              "      <td>424</td>\n",
              "      <td>NaN</td>\n",
              "      <td>2</td>\n",
              "      <td>NaN</td>\n",
              "      <td>[]</td>\n",
              "      <td>Hundred-Year Flood</td>\n",
              "    </tr>\n",
              "    <tr>\n",
              "      <th>...</th>\n",
              "      <td>...</td>\n",
              "      <td>...</td>\n",
              "      <td>...</td>\n",
              "      <td>...</td>\n",
              "      <td>...</td>\n",
              "      <td>...</td>\n",
              "      <td>...</td>\n",
              "      <td>...</td>\n",
              "      <td>...</td>\n",
              "      <td>...</td>\n",
              "      <td>...</td>\n",
              "      <td>...</td>\n",
              "      <td>...</td>\n",
              "      <td>...</td>\n",
              "      <td>...</td>\n",
              "      <td>...</td>\n",
              "      <td>...</td>\n",
              "      <td>...</td>\n",
              "      <td>...</td>\n",
              "      <td>...</td>\n",
              "      <td>...</td>\n",
              "    </tr>\n",
              "    <tr>\n",
              "      <th>17729</th>\n",
              "      <td>155063</td>\n",
              "      <td>320000</td>\n",
              "      <td>0</td>\n",
              "      <td>NaN</td>\n",
              "      <td>2017-03-24 19:40:43</td>\n",
              "      <td>NaN</td>\n",
              "      <td>283</td>\n",
              "      <td>3</td>\n",
              "      <td>Hip-Hop</td>\n",
              "      <td>[21, 811]</td>\n",
              "      <td>...</td>\n",
              "      <td>NaN</td>\n",
              "      <td>1283</td>\n",
              "      <td>NaN</td>\n",
              "      <td>Attribution</td>\n",
              "      <td>1050</td>\n",
              "      <td>NaN</td>\n",
              "      <td>4</td>\n",
              "      <td>NaN</td>\n",
              "      <td>['old school beats', '2017 free instrumentals'...</td>\n",
              "      <td>Been On</td>\n",
              "    </tr>\n",
              "    <tr>\n",
              "      <th>17730</th>\n",
              "      <td>155064</td>\n",
              "      <td>320000</td>\n",
              "      <td>0</td>\n",
              "      <td>NaN</td>\n",
              "      <td>2017-03-24 19:40:44</td>\n",
              "      <td>NaN</td>\n",
              "      <td>250</td>\n",
              "      <td>2</td>\n",
              "      <td>Hip-Hop</td>\n",
              "      <td>[21, 811]</td>\n",
              "      <td>...</td>\n",
              "      <td>NaN</td>\n",
              "      <td>1077</td>\n",
              "      <td>NaN</td>\n",
              "      <td>Attribution</td>\n",
              "      <td>858</td>\n",
              "      <td>NaN</td>\n",
              "      <td>2</td>\n",
              "      <td>NaN</td>\n",
              "      <td>['old school beats', '2017 free instrumentals'...</td>\n",
              "      <td>Send Me</td>\n",
              "    </tr>\n",
              "    <tr>\n",
              "      <th>17731</th>\n",
              "      <td>155065</td>\n",
              "      <td>320000</td>\n",
              "      <td>0</td>\n",
              "      <td>NaN</td>\n",
              "      <td>2017-03-24 19:40:45</td>\n",
              "      <td>NaN</td>\n",
              "      <td>219</td>\n",
              "      <td>3</td>\n",
              "      <td>Hip-Hop</td>\n",
              "      <td>[21, 811]</td>\n",
              "      <td>...</td>\n",
              "      <td>NaN</td>\n",
              "      <td>1340</td>\n",
              "      <td>NaN</td>\n",
              "      <td>Attribution</td>\n",
              "      <td>1142</td>\n",
              "      <td>NaN</td>\n",
              "      <td>1</td>\n",
              "      <td>NaN</td>\n",
              "      <td>['old school beats', '2017 free instrumentals'...</td>\n",
              "      <td>The Question</td>\n",
              "    </tr>\n",
              "    <tr>\n",
              "      <th>17732</th>\n",
              "      <td>155066</td>\n",
              "      <td>320000</td>\n",
              "      <td>0</td>\n",
              "      <td>NaN</td>\n",
              "      <td>2017-03-24 19:40:47</td>\n",
              "      <td>NaN</td>\n",
              "      <td>252</td>\n",
              "      <td>6</td>\n",
              "      <td>Hip-Hop</td>\n",
              "      <td>[21, 811]</td>\n",
              "      <td>...</td>\n",
              "      <td>NaN</td>\n",
              "      <td>2065</td>\n",
              "      <td>NaN</td>\n",
              "      <td>Attribution</td>\n",
              "      <td>1474</td>\n",
              "      <td>NaN</td>\n",
              "      <td>3</td>\n",
              "      <td>NaN</td>\n",
              "      <td>['old school beats', '2017 free instrumentals'...</td>\n",
              "      <td>Roy</td>\n",
              "    </tr>\n",
              "    <tr>\n",
              "      <th>17733</th>\n",
              "      <td>155247</td>\n",
              "      <td>320000</td>\n",
              "      <td>0</td>\n",
              "      <td>Fleslit</td>\n",
              "      <td>2017-03-29 01:40:28</td>\n",
              "      <td>NaN</td>\n",
              "      <td>211</td>\n",
              "      <td>3</td>\n",
              "      <td>Hip-Hop</td>\n",
              "      <td>[21, 539, 811]</td>\n",
              "      <td>...</td>\n",
              "      <td>NaN</td>\n",
              "      <td>1379</td>\n",
              "      <td>NaN</td>\n",
              "      <td>Attribution</td>\n",
              "      <td>1025</td>\n",
              "      <td>NaN</td>\n",
              "      <td>0</td>\n",
              "      <td>Fleslit</td>\n",
              "      <td>['instrumental trap beat', 'love', 'instrument...</td>\n",
              "      <td>Love In The Sky</td>\n",
              "    </tr>\n",
              "  </tbody>\n",
              "</table>\n",
              "<p>17734 rows × 21 columns</p>\n",
              "</div>\n",
              "      <button class=\"colab-df-convert\" onclick=\"convertToInteractive('df-ecb0e57a-1650-4d22-9351-c16ebb06d21d')\"\n",
              "              title=\"Convert this dataframe to an interactive table.\"\n",
              "              style=\"display:none;\">\n",
              "        \n",
              "  <svg xmlns=\"http://www.w3.org/2000/svg\" height=\"24px\"viewBox=\"0 0 24 24\"\n",
              "       width=\"24px\">\n",
              "    <path d=\"M0 0h24v24H0V0z\" fill=\"none\"/>\n",
              "    <path d=\"M18.56 5.44l.94 2.06.94-2.06 2.06-.94-2.06-.94-.94-2.06-.94 2.06-2.06.94zm-11 1L8.5 8.5l.94-2.06 2.06-.94-2.06-.94L8.5 2.5l-.94 2.06-2.06.94zm10 10l.94 2.06.94-2.06 2.06-.94-2.06-.94-.94-2.06-.94 2.06-2.06.94z\"/><path d=\"M17.41 7.96l-1.37-1.37c-.4-.4-.92-.59-1.43-.59-.52 0-1.04.2-1.43.59L10.3 9.45l-7.72 7.72c-.78.78-.78 2.05 0 2.83L4 21.41c.39.39.9.59 1.41.59.51 0 1.02-.2 1.41-.59l7.78-7.78 2.81-2.81c.8-.78.8-2.07 0-2.86zM5.41 20L4 18.59l7.72-7.72 1.47 1.35L5.41 20z\"/>\n",
              "  </svg>\n",
              "      </button>\n",
              "      \n",
              "  <style>\n",
              "    .colab-df-container {\n",
              "      display:flex;\n",
              "      flex-wrap:wrap;\n",
              "      gap: 12px;\n",
              "    }\n",
              "\n",
              "    .colab-df-convert {\n",
              "      background-color: #E8F0FE;\n",
              "      border: none;\n",
              "      border-radius: 50%;\n",
              "      cursor: pointer;\n",
              "      display: none;\n",
              "      fill: #1967D2;\n",
              "      height: 32px;\n",
              "      padding: 0 0 0 0;\n",
              "      width: 32px;\n",
              "    }\n",
              "\n",
              "    .colab-df-convert:hover {\n",
              "      background-color: #E2EBFA;\n",
              "      box-shadow: 0px 1px 2px rgba(60, 64, 67, 0.3), 0px 1px 3px 1px rgba(60, 64, 67, 0.15);\n",
              "      fill: #174EA6;\n",
              "    }\n",
              "\n",
              "    [theme=dark] .colab-df-convert {\n",
              "      background-color: #3B4455;\n",
              "      fill: #D2E3FC;\n",
              "    }\n",
              "\n",
              "    [theme=dark] .colab-df-convert:hover {\n",
              "      background-color: #434B5C;\n",
              "      box-shadow: 0px 1px 3px 1px rgba(0, 0, 0, 0.15);\n",
              "      filter: drop-shadow(0px 1px 2px rgba(0, 0, 0, 0.3));\n",
              "      fill: #FFFFFF;\n",
              "    }\n",
              "  </style>\n",
              "\n",
              "      <script>\n",
              "        const buttonEl =\n",
              "          document.querySelector('#df-ecb0e57a-1650-4d22-9351-c16ebb06d21d button.colab-df-convert');\n",
              "        buttonEl.style.display =\n",
              "          google.colab.kernel.accessAllowed ? 'block' : 'none';\n",
              "\n",
              "        async function convertToInteractive(key) {\n",
              "          const element = document.querySelector('#df-ecb0e57a-1650-4d22-9351-c16ebb06d21d');\n",
              "          const dataTable =\n",
              "            await google.colab.kernel.invokeFunction('convertToInteractive',\n",
              "                                                     [key], {});\n",
              "          if (!dataTable) return;\n",
              "\n",
              "          const docLinkHtml = 'Like what you see? Visit the ' +\n",
              "            '<a target=\"_blank\" href=https://colab.research.google.com/notebooks/data_table.ipynb>data table notebook</a>'\n",
              "            + ' to learn more about interactive tables.';\n",
              "          element.innerHTML = '';\n",
              "          dataTable['output_type'] = 'display_data';\n",
              "          await google.colab.output.renderOutput(dataTable, element);\n",
              "          const docLink = document.createElement('div');\n",
              "          docLink.innerHTML = docLinkHtml;\n",
              "          element.appendChild(docLink);\n",
              "        }\n",
              "      </script>\n",
              "    </div>\n",
              "  </div>\n",
              "  "
            ]
          },
          "metadata": {},
          "execution_count": 276
        }
      ]
    },
    {
      "cell_type": "code",
      "source": [
        "df_csv.shape"
      ],
      "metadata": {
        "colab": {
          "base_uri": "https://localhost:8080/"
        },
        "id": "VEntOMICAuwp",
        "outputId": "0b63fe04-ee16-400e-bbc4-47d549a2dff7"
      },
      "execution_count": 277,
      "outputs": [
        {
          "output_type": "execute_result",
          "data": {
            "text/plain": [
              "(17734, 21)"
            ]
          },
          "metadata": {},
          "execution_count": 277
        }
      ]
    },
    {
      "cell_type": "code",
      "source": [
        "df_json=pd.read_json(\"/content/echonest-metrics.json\")\n",
        "df_json"
      ],
      "metadata": {
        "colab": {
          "base_uri": "https://localhost:8080/",
          "height": 423
        },
        "id": "sXgC-2JIBE4h",
        "outputId": "82a5f18b-2a5e-488e-abc7-bfe6d34c4618"
      },
      "execution_count": 278,
      "outputs": [
        {
          "output_type": "execute_result",
          "data": {
            "text/plain": [
              "       track_id  acousticness  danceability    energy  instrumentalness  \\\n",
              "0             2      0.416675      0.675894  0.634476          0.010628   \n",
              "1             3      0.374408      0.528643  0.817461          0.001851   \n",
              "2             5      0.043567      0.745566  0.701470          0.000697   \n",
              "3            10      0.951670      0.658179  0.924525          0.965427   \n",
              "4           134      0.452217      0.513238  0.560410          0.019443   \n",
              "...         ...           ...           ...       ...               ...   \n",
              "13124    124857      0.007592      0.790364  0.719288          0.853114   \n",
              "13125    124862      0.041498      0.843077  0.536496          0.865151   \n",
              "13126    124863      0.000124      0.609686  0.895136          0.846624   \n",
              "13127    124864      0.327576      0.574426  0.548327          0.452867   \n",
              "13128    124911      0.993606      0.499339  0.050622          0.945677   \n",
              "\n",
              "       liveness  speechiness    tempo   valence  \n",
              "0      0.177647     0.159310  165.922  0.576661  \n",
              "1      0.105880     0.461818  126.957  0.269240  \n",
              "2      0.373143     0.124595  100.260  0.621661  \n",
              "3      0.115474     0.032985  111.562  0.963590  \n",
              "4      0.096567     0.525519  114.290  0.894072  \n",
              "...         ...          ...      ...       ...  \n",
              "13124  0.720715     0.082550  141.332  0.890461  \n",
              "13125  0.547949     0.074001  101.975  0.476845  \n",
              "13126  0.632903     0.051517  129.996  0.496667  \n",
              "13127  0.075928     0.033388  142.009  0.569274  \n",
              "13128  0.095965     0.065189  119.965  0.204652  \n",
              "\n",
              "[13129 rows x 9 columns]"
            ],
            "text/html": [
              "\n",
              "  <div id=\"df-f5595ccf-014d-4c2a-adb2-384915f12166\">\n",
              "    <div class=\"colab-df-container\">\n",
              "      <div>\n",
              "<style scoped>\n",
              "    .dataframe tbody tr th:only-of-type {\n",
              "        vertical-align: middle;\n",
              "    }\n",
              "\n",
              "    .dataframe tbody tr th {\n",
              "        vertical-align: top;\n",
              "    }\n",
              "\n",
              "    .dataframe thead th {\n",
              "        text-align: right;\n",
              "    }\n",
              "</style>\n",
              "<table border=\"1\" class=\"dataframe\">\n",
              "  <thead>\n",
              "    <tr style=\"text-align: right;\">\n",
              "      <th></th>\n",
              "      <th>track_id</th>\n",
              "      <th>acousticness</th>\n",
              "      <th>danceability</th>\n",
              "      <th>energy</th>\n",
              "      <th>instrumentalness</th>\n",
              "      <th>liveness</th>\n",
              "      <th>speechiness</th>\n",
              "      <th>tempo</th>\n",
              "      <th>valence</th>\n",
              "    </tr>\n",
              "  </thead>\n",
              "  <tbody>\n",
              "    <tr>\n",
              "      <th>0</th>\n",
              "      <td>2</td>\n",
              "      <td>0.416675</td>\n",
              "      <td>0.675894</td>\n",
              "      <td>0.634476</td>\n",
              "      <td>0.010628</td>\n",
              "      <td>0.177647</td>\n",
              "      <td>0.159310</td>\n",
              "      <td>165.922</td>\n",
              "      <td>0.576661</td>\n",
              "    </tr>\n",
              "    <tr>\n",
              "      <th>1</th>\n",
              "      <td>3</td>\n",
              "      <td>0.374408</td>\n",
              "      <td>0.528643</td>\n",
              "      <td>0.817461</td>\n",
              "      <td>0.001851</td>\n",
              "      <td>0.105880</td>\n",
              "      <td>0.461818</td>\n",
              "      <td>126.957</td>\n",
              "      <td>0.269240</td>\n",
              "    </tr>\n",
              "    <tr>\n",
              "      <th>2</th>\n",
              "      <td>5</td>\n",
              "      <td>0.043567</td>\n",
              "      <td>0.745566</td>\n",
              "      <td>0.701470</td>\n",
              "      <td>0.000697</td>\n",
              "      <td>0.373143</td>\n",
              "      <td>0.124595</td>\n",
              "      <td>100.260</td>\n",
              "      <td>0.621661</td>\n",
              "    </tr>\n",
              "    <tr>\n",
              "      <th>3</th>\n",
              "      <td>10</td>\n",
              "      <td>0.951670</td>\n",
              "      <td>0.658179</td>\n",
              "      <td>0.924525</td>\n",
              "      <td>0.965427</td>\n",
              "      <td>0.115474</td>\n",
              "      <td>0.032985</td>\n",
              "      <td>111.562</td>\n",
              "      <td>0.963590</td>\n",
              "    </tr>\n",
              "    <tr>\n",
              "      <th>4</th>\n",
              "      <td>134</td>\n",
              "      <td>0.452217</td>\n",
              "      <td>0.513238</td>\n",
              "      <td>0.560410</td>\n",
              "      <td>0.019443</td>\n",
              "      <td>0.096567</td>\n",
              "      <td>0.525519</td>\n",
              "      <td>114.290</td>\n",
              "      <td>0.894072</td>\n",
              "    </tr>\n",
              "    <tr>\n",
              "      <th>...</th>\n",
              "      <td>...</td>\n",
              "      <td>...</td>\n",
              "      <td>...</td>\n",
              "      <td>...</td>\n",
              "      <td>...</td>\n",
              "      <td>...</td>\n",
              "      <td>...</td>\n",
              "      <td>...</td>\n",
              "      <td>...</td>\n",
              "    </tr>\n",
              "    <tr>\n",
              "      <th>13124</th>\n",
              "      <td>124857</td>\n",
              "      <td>0.007592</td>\n",
              "      <td>0.790364</td>\n",
              "      <td>0.719288</td>\n",
              "      <td>0.853114</td>\n",
              "      <td>0.720715</td>\n",
              "      <td>0.082550</td>\n",
              "      <td>141.332</td>\n",
              "      <td>0.890461</td>\n",
              "    </tr>\n",
              "    <tr>\n",
              "      <th>13125</th>\n",
              "      <td>124862</td>\n",
              "      <td>0.041498</td>\n",
              "      <td>0.843077</td>\n",
              "      <td>0.536496</td>\n",
              "      <td>0.865151</td>\n",
              "      <td>0.547949</td>\n",
              "      <td>0.074001</td>\n",
              "      <td>101.975</td>\n",
              "      <td>0.476845</td>\n",
              "    </tr>\n",
              "    <tr>\n",
              "      <th>13126</th>\n",
              "      <td>124863</td>\n",
              "      <td>0.000124</td>\n",
              "      <td>0.609686</td>\n",
              "      <td>0.895136</td>\n",
              "      <td>0.846624</td>\n",
              "      <td>0.632903</td>\n",
              "      <td>0.051517</td>\n",
              "      <td>129.996</td>\n",
              "      <td>0.496667</td>\n",
              "    </tr>\n",
              "    <tr>\n",
              "      <th>13127</th>\n",
              "      <td>124864</td>\n",
              "      <td>0.327576</td>\n",
              "      <td>0.574426</td>\n",
              "      <td>0.548327</td>\n",
              "      <td>0.452867</td>\n",
              "      <td>0.075928</td>\n",
              "      <td>0.033388</td>\n",
              "      <td>142.009</td>\n",
              "      <td>0.569274</td>\n",
              "    </tr>\n",
              "    <tr>\n",
              "      <th>13128</th>\n",
              "      <td>124911</td>\n",
              "      <td>0.993606</td>\n",
              "      <td>0.499339</td>\n",
              "      <td>0.050622</td>\n",
              "      <td>0.945677</td>\n",
              "      <td>0.095965</td>\n",
              "      <td>0.065189</td>\n",
              "      <td>119.965</td>\n",
              "      <td>0.204652</td>\n",
              "    </tr>\n",
              "  </tbody>\n",
              "</table>\n",
              "<p>13129 rows × 9 columns</p>\n",
              "</div>\n",
              "      <button class=\"colab-df-convert\" onclick=\"convertToInteractive('df-f5595ccf-014d-4c2a-adb2-384915f12166')\"\n",
              "              title=\"Convert this dataframe to an interactive table.\"\n",
              "              style=\"display:none;\">\n",
              "        \n",
              "  <svg xmlns=\"http://www.w3.org/2000/svg\" height=\"24px\"viewBox=\"0 0 24 24\"\n",
              "       width=\"24px\">\n",
              "    <path d=\"M0 0h24v24H0V0z\" fill=\"none\"/>\n",
              "    <path d=\"M18.56 5.44l.94 2.06.94-2.06 2.06-.94-2.06-.94-.94-2.06-.94 2.06-2.06.94zm-11 1L8.5 8.5l.94-2.06 2.06-.94-2.06-.94L8.5 2.5l-.94 2.06-2.06.94zm10 10l.94 2.06.94-2.06 2.06-.94-2.06-.94-.94-2.06-.94 2.06-2.06.94z\"/><path d=\"M17.41 7.96l-1.37-1.37c-.4-.4-.92-.59-1.43-.59-.52 0-1.04.2-1.43.59L10.3 9.45l-7.72 7.72c-.78.78-.78 2.05 0 2.83L4 21.41c.39.39.9.59 1.41.59.51 0 1.02-.2 1.41-.59l7.78-7.78 2.81-2.81c.8-.78.8-2.07 0-2.86zM5.41 20L4 18.59l7.72-7.72 1.47 1.35L5.41 20z\"/>\n",
              "  </svg>\n",
              "      </button>\n",
              "      \n",
              "  <style>\n",
              "    .colab-df-container {\n",
              "      display:flex;\n",
              "      flex-wrap:wrap;\n",
              "      gap: 12px;\n",
              "    }\n",
              "\n",
              "    .colab-df-convert {\n",
              "      background-color: #E8F0FE;\n",
              "      border: none;\n",
              "      border-radius: 50%;\n",
              "      cursor: pointer;\n",
              "      display: none;\n",
              "      fill: #1967D2;\n",
              "      height: 32px;\n",
              "      padding: 0 0 0 0;\n",
              "      width: 32px;\n",
              "    }\n",
              "\n",
              "    .colab-df-convert:hover {\n",
              "      background-color: #E2EBFA;\n",
              "      box-shadow: 0px 1px 2px rgba(60, 64, 67, 0.3), 0px 1px 3px 1px rgba(60, 64, 67, 0.15);\n",
              "      fill: #174EA6;\n",
              "    }\n",
              "\n",
              "    [theme=dark] .colab-df-convert {\n",
              "      background-color: #3B4455;\n",
              "      fill: #D2E3FC;\n",
              "    }\n",
              "\n",
              "    [theme=dark] .colab-df-convert:hover {\n",
              "      background-color: #434B5C;\n",
              "      box-shadow: 0px 1px 3px 1px rgba(0, 0, 0, 0.15);\n",
              "      filter: drop-shadow(0px 1px 2px rgba(0, 0, 0, 0.3));\n",
              "      fill: #FFFFFF;\n",
              "    }\n",
              "  </style>\n",
              "\n",
              "      <script>\n",
              "        const buttonEl =\n",
              "          document.querySelector('#df-f5595ccf-014d-4c2a-adb2-384915f12166 button.colab-df-convert');\n",
              "        buttonEl.style.display =\n",
              "          google.colab.kernel.accessAllowed ? 'block' : 'none';\n",
              "\n",
              "        async function convertToInteractive(key) {\n",
              "          const element = document.querySelector('#df-f5595ccf-014d-4c2a-adb2-384915f12166');\n",
              "          const dataTable =\n",
              "            await google.colab.kernel.invokeFunction('convertToInteractive',\n",
              "                                                     [key], {});\n",
              "          if (!dataTable) return;\n",
              "\n",
              "          const docLinkHtml = 'Like what you see? Visit the ' +\n",
              "            '<a target=\"_blank\" href=https://colab.research.google.com/notebooks/data_table.ipynb>data table notebook</a>'\n",
              "            + ' to learn more about interactive tables.';\n",
              "          element.innerHTML = '';\n",
              "          dataTable['output_type'] = 'display_data';\n",
              "          await google.colab.output.renderOutput(dataTable, element);\n",
              "          const docLink = document.createElement('div');\n",
              "          docLink.innerHTML = docLinkHtml;\n",
              "          element.appendChild(docLink);\n",
              "        }\n",
              "      </script>\n",
              "    </div>\n",
              "  </div>\n",
              "  "
            ]
          },
          "metadata": {},
          "execution_count": 278
        }
      ]
    },
    {
      "cell_type": "code",
      "source": [
        "df_csv.isnull().sum()"
      ],
      "metadata": {
        "colab": {
          "base_uri": "https://localhost:8080/"
        },
        "id": "N0fnwCKCBRM4",
        "outputId": "5420c28b-f024-4eb1-c7df-f733a6a70d4c"
      },
      "execution_count": 279,
      "outputs": [
        {
          "output_type": "execute_result",
          "data": {
            "text/plain": [
              "track_id             0\n",
              "bit_rate             0\n",
              "comments             0\n",
              "composer         17568\n",
              "date_created         0\n",
              "date_recorded    15836\n",
              "duration             0\n",
              "favorites            0\n",
              "genre_top            0\n",
              "genres               0\n",
              "genres_all           0\n",
              "information      17252\n",
              "interest             0\n",
              "language_code    13645\n",
              "license             20\n",
              "listens              0\n",
              "lyricist         17681\n",
              "number               0\n",
              "publisher        17682\n",
              "tags                 0\n",
              "title                0\n",
              "dtype: int64"
            ]
          },
          "metadata": {},
          "execution_count": 279
        }
      ]
    },
    {
      "cell_type": "code",
      "source": [
        "df_csv=df_csv.drop(df_csv[['composer','date_recorded','information','language_code','lyricist','publisher']],axis=1)"
      ],
      "metadata": {
        "id": "ndqXfZlGEAX4"
      },
      "execution_count": 280,
      "outputs": []
    },
    {
      "cell_type": "code",
      "source": [
        "df_csv=df_csv.fillna(method='ffill')\n",
        "df_csv.isnull().sum()"
      ],
      "metadata": {
        "colab": {
          "base_uri": "https://localhost:8080/"
        },
        "id": "6N2O0kWKEosX",
        "outputId": "c079e6d7-d2cd-4b91-dbce-f920af8d989f"
      },
      "execution_count": 281,
      "outputs": [
        {
          "output_type": "execute_result",
          "data": {
            "text/plain": [
              "track_id        0\n",
              "bit_rate        0\n",
              "comments        0\n",
              "date_created    0\n",
              "duration        0\n",
              "favorites       0\n",
              "genre_top       0\n",
              "genres          0\n",
              "genres_all      0\n",
              "interest        0\n",
              "license         0\n",
              "listens         0\n",
              "number          0\n",
              "tags            0\n",
              "title           0\n",
              "dtype: int64"
            ]
          },
          "metadata": {},
          "execution_count": 281
        }
      ]
    },
    {
      "cell_type": "code",
      "source": [
        "df_csv=df_csv.apply(LabelEncoder().fit_transform)"
      ],
      "metadata": {
        "id": "V79Jrk7THhJJ"
      },
      "execution_count": 282,
      "outputs": []
    },
    {
      "cell_type": "code",
      "source": [
        "df=pd.merge(df_json,df_csv)\n",
        "df"
      ],
      "metadata": {
        "colab": {
          "base_uri": "https://localhost:8080/",
          "height": 423
        },
        "id": "3llp9ZbvL3P3",
        "outputId": "19d824f1-9b28-4729-a23c-4dd974acdb4e"
      },
      "execution_count": 283,
      "outputs": [
        {
          "output_type": "execute_result",
          "data": {
            "text/plain": [
              "      track_id  acousticness  danceability    energy  instrumentalness  \\\n",
              "0            2      0.416675      0.675894  0.634476          0.010628   \n",
              "1            3      0.374408      0.528643  0.817461          0.001851   \n",
              "2            5      0.043567      0.745566  0.701470          0.000697   \n",
              "3           10      0.951670      0.658179  0.924525          0.965427   \n",
              "4          134      0.452217      0.513238  0.560410          0.019443   \n",
              "...        ...           ...           ...       ...               ...   \n",
              "4447     17718      0.970180      0.501342  0.250595          0.747627   \n",
              "4448     17720      0.950490      0.435698  0.732042          0.947082   \n",
              "4449     17721      0.985811      0.448653  0.327935          0.901941   \n",
              "4450     17722      0.468288      0.309355  0.886097          0.076086   \n",
              "4451     17723      0.894344      0.313154  0.657245          0.936381   \n",
              "\n",
              "      liveness  speechiness    tempo   valence  bit_rate  ...  favorites  \\\n",
              "0     0.177647     0.159310  165.922  0.576661      1028  ...          6   \n",
              "1     0.105880     0.461818  126.957  0.269240      1028  ...          3   \n",
              "2     0.373143     0.124595  100.260  0.621661      1028  ...          0   \n",
              "3     0.115474     0.032985  111.562  0.963590       372  ...          1   \n",
              "4     0.096567     0.525519  114.290  0.894072       132  ...          0   \n",
              "...        ...          ...      ...       ...       ...  ...        ...   \n",
              "4447  0.476116     0.037085   80.067  0.399386      1679  ...          0   \n",
              "4448  0.112163     0.031306  111.985  0.741920      1679  ...          2   \n",
              "4449  0.131481     0.074555  125.450  0.067449      1679  ...          3   \n",
              "4450  0.348318     0.511985   69.928  0.118684      1679  ...          6   \n",
              "4451  0.092118     0.038803  183.751  0.702785      1679  ...          1   \n",
              "\n",
              "      genre_top  genres  genres_all  interest  license  listens  number  tags  \\\n",
              "0             0     100          59      1871       22     1139       6   281   \n",
              "1             0     100          59      1086       22      933       5   281   \n",
              "2             1     264         168      1884       22     1468       0   281   \n",
              "3             1     181         117       228       16      188       0   281   \n",
              "4             1     214         130       449       22       76       6   281   \n",
              "...         ...     ...         ...       ...      ...      ...     ...   ...   \n",
              "4447          1     162          80       444       53      369       8   281   \n",
              "4448          0      98         227      1037        0      849       2   184   \n",
              "4449          0      98         227      1300        0     1130       1   184   \n",
              "4450          0      98         227      1987        0     1448       3   184   \n",
              "4451          1     181         117       191       53      191       1   281   \n",
              "\n",
              "      title  \n",
              "0     13875  \n",
              "1     12589  \n",
              "2     10144  \n",
              "3      8411  \n",
              "4      6831  \n",
              "...     ...  \n",
              "4447   6349  \n",
              "4448  11554  \n",
              "4449  13553  \n",
              "4450  11200  \n",
              "4451   1990  \n",
              "\n",
              "[4452 rows x 23 columns]"
            ],
            "text/html": [
              "\n",
              "  <div id=\"df-4acd4c5b-20e4-46ee-9b51-2ef63f79cffb\">\n",
              "    <div class=\"colab-df-container\">\n",
              "      <div>\n",
              "<style scoped>\n",
              "    .dataframe tbody tr th:only-of-type {\n",
              "        vertical-align: middle;\n",
              "    }\n",
              "\n",
              "    .dataframe tbody tr th {\n",
              "        vertical-align: top;\n",
              "    }\n",
              "\n",
              "    .dataframe thead th {\n",
              "        text-align: right;\n",
              "    }\n",
              "</style>\n",
              "<table border=\"1\" class=\"dataframe\">\n",
              "  <thead>\n",
              "    <tr style=\"text-align: right;\">\n",
              "      <th></th>\n",
              "      <th>track_id</th>\n",
              "      <th>acousticness</th>\n",
              "      <th>danceability</th>\n",
              "      <th>energy</th>\n",
              "      <th>instrumentalness</th>\n",
              "      <th>liveness</th>\n",
              "      <th>speechiness</th>\n",
              "      <th>tempo</th>\n",
              "      <th>valence</th>\n",
              "      <th>bit_rate</th>\n",
              "      <th>...</th>\n",
              "      <th>favorites</th>\n",
              "      <th>genre_top</th>\n",
              "      <th>genres</th>\n",
              "      <th>genres_all</th>\n",
              "      <th>interest</th>\n",
              "      <th>license</th>\n",
              "      <th>listens</th>\n",
              "      <th>number</th>\n",
              "      <th>tags</th>\n",
              "      <th>title</th>\n",
              "    </tr>\n",
              "  </thead>\n",
              "  <tbody>\n",
              "    <tr>\n",
              "      <th>0</th>\n",
              "      <td>2</td>\n",
              "      <td>0.416675</td>\n",
              "      <td>0.675894</td>\n",
              "      <td>0.634476</td>\n",
              "      <td>0.010628</td>\n",
              "      <td>0.177647</td>\n",
              "      <td>0.159310</td>\n",
              "      <td>165.922</td>\n",
              "      <td>0.576661</td>\n",
              "      <td>1028</td>\n",
              "      <td>...</td>\n",
              "      <td>6</td>\n",
              "      <td>0</td>\n",
              "      <td>100</td>\n",
              "      <td>59</td>\n",
              "      <td>1871</td>\n",
              "      <td>22</td>\n",
              "      <td>1139</td>\n",
              "      <td>6</td>\n",
              "      <td>281</td>\n",
              "      <td>13875</td>\n",
              "    </tr>\n",
              "    <tr>\n",
              "      <th>1</th>\n",
              "      <td>3</td>\n",
              "      <td>0.374408</td>\n",
              "      <td>0.528643</td>\n",
              "      <td>0.817461</td>\n",
              "      <td>0.001851</td>\n",
              "      <td>0.105880</td>\n",
              "      <td>0.461818</td>\n",
              "      <td>126.957</td>\n",
              "      <td>0.269240</td>\n",
              "      <td>1028</td>\n",
              "      <td>...</td>\n",
              "      <td>3</td>\n",
              "      <td>0</td>\n",
              "      <td>100</td>\n",
              "      <td>59</td>\n",
              "      <td>1086</td>\n",
              "      <td>22</td>\n",
              "      <td>933</td>\n",
              "      <td>5</td>\n",
              "      <td>281</td>\n",
              "      <td>12589</td>\n",
              "    </tr>\n",
              "    <tr>\n",
              "      <th>2</th>\n",
              "      <td>5</td>\n",
              "      <td>0.043567</td>\n",
              "      <td>0.745566</td>\n",
              "      <td>0.701470</td>\n",
              "      <td>0.000697</td>\n",
              "      <td>0.373143</td>\n",
              "      <td>0.124595</td>\n",
              "      <td>100.260</td>\n",
              "      <td>0.621661</td>\n",
              "      <td>1028</td>\n",
              "      <td>...</td>\n",
              "      <td>0</td>\n",
              "      <td>1</td>\n",
              "      <td>264</td>\n",
              "      <td>168</td>\n",
              "      <td>1884</td>\n",
              "      <td>22</td>\n",
              "      <td>1468</td>\n",
              "      <td>0</td>\n",
              "      <td>281</td>\n",
              "      <td>10144</td>\n",
              "    </tr>\n",
              "    <tr>\n",
              "      <th>3</th>\n",
              "      <td>10</td>\n",
              "      <td>0.951670</td>\n",
              "      <td>0.658179</td>\n",
              "      <td>0.924525</td>\n",
              "      <td>0.965427</td>\n",
              "      <td>0.115474</td>\n",
              "      <td>0.032985</td>\n",
              "      <td>111.562</td>\n",
              "      <td>0.963590</td>\n",
              "      <td>372</td>\n",
              "      <td>...</td>\n",
              "      <td>1</td>\n",
              "      <td>1</td>\n",
              "      <td>181</td>\n",
              "      <td>117</td>\n",
              "      <td>228</td>\n",
              "      <td>16</td>\n",
              "      <td>188</td>\n",
              "      <td>0</td>\n",
              "      <td>281</td>\n",
              "      <td>8411</td>\n",
              "    </tr>\n",
              "    <tr>\n",
              "      <th>4</th>\n",
              "      <td>134</td>\n",
              "      <td>0.452217</td>\n",
              "      <td>0.513238</td>\n",
              "      <td>0.560410</td>\n",
              "      <td>0.019443</td>\n",
              "      <td>0.096567</td>\n",
              "      <td>0.525519</td>\n",
              "      <td>114.290</td>\n",
              "      <td>0.894072</td>\n",
              "      <td>132</td>\n",
              "      <td>...</td>\n",
              "      <td>0</td>\n",
              "      <td>1</td>\n",
              "      <td>214</td>\n",
              "      <td>130</td>\n",
              "      <td>449</td>\n",
              "      <td>22</td>\n",
              "      <td>76</td>\n",
              "      <td>6</td>\n",
              "      <td>281</td>\n",
              "      <td>6831</td>\n",
              "    </tr>\n",
              "    <tr>\n",
              "      <th>...</th>\n",
              "      <td>...</td>\n",
              "      <td>...</td>\n",
              "      <td>...</td>\n",
              "      <td>...</td>\n",
              "      <td>...</td>\n",
              "      <td>...</td>\n",
              "      <td>...</td>\n",
              "      <td>...</td>\n",
              "      <td>...</td>\n",
              "      <td>...</td>\n",
              "      <td>...</td>\n",
              "      <td>...</td>\n",
              "      <td>...</td>\n",
              "      <td>...</td>\n",
              "      <td>...</td>\n",
              "      <td>...</td>\n",
              "      <td>...</td>\n",
              "      <td>...</td>\n",
              "      <td>...</td>\n",
              "      <td>...</td>\n",
              "      <td>...</td>\n",
              "    </tr>\n",
              "    <tr>\n",
              "      <th>4447</th>\n",
              "      <td>17718</td>\n",
              "      <td>0.970180</td>\n",
              "      <td>0.501342</td>\n",
              "      <td>0.250595</td>\n",
              "      <td>0.747627</td>\n",
              "      <td>0.476116</td>\n",
              "      <td>0.037085</td>\n",
              "      <td>80.067</td>\n",
              "      <td>0.399386</td>\n",
              "      <td>1679</td>\n",
              "      <td>...</td>\n",
              "      <td>0</td>\n",
              "      <td>1</td>\n",
              "      <td>162</td>\n",
              "      <td>80</td>\n",
              "      <td>444</td>\n",
              "      <td>53</td>\n",
              "      <td>369</td>\n",
              "      <td>8</td>\n",
              "      <td>281</td>\n",
              "      <td>6349</td>\n",
              "    </tr>\n",
              "    <tr>\n",
              "      <th>4448</th>\n",
              "      <td>17720</td>\n",
              "      <td>0.950490</td>\n",
              "      <td>0.435698</td>\n",
              "      <td>0.732042</td>\n",
              "      <td>0.947082</td>\n",
              "      <td>0.112163</td>\n",
              "      <td>0.031306</td>\n",
              "      <td>111.985</td>\n",
              "      <td>0.741920</td>\n",
              "      <td>1679</td>\n",
              "      <td>...</td>\n",
              "      <td>2</td>\n",
              "      <td>0</td>\n",
              "      <td>98</td>\n",
              "      <td>227</td>\n",
              "      <td>1037</td>\n",
              "      <td>0</td>\n",
              "      <td>849</td>\n",
              "      <td>2</td>\n",
              "      <td>184</td>\n",
              "      <td>11554</td>\n",
              "    </tr>\n",
              "    <tr>\n",
              "      <th>4449</th>\n",
              "      <td>17721</td>\n",
              "      <td>0.985811</td>\n",
              "      <td>0.448653</td>\n",
              "      <td>0.327935</td>\n",
              "      <td>0.901941</td>\n",
              "      <td>0.131481</td>\n",
              "      <td>0.074555</td>\n",
              "      <td>125.450</td>\n",
              "      <td>0.067449</td>\n",
              "      <td>1679</td>\n",
              "      <td>...</td>\n",
              "      <td>3</td>\n",
              "      <td>0</td>\n",
              "      <td>98</td>\n",
              "      <td>227</td>\n",
              "      <td>1300</td>\n",
              "      <td>0</td>\n",
              "      <td>1130</td>\n",
              "      <td>1</td>\n",
              "      <td>184</td>\n",
              "      <td>13553</td>\n",
              "    </tr>\n",
              "    <tr>\n",
              "      <th>4450</th>\n",
              "      <td>17722</td>\n",
              "      <td>0.468288</td>\n",
              "      <td>0.309355</td>\n",
              "      <td>0.886097</td>\n",
              "      <td>0.076086</td>\n",
              "      <td>0.348318</td>\n",
              "      <td>0.511985</td>\n",
              "      <td>69.928</td>\n",
              "      <td>0.118684</td>\n",
              "      <td>1679</td>\n",
              "      <td>...</td>\n",
              "      <td>6</td>\n",
              "      <td>0</td>\n",
              "      <td>98</td>\n",
              "      <td>227</td>\n",
              "      <td>1987</td>\n",
              "      <td>0</td>\n",
              "      <td>1448</td>\n",
              "      <td>3</td>\n",
              "      <td>184</td>\n",
              "      <td>11200</td>\n",
              "    </tr>\n",
              "    <tr>\n",
              "      <th>4451</th>\n",
              "      <td>17723</td>\n",
              "      <td>0.894344</td>\n",
              "      <td>0.313154</td>\n",
              "      <td>0.657245</td>\n",
              "      <td>0.936381</td>\n",
              "      <td>0.092118</td>\n",
              "      <td>0.038803</td>\n",
              "      <td>183.751</td>\n",
              "      <td>0.702785</td>\n",
              "      <td>1679</td>\n",
              "      <td>...</td>\n",
              "      <td>1</td>\n",
              "      <td>1</td>\n",
              "      <td>181</td>\n",
              "      <td>117</td>\n",
              "      <td>191</td>\n",
              "      <td>53</td>\n",
              "      <td>191</td>\n",
              "      <td>1</td>\n",
              "      <td>281</td>\n",
              "      <td>1990</td>\n",
              "    </tr>\n",
              "  </tbody>\n",
              "</table>\n",
              "<p>4452 rows × 23 columns</p>\n",
              "</div>\n",
              "      <button class=\"colab-df-convert\" onclick=\"convertToInteractive('df-4acd4c5b-20e4-46ee-9b51-2ef63f79cffb')\"\n",
              "              title=\"Convert this dataframe to an interactive table.\"\n",
              "              style=\"display:none;\">\n",
              "        \n",
              "  <svg xmlns=\"http://www.w3.org/2000/svg\" height=\"24px\"viewBox=\"0 0 24 24\"\n",
              "       width=\"24px\">\n",
              "    <path d=\"M0 0h24v24H0V0z\" fill=\"none\"/>\n",
              "    <path d=\"M18.56 5.44l.94 2.06.94-2.06 2.06-.94-2.06-.94-.94-2.06-.94 2.06-2.06.94zm-11 1L8.5 8.5l.94-2.06 2.06-.94-2.06-.94L8.5 2.5l-.94 2.06-2.06.94zm10 10l.94 2.06.94-2.06 2.06-.94-2.06-.94-.94-2.06-.94 2.06-2.06.94z\"/><path d=\"M17.41 7.96l-1.37-1.37c-.4-.4-.92-.59-1.43-.59-.52 0-1.04.2-1.43.59L10.3 9.45l-7.72 7.72c-.78.78-.78 2.05 0 2.83L4 21.41c.39.39.9.59 1.41.59.51 0 1.02-.2 1.41-.59l7.78-7.78 2.81-2.81c.8-.78.8-2.07 0-2.86zM5.41 20L4 18.59l7.72-7.72 1.47 1.35L5.41 20z\"/>\n",
              "  </svg>\n",
              "      </button>\n",
              "      \n",
              "  <style>\n",
              "    .colab-df-container {\n",
              "      display:flex;\n",
              "      flex-wrap:wrap;\n",
              "      gap: 12px;\n",
              "    }\n",
              "\n",
              "    .colab-df-convert {\n",
              "      background-color: #E8F0FE;\n",
              "      border: none;\n",
              "      border-radius: 50%;\n",
              "      cursor: pointer;\n",
              "      display: none;\n",
              "      fill: #1967D2;\n",
              "      height: 32px;\n",
              "      padding: 0 0 0 0;\n",
              "      width: 32px;\n",
              "    }\n",
              "\n",
              "    .colab-df-convert:hover {\n",
              "      background-color: #E2EBFA;\n",
              "      box-shadow: 0px 1px 2px rgba(60, 64, 67, 0.3), 0px 1px 3px 1px rgba(60, 64, 67, 0.15);\n",
              "      fill: #174EA6;\n",
              "    }\n",
              "\n",
              "    [theme=dark] .colab-df-convert {\n",
              "      background-color: #3B4455;\n",
              "      fill: #D2E3FC;\n",
              "    }\n",
              "\n",
              "    [theme=dark] .colab-df-convert:hover {\n",
              "      background-color: #434B5C;\n",
              "      box-shadow: 0px 1px 3px 1px rgba(0, 0, 0, 0.15);\n",
              "      filter: drop-shadow(0px 1px 2px rgba(0, 0, 0, 0.3));\n",
              "      fill: #FFFFFF;\n",
              "    }\n",
              "  </style>\n",
              "\n",
              "      <script>\n",
              "        const buttonEl =\n",
              "          document.querySelector('#df-4acd4c5b-20e4-46ee-9b51-2ef63f79cffb button.colab-df-convert');\n",
              "        buttonEl.style.display =\n",
              "          google.colab.kernel.accessAllowed ? 'block' : 'none';\n",
              "\n",
              "        async function convertToInteractive(key) {\n",
              "          const element = document.querySelector('#df-4acd4c5b-20e4-46ee-9b51-2ef63f79cffb');\n",
              "          const dataTable =\n",
              "            await google.colab.kernel.invokeFunction('convertToInteractive',\n",
              "                                                     [key], {});\n",
              "          if (!dataTable) return;\n",
              "\n",
              "          const docLinkHtml = 'Like what you see? Visit the ' +\n",
              "            '<a target=\"_blank\" href=https://colab.research.google.com/notebooks/data_table.ipynb>data table notebook</a>'\n",
              "            + ' to learn more about interactive tables.';\n",
              "          element.innerHTML = '';\n",
              "          dataTable['output_type'] = 'display_data';\n",
              "          await google.colab.output.renderOutput(dataTable, element);\n",
              "          const docLink = document.createElement('div');\n",
              "          docLink.innerHTML = docLinkHtml;\n",
              "          element.appendChild(docLink);\n",
              "        }\n",
              "      </script>\n",
              "    </div>\n",
              "  </div>\n",
              "  "
            ]
          },
          "metadata": {},
          "execution_count": 283
        }
      ]
    },
    {
      "cell_type": "code",
      "source": [
        "df.isnull().sum()"
      ],
      "metadata": {
        "colab": {
          "base_uri": "https://localhost:8080/"
        },
        "id": "wfrneemVMTFF",
        "outputId": "9b8c7f4e-a8c1-4c21-b231-7d902740bbba"
      },
      "execution_count": 284,
      "outputs": [
        {
          "output_type": "execute_result",
          "data": {
            "text/plain": [
              "track_id            0\n",
              "acousticness        0\n",
              "danceability        0\n",
              "energy              0\n",
              "instrumentalness    0\n",
              "liveness            0\n",
              "speechiness         0\n",
              "tempo               0\n",
              "valence             0\n",
              "bit_rate            0\n",
              "comments            0\n",
              "date_created        0\n",
              "duration            0\n",
              "favorites           0\n",
              "genre_top           0\n",
              "genres              0\n",
              "genres_all          0\n",
              "interest            0\n",
              "license             0\n",
              "listens             0\n",
              "number              0\n",
              "tags                0\n",
              "title               0\n",
              "dtype: int64"
            ]
          },
          "metadata": {},
          "execution_count": 284
        }
      ]
    },
    {
      "cell_type": "code",
      "source": [
        "df.corrwith(df['genre_top']).abs().sort_values(ascending=False)"
      ],
      "metadata": {
        "colab": {
          "base_uri": "https://localhost:8080/"
        },
        "id": "2Jruax5kOmOG",
        "outputId": "ef1ed4b5-d151-460b-964f-09c72db3278d"
      },
      "execution_count": 285,
      "outputs": [
        {
          "output_type": "execute_result",
          "data": {
            "text/plain": [
              "genre_top           1.000000\n",
              "genres              0.275864\n",
              "bit_rate            0.263923\n",
              "genres_all          0.232714\n",
              "listens             0.159586\n",
              "track_id            0.157297\n",
              "date_created        0.155992\n",
              "interest            0.140439\n",
              "favorites           0.096807\n",
              "number              0.086956\n",
              "license             0.072316\n",
              "danceability        0.056039\n",
              "duration            0.048926\n",
              "energy              0.036946\n",
              "instrumentalness    0.029039\n",
              "title               0.028020\n",
              "liveness            0.026763\n",
              "tags                0.025142\n",
              "comments            0.019423\n",
              "acousticness        0.011402\n",
              "tempo               0.009082\n",
              "valence             0.008683\n",
              "speechiness         0.003052\n",
              "dtype: float64"
            ]
          },
          "metadata": {},
          "execution_count": 285
        }
      ]
    },
    {
      "cell_type": "code",
      "source": [
        "df=df.drop(df[['speechiness','valence','tempo','acousticness','comments','tags','liveness','title','instrumentalness','energy']],axis=1)"
      ],
      "metadata": {
        "id": "gQk50d6GOoBW"
      },
      "execution_count": 286,
      "outputs": []
    },
    {
      "cell_type": "code",
      "source": [
        "corrm=df.corr().abs()\n",
        "plt.figure(figsize=(20,15))\n",
        "sns.heatmap(corrm, cmap=\"coolwarm\", annot=True)\n",
        "plt.plot()"
      ],
      "metadata": {
        "colab": {
          "base_uri": "https://localhost:8080/",
          "height": 886
        },
        "id": "bpQ6ULAjeeYT",
        "outputId": "ca19d065-b427-4173-904f-bb676205b77e"
      },
      "execution_count": 287,
      "outputs": [
        {
          "output_type": "execute_result",
          "data": {
            "text/plain": [
              "[]"
            ]
          },
          "metadata": {},
          "execution_count": 287
        },
        {
          "output_type": "display_data",
          "data": {
            "text/plain": [
              "<Figure size 1440x1080 with 2 Axes>"
            ],
            "image/png": "[encoded data removed]"
          },
          "metadata": {
            "needs_background": "light"
          }
        }
      ]
    },
    {
      "cell_type": "code",
      "source": [
        "df.head()"
      ],
      "metadata": {
        "colab": {
          "base_uri": "https://localhost:8080/",
          "height": 206
        },
        "id": "8eGjScH7PMv_",
        "outputId": "61bc6a0a-22d6-43fd-eb02-1cfb7b1ca5b4"
      },
      "execution_count": 288,
      "outputs": [
        {
          "output_type": "execute_result",
          "data": {
            "text/plain": [
              "   track_id  danceability  bit_rate  date_created  duration  favorites  \\\n",
              "0         2      0.675894      1028            28       204          6   \n",
              "1         3      0.528643      1028             3       205          3   \n",
              "2         5      0.745566      1028             5       506          0   \n",
              "3        10      0.658179       372            10       675          1   \n",
              "4       134      0.513238       132           135       241          0   \n",
              "\n",
              "   genre_top  genres  genres_all  interest  license  listens  number  \n",
              "0          0     100          59      1871       22     1139       6  \n",
              "1          0     100          59      1086       22      933       5  \n",
              "2          1     264         168      1884       22     1468       0  \n",
              "3          1     181         117       228       16      188       0  \n",
              "4          1     214         130       449       22       76       6  "
            ],
            "text/html": [
              "\n",
              "  <div id=\"df-e5953e80-2457-4957-a747-a9fab19d8441\">\n",
              "    <div class=\"colab-df-container\">\n",
              "      <div>\n",
              "<style scoped>\n",
              "    .dataframe tbody tr th:only-of-type {\n",
              "        vertical-align: middle;\n",
              "    }\n",
              "\n",
              "    .dataframe tbody tr th {\n",
              "        vertical-align: top;\n",
              "    }\n",
              "\n",
              "    .dataframe thead th {\n",
              "        text-align: right;\n",
              "    }\n",
              "</style>\n",
              "<table border=\"1\" class=\"dataframe\">\n",
              "  <thead>\n",
              "    <tr style=\"text-align: right;\">\n",
              "      <th></th>\n",
              "      <th>track_id</th>\n",
              "      <th>danceability</th>\n",
              "      <th>bit_rate</th>\n",
              "      <th>date_created</th>\n",
              "      <th>duration</th>\n",
              "      <th>favorites</th>\n",
              "      <th>genre_top</th>\n",
              "      <th>genres</th>\n",
              "      <th>genres_all</th>\n",
              "      <th>interest</th>\n",
              "      <th>license</th>\n",
              "      <th>listens</th>\n",
              "      <th>number</th>\n",
              "    </tr>\n",
              "  </thead>\n",
              "  <tbody>\n",
              "    <tr>\n",
              "      <th>0</th>\n",
              "      <td>2</td>\n",
              "      <td>0.675894</td>\n",
              "      <td>1028</td>\n",
              "      <td>28</td>\n",
              "      <td>204</td>\n",
              "      <td>6</td>\n",
              "      <td>0</td>\n",
              "      <td>100</td>\n",
              "      <td>59</td>\n",
              "      <td>1871</td>\n",
              "      <td>22</td>\n",
              "      <td>1139</td>\n",
              "      <td>6</td>\n",
              "    </tr>\n",
              "    <tr>\n",
              "      <th>1</th>\n",
              "      <td>3</td>\n",
              "      <td>0.528643</td>\n",
              "      <td>1028</td>\n",
              "      <td>3</td>\n",
              "      <td>205</td>\n",
              "      <td>3</td>\n",
              "      <td>0</td>\n",
              "      <td>100</td>\n",
              "      <td>59</td>\n",
              "      <td>1086</td>\n",
              "      <td>22</td>\n",
              "      <td>933</td>\n",
              "      <td>5</td>\n",
              "    </tr>\n",
              "    <tr>\n",
              "      <th>2</th>\n",
              "      <td>5</td>\n",
              "      <td>0.745566</td>\n",
              "      <td>1028</td>\n",
              "      <td>5</td>\n",
              "      <td>506</td>\n",
              "      <td>0</td>\n",
              "      <td>1</td>\n",
              "      <td>264</td>\n",
              "      <td>168</td>\n",
              "      <td>1884</td>\n",
              "      <td>22</td>\n",
              "      <td>1468</td>\n",
              "      <td>0</td>\n",
              "    </tr>\n",
              "    <tr>\n",
              "      <th>3</th>\n",
              "      <td>10</td>\n",
              "      <td>0.658179</td>\n",
              "      <td>372</td>\n",
              "      <td>10</td>\n",
              "      <td>675</td>\n",
              "      <td>1</td>\n",
              "      <td>1</td>\n",
              "      <td>181</td>\n",
              "      <td>117</td>\n",
              "      <td>228</td>\n",
              "      <td>16</td>\n",
              "      <td>188</td>\n",
              "      <td>0</td>\n",
              "    </tr>\n",
              "    <tr>\n",
              "      <th>4</th>\n",
              "      <td>134</td>\n",
              "      <td>0.513238</td>\n",
              "      <td>132</td>\n",
              "      <td>135</td>\n",
              "      <td>241</td>\n",
              "      <td>0</td>\n",
              "      <td>1</td>\n",
              "      <td>214</td>\n",
              "      <td>130</td>\n",
              "      <td>449</td>\n",
              "      <td>22</td>\n",
              "      <td>76</td>\n",
              "      <td>6</td>\n",
              "    </tr>\n",
              "  </tbody>\n",
              "</table>\n",
              "</div>\n",
              "      <button class=\"colab-df-convert\" onclick=\"convertToInteractive('df-e5953e80-2457-4957-a747-a9fab19d8441')\"\n",
              "              title=\"Convert this dataframe to an interactive table.\"\n",
              "              style=\"display:none;\">\n",
              "        \n",
              "  <svg xmlns=\"http://www.w3.org/2000/svg\" height=\"24px\"viewBox=\"0 0 24 24\"\n",
              "       width=\"24px\">\n",
              "    <path d=\"M0 0h24v24H0V0z\" fill=\"none\"/>\n",
              "    <path d=\"M18.56 5.44l.94 2.06.94-2.06 2.06-.94-2.06-.94-.94-2.06-.94 2.06-2.06.94zm-11 1L8.5 8.5l.94-2.06 2.06-.94-2.06-.94L8.5 2.5l-.94 2.06-2.06.94zm10 10l.94 2.06.94-2.06 2.06-.94-2.06-.94-.94-2.06-.94 2.06-2.06.94z\"/><path d=\"M17.41 7.96l-1.37-1.37c-.4-.4-.92-.59-1.43-.59-.52 0-1.04.2-1.43.59L10.3 9.45l-7.72 7.72c-.78.78-.78 2.05 0 2.83L4 21.41c.39.39.9.59 1.41.59.51 0 1.02-.2 1.41-.59l7.78-7.78 2.81-2.81c.8-.78.8-2.07 0-2.86zM5.41 20L4 18.59l7.72-7.72 1.47 1.35L5.41 20z\"/>\n",
              "  </svg>\n",
              "      </button>\n",
              "      \n",
              "  <style>\n",
              "    .colab-df-container {\n",
              "      display:flex;\n",
              "      flex-wrap:wrap;\n",
              "      gap: 12px;\n",
              "    }\n",
              "\n",
              "    .colab-df-convert {\n",
              "      background-color: #E8F0FE;\n",
              "      border: none;\n",
              "      border-radius: 50%;\n",
              "      cursor: pointer;\n",
              "      display: none;\n",
              "      fill: #1967D2;\n",
              "      height: 32px;\n",
              "      padding: 0 0 0 0;\n",
              "      width: 32px;\n",
              "    }\n",
              "\n",
              "    .colab-df-convert:hover {\n",
              "      background-color: #E2EBFA;\n",
              "      box-shadow: 0px 1px 2px rgba(60, 64, 67, 0.3), 0px 1px 3px 1px rgba(60, 64, 67, 0.15);\n",
              "      fill: #174EA6;\n",
              "    }\n",
              "\n",
              "    [theme=dark] .colab-df-convert {\n",
              "      background-color: #3B4455;\n",
              "      fill: #D2E3FC;\n",
              "    }\n",
              "\n",
              "    [theme=dark] .colab-df-convert:hover {\n",
              "      background-color: #434B5C;\n",
              "      box-shadow: 0px 1px 3px 1px rgba(0, 0, 0, 0.15);\n",
              "      filter: drop-shadow(0px 1px 2px rgba(0, 0, 0, 0.3));\n",
              "      fill: #FFFFFF;\n",
              "    }\n",
              "  </style>\n",
              "\n",
              "      <script>\n",
              "        const buttonEl =\n",
              "          document.querySelector('#df-e5953e80-2457-4957-a747-a9fab19d8441 button.colab-df-convert');\n",
              "        buttonEl.style.display =\n",
              "          google.colab.kernel.accessAllowed ? 'block' : 'none';\n",
              "\n",
              "        async function convertToInteractive(key) {\n",
              "          const element = document.querySelector('#df-e5953e80-2457-4957-a747-a9fab19d8441');\n",
              "          const dataTable =\n",
              "            await google.colab.kernel.invokeFunction('convertToInteractive',\n",
              "                                                     [key], {});\n",
              "          if (!dataTable) return;\n",
              "\n",
              "          const docLinkHtml = 'Like what you see? Visit the ' +\n",
              "            '<a target=\"_blank\" href=https://colab.research.google.com/notebooks/data_table.ipynb>data table notebook</a>'\n",
              "            + ' to learn more about interactive tables.';\n",
              "          element.innerHTML = '';\n",
              "          dataTable['output_type'] = 'display_data';\n",
              "          await google.colab.output.renderOutput(dataTable, element);\n",
              "          const docLink = document.createElement('div');\n",
              "          docLink.innerHTML = docLinkHtml;\n",
              "          element.appendChild(docLink);\n",
              "        }\n",
              "      </script>\n",
              "    </div>\n",
              "  </div>\n",
              "  "
            ]
          },
          "metadata": {},
          "execution_count": 288
        }
      ]
    },
    {
      "cell_type": "code",
      "source": [
        "plt.figure(figsize=(5,5))\n",
        "plt.pie(df['genre_top'].value_counts()/len(df)*100,labels=['Rock','Hip-Hop'])\n",
        "plt.show()"
      ],
      "metadata": {
        "colab": {
          "base_uri": "https://localhost:8080/",
          "height": 303
        },
        "id": "hiuvWMgoPPrM",
        "outputId": "4624542b-c518-48b9-9c9b-3de54636477a"
      },
      "execution_count": 289,
      "outputs": [
        {
          "output_type": "display_data",
          "data": {
            "text/plain": [
              "<Figure size 360x360 with 1 Axes>"
            ],
            "image/png": "[encoded data removed]"
          },
          "metadata": {}
        }
      ]
    },
    {
      "cell_type": "code",
      "source": [
        "df['genre_top'].value_counts()"
      ],
      "metadata": {
        "colab": {
          "base_uri": "https://localhost:8080/"
        },
        "id": "iwHZpUVgQ4ss",
        "outputId": "eb721a72-1570-4083-b916-3e931ad7745b"
      },
      "execution_count": 290,
      "outputs": [
        {
          "output_type": "execute_result",
          "data": {
            "text/plain": [
              "1    3590\n",
              "0     862\n",
              "Name: genre_top, dtype: int64"
            ]
          },
          "metadata": {},
          "execution_count": 290
        }
      ]
    },
    {
      "cell_type": "code",
      "source": [
        "fig,axes=plt.subplots(1,3,figsize=(15,5))\n",
        "\n",
        "sns.histplot(x=\"bit_rate\",hue='genre_top',data=df,ax=axes[0])\n",
        "axes[0].set_title(\"Bit Rate\")\n",
        "\n",
        "sns.histplot(x='genres',data=df,hue='genre_top',ax=axes[1])\n",
        "axes[1].set_title('Genre')\n",
        "\n",
        "sns.histplot(x='listens',hue='genre_top',data=df,ax=axes[2])\n",
        "axes[2].set_title('Listens')\n",
        "\n",
        "plt.show()"
      ],
      "metadata": {
        "colab": {
          "base_uri": "https://localhost:8080/",
          "height": 351
        },
        "id": "rSdXAS-aRrxU",
        "outputId": "09cf026b-d7e3-4468-e702-13e3e45b0b4c"
      },
      "execution_count": 291,
      "outputs": [
        {
          "output_type": "display_data",
          "data": {
            "text/plain": [
              "<Figure size 1080x360 with 3 Axes>"
            ],
            "image/png": "[encoded data removed]"
          },
          "metadata": {
            "needs_background": "light"
          }
        }
      ]
    },
    {
      "cell_type": "code",
      "source": [
        "fig,axes=plt.subplots(1,3,figsize=(15,5))\n",
        "\n",
        "sns.histplot(x=\"genres_all\",hue='genre_top',data=df,ax=axes[0])\n",
        "axes[0].set_title(\"Genres All\")\n",
        "\n",
        "sns.histplot(x='date_created',data=df,hue='genre_top',ax=axes[1])\n",
        "axes[1].set_title('Data Created')\n",
        "\n",
        "sns.histplot(x='interest',hue='genre_top',data=df,ax=axes[2])\n",
        "axes[2].set_title('Interests')\n",
        "\n",
        "plt.show()"
      ],
      "metadata": {
        "colab": {
          "base_uri": "https://localhost:8080/",
          "height": 351
        },
        "id": "9Udmvc5urK6e",
        "outputId": "9c34a8b6-7311-4c45-98ff-f0f37a2f1707"
      },
      "execution_count": 292,
      "outputs": [
        {
          "output_type": "display_data",
          "data": {
            "text/plain": [
              "<Figure size 1080x360 with 3 Axes>"
            ],
            "image/png": "[encoded data removed]"
          },
          "metadata": {
            "needs_background": "light"
          }
        }
      ]
    },
    {
      "cell_type": "code",
      "source": [
        "df.isnull().sum()"
      ],
      "metadata": {
        "colab": {
          "base_uri": "https://localhost:8080/"
        },
        "id": "lf4pBzz9bGtm",
        "outputId": "c3950540-1624-4173-a020-0c62afbbe113"
      },
      "execution_count": 293,
      "outputs": [
        {
          "output_type": "execute_result",
          "data": {
            "text/plain": [
              "track_id        0\n",
              "danceability    0\n",
              "bit_rate        0\n",
              "date_created    0\n",
              "duration        0\n",
              "favorites       0\n",
              "genre_top       0\n",
              "genres          0\n",
              "genres_all      0\n",
              "interest        0\n",
              "license         0\n",
              "listens         0\n",
              "number          0\n",
              "dtype: int64"
            ]
          },
          "metadata": {},
          "execution_count": 293
        }
      ]
    },
    {
      "cell_type": "code",
      "source": [
        "df.shape"
      ],
      "metadata": {
        "colab": {
          "base_uri": "https://localhost:8080/"
        },
        "id": "RcgbNP4g26_z",
        "outputId": "dae1677c-e387-49a3-cb89-7abe2ebc456f"
      },
      "execution_count": 294,
      "outputs": [
        {
          "output_type": "execute_result",
          "data": {
            "text/plain": [
              "(4452, 13)"
            ]
          },
          "metadata": {},
          "execution_count": 294
        }
      ]
    },
    {
      "cell_type": "code",
      "source": [
        "X=df.drop('genre_top',axis=1)\n",
        "Y=df['genre_top']"
      ],
      "metadata": {
        "id": "YoNdFk3qaV8v"
      },
      "execution_count": 295,
      "outputs": []
    },
    {
      "cell_type": "code",
      "source": [
        "rus=RandomUnderSampler(random_state=0)\n",
        "X_resampled,Y_resampled=rus.fit_resample(X,Y)"
      ],
      "metadata": {
        "id": "PW6PM2KbmNOE"
      },
      "execution_count": 296,
      "outputs": []
    },
    {
      "cell_type": "code",
      "source": [
        "plt.figure(figsize=(5,5))\n",
        "plt.pie(pd.DataFrame(Y_resampled).value_counts()/len(df)*100,labels=['Rock','Hip-Hop'])\n",
        "plt.show()"
      ],
      "metadata": {
        "colab": {
          "base_uri": "https://localhost:8080/",
          "height": 303
        },
        "id": "D0FUTdhEoNK8",
        "outputId": "0739076f-6bd9-4cfb-cf86-a57975d1350c"
      },
      "execution_count": 297,
      "outputs": [
        {
          "output_type": "display_data",
          "data": {
            "text/plain": [
              "<Figure size 360x360 with 1 Axes>"
            ],
            "image/png": "[encoded data removed]"
          },
          "metadata": {}
        }
      ]
    },
    {
      "cell_type": "code",
      "source": [
        "X_resampled.shape"
      ],
      "metadata": {
        "colab": {
          "base_uri": "https://localhost:8080/"
        },
        "id": "ja9eWmIIavzh",
        "outputId": "82818742-a72f-4fc0-eb3e-12033811bf92"
      },
      "execution_count": 298,
      "outputs": [
        {
          "output_type": "execute_result",
          "data": {
            "text/plain": [
              "(1724, 12)"
            ]
          },
          "metadata": {},
          "execution_count": 298
        }
      ]
    },
    {
      "cell_type": "code",
      "source": [
        "Y_resampled.shape"
      ],
      "metadata": {
        "colab": {
          "base_uri": "https://localhost:8080/"
        },
        "id": "1EJJbtcqazDy",
        "outputId": "3f147051-10ea-429d-8ecf-a592d9ef8209"
      },
      "execution_count": 299,
      "outputs": [
        {
          "output_type": "execute_result",
          "data": {
            "text/plain": [
              "(1724,)"
            ]
          },
          "metadata": {},
          "execution_count": 299
        }
      ]
    },
    {
      "cell_type": "code",
      "source": [
        "poly=StandardScaler()\n",
        "X_resampled=poly.fit_transform(X_resampled)"
      ],
      "metadata": {
        "id": "iWTY9UbxnLir"
      },
      "execution_count": 300,
      "outputs": []
    },
    {
      "cell_type": "code",
      "source": [
        "x_train,x_test,y_train,y_test=train_test_split(X_resampled,Y_resampled,random_state=42,test_size=0.2)"
      ],
      "metadata": {
        "id": "64HV5L4DZosZ"
      },
      "execution_count": 301,
      "outputs": []
    },
    {
      "cell_type": "code",
      "source": [
        "knn_model=KNeighborsClassifier(n_neighbors=3)\n",
        "knn_model.fit(x_train,y_train)"
      ],
      "metadata": {
        "colab": {
          "base_uri": "https://localhost:8080/"
        },
        "id": "j6Gnfm4nCaba",
        "outputId": "0a842c29-43ea-4502-ebee-654713abfeb2"
      },
      "execution_count": 325,
      "outputs": [
        {
          "output_type": "execute_result",
          "data": {
            "text/plain": [
              "KNeighborsClassifier(n_neighbors=3)"
            ]
          },
          "metadata": {},
          "execution_count": 325
        }
      ]
    },
    {
      "cell_type": "code",
      "source": [
        "y_predicted=knn_model.predict(x_test)"
      ],
      "metadata": {
        "id": "rp8vWvRqDWxB"
      },
      "execution_count": 326,
      "outputs": []
    },
    {
      "cell_type": "code",
      "source": [
        "print('OVERALL RESULT, USING Knn')\n",
        "print(classification_report(y_test,y_predicted))\n",
        "print(\"Accuracy: \",accuracy_score(y_test,y_predicted))\n",
        "sns.heatmap(confusion_matrix(y_test,y_predicted),annot=True,fmt='g')\n",
        "plt.show()\n",
        "\n",
        "fpr,tpr,thresholds=metrics.roc_curve(y_test,y_predicted)\n",
        "roc_auc=metrics.auc(fpr,tpr)\n",
        "display=metrics.RocCurveDisplay(fpr=fpr,tpr=tpr,roc_auc=roc_auc,estimator_name='ROC curve')\n",
        "display.plot()\n",
        "plt.show()"
      ],
      "metadata": {
        "colab": {
          "base_uri": "https://localhost:8080/",
          "height": 728
        },
        "id": "wbjB8waCDgOy",
        "outputId": "24a512b2-3dde-42fa-9d70-1beb8d473226"
      },
      "execution_count": 327,
      "outputs": [
        {
          "output_type": "stream",
          "name": "stdout",
          "text": [
            "OVERALL RESULT, USING Knn\n",
            "              precision    recall  f1-score   support\n",
            "\n",
            "           0       0.85      0.94      0.90       186\n",
            "           1       0.92      0.81      0.86       159\n",
            "\n",
            "    accuracy                           0.88       345\n",
            "   macro avg       0.89      0.88      0.88       345\n",
            "weighted avg       0.88      0.88      0.88       345\n",
            "\n",
            "Accuracy:  0.881159420289855\n"
          ]
        },
        {
          "output_type": "display_data",
          "data": {
            "text/plain": [
              "<Figure size 432x288 with 2 Axes>"
            ],
            "image/png": "[encoded data removed]"
          },
          "metadata": {
            "needs_background": "light"
          }
        },
        {
          "output_type": "display_data",
          "data": {
            "text/plain": [
              "<Figure size 432x288 with 1 Axes>"
            ],
            "image/png": "[encoded data removed]"
          },
          "metadata": {
            "needs_background": "light"
          }
        }
      ]
    },
    {
      "cell_type": "code",
      "source": [
        "LR_model=LogisticRegression()\n",
        "LR_model.fit(x_train,y_train)"
      ],
      "metadata": {
        "colab": {
          "base_uri": "https://localhost:8080/"
        },
        "id": "AO2teiQRZ2Sc",
        "outputId": "0995fa1c-00c4-4e82-c9fb-80aebbe7ebd9"
      },
      "execution_count": 328,
      "outputs": [
        {
          "output_type": "execute_result",
          "data": {
            "text/plain": [
              "LogisticRegression()"
            ]
          },
          "metadata": {},
          "execution_count": 328
        }
      ]
    },
    {
      "cell_type": "code",
      "source": [
        "y_predicted=LR_model.predict(x_test)"
      ],
      "metadata": {
        "id": "LvDHhL6wcduA"
      },
      "execution_count": 329,
      "outputs": []
    },
    {
      "cell_type": "code",
      "source": [
        "print('OVERALL RESULT, USING LogisticRegression')\n",
        "print(classification_report(y_test,y_predicted))\n",
        "print(\"Accuracy: \",accuracy_score(y_test,y_predicted))\n",
        "sns.heatmap(confusion_matrix(y_test,y_predicted),annot=True,fmt='g')\n",
        "plt.show()\n",
        "\n",
        "fpr,tpr,thresholds=metrics.roc_curve(y_test,y_predicted)\n",
        "roc_auc=metrics.auc(fpr,tpr)\n",
        "display=metrics.RocCurveDisplay(fpr=fpr,tpr=tpr,roc_auc=roc_auc,estimator_name='ROC curve')\n",
        "display.plot()\n",
        "plt.show()"
      ],
      "metadata": {
        "colab": {
          "base_uri": "https://localhost:8080/",
          "height": 728
        },
        "id": "_Eqz4WJGci7B",
        "outputId": "2ce4b8b2-1aab-40bb-daea-230836cf6808"
      },
      "execution_count": 330,
      "outputs": [
        {
          "output_type": "stream",
          "name": "stdout",
          "text": [
            "OVERALL RESULT, USING LogisticRegression\n",
            "              precision    recall  f1-score   support\n",
            "\n",
            "           0       0.78      0.84      0.81       186\n",
            "           1       0.79      0.72      0.76       159\n",
            "\n",
            "    accuracy                           0.79       345\n",
            "   macro avg       0.79      0.78      0.78       345\n",
            "weighted avg       0.79      0.79      0.78       345\n",
            "\n",
            "Accuracy:  0.7855072463768116\n"
          ]
        },
        {
          "output_type": "display_data",
          "data": {
            "text/plain": [
              "<Figure size 432x288 with 2 Axes>"
            ],
            "image/png": "[encoded data removed]"
          },
          "metadata": {
            "needs_background": "light"
          }
        },
        {
          "output_type": "display_data",
          "data": {
            "text/plain": [
              "<Figure size 432x288 with 1 Axes>"
            ],
            "image/png": "[encoded data removed]"
          },
          "metadata": {
            "needs_background": "light"
          }
        }
      ]
    },
    {
      "cell_type": "code",
      "source": [
        "DT_model=tree.DecisionTreeClassifier(max_depth=3,max_leaf_nodes=6)\n",
        "DT_model.fit(x_train,y_train)"
      ],
      "metadata": {
        "colab": {
          "base_uri": "https://localhost:8080/"
        },
        "id": "kdoOqA-advGA",
        "outputId": "06aa43d0-4853-46a3-ad7d-581a02ab83e2"
      },
      "execution_count": 331,
      "outputs": [
        {
          "output_type": "execute_result",
          "data": {
            "text/plain": [
              "DecisionTreeClassifier(max_depth=3, max_leaf_nodes=6)"
            ]
          },
          "metadata": {},
          "execution_count": 331
        }
      ]
    },
    {
      "cell_type": "code",
      "source": [
        "y_predicted_tree=DT_model.predict(x_test)"
      ],
      "metadata": {
        "id": "G4dK5r55e4AZ"
      },
      "execution_count": 332,
      "outputs": []
    },
    {
      "cell_type": "code",
      "source": [
        "print('OVERALL RESULT, USING DecisionTreeClassifier')\n",
        "print(classification_report(y_test,y_predicted_tree))\n",
        "print(\"Accuracy: \",accuracy_score(y_test,y_predicted_tree))\n",
        "plt.show()\n",
        "\n",
        "sns.heatmap(confusion_matrix(y_test,y_predicted_tree),annot=True,fmt='g')\n",
        "plt.show()\n",
        "\n",
        "fpr,tpr,thresholds=metrics.roc_curve(y_test,y_predicted_tree)\n",
        "roc_auc=metrics.auc(fpr,tpr)\n",
        "display=metrics.RocCurveDisplay(fpr=fpr,tpr=tpr,roc_auc=roc_auc,estimator_name='ROC curve')\n",
        "display.plot()\n",
        "plt.show()"
      ],
      "metadata": {
        "colab": {
          "base_uri": "https://localhost:8080/",
          "height": 728
        },
        "id": "nAM2zLoQfLoB",
        "outputId": "a5202b2f-2d24-49cc-b5d9-a0d0ff758cdf"
      },
      "execution_count": 333,
      "outputs": [
        {
          "output_type": "stream",
          "name": "stdout",
          "text": [
            "OVERALL RESULT, USING DecisionTreeClassifier\n",
            "              precision    recall  f1-score   support\n",
            "\n",
            "           0       1.00      0.98      0.99       186\n",
            "           1       0.98      1.00      0.99       159\n",
            "\n",
            "    accuracy                           0.99       345\n",
            "   macro avg       0.99      0.99      0.99       345\n",
            "weighted avg       0.99      0.99      0.99       345\n",
            "\n",
            "Accuracy:  0.9884057971014493\n"
          ]
        },
        {
          "output_type": "display_data",
          "data": {
            "text/plain": [
              "<Figure size 432x288 with 2 Axes>"
            ],
            "image/png": "[encoded data removed]"
          },
          "metadata": {
            "needs_background": "light"
          }
        },
        {
          "output_type": "display_data",
          "data": {
            "text/plain": [
              "<Figure size 432x288 with 1 Axes>"
            ],
            "image/png": "[encoded data removed]"
          },
          "metadata": {
            "needs_background": "light"
          }
        }
      ]
    },
    {
      "cell_type": "code",
      "source": [
        "columns=['track_id', 'acousticness', 'danceability', 'valence', 'bit_rate',\n",
        "       'date_created', 'genres_all', 'interest', 'license',\n",
        "       'listens', 'number']\n",
        "X.columns"
      ],
      "metadata": {
        "id": "45Piqev4gVub",
        "colab": {
          "base_uri": "https://localhost:8080/"
        },
        "outputId": "a185f65a-ca85-4550-ba54-08684c835ffb"
      },
      "execution_count": 312,
      "outputs": [
        {
          "output_type": "execute_result",
          "data": {
            "text/plain": [
              "Index(['track_id', 'danceability', 'bit_rate', 'date_created', 'duration',\n",
              "       'favorites', 'genres', 'genres_all', 'interest', 'license', 'listens',\n",
              "       'number'],\n",
              "      dtype='object')"
            ]
          },
          "metadata": {},
          "execution_count": 312
        }
      ]
    },
    {
      "cell_type": "code",
      "source": [
        "plt.figure(figsize=(15,5))\n",
        "tree_plot=tree.plot_tree(DT_model,feature_names=columns,class_names='genre_top',filled=True)\n",
        "plt.show()"
      ],
      "metadata": {
        "colab": {
          "base_uri": "https://localhost:8080/",
          "height": 303
        },
        "id": "unzbSTCIfkJn",
        "outputId": "bff29cde-5c1c-4474-d7bf-d23c726b52a3"
      },
      "execution_count": 313,
      "outputs": [
        {
          "output_type": "display_data",
          "data": {
            "text/plain": [
              "<Figure size 1080x360 with 1 Axes>"
            ],
            "image/png": "[encoded data removed]"
          },
          "metadata": {
            "needs_background": "light"
          }
        }
      ]
    },
    {
      "cell_type": "code",
      "source": [
        "f1 = []\n",
        "for k in range(1,25):\n",
        "    knn_model =KNeighborsClassifier(n_neighbors=k)\n",
        "    knn_model.fit(x_train, y_train)\n",
        "    y_predict = knn_model.predict(x_test)\n",
        "    f1.append(metrics.f1_score(y_test, y_predict))\n",
        "\n",
        "plt.figure(figsize=(10,6))\n",
        "plt.plot(range(1,25),f1)\n",
        "plt.xticks(range(1,25))\n",
        "plt.grid()\n",
        "plt.show()"
      ],
      "metadata": {
        "colab": {
          "base_uri": "https://localhost:8080/",
          "height": 374
        },
        "id": "Zo0ZhQlhDvKZ",
        "outputId": "7b25f632-fffa-45a8-85c1-67d9a99509f0"
      },
      "execution_count": 321,
      "outputs": [
        {
          "output_type": "display_data",
          "data": {
            "text/plain": [
              "<Figure size 720x432 with 1 Axes>"
            ],
            "image/png": "[encoded data removed]"
          },
          "metadata": {
            "needs_background": "light"
          }
        }
      ]
    },
    {
      "cell_type": "code",
      "source": [
        "f1 = []\n",
        "for k in range(1,25):\n",
        "    dt = tree.DecisionTreeClassifier(max_depth=k)\n",
        "    dt.fit(x_train, y_train)\n",
        "    y_predict = dt.predict(x_test)\n",
        "    f1.append(metrics.f1_score(y_test, y_predict))\n",
        "\n",
        "plt.figure(figsize=(10,6))\n",
        "plt.plot(range(1,25),f1)\n",
        "plt.xticks(range(1,25))\n",
        "plt.grid()\n",
        "plt.show()"
      ],
      "metadata": {
        "colab": {
          "base_uri": "https://localhost:8080/",
          "height": 374
        },
        "id": "dNFAbcOJ_DA5",
        "outputId": "cdada363-5545-4552-aecb-c8c0da421aa9"
      },
      "execution_count": 314,
      "outputs": [
        {
          "output_type": "display_data",
          "data": {
            "text/plain": [
              "<Figure size 720x432 with 1 Axes>"
            ],
            "image/png": "[encoded data removed]"
          },
          "metadata": {
            "needs_background": "light"
          }
        }
      ]
    },
    {
      "cell_type": "code",
      "source": [
        "f1 = []\n",
        "for k in range(2,25):\n",
        "    dt = tree.DecisionTreeClassifier(max_leaf_nodes=k)\n",
        "    dt.fit(x_train, y_train)\n",
        "    y_predict = dt.predict(x_test)\n",
        "    f1.append(metrics.f1_score(y_test, y_predict))\n",
        "\n",
        "plt.figure(figsize=(10,6))\n",
        "plt.plot(range(2,25),f1)\n",
        "plt.xticks(range(2,25))\n",
        "plt.grid()\n",
        "plt.show()"
      ],
      "metadata": {
        "colab": {
          "base_uri": "https://localhost:8080/",
          "height": 374
        },
        "id": "VoIWgH6TAO1v",
        "outputId": "9dc46a88-385a-4f52-d4bc-f4ffe5ab9835"
      },
      "execution_count": 315,
      "outputs": [
        {
          "output_type": "display_data",
          "data": {
            "text/plain": [
              "<Figure size 720x432 with 1 Axes>"
            ],
            "image/png": "[encoded data removed]"
          },
          "metadata": {
            "needs_background": "light"
          }
        }
      ]
    },
    {
      "cell_type": "markdown",
      "source": [
        "My data is not too much as I balanced it. So If I use higher parameters for DecisionTree, it seems to overfit. So I used smaller numbers.\n",
        "\n"
      ],
      "metadata": {
        "id": "DC-lvq1YBYhh"
      }
    }
  ]
}