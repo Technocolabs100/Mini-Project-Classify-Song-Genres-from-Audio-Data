{
 "cells": [
  {
   "cell_type": "code",
   "execution_count": 10,
   "id": "bbf29ca1",
   "metadata": {
    "ExecuteTime": {
     "end_time": "2022-08-22T03:08:11.839872Z",
     "start_time": "2022-08-22T03:08:11.677847Z"
    }
   },
   "outputs": [],
   "source": [
    "#Importing Necessary Libraries\n",
    "import pandas as pd\n",
    "import numpy as np\n",
    "import matplotlib.pyplot as plt\n",
    "\n",
    "#Data Preprocessing\n",
    "from sklearn.preprocessing import StandardScaler\n",
    "from sklearn.decomposition import PCA\n",
    "\n",
    "#Importing Train-Test-Split, Kfold, Crossvalidation\n",
    "from sklearn.model_selection import train_test_split\n",
    "from sklearn.model_selection import KFold, cross_val_score\n",
    "\n",
    "#Importing Model Builder\n",
    "from sklearn.tree import DecisionTreeClassifier\n",
    "from sklearn.linear_model import LogisticRegression"
   ]
  },
  {
   "cell_type": "code",
   "execution_count": 3,
   "id": "18e57637",
   "metadata": {
    "ExecuteTime": {
     "end_time": "2022-08-22T03:05:42.516880Z",
     "start_time": "2022-08-22T03:05:42.115938Z"
    }
   },
   "outputs": [
    {
     "name": "stdout",
     "output_type": "stream",
     "text": [
      "<class 'pandas.core.frame.DataFrame'>\n",
      "Int64Index: 4802 entries, 0 to 4801\n",
      "Data columns (total 10 columns):\n",
      " #   Column            Non-Null Count  Dtype  \n",
      "---  ------            --------------  -----  \n",
      " 0   track_id          4802 non-null   int64  \n",
      " 1   acousticness      4802 non-null   float64\n",
      " 2   danceability      4802 non-null   float64\n",
      " 3   energy            4802 non-null   float64\n",
      " 4   instrumentalness  4802 non-null   float64\n",
      " 5   liveness          4802 non-null   float64\n",
      " 6   speechiness       4802 non-null   float64\n",
      " 7   tempo             4802 non-null   float64\n",
      " 8   valence           4802 non-null   float64\n",
      " 9   genre_top         4802 non-null   object \n",
      "dtypes: float64(8), int64(1), object(1)\n",
      "memory usage: 412.7+ KB\n"
     ]
    }
   ],
   "source": [
    "# Read in track metadata with genre labels\n",
    "tracks = pd.read_csv('./fma-rock-vs-hiphop.csv')\n",
    "\n",
    "# Read in track metrics with the features\n",
    "echonest_metrics = pd.read_json('./echonest-metrics.json', precise_float=True)\n",
    "\n",
    "# Merge the relevant columns of tracks and echonest_metrics\n",
    "echo_tracks = pd.merge(echonest_metrics, tracks[['track_id' , 'genre_top']], how='inner', on='track_id')\n",
    "\n",
    "# Inspect the resultant dataframe\n",
    "echo_tracks.info()"
   ]
  },
  {
   "cell_type": "code",
   "execution_count": 4,
   "id": "d8721aa2",
   "metadata": {
    "ExecuteTime": {
     "end_time": "2022-08-22T03:06:05.131837Z",
     "start_time": "2022-08-22T03:06:04.917885Z"
    }
   },
   "outputs": [
    {
     "data": {
      "text/html": [
       "<style type=\"text/css\">\n",
       "#T_87b56_row0_col0, #T_87b56_row1_col1, #T_87b56_row2_col2, #T_87b56_row3_col3, #T_87b56_row4_col4, #T_87b56_row5_col5, #T_87b56_row6_col6, #T_87b56_row7_col7, #T_87b56_row8_col8 {\n",
       "  background-color: #023858;\n",
       "  color: #f1f1f1;\n",
       "}\n",
       "#T_87b56_row0_col1, #T_87b56_row1_col0, #T_87b56_row1_col3, #T_87b56_row2_col5, #T_87b56_row2_col7, #T_87b56_row4_col2, #T_87b56_row4_col6, #T_87b56_row4_col8, #T_87b56_row6_col4 {\n",
       "  background-color: #fff7fb;\n",
       "  color: #000000;\n",
       "}\n",
       "#T_87b56_row0_col2 {\n",
       "  background-color: #d2d2e7;\n",
       "  color: #000000;\n",
       "}\n",
       "#T_87b56_row0_col3 {\n",
       "  background-color: #b5c4df;\n",
       "  color: #000000;\n",
       "}\n",
       "#T_87b56_row0_col4 {\n",
       "  background-color: #f5eef6;\n",
       "  color: #000000;\n",
       "}\n",
       "#T_87b56_row0_col5 {\n",
       "  background-color: #e9e5f1;\n",
       "  color: #000000;\n",
       "}\n",
       "#T_87b56_row0_col6, #T_87b56_row8_col3 {\n",
       "  background-color: #d1d2e6;\n",
       "  color: #000000;\n",
       "}\n",
       "#T_87b56_row0_col7, #T_87b56_row1_col7 {\n",
       "  background-color: #e1dfed;\n",
       "  color: #000000;\n",
       "}\n",
       "#T_87b56_row0_col8, #T_87b56_row3_col6 {\n",
       "  background-color: #dedcec;\n",
       "  color: #000000;\n",
       "}\n",
       "#T_87b56_row1_col2 {\n",
       "  background-color: #e0dded;\n",
       "  color: #000000;\n",
       "}\n",
       "#T_87b56_row1_col4, #T_87b56_row4_col1 {\n",
       "  background-color: #97b7d7;\n",
       "  color: #000000;\n",
       "}\n",
       "#T_87b56_row1_col5, #T_87b56_row2_col4 {\n",
       "  background-color: #f3edf5;\n",
       "  color: #000000;\n",
       "}\n",
       "#T_87b56_row1_col6, #T_87b56_row6_col1 {\n",
       "  background-color: #b8c6e0;\n",
       "  color: #000000;\n",
       "}\n",
       "#T_87b56_row1_col8 {\n",
       "  background-color: #e2dfee;\n",
       "  color: #000000;\n",
       "}\n",
       "#T_87b56_row2_col0, #T_87b56_row5_col0, #T_87b56_row5_col3 {\n",
       "  background-color: #bdc8e1;\n",
       "  color: #000000;\n",
       "}\n",
       "#T_87b56_row2_col1, #T_87b56_row6_col0, #T_87b56_row7_col0, #T_87b56_row7_col1 {\n",
       "  background-color: #d0d1e6;\n",
       "  color: #000000;\n",
       "}\n",
       "#T_87b56_row2_col3 {\n",
       "  background-color: #fbf3f9;\n",
       "  color: #000000;\n",
       "}\n",
       "#T_87b56_row2_col6 {\n",
       "  background-color: #80aed2;\n",
       "  color: #f1f1f1;\n",
       "}\n",
       "#T_87b56_row2_col8 {\n",
       "  background-color: #529bc7;\n",
       "  color: #f1f1f1;\n",
       "}\n",
       "#T_87b56_row3_col0, #T_87b56_row7_col3 {\n",
       "  background-color: #a7bddb;\n",
       "  color: #000000;\n",
       "}\n",
       "#T_87b56_row3_col1 {\n",
       "  background-color: #f5eff6;\n",
       "  color: #000000;\n",
       "}\n",
       "#T_87b56_row3_col2, #T_87b56_row7_col2 {\n",
       "  background-color: #fef6fa;\n",
       "  color: #000000;\n",
       "}\n",
       "#T_87b56_row3_col4 {\n",
       "  background-color: #c4cbe3;\n",
       "  color: #000000;\n",
       "}\n",
       "#T_87b56_row3_col5, #T_87b56_row5_col7 {\n",
       "  background-color: #dcdaeb;\n",
       "  color: #000000;\n",
       "}\n",
       "#T_87b56_row3_col7 {\n",
       "  background-color: #adc1dd;\n",
       "  color: #000000;\n",
       "}\n",
       "#T_87b56_row3_col8, #T_87b56_row4_col7 {\n",
       "  background-color: #d9d8ea;\n",
       "  color: #000000;\n",
       "}\n",
       "#T_87b56_row4_col0 {\n",
       "  background-color: #f4eef6;\n",
       "  color: #000000;\n",
       "}\n",
       "#T_87b56_row4_col3 {\n",
       "  background-color: #d2d3e7;\n",
       "  color: #000000;\n",
       "}\n",
       "#T_87b56_row4_col5 {\n",
       "  background-color: #fdf5fa;\n",
       "  color: #000000;\n",
       "}\n",
       "#T_87b56_row5_col1 {\n",
       "  background-color: #ced0e6;\n",
       "  color: #000000;\n",
       "}\n",
       "#T_87b56_row5_col2 {\n",
       "  background-color: #ede8f3;\n",
       "  color: #000000;\n",
       "}\n",
       "#T_87b56_row5_col4, #T_87b56_row6_col7 {\n",
       "  background-color: #dbdaeb;\n",
       "  color: #000000;\n",
       "}\n",
       "#T_87b56_row5_col6 {\n",
       "  background-color: #c0c9e2;\n",
       "  color: #000000;\n",
       "}\n",
       "#T_87b56_row5_col8 {\n",
       "  background-color: #e8e4f0;\n",
       "  color: #000000;\n",
       "}\n",
       "#T_87b56_row6_col2 {\n",
       "  background-color: #93b5d6;\n",
       "  color: #000000;\n",
       "}\n",
       "#T_87b56_row6_col3, #T_87b56_row6_col5 {\n",
       "  background-color: #eae6f1;\n",
       "  color: #000000;\n",
       "}\n",
       "#T_87b56_row6_col8 {\n",
       "  background-color: #bfc9e1;\n",
       "  color: #000000;\n",
       "}\n",
       "#T_87b56_row7_col4 {\n",
       "  background-color: #c5cce3;\n",
       "  color: #000000;\n",
       "}\n",
       "#T_87b56_row7_col5 {\n",
       "  background-color: #f0eaf4;\n",
       "  color: #000000;\n",
       "}\n",
       "#T_87b56_row7_col6 {\n",
       "  background-color: #c8cde4;\n",
       "  color: #000000;\n",
       "}\n",
       "#T_87b56_row7_col8 {\n",
       "  background-color: #d6d6e9;\n",
       "  color: #000000;\n",
       "}\n",
       "#T_87b56_row8_col0 {\n",
       "  background-color: #c6cce3;\n",
       "  color: #000000;\n",
       "}\n",
       "#T_87b56_row8_col1 {\n",
       "  background-color: #cdd0e5;\n",
       "  color: #000000;\n",
       "}\n",
       "#T_87b56_row8_col2 {\n",
       "  background-color: #4c99c5;\n",
       "  color: #f1f1f1;\n",
       "}\n",
       "#T_87b56_row8_col4 {\n",
       "  background-color: #efe9f3;\n",
       "  color: #000000;\n",
       "}\n",
       "#T_87b56_row8_col5 {\n",
       "  background-color: #f7f0f7;\n",
       "  color: #000000;\n",
       "}\n",
       "#T_87b56_row8_col6 {\n",
       "  background-color: #a5bddb;\n",
       "  color: #000000;\n",
       "}\n",
       "#T_87b56_row8_col7 {\n",
       "  background-color: #d3d4e7;\n",
       "  color: #000000;\n",
       "}\n",
       "</style>\n",
       "<table id=\"T_87b56\">\n",
       "  <thead>\n",
       "    <tr>\n",
       "      <th class=\"blank level0\" >&nbsp;</th>\n",
       "      <th id=\"T_87b56_level0_col0\" class=\"col_heading level0 col0\" >track_id</th>\n",
       "      <th id=\"T_87b56_level0_col1\" class=\"col_heading level0 col1\" >acousticness</th>\n",
       "      <th id=\"T_87b56_level0_col2\" class=\"col_heading level0 col2\" >danceability</th>\n",
       "      <th id=\"T_87b56_level0_col3\" class=\"col_heading level0 col3\" >energy</th>\n",
       "      <th id=\"T_87b56_level0_col4\" class=\"col_heading level0 col4\" >instrumentalness</th>\n",
       "      <th id=\"T_87b56_level0_col5\" class=\"col_heading level0 col5\" >liveness</th>\n",
       "      <th id=\"T_87b56_level0_col6\" class=\"col_heading level0 col6\" >speechiness</th>\n",
       "      <th id=\"T_87b56_level0_col7\" class=\"col_heading level0 col7\" >tempo</th>\n",
       "      <th id=\"T_87b56_level0_col8\" class=\"col_heading level0 col8\" >valence</th>\n",
       "    </tr>\n",
       "  </thead>\n",
       "  <tbody>\n",
       "    <tr>\n",
       "      <th id=\"T_87b56_level0_row0\" class=\"row_heading level0 row0\" >track_id</th>\n",
       "      <td id=\"T_87b56_row0_col0\" class=\"data row0 col0\" >1.000000</td>\n",
       "      <td id=\"T_87b56_row0_col1\" class=\"data row0 col1\" >-0.372282</td>\n",
       "      <td id=\"T_87b56_row0_col2\" class=\"data row0 col2\" >0.049454</td>\n",
       "      <td id=\"T_87b56_row0_col3\" class=\"data row0 col3\" >0.140703</td>\n",
       "      <td id=\"T_87b56_row0_col4\" class=\"data row0 col4\" >-0.275623</td>\n",
       "      <td id=\"T_87b56_row0_col5\" class=\"data row0 col5\" >0.048231</td>\n",
       "      <td id=\"T_87b56_row0_col6\" class=\"data row0 col6\" >-0.026995</td>\n",
       "      <td id=\"T_87b56_row0_col7\" class=\"data row0 col7\" >-0.025392</td>\n",
       "      <td id=\"T_87b56_row0_col8\" class=\"data row0 col8\" >0.010070</td>\n",
       "    </tr>\n",
       "    <tr>\n",
       "      <th id=\"T_87b56_level0_row1\" class=\"row_heading level0 row1\" >acousticness</th>\n",
       "      <td id=\"T_87b56_row1_col0\" class=\"data row1 col0\" >-0.372282</td>\n",
       "      <td id=\"T_87b56_row1_col1\" class=\"data row1 col1\" >1.000000</td>\n",
       "      <td id=\"T_87b56_row1_col2\" class=\"data row1 col2\" >-0.028954</td>\n",
       "      <td id=\"T_87b56_row1_col3\" class=\"data row1 col3\" >-0.281619</td>\n",
       "      <td id=\"T_87b56_row1_col4\" class=\"data row1 col4\" >0.194780</td>\n",
       "      <td id=\"T_87b56_row1_col5\" class=\"data row1 col5\" >-0.019991</td>\n",
       "      <td id=\"T_87b56_row1_col6\" class=\"data row1 col6\" >0.072204</td>\n",
       "      <td id=\"T_87b56_row1_col7\" class=\"data row1 col7\" >-0.026310</td>\n",
       "      <td id=\"T_87b56_row1_col8\" class=\"data row1 col8\" >-0.013841</td>\n",
       "    </tr>\n",
       "    <tr>\n",
       "      <th id=\"T_87b56_level0_row2\" class=\"row_heading level0 row2\" >danceability</th>\n",
       "      <td id=\"T_87b56_row2_col0\" class=\"data row2 col0\" >0.049454</td>\n",
       "      <td id=\"T_87b56_row2_col1\" class=\"data row2 col1\" >-0.028954</td>\n",
       "      <td id=\"T_87b56_row2_col2\" class=\"data row2 col2\" >1.000000</td>\n",
       "      <td id=\"T_87b56_row2_col3\" class=\"data row2 col3\" >-0.242032</td>\n",
       "      <td id=\"T_87b56_row2_col4\" class=\"data row2 col4\" >-0.255217</td>\n",
       "      <td id=\"T_87b56_row2_col5\" class=\"data row2 col5\" >-0.106584</td>\n",
       "      <td id=\"T_87b56_row2_col6\" class=\"data row2 col6\" >0.276206</td>\n",
       "      <td id=\"T_87b56_row2_col7\" class=\"data row2 col7\" >-0.242089</td>\n",
       "      <td id=\"T_87b56_row2_col8\" class=\"data row2 col8\" >0.473165</td>\n",
       "    </tr>\n",
       "    <tr>\n",
       "      <th id=\"T_87b56_level0_row3\" class=\"row_heading level0 row3\" >energy</th>\n",
       "      <td id=\"T_87b56_row3_col0\" class=\"data row3 col0\" >0.140703</td>\n",
       "      <td id=\"T_87b56_row3_col1\" class=\"data row3 col1\" >-0.281619</td>\n",
       "      <td id=\"T_87b56_row3_col2\" class=\"data row3 col2\" >-0.242032</td>\n",
       "      <td id=\"T_87b56_row3_col3\" class=\"data row3 col3\" >1.000000</td>\n",
       "      <td id=\"T_87b56_row3_col4\" class=\"data row3 col4\" >0.028238</td>\n",
       "      <td id=\"T_87b56_row3_col5\" class=\"data row3 col5\" >0.113331</td>\n",
       "      <td id=\"T_87b56_row3_col6\" class=\"data row3 col6\" >-0.109983</td>\n",
       "      <td id=\"T_87b56_row3_col7\" class=\"data row3 col7\" >0.195227</td>\n",
       "      <td id=\"T_87b56_row3_col8\" class=\"data row3 col8\" >0.038603</td>\n",
       "    </tr>\n",
       "    <tr>\n",
       "      <th id=\"T_87b56_level0_row4\" class=\"row_heading level0 row4\" >instrumentalness</th>\n",
       "      <td id=\"T_87b56_row4_col0\" class=\"data row4 col0\" >-0.275623</td>\n",
       "      <td id=\"T_87b56_row4_col1\" class=\"data row4 col1\" >0.194780</td>\n",
       "      <td id=\"T_87b56_row4_col2\" class=\"data row4 col2\" >-0.255217</td>\n",
       "      <td id=\"T_87b56_row4_col3\" class=\"data row4 col3\" >0.028238</td>\n",
       "      <td id=\"T_87b56_row4_col4\" class=\"data row4 col4\" >1.000000</td>\n",
       "      <td id=\"T_87b56_row4_col5\" class=\"data row4 col5\" >-0.091022</td>\n",
       "      <td id=\"T_87b56_row4_col6\" class=\"data row4 col6\" >-0.366762</td>\n",
       "      <td id=\"T_87b56_row4_col7\" class=\"data row4 col7\" >0.022215</td>\n",
       "      <td id=\"T_87b56_row4_col8\" class=\"data row4 col8\" >-0.219967</td>\n",
       "    </tr>\n",
       "    <tr>\n",
       "      <th id=\"T_87b56_level0_row5\" class=\"row_heading level0 row5\" >liveness</th>\n",
       "      <td id=\"T_87b56_row5_col0\" class=\"data row5 col0\" >0.048231</td>\n",
       "      <td id=\"T_87b56_row5_col1\" class=\"data row5 col1\" >-0.019991</td>\n",
       "      <td id=\"T_87b56_row5_col2\" class=\"data row5 col2\" >-0.106584</td>\n",
       "      <td id=\"T_87b56_row5_col3\" class=\"data row5 col3\" >0.113331</td>\n",
       "      <td id=\"T_87b56_row5_col4\" class=\"data row5 col4\" >-0.091022</td>\n",
       "      <td id=\"T_87b56_row5_col5\" class=\"data row5 col5\" >1.000000</td>\n",
       "      <td id=\"T_87b56_row5_col6\" class=\"data row5 col6\" >0.041173</td>\n",
       "      <td id=\"T_87b56_row5_col7\" class=\"data row5 col7\" >0.002732</td>\n",
       "      <td id=\"T_87b56_row5_col8\" class=\"data row5 col8\" >-0.045093</td>\n",
       "    </tr>\n",
       "    <tr>\n",
       "      <th id=\"T_87b56_level0_row6\" class=\"row_heading level0 row6\" >speechiness</th>\n",
       "      <td id=\"T_87b56_row6_col0\" class=\"data row6 col0\" >-0.026995</td>\n",
       "      <td id=\"T_87b56_row6_col1\" class=\"data row6 col1\" >0.072204</td>\n",
       "      <td id=\"T_87b56_row6_col2\" class=\"data row6 col2\" >0.276206</td>\n",
       "      <td id=\"T_87b56_row6_col3\" class=\"data row6 col3\" >-0.109983</td>\n",
       "      <td id=\"T_87b56_row6_col4\" class=\"data row6 col4\" >-0.366762</td>\n",
       "      <td id=\"T_87b56_row6_col5\" class=\"data row6 col5\" >0.041173</td>\n",
       "      <td id=\"T_87b56_row6_col6\" class=\"data row6 col6\" >1.000000</td>\n",
       "      <td id=\"T_87b56_row6_col7\" class=\"data row6 col7\" >0.008241</td>\n",
       "      <td id=\"T_87b56_row6_col8\" class=\"data row6 col8\" >0.149894</td>\n",
       "    </tr>\n",
       "    <tr>\n",
       "      <th id=\"T_87b56_level0_row7\" class=\"row_heading level0 row7\" >tempo</th>\n",
       "      <td id=\"T_87b56_row7_col0\" class=\"data row7 col0\" >-0.025392</td>\n",
       "      <td id=\"T_87b56_row7_col1\" class=\"data row7 col1\" >-0.026310</td>\n",
       "      <td id=\"T_87b56_row7_col2\" class=\"data row7 col2\" >-0.242089</td>\n",
       "      <td id=\"T_87b56_row7_col3\" class=\"data row7 col3\" >0.195227</td>\n",
       "      <td id=\"T_87b56_row7_col4\" class=\"data row7 col4\" >0.022215</td>\n",
       "      <td id=\"T_87b56_row7_col5\" class=\"data row7 col5\" >0.002732</td>\n",
       "      <td id=\"T_87b56_row7_col6\" class=\"data row7 col6\" >0.008241</td>\n",
       "      <td id=\"T_87b56_row7_col7\" class=\"data row7 col7\" >1.000000</td>\n",
       "      <td id=\"T_87b56_row7_col8\" class=\"data row7 col8\" >0.052221</td>\n",
       "    </tr>\n",
       "    <tr>\n",
       "      <th id=\"T_87b56_level0_row8\" class=\"row_heading level0 row8\" >valence</th>\n",
       "      <td id=\"T_87b56_row8_col0\" class=\"data row8 col0\" >0.010070</td>\n",
       "      <td id=\"T_87b56_row8_col1\" class=\"data row8 col1\" >-0.013841</td>\n",
       "      <td id=\"T_87b56_row8_col2\" class=\"data row8 col2\" >0.473165</td>\n",
       "      <td id=\"T_87b56_row8_col3\" class=\"data row8 col3\" >0.038603</td>\n",
       "      <td id=\"T_87b56_row8_col4\" class=\"data row8 col4\" >-0.219967</td>\n",
       "      <td id=\"T_87b56_row8_col5\" class=\"data row8 col5\" >-0.045093</td>\n",
       "      <td id=\"T_87b56_row8_col6\" class=\"data row8 col6\" >0.149894</td>\n",
       "      <td id=\"T_87b56_row8_col7\" class=\"data row8 col7\" >0.052221</td>\n",
       "      <td id=\"T_87b56_row8_col8\" class=\"data row8 col8\" >1.000000</td>\n",
       "    </tr>\n",
       "  </tbody>\n",
       "</table>\n"
      ],
      "text/plain": [
       "<pandas.io.formats.style.Styler at 0x1a1258b2820>"
      ]
     },
     "execution_count": 4,
     "metadata": {},
     "output_type": "execute_result"
    }
   ],
   "source": [
    "# Create a correlation matrix\n",
    "corr_metrics = echo_tracks.corr()\n",
    "corr_metrics.style.background_gradient()"
   ]
  },
  {
   "cell_type": "code",
   "execution_count": 7,
   "id": "9bb096f5",
   "metadata": {
    "ExecuteTime": {
     "end_time": "2022-08-22T03:07:00.349086Z",
     "start_time": "2022-08-22T03:07:00.322089Z"
    }
   },
   "outputs": [],
   "source": [
    "# Define our features \n",
    "features = echo_tracks.drop(['track_id', 'genre_top'], axis=1)\n",
    "\n",
    "# Define our labels\n",
    "labels = echo_tracks.genre_top\n",
    "\n",
    "# Scale the features and set the values to a new variable\n",
    "scaler = StandardScaler()\n",
    "scaled_train_features = scaler.fit_transform(features)"
   ]
  },
  {
   "cell_type": "code",
   "execution_count": 9,
   "id": "e8b45465",
   "metadata": {
    "ExecuteTime": {
     "end_time": "2022-08-22T03:07:49.175855Z",
     "start_time": "2022-08-22T03:07:48.674851Z"
    }
   },
   "outputs": [
    {
     "data": {
      "text/plain": [
       "Text(0.5, 0, 'Principal Component #')"
      ]
     },
     "execution_count": 9,
     "metadata": {},
     "output_type": "execute_result"
    },
    {
     "data": {
      "image/png": "[encoded data removed]",
      "text/plain": [
       "<Figure size 432x288 with 1 Axes>"
      ]
     },
     "metadata": {
      "needs_background": "light"
     },
     "output_type": "display_data"
    }
   ],
   "source": [
    "# Get our explained variance ratios from PCA using all features\n",
    "pca = PCA()\n",
    "pca.fit(scaled_train_features)\n",
    "exp_variance = pca.explained_variance_ratio_\n",
    "\n",
    "# plot the explained variance using a barplot\n",
    "fig, ax = plt.subplots()\n",
    "ax.bar(range(pca.n_components_), exp_variance)\n",
    "ax.set_xlabel('Principal Component #')"
   ]
  },
  {
   "cell_type": "code",
   "execution_count": 11,
   "id": "2d88888c",
   "metadata": {
    "ExecuteTime": {
     "end_time": "2022-08-22T03:11:06.470593Z",
     "start_time": "2022-08-22T03:11:06.123666Z"
    }
   },
   "outputs": [
    {
     "data": {
      "image/png": "[encoded data removed]",
      "text/plain": [
       "<Figure size 432x288 with 1 Axes>"
      ]
     },
     "metadata": {
      "needs_background": "light"
     },
     "output_type": "display_data"
    }
   ],
   "source": [
    "# Calculate the cumulative explained variance\n",
    "cum_exp_variance = np.cumsum(exp_variance)\n",
    "\n",
    "# Plot the cumulative explained variance and draw a dashed line at 0.85.\n",
    "fig, ax = plt.subplots()\n",
    "ax.plot(cum_exp_variance)\n",
    "ax.axhline(y=0.85, linestyle='--')\n",
    "\n",
    "# choose the n_components where about 85% of our variance can be explained\n",
    "n_components = 6\n",
    "\n",
    "# Perform PCA with the chosen number of components and project data onto components\n",
    "pca = PCA(n_components, random_state=10)\n",
    "pca.fit(scaled_train_features)\n",
    "pca_projection = pca.transform(scaled_train_features)"
   ]
  },
  {
   "cell_type": "code",
   "execution_count": 12,
   "id": "85090a34",
   "metadata": {
    "ExecuteTime": {
     "end_time": "2022-08-22T03:11:20.730733Z",
     "start_time": "2022-08-22T03:11:20.648790Z"
    }
   },
   "outputs": [],
   "source": [
    "# Split our data\n",
    "train_features, test_features, train_labels, test_labels = train_test_split(\n",
    "    pca_projection, labels, random_state=10)\n",
    "\n",
    "# Train our decision tree\n",
    "tree = DecisionTreeClassifier(random_state=10)\n",
    "tree.fit(train_features, train_labels)\n",
    "\n",
    "# Predict the labels for the test data\n",
    "pred_labels_tree = tree.predict(test_features)"
   ]
  },
  {
   "cell_type": "code",
   "execution_count": 13,
   "id": "e952bc19",
   "metadata": {
    "ExecuteTime": {
     "end_time": "2022-08-22T03:11:32.394023Z",
     "start_time": "2022-08-22T03:11:32.201062Z"
    }
   },
   "outputs": [
    {
     "name": "stdout",
     "output_type": "stream",
     "text": [
      "Decision Tree: \n",
      "               precision    recall  f1-score   support\n",
      "\n",
      "     Hip-Hop       0.60      0.60      0.60       235\n",
      "        Rock       0.90      0.90      0.90       966\n",
      "\n",
      "    accuracy                           0.84      1201\n",
      "   macro avg       0.75      0.75      0.75      1201\n",
      "weighted avg       0.84      0.84      0.84      1201\n",
      "\n",
      "Logistic Regression: \n",
      "               precision    recall  f1-score   support\n",
      "\n",
      "     Hip-Hop       0.77      0.54      0.64       235\n",
      "        Rock       0.90      0.96      0.93       966\n",
      "\n",
      "    accuracy                           0.88      1201\n",
      "   macro avg       0.83      0.75      0.78      1201\n",
      "weighted avg       0.87      0.88      0.87      1201\n",
      "\n"
     ]
    }
   ],
   "source": [
    "# Train our logistic regression and predict labels for the test set\n",
    "logreg = LogisticRegression(random_state=10)\n",
    "logreg.fit(train_features, train_labels)\n",
    "pred_labels_logit = logreg.predict(test_features)\n",
    "\n",
    "# Create the classification report for both models\n",
    "from sklearn.metrics import classification_report\n",
    "class_rep_tree = classification_report(test_labels, pred_labels_tree)\n",
    "class_rep_log = classification_report(test_labels, pred_labels_logit)\n",
    "\n",
    "print(\"Decision Tree: \\n\", class_rep_tree)\n",
    "print(\"Logistic Regression: \\n\", class_rep_log)"
   ]
  },
  {
   "cell_type": "code",
   "execution_count": 14,
   "id": "2bf3c993",
   "metadata": {
    "ExecuteTime": {
     "end_time": "2022-08-22T03:11:50.558924Z",
     "start_time": "2022-08-22T03:11:50.509932Z"
    }
   },
   "outputs": [],
   "source": [
    "# Subset a balanced proportion of data points\n",
    "hop_only = echo_tracks.loc[echo_tracks['genre_top'] == 'Hip-Hop']\n",
    "rock_only = echo_tracks.loc[echo_tracks['genre_top'] == 'Rock']\n",
    "\n",
    "# subset only the rock songs, and take a sample the same size as there are hip-hop songs\n",
    "rock_only = rock_only.sample(hop_only.shape[0], random_state=10)\n",
    "\n",
    "# concatenate the dataframes hop_only and rock_only\n",
    "rock_hop_bal = pd.concat([rock_only, hop_only])\n",
    "\n",
    "# The features, labels, and pca projection are created for the balanced dataframe\n",
    "features = rock_hop_bal.drop(['genre_top', 'track_id'], axis=1) \n",
    "labels = rock_hop_bal['genre_top']\n",
    "pca_projection = pca.fit_transform(scaler.fit_transform(features))\n",
    "\n",
    "# Redefine the train and test set with the pca_projection from the balanced data\n",
    "train_features, test_features, train_labels, test_labels = train_test_split(\n",
    "    pca_projection, labels, random_state=10)"
   ]
  },
  {
   "cell_type": "code",
   "execution_count": 15,
   "id": "3711fdeb",
   "metadata": {
    "ExecuteTime": {
     "end_time": "2022-08-22T03:12:02.593200Z",
     "start_time": "2022-08-22T03:12:02.475207Z"
    }
   },
   "outputs": [
    {
     "name": "stdout",
     "output_type": "stream",
     "text": [
      "Decision Tree: \n",
      "               precision    recall  f1-score   support\n",
      "\n",
      "     Hip-Hop       0.75      0.74      0.75       230\n",
      "        Rock       0.74      0.75      0.74       225\n",
      "\n",
      "    accuracy                           0.75       455\n",
      "   macro avg       0.75      0.75      0.75       455\n",
      "weighted avg       0.75      0.75      0.75       455\n",
      "\n",
      "Logistic Regression: \n",
      "               precision    recall  f1-score   support\n",
      "\n",
      "     Hip-Hop       0.75      0.74      0.75       230\n",
      "        Rock       0.74      0.75      0.74       225\n",
      "\n",
      "    accuracy                           0.75       455\n",
      "   macro avg       0.75      0.75      0.75       455\n",
      "weighted avg       0.75      0.75      0.75       455\n",
      "\n"
     ]
    }
   ],
   "source": [
    "# Train our decision tree on the balanced data\n",
    "tree = DecisionTreeClassifier()\n",
    "tree.fit(train_features, train_labels)\n",
    "pred_labels_tree = tree.predict(test_features)\n",
    "\n",
    "# Train our logistic regression on the balanced data\n",
    "logreg = LogisticRegression()\n",
    "logreg.fit(train_features, train_labels)\n",
    "pred_labels_logit = logreg.predict(test_features)\n",
    "\n",
    "# Compare the models\n",
    "print(\"Decision Tree: \\n\", classification_report(test_labels, pred_labels_tree))\n",
    "print(\"Logistic Regression: \\n\", classification_report(test_labels, pred_labels_tree))"
   ]
  },
  {
   "cell_type": "code",
   "execution_count": 16,
   "id": "b6ee9dfa",
   "metadata": {
    "ExecuteTime": {
     "end_time": "2022-08-22T03:12:18.352247Z",
     "start_time": "2022-08-22T03:12:17.855278Z"
    }
   },
   "outputs": [
    {
     "name": "stdout",
     "output_type": "stream",
     "text": [
      "Decision Tree: [0.6978022  0.72527473 0.78021978 0.70879121 0.71428571 0.75274725\n",
      " 0.76923077 0.71978022 0.78021978 0.84065934] Logistic Regression: [0.76923077 0.80769231 0.82417582 0.76923077 0.76923077 0.78021978\n",
      " 0.77472527 0.74175824 0.7967033  0.7967033 ]\n"
     ]
    }
   ],
   "source": [
    "# Set up our K-fold cross-validation\n",
    "kf = KFold(n_splits=10)\n",
    "\n",
    "tree = DecisionTreeClassifier(random_state=10)\n",
    "logreg = LogisticRegression(random_state=10)\n",
    "\n",
    "# Train our models using KFold cv\n",
    "tree_score = cross_val_score(tree,pca_projection, labels, cv=kf)\n",
    "logit_score = cross_val_score(logreg,pca_projection, labels, cv=kf)\n",
    "\n",
    "# Print the mean of each array of scores\n",
    "print(\"Decision Tree:\", tree_score, \"Logistic Regression:\", logit_score)"
   ]
  },
  {
   "cell_type": "code",
   "execution_count": null,
   "id": "ce135fb6",
   "metadata": {},
   "outputs": [],
   "source": []
  }
 ],
 "metadata": {
  "kernelspec": {
   "display_name": "Python 3 (ipykernel)",
   "language": "python",
   "name": "python3"
  },
  "language_info": {
   "codemirror_mode": {
    "name": "ipython",
    "version": 3
   },
   "file_extension": ".py",
   "mimetype": "text/x-python",
   "name": "python",
   "nbconvert_exporter": "python",
   "pygments_lexer": "ipython3",
   "version": "3.9.12"
  }
 },
 "nbformat": 4,
 "nbformat_minor": 5
}
