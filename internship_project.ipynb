{
  "nbformat": 4,
  "nbformat_minor": 0,
  "metadata": {
    "colab": {
      "name": "internship_project",
      "provenance": [],
      "collapsed_sections": []
    },
    "kernelspec": {
      "name": "python3",
      "display_name": "Python 3"
    },
    "language_info": {
      "name": "python"
    }
  },
  "cells": [
    {
      "cell_type": "code",
      "execution_count": null,
      "metadata": {
        "colab": {
          "base_uri": "https://localhost:8080/"
        },
        "id": "R7kB_kgYbxGA",
        "outputId": "5e3974a3-d2be-418c-8f93-b015b94b74f1"
      },
      "outputs": [
        {
          "output_type": "stream",
          "name": "stdout",
          "text": [
            "<class 'pandas.core.frame.DataFrame'>\n",
            "Int64Index: 4802 entries, 0 to 4801\n",
            "Data columns (total 10 columns):\n",
            " #   Column            Non-Null Count  Dtype  \n",
            "---  ------            --------------  -----  \n",
            " 0   track_id          4802 non-null   int64  \n",
            " 1   acousticness      4802 non-null   float64\n",
            " 2   danceability      4802 non-null   float64\n",
            " 3   energy            4802 non-null   float64\n",
            " 4   instrumentalness  4802 non-null   float64\n",
            " 5   liveness          4802 non-null   float64\n",
            " 6   speechiness       4802 non-null   float64\n",
            " 7   tempo             4802 non-null   float64\n",
            " 8   valence           4802 non-null   float64\n",
            " 9   genre_top         4802 non-null   object \n",
            "dtypes: float64(8), int64(1), object(1)\n",
            "memory usage: 412.7+ KB\n",
            "None\n"
          ]
        }
      ],
      "source": [
        "import pandas as pd\n",
        "\n",
        "tracks = pd.read_csv('/content/fma-rock-vs-hiphop.csv')\n",
        "\n",
        "echonest_metrics = pd.read_json('/content/echonest-metrics.json',precise_float=True)\n",
        "\n",
        "echo_tracks = echonest_metrics.merge(tracks[['track_id','genre_top']],on='track_id')\n",
        "\n",
        "print(echo_tracks.info())\n"
      ]
    },
    {
      "cell_type": "code",
      "source": [
        "corr_metrics = echo_tracks.corr()\n",
        "corr_metrics.style.background_gradient()"
      ],
      "metadata": {
        "colab": {
          "base_uri": "https://localhost:8080/",
          "height": 331
        },
        "id": "-stJ78mfczTM",
        "outputId": "47348745-e641-45bf-dbe5-8227cce31924"
      },
      "execution_count": null,
      "outputs": [
        {
          "output_type": "execute_result",
          "data": {
            "text/plain": [
              "<pandas.io.formats.style.Styler at 0x7fd850c108d0>"
            ],
            "text/html": [
              "<style type=\"text/css\">\n",
              "#T_0fd73_row0_col0, #T_0fd73_row1_col1, #T_0fd73_row2_col2, #T_0fd73_row3_col3, #T_0fd73_row4_col4, #T_0fd73_row5_col5, #T_0fd73_row6_col6, #T_0fd73_row7_col7, #T_0fd73_row8_col8 {\n",
              "  background-color: #023858;\n",
              "  color: #f1f1f1;\n",
              "}\n",
              "#T_0fd73_row0_col1, #T_0fd73_row1_col0, #T_0fd73_row1_col3, #T_0fd73_row2_col5, #T_0fd73_row2_col7, #T_0fd73_row4_col2, #T_0fd73_row4_col6, #T_0fd73_row4_col8, #T_0fd73_row6_col4 {\n",
              "  background-color: #fff7fb;\n",
              "  color: #000000;\n",
              "}\n",
              "#T_0fd73_row0_col2 {\n",
              "  background-color: #d2d2e7;\n",
              "  color: #000000;\n",
              "}\n",
              "#T_0fd73_row0_col3 {\n",
              "  background-color: #b5c4df;\n",
              "  color: #000000;\n",
              "}\n",
              "#T_0fd73_row0_col4 {\n",
              "  background-color: #f5eef6;\n",
              "  color: #000000;\n",
              "}\n",
              "#T_0fd73_row0_col5 {\n",
              "  background-color: #e9e5f1;\n",
              "  color: #000000;\n",
              "}\n",
              "#T_0fd73_row0_col6, #T_0fd73_row8_col3 {\n",
              "  background-color: #d1d2e6;\n",
              "  color: #000000;\n",
              "}\n",
              "#T_0fd73_row0_col7, #T_0fd73_row1_col7 {\n",
              "  background-color: #e1dfed;\n",
              "  color: #000000;\n",
              "}\n",
              "#T_0fd73_row0_col8, #T_0fd73_row3_col6 {\n",
              "  background-color: #dedcec;\n",
              "  color: #000000;\n",
              "}\n",
              "#T_0fd73_row1_col2 {\n",
              "  background-color: #e0dded;\n",
              "  color: #000000;\n",
              "}\n",
              "#T_0fd73_row1_col4, #T_0fd73_row4_col1 {\n",
              "  background-color: #97b7d7;\n",
              "  color: #000000;\n",
              "}\n",
              "#T_0fd73_row1_col5, #T_0fd73_row2_col4 {\n",
              "  background-color: #f3edf5;\n",
              "  color: #000000;\n",
              "}\n",
              "#T_0fd73_row1_col6, #T_0fd73_row6_col1 {\n",
              "  background-color: #b8c6e0;\n",
              "  color: #000000;\n",
              "}\n",
              "#T_0fd73_row1_col8 {\n",
              "  background-color: #e2dfee;\n",
              "  color: #000000;\n",
              "}\n",
              "#T_0fd73_row2_col0, #T_0fd73_row5_col0, #T_0fd73_row5_col3 {\n",
              "  background-color: #bdc8e1;\n",
              "  color: #000000;\n",
              "}\n",
              "#T_0fd73_row2_col1, #T_0fd73_row6_col0, #T_0fd73_row7_col0, #T_0fd73_row7_col1 {\n",
              "  background-color: #d0d1e6;\n",
              "  color: #000000;\n",
              "}\n",
              "#T_0fd73_row2_col3 {\n",
              "  background-color: #fbf3f9;\n",
              "  color: #000000;\n",
              "}\n",
              "#T_0fd73_row2_col6 {\n",
              "  background-color: #80aed2;\n",
              "  color: #f1f1f1;\n",
              "}\n",
              "#T_0fd73_row2_col8 {\n",
              "  background-color: #529bc7;\n",
              "  color: #f1f1f1;\n",
              "}\n",
              "#T_0fd73_row3_col0, #T_0fd73_row7_col3 {\n",
              "  background-color: #a7bddb;\n",
              "  color: #000000;\n",
              "}\n",
              "#T_0fd73_row3_col1 {\n",
              "  background-color: #f5eff6;\n",
              "  color: #000000;\n",
              "}\n",
              "#T_0fd73_row3_col2, #T_0fd73_row7_col2 {\n",
              "  background-color: #fef6fa;\n",
              "  color: #000000;\n",
              "}\n",
              "#T_0fd73_row3_col4 {\n",
              "  background-color: #c4cbe3;\n",
              "  color: #000000;\n",
              "}\n",
              "#T_0fd73_row3_col5, #T_0fd73_row5_col7 {\n",
              "  background-color: #dcdaeb;\n",
              "  color: #000000;\n",
              "}\n",
              "#T_0fd73_row3_col7 {\n",
              "  background-color: #adc1dd;\n",
              "  color: #000000;\n",
              "}\n",
              "#T_0fd73_row3_col8, #T_0fd73_row4_col7 {\n",
              "  background-color: #d9d8ea;\n",
              "  color: #000000;\n",
              "}\n",
              "#T_0fd73_row4_col0 {\n",
              "  background-color: #f4eef6;\n",
              "  color: #000000;\n",
              "}\n",
              "#T_0fd73_row4_col3 {\n",
              "  background-color: #d2d3e7;\n",
              "  color: #000000;\n",
              "}\n",
              "#T_0fd73_row4_col5 {\n",
              "  background-color: #fdf5fa;\n",
              "  color: #000000;\n",
              "}\n",
              "#T_0fd73_row5_col1 {\n",
              "  background-color: #ced0e6;\n",
              "  color: #000000;\n",
              "}\n",
              "#T_0fd73_row5_col2 {\n",
              "  background-color: #ede8f3;\n",
              "  color: #000000;\n",
              "}\n",
              "#T_0fd73_row5_col4, #T_0fd73_row6_col7 {\n",
              "  background-color: #dbdaeb;\n",
              "  color: #000000;\n",
              "}\n",
              "#T_0fd73_row5_col6 {\n",
              "  background-color: #c0c9e2;\n",
              "  color: #000000;\n",
              "}\n",
              "#T_0fd73_row5_col8 {\n",
              "  background-color: #e8e4f0;\n",
              "  color: #000000;\n",
              "}\n",
              "#T_0fd73_row6_col2 {\n",
              "  background-color: #93b5d6;\n",
              "  color: #000000;\n",
              "}\n",
              "#T_0fd73_row6_col3, #T_0fd73_row6_col5 {\n",
              "  background-color: #eae6f1;\n",
              "  color: #000000;\n",
              "}\n",
              "#T_0fd73_row6_col8 {\n",
              "  background-color: #bfc9e1;\n",
              "  color: #000000;\n",
              "}\n",
              "#T_0fd73_row7_col4 {\n",
              "  background-color: #c5cce3;\n",
              "  color: #000000;\n",
              "}\n",
              "#T_0fd73_row7_col5 {\n",
              "  background-color: #f0eaf4;\n",
              "  color: #000000;\n",
              "}\n",
              "#T_0fd73_row7_col6 {\n",
              "  background-color: #c8cde4;\n",
              "  color: #000000;\n",
              "}\n",
              "#T_0fd73_row7_col8 {\n",
              "  background-color: #d6d6e9;\n",
              "  color: #000000;\n",
              "}\n",
              "#T_0fd73_row8_col0 {\n",
              "  background-color: #c6cce3;\n",
              "  color: #000000;\n",
              "}\n",
              "#T_0fd73_row8_col1 {\n",
              "  background-color: #cdd0e5;\n",
              "  color: #000000;\n",
              "}\n",
              "#T_0fd73_row8_col2 {\n",
              "  background-color: #4c99c5;\n",
              "  color: #f1f1f1;\n",
              "}\n",
              "#T_0fd73_row8_col4 {\n",
              "  background-color: #efe9f3;\n",
              "  color: #000000;\n",
              "}\n",
              "#T_0fd73_row8_col5 {\n",
              "  background-color: #f7f0f7;\n",
              "  color: #000000;\n",
              "}\n",
              "#T_0fd73_row8_col6 {\n",
              "  background-color: #a5bddb;\n",
              "  color: #000000;\n",
              "}\n",
              "#T_0fd73_row8_col7 {\n",
              "  background-color: #d3d4e7;\n",
              "  color: #000000;\n",
              "}\n",
              "</style>\n",
              "<table id=\"T_0fd73_\" class=\"dataframe\">\n",
              "  <thead>\n",
              "    <tr>\n",
              "      <th class=\"blank level0\" >&nbsp;</th>\n",
              "      <th class=\"col_heading level0 col0\" >track_id</th>\n",
              "      <th class=\"col_heading level0 col1\" >acousticness</th>\n",
              "      <th class=\"col_heading level0 col2\" >danceability</th>\n",
              "      <th class=\"col_heading level0 col3\" >energy</th>\n",
              "      <th class=\"col_heading level0 col4\" >instrumentalness</th>\n",
              "      <th class=\"col_heading level0 col5\" >liveness</th>\n",
              "      <th class=\"col_heading level0 col6\" >speechiness</th>\n",
              "      <th class=\"col_heading level0 col7\" >tempo</th>\n",
              "      <th class=\"col_heading level0 col8\" >valence</th>\n",
              "    </tr>\n",
              "  </thead>\n",
              "  <tbody>\n",
              "    <tr>\n",
              "      <th id=\"T_0fd73_level0_row0\" class=\"row_heading level0 row0\" >track_id</th>\n",
              "      <td id=\"T_0fd73_row0_col0\" class=\"data row0 col0\" >1.000000</td>\n",
              "      <td id=\"T_0fd73_row0_col1\" class=\"data row0 col1\" >-0.372282</td>\n",
              "      <td id=\"T_0fd73_row0_col2\" class=\"data row0 col2\" >0.049454</td>\n",
              "      <td id=\"T_0fd73_row0_col3\" class=\"data row0 col3\" >0.140703</td>\n",
              "      <td id=\"T_0fd73_row0_col4\" class=\"data row0 col4\" >-0.275623</td>\n",
              "      <td id=\"T_0fd73_row0_col5\" class=\"data row0 col5\" >0.048231</td>\n",
              "      <td id=\"T_0fd73_row0_col6\" class=\"data row0 col6\" >-0.026995</td>\n",
              "      <td id=\"T_0fd73_row0_col7\" class=\"data row0 col7\" >-0.025392</td>\n",
              "      <td id=\"T_0fd73_row0_col8\" class=\"data row0 col8\" >0.010070</td>\n",
              "    </tr>\n",
              "    <tr>\n",
              "      <th id=\"T_0fd73_level0_row1\" class=\"row_heading level0 row1\" >acousticness</th>\n",
              "      <td id=\"T_0fd73_row1_col0\" class=\"data row1 col0\" >-0.372282</td>\n",
              "      <td id=\"T_0fd73_row1_col1\" class=\"data row1 col1\" >1.000000</td>\n",
              "      <td id=\"T_0fd73_row1_col2\" class=\"data row1 col2\" >-0.028954</td>\n",
              "      <td id=\"T_0fd73_row1_col3\" class=\"data row1 col3\" >-0.281619</td>\n",
              "      <td id=\"T_0fd73_row1_col4\" class=\"data row1 col4\" >0.194780</td>\n",
              "      <td id=\"T_0fd73_row1_col5\" class=\"data row1 col5\" >-0.019991</td>\n",
              "      <td id=\"T_0fd73_row1_col6\" class=\"data row1 col6\" >0.072204</td>\n",
              "      <td id=\"T_0fd73_row1_col7\" class=\"data row1 col7\" >-0.026310</td>\n",
              "      <td id=\"T_0fd73_row1_col8\" class=\"data row1 col8\" >-0.013841</td>\n",
              "    </tr>\n",
              "    <tr>\n",
              "      <th id=\"T_0fd73_level0_row2\" class=\"row_heading level0 row2\" >danceability</th>\n",
              "      <td id=\"T_0fd73_row2_col0\" class=\"data row2 col0\" >0.049454</td>\n",
              "      <td id=\"T_0fd73_row2_col1\" class=\"data row2 col1\" >-0.028954</td>\n",
              "      <td id=\"T_0fd73_row2_col2\" class=\"data row2 col2\" >1.000000</td>\n",
              "      <td id=\"T_0fd73_row2_col3\" class=\"data row2 col3\" >-0.242032</td>\n",
              "      <td id=\"T_0fd73_row2_col4\" class=\"data row2 col4\" >-0.255217</td>\n",
              "      <td id=\"T_0fd73_row2_col5\" class=\"data row2 col5\" >-0.106584</td>\n",
              "      <td id=\"T_0fd73_row2_col6\" class=\"data row2 col6\" >0.276206</td>\n",
              "      <td id=\"T_0fd73_row2_col7\" class=\"data row2 col7\" >-0.242089</td>\n",
              "      <td id=\"T_0fd73_row2_col8\" class=\"data row2 col8\" >0.473165</td>\n",
              "    </tr>\n",
              "    <tr>\n",
              "      <th id=\"T_0fd73_level0_row3\" class=\"row_heading level0 row3\" >energy</th>\n",
              "      <td id=\"T_0fd73_row3_col0\" class=\"data row3 col0\" >0.140703</td>\n",
              "      <td id=\"T_0fd73_row3_col1\" class=\"data row3 col1\" >-0.281619</td>\n",
              "      <td id=\"T_0fd73_row3_col2\" class=\"data row3 col2\" >-0.242032</td>\n",
              "      <td id=\"T_0fd73_row3_col3\" class=\"data row3 col3\" >1.000000</td>\n",
              "      <td id=\"T_0fd73_row3_col4\" class=\"data row3 col4\" >0.028238</td>\n",
              "      <td id=\"T_0fd73_row3_col5\" class=\"data row3 col5\" >0.113331</td>\n",
              "      <td id=\"T_0fd73_row3_col6\" class=\"data row3 col6\" >-0.109983</td>\n",
              "      <td id=\"T_0fd73_row3_col7\" class=\"data row3 col7\" >0.195227</td>\n",
              "      <td id=\"T_0fd73_row3_col8\" class=\"data row3 col8\" >0.038603</td>\n",
              "    </tr>\n",
              "    <tr>\n",
              "      <th id=\"T_0fd73_level0_row4\" class=\"row_heading level0 row4\" >instrumentalness</th>\n",
              "      <td id=\"T_0fd73_row4_col0\" class=\"data row4 col0\" >-0.275623</td>\n",
              "      <td id=\"T_0fd73_row4_col1\" class=\"data row4 col1\" >0.194780</td>\n",
              "      <td id=\"T_0fd73_row4_col2\" class=\"data row4 col2\" >-0.255217</td>\n",
              "      <td id=\"T_0fd73_row4_col3\" class=\"data row4 col3\" >0.028238</td>\n",
              "      <td id=\"T_0fd73_row4_col4\" class=\"data row4 col4\" >1.000000</td>\n",
              "      <td id=\"T_0fd73_row4_col5\" class=\"data row4 col5\" >-0.091022</td>\n",
              "      <td id=\"T_0fd73_row4_col6\" class=\"data row4 col6\" >-0.366762</td>\n",
              "      <td id=\"T_0fd73_row4_col7\" class=\"data row4 col7\" >0.022215</td>\n",
              "      <td id=\"T_0fd73_row4_col8\" class=\"data row4 col8\" >-0.219967</td>\n",
              "    </tr>\n",
              "    <tr>\n",
              "      <th id=\"T_0fd73_level0_row5\" class=\"row_heading level0 row5\" >liveness</th>\n",
              "      <td id=\"T_0fd73_row5_col0\" class=\"data row5 col0\" >0.048231</td>\n",
              "      <td id=\"T_0fd73_row5_col1\" class=\"data row5 col1\" >-0.019991</td>\n",
              "      <td id=\"T_0fd73_row5_col2\" class=\"data row5 col2\" >-0.106584</td>\n",
              "      <td id=\"T_0fd73_row5_col3\" class=\"data row5 col3\" >0.113331</td>\n",
              "      <td id=\"T_0fd73_row5_col4\" class=\"data row5 col4\" >-0.091022</td>\n",
              "      <td id=\"T_0fd73_row5_col5\" class=\"data row5 col5\" >1.000000</td>\n",
              "      <td id=\"T_0fd73_row5_col6\" class=\"data row5 col6\" >0.041173</td>\n",
              "      <td id=\"T_0fd73_row5_col7\" class=\"data row5 col7\" >0.002732</td>\n",
              "      <td id=\"T_0fd73_row5_col8\" class=\"data row5 col8\" >-0.045093</td>\n",
              "    </tr>\n",
              "    <tr>\n",
              "      <th id=\"T_0fd73_level0_row6\" class=\"row_heading level0 row6\" >speechiness</th>\n",
              "      <td id=\"T_0fd73_row6_col0\" class=\"data row6 col0\" >-0.026995</td>\n",
              "      <td id=\"T_0fd73_row6_col1\" class=\"data row6 col1\" >0.072204</td>\n",
              "      <td id=\"T_0fd73_row6_col2\" class=\"data row6 col2\" >0.276206</td>\n",
              "      <td id=\"T_0fd73_row6_col3\" class=\"data row6 col3\" >-0.109983</td>\n",
              "      <td id=\"T_0fd73_row6_col4\" class=\"data row6 col4\" >-0.366762</td>\n",
              "      <td id=\"T_0fd73_row6_col5\" class=\"data row6 col5\" >0.041173</td>\n",
              "      <td id=\"T_0fd73_row6_col6\" class=\"data row6 col6\" >1.000000</td>\n",
              "      <td id=\"T_0fd73_row6_col7\" class=\"data row6 col7\" >0.008241</td>\n",
              "      <td id=\"T_0fd73_row6_col8\" class=\"data row6 col8\" >0.149894</td>\n",
              "    </tr>\n",
              "    <tr>\n",
              "      <th id=\"T_0fd73_level0_row7\" class=\"row_heading level0 row7\" >tempo</th>\n",
              "      <td id=\"T_0fd73_row7_col0\" class=\"data row7 col0\" >-0.025392</td>\n",
              "      <td id=\"T_0fd73_row7_col1\" class=\"data row7 col1\" >-0.026310</td>\n",
              "      <td id=\"T_0fd73_row7_col2\" class=\"data row7 col2\" >-0.242089</td>\n",
              "      <td id=\"T_0fd73_row7_col3\" class=\"data row7 col3\" >0.195227</td>\n",
              "      <td id=\"T_0fd73_row7_col4\" class=\"data row7 col4\" >0.022215</td>\n",
              "      <td id=\"T_0fd73_row7_col5\" class=\"data row7 col5\" >0.002732</td>\n",
              "      <td id=\"T_0fd73_row7_col6\" class=\"data row7 col6\" >0.008241</td>\n",
              "      <td id=\"T_0fd73_row7_col7\" class=\"data row7 col7\" >1.000000</td>\n",
              "      <td id=\"T_0fd73_row7_col8\" class=\"data row7 col8\" >0.052221</td>\n",
              "    </tr>\n",
              "    <tr>\n",
              "      <th id=\"T_0fd73_level0_row8\" class=\"row_heading level0 row8\" >valence</th>\n",
              "      <td id=\"T_0fd73_row8_col0\" class=\"data row8 col0\" >0.010070</td>\n",
              "      <td id=\"T_0fd73_row8_col1\" class=\"data row8 col1\" >-0.013841</td>\n",
              "      <td id=\"T_0fd73_row8_col2\" class=\"data row8 col2\" >0.473165</td>\n",
              "      <td id=\"T_0fd73_row8_col3\" class=\"data row8 col3\" >0.038603</td>\n",
              "      <td id=\"T_0fd73_row8_col4\" class=\"data row8 col4\" >-0.219967</td>\n",
              "      <td id=\"T_0fd73_row8_col5\" class=\"data row8 col5\" >-0.045093</td>\n",
              "      <td id=\"T_0fd73_row8_col6\" class=\"data row8 col6\" >0.149894</td>\n",
              "      <td id=\"T_0fd73_row8_col7\" class=\"data row8 col7\" >0.052221</td>\n",
              "      <td id=\"T_0fd73_row8_col8\" class=\"data row8 col8\" >1.000000</td>\n",
              "    </tr>\n",
              "  </tbody>\n",
              "</table>\n"
            ]
          },
          "metadata": {},
          "execution_count": 3
        }
      ]
    },
    {
      "cell_type": "code",
      "source": [
        "features = echo_tracks.drop(['genre_top','track_id'],axis=1)\n"
      ],
      "metadata": {
        "id": "vtjTouDkdMud"
      },
      "execution_count": null,
      "outputs": []
    },
    {
      "cell_type": "code",
      "source": [
        "labels = echo_tracks['genre_top']\n",
        "from sklearn.preprocessing import StandardScaler\n",
        "\n",
        "scaler = StandardScaler()\n",
        "scaled_train_features = scaler.fit_transform(features)"
      ],
      "metadata": {
        "id": "fzQYU3uTdQ7U"
      },
      "execution_count": null,
      "outputs": []
    },
    {
      "cell_type": "code",
      "source": [
        "%matplotlib inline\n",
        "\n",
        "import matplotlib.pyplot as plt\n",
        "from sklearn.decomposition import PCA\n",
        "\n",
        "pca = PCA()\n",
        "pca.fit(scaled_train_features)\n",
        "exp_variance = pca.explained_variance_ratio_ \n",
        "\n",
        "fig, ax = plt.subplots()\n",
        "ax.bar(range(pca.n_components_),exp_variance)\n",
        "ax.set_xlabel('Principal Component #')"
      ],
      "metadata": {
        "colab": {
          "base_uri": "https://localhost:8080/",
          "height": 297
        },
        "id": "O5sxSUQndYpE",
        "outputId": "20b79a71-7acb-472a-b835-030ad27d5197"
      },
      "execution_count": null,
      "outputs": [
        {
          "output_type": "execute_result",
          "data": {
            "text/plain": [
              "Text(0.5, 0, 'Principal Component #')"
            ]
          },
          "metadata": {},
          "execution_count": 6
        },
        {
          "output_type": "display_data",
          "data": {
            "text/plain": [
              "<Figure size 432x288 with 1 Axes>"
            ],
            "image/png": "[encoded data removed]"
          },
          "metadata": {
            "needs_background": "light"
          }
        }
      ]
    },
    {
      "cell_type": "code",
      "source": [
        "import numpy as np\n",
        "\n",
        "cum_exp_variance= np.cumsum(exp_variance)\n",
        "\n",
        "fig, ax = plt.subplots()\n",
        "ax.plot(cum_exp_variance)\n",
        "ax.axhline(y=0.9, linestyle='--')\n",
        "\n",
        "n_components = ((np.where(cum_exp_variance > 0.9))[0][0]) \n",
        "\n",
        "pca = PCA(n_components, random_state=10)\n",
        "pca.fit(scaled_train_features)\n",
        "pca_projection = pca.transform(scaled_train_features)"
      ],
      "metadata": {
        "colab": {
          "base_uri": "https://localhost:8080/",
          "height": 265
        },
        "id": "eRowV6xXdhmF",
        "outputId": "33c88291-63e2-49fa-d5ff-66a2e547a4f7"
      },
      "execution_count": null,
      "outputs": [
        {
          "output_type": "display_data",
          "data": {
            "text/plain": [
              "<Figure size 432x288 with 1 Axes>"
            ],
            "image/png": "[encoded data removed]"
          },
          "metadata": {
            "needs_background": "light"
          }
        }
      ]
    },
    {
      "cell_type": "code",
      "source": [
        "from sklearn.model_selection import train_test_split\n",
        "from sklearn.tree import DecisionTreeClassifier\n",
        "\n",
        "train_features, test_features, train_labels, test_labels = train_test_split(pca_projection, labels,random_state=10)\n",
        "\n",
        "\n",
        "tree = DecisionTreeClassifier(random_state=10)\n",
        "tree.fit(train_features,train_labels)\n",
        "\n",
        "pred_labels_tree = tree.predict(test_features)"
      ],
      "metadata": {
        "id": "_egHD3JMdyDD"
      },
      "execution_count": null,
      "outputs": []
    },
    {
      "cell_type": "code",
      "source": [
        "from sklearn.linear_model import LogisticRegression\n",
        "\n",
        "# Train our logistic regression and predict labels for the test set\n",
        "logreg = LogisticRegression(random_state=10)\n",
        "logreg.fit(train_features,train_labels)\n",
        "pred_labels_logit = logreg.predict(test_features)\n",
        "\n",
        "# Create the classification report for both models\n",
        "from sklearn.metrics import classification_report\n",
        "class_rep_tree = classification_report(test_labels,pred_labels_tree)\n",
        "class_rep_log = classification_report(test_labels,pred_labels_logit)\n",
        "\n",
        "print(\"Decision Tree: \\n\", class_rep_tree)\n",
        "print(\"Logistic Regression: \\n\", class_rep_log)"
      ],
      "metadata": {
        "colab": {
          "base_uri": "https://localhost:8080/"
        },
        "id": "P28HRv4CeFOt",
        "outputId": "c12c2edc-5d3f-4198-9786-56772996fe55"
      },
      "execution_count": null,
      "outputs": [
        {
          "output_type": "stream",
          "name": "stdout",
          "text": [
            "Decision Tree: \n",
            "               precision    recall  f1-score   support\n",
            "\n",
            "     Hip-Hop       0.60      0.60      0.60       235\n",
            "        Rock       0.90      0.90      0.90       966\n",
            "\n",
            "    accuracy                           0.84      1201\n",
            "   macro avg       0.75      0.75      0.75      1201\n",
            "weighted avg       0.84      0.84      0.84      1201\n",
            "\n",
            "Logistic Regression: \n",
            "               precision    recall  f1-score   support\n",
            "\n",
            "     Hip-Hop       0.77      0.54      0.64       235\n",
            "        Rock       0.90      0.96      0.93       966\n",
            "\n",
            "    accuracy                           0.88      1201\n",
            "   macro avg       0.83      0.75      0.78      1201\n",
            "weighted avg       0.87      0.88      0.87      1201\n",
            "\n"
          ]
        }
      ]
    },
    {
      "cell_type": "code",
      "source": [
        "hop_only = echo_tracks.loc[echo_tracks['genre_top'] == 'Hip-Hop']\n",
        "rock_only = echo_tracks.loc[echo_tracks['genre_top'] == 'Rock']\n",
        "print(hop_only.head())\n",
        "# sample the rocks songs to be the same number as there are hip-hop songs\n",
        "rock_only = rock_only.sample(n=len(hop_only),random_state=10)\n",
        "\n",
        "\n",
        "# concatenate the dataframes rock_only and hop_only\n",
        "rock_hop_bal = pd.concat([hop_only,rock_only])\n",
        "\n",
        "# The features, labels, and pca projection are created for the balanced dataframe\n",
        "features = rock_hop_bal.drop(['genre_top', 'track_id'], axis=1) \n",
        "labels = rock_hop_bal['genre_top']\n",
        "pca_projection = pca.fit_transform(scaler.fit_transform(features))\n",
        "\n",
        "# Redefine the train and test set with the pca_projection from the balanced data\n",
        "train_features, test_features, train_labels, test_labels = train_test_split(pca_projection,labels,random_state=10)"
      ],
      "metadata": {
        "colab": {
          "base_uri": "https://localhost:8080/"
        },
        "id": "yjfpGZZVeKLt",
        "outputId": "b48d086d-795b-4c5a-bd9f-06bcef84fab9"
      },
      "execution_count": null,
      "outputs": [
        {
          "output_type": "stream",
          "name": "stdout",
          "text": [
            "     track_id  acousticness  danceability    energy  instrumentalness  \\\n",
            "0           2      0.416675      0.675894  0.634476          0.010628   \n",
            "1           3      0.374408      0.528643  0.817461          0.001851   \n",
            "2           5      0.043567      0.745566  0.701470          0.000697   \n",
            "3         134      0.452217      0.513238  0.560410          0.019443   \n",
            "118       583      0.748986      0.765886  0.513173          0.957209   \n",
            "\n",
            "     liveness  speechiness    tempo   valence genre_top  \n",
            "0    0.177647     0.159310  165.922  0.576661   Hip-Hop  \n",
            "1    0.105880     0.461818  126.957  0.269240   Hip-Hop  \n",
            "2    0.373143     0.124595  100.260  0.621661   Hip-Hop  \n",
            "3    0.096567     0.525519  114.290  0.894072   Hip-Hop  \n",
            "118  0.614844     0.886914  180.025  0.401672   Hip-Hop  \n"
          ]
        }
      ]
    },
    {
      "cell_type": "code",
      "source": [
        "# Train our decision tree on the balanced data\n",
        "tree = DecisionTreeClassifier(random_state=10)\n",
        "tree.fit(train_features,train_labels)\n",
        "pred_labels_tree = tree.predict(test_features)\n",
        "\n",
        "# Train our logistic regression on the balanced data\n",
        "logreg = LogisticRegression(random_state=10)\n",
        "logreg.fit(train_features,train_labels)\n",
        "pred_labels_logit = logreg.predict(test_features)\n",
        "\n",
        "# Compare the models\n",
        "print(\"Decision Tree: \\n\", classification_report(test_labels,pred_labels_tree))\n",
        "print(\"Logistic Regression: \\n\", classification_report(test_labels,pred_labels_logit))"
      ],
      "metadata": {
        "colab": {
          "base_uri": "https://localhost:8080/"
        },
        "id": "IoB8H-OMeO3w",
        "outputId": "624dda0c-314f-43c2-ae23-ea200cc9a227"
      },
      "execution_count": null,
      "outputs": [
        {
          "output_type": "stream",
          "name": "stdout",
          "text": [
            "Decision Tree: \n",
            "               precision    recall  f1-score   support\n",
            "\n",
            "     Hip-Hop       0.76      0.80      0.78       225\n",
            "        Rock       0.79      0.75      0.77       230\n",
            "\n",
            "    accuracy                           0.77       455\n",
            "   macro avg       0.77      0.77      0.77       455\n",
            "weighted avg       0.77      0.77      0.77       455\n",
            "\n",
            "Logistic Regression: \n",
            "               precision    recall  f1-score   support\n",
            "\n",
            "     Hip-Hop       0.83      0.80      0.82       225\n",
            "        Rock       0.81      0.84      0.83       230\n",
            "\n",
            "    accuracy                           0.82       455\n",
            "   macro avg       0.82      0.82      0.82       455\n",
            "weighted avg       0.82      0.82      0.82       455\n",
            "\n"
          ]
        }
      ]
    },
    {
      "cell_type": "code",
      "source": [
        "from sklearn.model_selection import KFold, cross_val_score\n",
        "import warnings \n",
        "warnings.filterwarnings(\"ignore\", category=DeprecationWarning)\n",
        "# Set up our K-fold cross-validation\n",
        "kf = KFold(n_splits=10)\n",
        "kf.get_n_splits(10)\n",
        "print(kf)\n",
        "tree = DecisionTreeClassifier(random_state=10)\n",
        "logreg = LogisticRegression(random_state=10)\n",
        "\n",
        "# Train our models using KFold cv\n",
        "tree_score = cross_val_score(tree,pca_projection,labels,cv=kf)\n",
        "logit_score = cross_val_score(logreg,pca_projection,labels,cv=kf)"
      ],
      "metadata": {
        "colab": {
          "base_uri": "https://localhost:8080/"
        },
        "id": "7M84nQkjeVZn",
        "outputId": "5bdd328d-ce3a-4b20-a915-45b952cc77b6"
      },
      "execution_count": null,
      "outputs": [
        {
          "output_type": "stream",
          "name": "stdout",
          "text": [
            "KFold(n_splits=10, random_state=None, shuffle=False)\n"
          ]
        }
      ]
    },
    {
      "cell_type": "code",
      "source": [
        "print(\"Decision Tree:\", np.mean(tree_score), \"Logistic Regression:\", np.mean(logit_score))"
      ],
      "metadata": {
        "colab": {
          "base_uri": "https://localhost:8080/"
        },
        "id": "Jd_rwg8PedeV",
        "outputId": "8945b219-3285-4d06-e1c4-75c553397244"
      },
      "execution_count": null,
      "outputs": [
        {
          "output_type": "stream",
          "name": "stdout",
          "text": [
            "Decision Tree: 0.7489010989010989 Logistic Regression: 0.782967032967033\n"
          ]
        }
      ]
    },
    {
      "cell_type": "code",
      "source": [],
      "metadata": {
        "id": "CaT4aO9qe5i4"
      },
      "execution_count": null,
      "outputs": []
    }
  ]
}